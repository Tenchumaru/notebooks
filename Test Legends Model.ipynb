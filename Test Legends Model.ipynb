{
 "cells": [
  {
   "cell_type": "code",
   "execution_count": 6,
   "metadata": {},
   "outputs": [],
   "source": [
    "import cv2\n",
    "import mxnet as mx\n",
    "import numpy as np"
   ]
  },
  {
   "cell_type": "code",
   "execution_count": 24,
   "metadata": {},
   "outputs": [],
   "source": [
    "weights_file_path = r\"C:\\Users\\cidzerda\\Documents\\GitHub\\strevr-data\\legends.model\"\n",
    "sep = '\\n\\u25ac\\u25ac\\u25ac\\n'\n",
    "legend_names = ['Wraith', 'Bangalore', 'Caustic', 'Gibraltar', 'Lifeline',\n",
    "    'Bloodhound', 'Mirage', 'Octane', 'Pathfinder', 'Crypto', 'Wattson']\n",
    "ctx = mx.gpu()"
   ]
  },
  {
   "cell_type": "code",
   "execution_count": 5,
   "metadata": {},
   "outputs": [],
   "source": [
    "net = mx.gluon.nn.Sequential()\n",
    "with net.name_scope():\n",
    "    net.add(mx.gluon.nn.Flatten())\n",
    "    net.add(mx.gluon.nn.Dense(2048, activation='relu'))\n",
    "    net.add(mx.gluon.nn.Dense(2048, activation='relu'))\n",
    "    net.add(mx.gluon.nn.Dense(len(legend_names)))\n",
    "net.load_parameters(weights_file_path, ctx=ctx)"
   ]
  },
  {
   "cell_type": "code",
   "execution_count": 46,
   "metadata": {},
   "outputs": [
    {
     "name": "stdout",
     "output_type": "stream",
     "text": [
      "Bloodhound Bloodhound\n",
      "Compensation Test Results None\n",
      "component None\n",
      "1 Wraith\n",
      "2 Pathfinder\n",
      "3 Bangalore\n",
      "31 Bangalore\n",
      "Arrangement 1 Pathfinder\n",
      "Arrangement 2 Bangalore\n",
      "Arrangement 3 Lifeline\n",
      "Arrangement 4 Lifeline\n",
      "Arrangement 5 None\n",
      "Arrangement 6 Wattson\n",
      "Arrangement 7 Pathfinder\n",
      "Arrangement 8 None\n"
     ]
    }
   ],
   "source": [
    "file_titles = ['Bloodhound', 'Compensation Test Results', 'component', '1', '2', '3', '31']\n",
    "file_titles += ['Arrangement {}'.format(i) for i in range(1, 9)]\n",
    "for file_title in file_titles:\n",
    "    image = cv2.imread(r\"C:\\Users\\cidzerda\\Pictures\\{}.png\".format(file_title))\n",
    "    image = cv2.resize(image, (852, 480))\n",
    "    image = np.moveaxis(image[426:450, 47:63].astype('float32', casting='safe'), -1, 0)\n",
    "    image /= 255.0\n",
    "    data = mx.ndarray.array([image]).as_in_context(ctx)\n",
    "    output = net(data)[0]\n",
    "    best_option = np.argmax(output.asnumpy())\n",
    "    #print(output, best_option, mx.nd.softmax(output), mx.nd.softmax(output)[best_option],\n",
    "    #      (mx.nd.softmax(output) * 10).astype('uint8'), sep=sep)\n",
    "    print(file_title, legend_names[best_option] if mx.nd.softmax(output)[best_option] > .9 else None)"
   ]
  }
 ],
 "metadata": {
  "kernelspec": {
   "display_name": "Python 3",
   "language": "python",
   "name": "python3"
  },
  "language_info": {
   "codemirror_mode": {
    "name": "ipython",
    "version": 3
   },
   "file_extension": ".py",
   "mimetype": "text/x-python",
   "name": "python",
   "nbconvert_exporter": "python",
   "pygments_lexer": "ipython3",
   "version": "3.6.6"
  }
 },
 "nbformat": 4,
 "nbformat_minor": 2
}

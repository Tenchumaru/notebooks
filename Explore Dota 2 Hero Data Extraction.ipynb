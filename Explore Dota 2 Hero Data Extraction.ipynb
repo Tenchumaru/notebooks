{
 "cells": [
  {
   "cell_type": "code",
   "execution_count": 1,
   "metadata": {},
   "outputs": [],
   "source": [
    "import cv2\n",
    "import itertools as it\n",
    "import numpy as np\n",
    "import pickle\n",
    "\n",
    "def show_and_wait(frame, title='tesst', wait_time=0):\n",
    "    cv2.imshow(title, frame)\n",
    "    key = cv2.waitKey(wait_time)\n",
    "    return None if key < 0 else chr(key)\n",
    "\n",
    "def read_and_wait(video, title='tesst', wait_time=0):\n",
    "    result, frame = video.read()\n",
    "    if result:\n",
    "        return show_and_wait(frame, title, wait_time)"
   ]
  },
  {
   "cell_type": "code",
   "execution_count": 2,
   "metadata": {},
   "outputs": [
    {
     "name": "stdout",
     "output_type": "stream",
     "text": [
      "119 [' ', \"'\", '-', 'A', 'B', 'C', 'D', 'E', 'F', 'G', 'H', 'I', 'J', 'K', 'L', 'M', 'N', 'O', 'P', 'Q', 'R', 'S', 'T', 'U', 'V', 'W', 'X', 'Y', 'Z'] 29\n"
     ]
    }
   ],
   "source": [
    "# Load all hero's names.\n",
    "file_path = r\"C:\\Users\\cidzerda\\Documents\\GitHub\\ctc\\hero_names.txt\"\n",
    "with open(file_path) as fin:\n",
    "    hero_names = [s.strip() for s in fin]\n",
    "print(len(hero_names), sorted(set(it.chain.from_iterable(hero_names))), len(set(it.chain.from_iterable(hero_names))))"
   ]
  },
  {
   "cell_type": "code",
   "execution_count": 3,
   "metadata": {},
   "outputs": [
    {
     "name": "stdout",
     "output_type": "stream",
     "text": [
      "['ANTI-MAGE', 'BROODMOTHER', 'CLINKZ', 'IO', 'JUGGERNAUT', 'KEEPER OF THE LIGHT', \"NATURE'S PROPHET\", 'NYX ASSASSIN', 'OUTWORLD DEVOURER', 'QUEEN OF PAIN']\n"
     ]
    }
   ],
   "source": [
    "# Determine the smallest set of hero names that encompasses the alphabet.\n",
    "def get_letters(hero_names):\n",
    "    g = it.chain.from_iterable(hero_names)\n",
    "    s = set(g)\n",
    "    return s\n",
    "def get_letter(letters, available_hero_names):\n",
    "    def count_names(c):\n",
    "        l = [s for s in available_hero_names if c in s]\n",
    "        return len(l)\n",
    "    d = {count_names(c): c for c in letters}\n",
    "    n = min(d)\n",
    "    return d[n]\n",
    "def get_names(letter, available_hero_names):\n",
    "    return [s for s in available_hero_names if letter in s]\n",
    "def get_name(l, letters):\n",
    "    def count_letters(s):\n",
    "        s = letters - set(s)\n",
    "        return len(s)\n",
    "    d = {count_letters(s): s for s in l}\n",
    "    n = min(d)\n",
    "    return d[n]\n",
    "def fn(hero_names):\n",
    "    # Create the alphabet used in the hero names.\n",
    "    all_letters = get_letters(hero_names)\n",
    "    # Create a list of selected hero names, starting with the shortest and longest names.\n",
    "    selected_hero_names = ['IO', 'KEEPER OF THE LIGHT']\n",
    "    # Include the heros already gathered.\n",
    "    selected_hero_names += ['BROODMOTHER', 'CLINKZ', 'JUGGERNAUT', 'NYX ASSASSIN', 'OUTWORLD DEVOURER', 'QUEEN OF PAIN']\n",
    "    # Create a set of available hero names.\n",
    "    available_hero_names = set(hero_names) - set(selected_hero_names)\n",
    "    # Create a set of accounted letters.\n",
    "    accounted_letters = set(it.chain.from_iterable(selected_hero_names))\n",
    "    nletters = len(all_letters)\n",
    "    while len(accounted_letters) < nletters:\n",
    "        # Create a list of letters that are not represented in the list of selected names.\n",
    "        letters = all_letters - accounted_letters\n",
    "        # From that list, select the letter that is in the fewest names of those in the available names.\n",
    "        letter = get_letter(letters, available_hero_names)\n",
    "        # Get the list of names that contain that letter and are in the available names.\n",
    "        names = get_names(letter, available_hero_names)\n",
    "        # From that list, select the name with the greatest number of letters that are\n",
    "        # not represented in the list of selected names.\n",
    "        name = get_name(names, letters)\n",
    "        # Add that name to the list of selected names.\n",
    "        selected_hero_names.append(name)\n",
    "        available_hero_names.remove(name)\n",
    "        # Add that name's letters to the set of accounted letters.\n",
    "        accounted_letters.update(name)\n",
    "    return selected_hero_names\n",
    "print(sorted(fn(hero_names)))"
   ]
  },
  {
   "cell_type": "code",
   "execution_count": 4,
   "metadata": {},
   "outputs": [
    {
     "name": "stdout",
     "output_type": "stream",
     "text": [
      "(2981, 6, 52, 3)\n"
     ]
    }
   ],
   "source": [
    "with open(r\"C:\\Users\\cidzerda\\Documents\\GitHub\\strevr\\data\\selected.txt\") as fin:\n",
    "    labels =  fin.readline()\n",
    "with open(r\"C:\\Users\\cidzerda\\Documents\\GitHub\\strevr\\data\\selected.pickle\", 'rb') as fin:\n",
    "    images = [pickle.load(fin) for _ in labels]\n",
    "\n",
    "# Move invalid images to a separate array.\n",
    "invalid_images = images[-58:-54] + images[-45:-41] + images[-11:] # There are nineteen of these.\n",
    "del images[-58:-54]\n",
    "del images[-45:-41]\n",
    "del images[-11:]\n",
    "\n",
    "# Map all images to L*u*v*.\n",
    "luvs = [cv2.cvtColor(image, cv2.COLOR_BGR2Luv) for image in images]\n",
    "\n",
    "# Combine the list of three-dimensional tensors into a single four-dimensional tensor.\n",
    "images = np.stack(images, axis=0)\n",
    "luvs = np.stack(luvs, axis=0)\n",
    "\n",
    "# There are 2981 valid images.  That number's prime factors are 11 and 271.\n",
    "print(images.shape)"
   ]
  },
  {
   "cell_type": "code",
   "execution_count": 5,
   "metadata": {},
   "outputs": [],
   "source": [
    "def fn(desired_ells, desired_factor, color):\n",
    "    background = np.ones(desired_factor.shape, dtype=np.float32)\n",
    "    background = np.stack([c * background for c in color], axis=-1)\n",
    "    luv = cv2.cvtColor(background, cv2.COLOR_BGR2Luv)\n",
    "    luv[:,:,0] = luv[:,:,0] * (1.0 - desired_factor) + desired_ells * desired_factor\n",
    "    image = cv2.cvtColor(luv, cv2.COLOR_Luv2BGR)\n",
    "    return image\n",
    "\n",
    "# Extract all L*.\n",
    "ells = luvs[:,:,:,0]\n",
    "\n",
    "# Determine the desired L* by computing the mean of all L*.\n",
    "mean = np.mean(ells, axis=0)\n",
    "desired_ells = mean\n",
    "\n",
    "# Determine the desired factor by scaling the range of standard deviations of all L* from [min, max] to [1, 0].\n",
    "std = np.std(ells, axis=0)\n",
    "desired_factor = (std - np.max(std)) / (np.min(std) - np.max(std))\n",
    "\n",
    "# Display examples side-by-side.\n",
    "random_indices = sorted(np.random.uniform(0, len(images), [9]).astype(int))\n",
    "random_indices = [99, 558, 636, 1201, 2012, 2543, 2694, 2781, 2917] # These are good.\n",
    "g = ((fn(desired_ells, desired_factor, images[i][3, 17]), images[i]) for i in random_indices)\n",
    "l = list(it.chain.from_iterable(g))\n",
    "show_and_wait(cv2.resize(np.vstack(l), (520, 60 * len(l))))\n",
    "\n",
    "cv2.destroyAllWindows()"
   ]
  }
 ],
 "metadata": {
  "kernelspec": {
   "display_name": "Python 3",
   "language": "python",
   "name": "python3"
  },
  "language_info": {
   "codemirror_mode": {
    "name": "ipython",
    "version": 3
   },
   "file_extension": ".py",
   "mimetype": "text/x-python",
   "name": "python",
   "nbconvert_exporter": "python",
   "pygments_lexer": "ipython3",
   "version": "3.6.6"
  }
 },
 "nbformat": 4,
 "nbformat_minor": 2
}

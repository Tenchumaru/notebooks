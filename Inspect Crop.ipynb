{
 "cells": [
  {
   "cell_type": "code",
   "execution_count": 9,
   "metadata": {},
   "outputs": [],
   "source": [
    "import cv2\n",
    "\n",
    "def show_crop(image):\n",
    "    _, frame = c.read()\n",
    "    cv2.imshow('Inspect Crop', frame)\n",
    "    frame = frame[426:450, 47:63]\n",
    "    frame = cv2.resize(frame, (160, 240))\n",
    "    cv2.imshow('Crop', frame)"
   ]
  },
  {
   "cell_type": "code",
   "execution_count": 11,
   "metadata": {},
   "outputs": [],
   "source": [
    "names = [\n",
    "    'anytimeshield',\n",
    "    'mymisterfruit',\n",
    "    'nicewigg',\n",
    "    'nikolarn',\n",
    "    'shivfps',\n",
    "    'staycationyoutube',\n",
    "    'staycationyoutube1',\n",
    "    'tannerslays',\n",
    "    'tannerslays1',\n",
    "    'thefyzu',\n",
    "    'vsnz',\n",
    "    'xednim',\n",
    "]\n",
    "for name in names:\n",
    "    c = cv2.VideoCapture(r'C:\\Users\\cidzerda\\Documents\\GitHub\\streams\\{}.mp4'.format(name))\n",
    "    show_crop(frame)\n",
    "    seconds = 0\n",
    "    while True:\n",
    "        key = chr(cv2.waitKey(0))\n",
    "        if key == '.' or key == '>':\n",
    "            seconds += 60\n",
    "        elif key == ',' or key == '<':\n",
    "            seconds -= 60\n",
    "        else:\n",
    "            break\n",
    "        c.set(cv2.CAP_PROP_POS_MSEC, seconds * 1000)\n",
    "        show_crop(frame)\n",
    "    c.release()\n",
    "cv2.destroyAllWindows()"
   ]
  }
 ],
 "metadata": {
  "kernelspec": {
   "display_name": "Python 3",
   "language": "python",
   "name": "python3"
  },
  "language_info": {
   "codemirror_mode": {
    "name": "ipython",
    "version": 3
   },
   "file_extension": ".py",
   "mimetype": "text/x-python",
   "name": "python",
   "nbconvert_exporter": "python",
   "pygments_lexer": "ipython3",
   "version": "3.6.6"
  }
 },
 "nbformat": 4,
 "nbformat_minor": 2
}

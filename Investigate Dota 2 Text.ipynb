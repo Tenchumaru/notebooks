{
 "cells": [
  {
   "cell_type": "code",
   "execution_count": 1,
   "metadata": {},
   "outputs": [],
   "source": [
    "%matplotlib inline\n",
    "\n",
    "import cv2\n",
    "import functools as ft\n",
    "import itertools as it\n",
    "import json\n",
    "import matplotlib.pyplot as plt\n",
    "#import mxnet as mx\n",
    "import numpy as np\n",
    "import operator as op\n",
    "import os\n",
    "import pickle\n",
    "import random\n",
    "import sys\n",
    "import tempfile\n",
    "import threading\n",
    "from collections import deque\n",
    "from datetime import datetime, timedelta, timezone\n",
    "from PIL import Image, ImageDraw, ImageFont\n",
    "\n",
    "from utilities import *"
   ]
  },
  {
   "cell_type": "code",
   "execution_count": 2,
   "metadata": {},
   "outputs": [],
   "source": [
    "top, left, bottom, right = 611, 358, 625, 518\n",
    "width, height = right - left, bottom - top"
   ]
  },
  {
   "cell_type": "code",
   "execution_count": 3,
   "metadata": {},
   "outputs": [
    {
     "name": "stdout",
     "output_type": "stream",
     "text": [
      "uint8 (168, 320, 3) from 12 images at (14, 160, 3) each\n"
     ]
    }
   ],
   "source": [
    "directory_path, _, file_names = next(os.walk(r\"D:\\Dota 2\\Heroes\\Videos\"))\n",
    "def fn():\n",
    "    for file_name in file_names:\n",
    "        file_path = os.path.join(directory_path, file_name)\n",
    "        video = cv2.VideoCapture(file_path)\n",
    "        _, frame = video.read()\n",
    "        video.release()\n",
    "        def fn():\n",
    "            image = frame[top:bottom, left:right, :]\n",
    "            #cv2.imwrite(fr\"C:\\Users\\cidzerda\\Pictures\\{os.path.splitext(file_name)[0]}.png\", image)\n",
    "            yield image\n",
    "            g = (image[:, :, i] for i in range(image.shape[2]))\n",
    "            image = min(g, key=lambda image: image.sum())\n",
    "            image = np.stack([image] * 3, axis=-1)\n",
    "            yield image\n",
    "        yield np.hstack(list(fn()))\n",
    "image = np.vstack(list(fn()))\n",
    "g = (a // b for a, b in zip(image.shape, (len(file_names), 2, 1)))\n",
    "print(image.dtype, image.shape, 'from', len(file_names), 'images at', tuple(g), 'each')\n",
    "cv2.imwrite(r\"C:\\Users\\cidzerda\\Pictures\\Dota 2 Heros.png\", image)\n",
    "show_and_wait(image)\n",
    "cv2.destroyAllWindows()"
   ]
  },
  {
   "cell_type": "code",
   "execution_count": 4,
   "metadata": {},
   "outputs": [],
   "source": [
    "def fn(file_title):\n",
    "    video = cv2.VideoCapture(fr\"D:\\Dota 2\\Heroes\\Videos\\{file_title}.mp4\")\n",
    "    _, frame = video.read()\n",
    "    video.release()\n",
    "    image = frame[top:bottom, left:right, :]\n",
    "    g = (image[:, :, i] for i in range(image.shape[2]))\n",
    "    image = min(g, key=lambda image: image.sum())\n",
    "    return image\n",
    "g = ('outworld_devourer', 'queen_of_pain')\n",
    "\n",
    "#a = np.zeros([width, height])\n",
    "#i = Image.fromarray(a)\n",
    "f = ImageFont.truetype(r\"D:\\Fonts\\Cabin-Bold.ttf\", size=9)\n",
    "i = Image.new('L', [width, height], color=127)\n",
    "d = ImageDraw.Draw(i)\n",
    "# Perhaps vary the fill parameter between 223 and 255.\n",
    "# Perhaps vary the stroke_width parameter between 0 and 2.\n",
    "# Perhaps vary the stroke_fill parameter between 47 and 95.\n",
    "d.text((88, -1), 'JUGGERNAUT', font=f, fill=255, stroke_width=1, stroke_fill=63)\n",
    "#print(*i.getdata())\n",
    "image = np.hstack([np.array(i.getdata(), dtype=np.uint8).reshape([height, width])] + list(map(fn, g)))\n",
    "cv2.imwrite(r\"C:\\Users\\cidzerda\\Pictures\\Dota 2 Text Check.png\", image)\n",
    "show_and_wait(image)\n",
    "cv2.destroyAllWindows()"
   ]
  },
  {
   "cell_type": "code",
   "execution_count": 5,
   "metadata": {},
   "outputs": [
    {
     "name": "stdout",
     "output_type": "stream",
     "text": [
      "AGENCYB.TTF AGENCYR.TTF ALGER.TTF ANTQUAB.TTF ANTQUABI.TTF ANTQUAI.TTF ARIAL.TTF ARIALBD.TTF ARIALBI.TTF ARIALI.TTF ARIALN.TTF ARIALNB.TTF ARIALNBI.TTF ARIALNI.TTF ARIBLK.TTF ARLRDBD.TTF BAHNSCHRIFT.TTF BASKVILL.TTF BAUHS93.TTF BELL.TTF BELLB.TTF BELLI.TTF BERNHC.TTF BKANT.TTF BOD_B.TTF BOD_BI.TTF BOD_BLAI.TTF BOD_BLAR.TTF BOD_CB.TTF BOD_CBI.TTF BOD_CI.TTF BOD_CR.TTF BOD_I.TTF BOD_PSTC.TTF BOD_R.TTF BOOKOS.TTF BOOKOSB.TTF BOOKOSBI.TTF BOOKOSI.TTF BRADHITC.TTF BRITANIC.TTF BRLNSB.TTF BRLNSDB.TTF BRLNSR.TTF CALIBRI.TTF CALIBRIB.TTF CALIBRII.TTF CALIBRIL.TTF CALIBRILI.TTF CALIBRIZ.TTF CALIFB.TTF CALIFI.TTF CALIFR.TTF CALIST.TTF CALISTB.TTF CALISTBI.TTF CALISTI.TTF CAMBRIAB.TTF CAMBRIAI.TTF CAMBRIAZ.TTF CANDARA.TTF CANDARAB.TTF CANDARAI.TTF CANDARAL.TTF CANDARALI.TTF CANDARAZ.TTF CASTELAR.TTF CENSCBK.TTF CENTAUR.TTF CENTURY.TTF COLONNA.TTF COMIC.TTF COMICBD.TTF COMICI.TTF COMICZ.TTF CONSOLA.TTF CONSOLAB.TTF CONSOLAI.TTF CONSOLAZ.TTF CONSTAN.TTF CONSTANB.TTF CONSTANI.TTF CONSTANZ.TTF COOPBL.TTF COPRGTB.TTF COPRGTL.TTF CORBEL.TTF CORBELB.TTF CORBELI.TTF CORBELL.TTF CORBELLI.TTF CORBELZ.TTF COUR.TTF COURBD.TTF COURBI.TTF COURI.TTF EBRIMA.TTF EBRIMABD.TTF ELEPHNT.TTF ELEPHNTI.TTF ENGR.TTF ERASBD.TTF ERASDEMI.TTF ERASLGHT.TTF ERASMD.TTF FELIXTI.TTF FRABK.TTF FRABKIT.TTF FRADM.TTF FRADMCN.TTF FRADMIT.TTF FRAHV.TTF FRAHVIT.TTF FRAMD.TTF FRAMDCN.TTF FRAMDIT.TTF FTLTLT.TTF GABRIOLA.TTF GADUGI.TTF GADUGIB.TTF GARA.TTF GARABD.TTF GARAIT.TTF GEORGIA.TTF GEORGIAB.TTF GEORGIAI.TTF GEORGIAZ.TTF GILBI___.TTF GILB____.TTF GILC____.TTF GILI____.TTF GILLUBCD.TTF GILSANUB.TTF GIL_____.TTF GLECB.TTF GOTHIC.TTF GOTHICB.TTF GOTHICBI.TTF GOTHICI.TTF GOUDOS.TTF GOUDOSB.TTF GOUDOSI.TTF GOUDYSTO.TTF HATTEN.TTF HIMALAYA.TTF HTOWERT.TTF HTOWERTI.TTF IMPACT.TTF IMPRISHA.TTF ITCKRIST.TTF JAVATEXT.TTF JOKERMAN.TTF JUICE___.TTF LATINWD.TTF LBRITE.TTF LBRITED.TTF LBRITEDI.TTF LBRITEI.TTF LCALLIG.TTF LEELAUIB.TTF LEELAWUI.TTF LEELUISL.TTF LFAX.TTF LFAXD.TTF LFAXDI.TTF LFAXI.TTF LHANDW.TTF LSANS.TTF LSANSD.TTF LSANSDI.TTF LSANSI.TTF LTYPE.TTF LTYPEB.TTF LTYPEBO.TTF LTYPEO.TTF LUCON.TTF L_10646.TTF MAIAN.TTF MALGUN.TTF MALGUNBD.TTF MALGUNSL.TTF MICROSS.TTF MMRTEXT.TTF MMRTEXTB.TTF MOD20.TTF MONBAITI.TTF MSUIGHUB.TTF MSUIGHUR.TTF MSYI.TTF MVBOLI.TTF NIRMALA.TTF NIRMALAB.TTF NIRMALAS.TTF NTAILU.TTF NTAILUB.TTF OCRAEXT.TTF PALA.TTF PALAB.TTF PALABI.TTF PALAI.TTF PAPYRUS.TTF PERBI___.TTF PERB____.TTF PERI____.TTF PERTIBD.TTF PERTILI.TTF PER_____.TTF PHAGSPA.TTF PHAGSPAB.TTF PLAYBILL.TTF POORICH.TTF RAVIE.TTF REFSAN.TTF ROCCB___.TTF ROCC____.TTF ROCK.TTF ROCKB.TTF ROCKBI.TTF ROCKEB.TTF ROCKI.TTF SCHLBKB.TTF SCHLBKBI.TTF SCHLBKI.TTF SEGOEPR.TTF SEGOEPRB.TTF SEGOESC.TTF SEGOESCB.TTF SEGOEUI.TTF SEGOEUIB.TTF SEGOEUII.TTF SEGOEUIL.TTF SEGOEUISL.TTF SEGOEUIZ.TTF SEGUIBL.TTF SEGUIBLI.TTF SEGUIEMJ.TTF SEGUIHIS.TTF SEGUILI.TTF SEGUISB.TTF SEGUISBI.TTF SEGUISLI.TTF SEGUISYM.TTF SHOWG.TTF SIMSUNB.TTF SNAP____.TTF STENCIL.TTF SYLFAEN.TTF TAHOMA.TTF TAHOMABD.TTF TAILE.TTF TAILEB.TTF TCBI____.TTF TCB_____.TTF TCCB____.TTF TCCEB.TTF TCCM____.TTF TCMI____.TTF TCM_____.TTF TEMPSITC.TTF TIMES.TTF TIMESBD.TTF TIMESBI.TTF TIMESI.TTF TREBUC.TTF TREBUCBD.TTF TREBUCBI.TTF TREBUCIT.TTF VERDANA.TTF VERDANAB.TTF VERDANAI.TTF VERDANAZ.TTF CABIN-BOLD.TTF CABIN-BOLDITALIC.TTF CABIN-MEDIUM.TTF CABIN-MEDIUMITALIC.TTF CASCADIACODE-BOLD.TTF CASCADIACODE-EXTRALIGHT.TTF CASCADIACODE-LIGHT.TTF CASCADIACODE-REGULAR.TTF CASCADIACODE-SEMIBOLD.TTF\n"
     ]
    }
   ],
   "source": [
    "file_pairs = [(d, s.upper()) for d in (r'\\Windows\\Fonts', r'D:\\Fonts') for s in get_file_names(d)]\n",
    "excluded_file_titles = ['BROADW', 'BRUSHSCI', 'BSSYM7', 'CHILLER', 'CURLZ___', 'FORTE', 'FREESCPT', 'GLSNECB',\n",
    "                       'HARLOWSI', 'HARNGTON', 'KUNSTLER', 'FRSCRIPT', 'GIGI', 'HOLOMDL2', 'INFROMAN', 'INKFREE',\n",
    "                       'ITCBLKAD', 'ITCEDSCR', 'LEELAWAD', 'LEELAWDB', 'MAGNETOB', 'MARLETT', 'MATURASC',\n",
    "                       'MISTRAL','MTCORSVA', 'MTEXTRA', 'NIAGENG', 'NIAGSOL', 'OLDENGL', 'ONYX', 'OUTLOOK',\n",
    "                       'PALSCRI', 'PARCHM', 'PRISTINA', 'RAGE', 'REFSPCL', 'SCRIPTBL', 'SEGMDL2', 'SYMBOL',\n",
    "                       'VINERITC', 'VIVALDII', 'VLADIMIR', 'WEBDINGS', 'WINGDING', 'WINGDNG2', 'WINGDNG3']\n",
    "file_pairs = [(d, s) for d, s in file_pairs if s.endswith('.TTF') and s[:-4] not in excluded_file_titles]\n",
    "g = (s for d, s in file_pairs)\n",
    "print(*g)\n",
    "image = Image.new('L', [1200, 600], color=127)\n",
    "draw = ImageDraw.Draw(image)\n",
    "for i, (directory_name, file_name) in enumerate(file_pairs):\n",
    "    file_path = os.path.join(directory_name, file_name)\n",
    "    font = ImageFont.truetype(file_path, size=12)\n",
    "    x, y = 133 * (i // 35), 17 * (i % 35)\n",
    "    draw.text((x, y), file_name[:-4], font=font, fill=255, stroke_width=1, stroke_fill=63)\n",
    "image = np.array(image.getdata(), dtype=np.uint8).reshape([600, 1200])\n",
    "cv2.imwrite(r\"C:\\Users\\cidzerda\\Pictures\\Dota 2 Fonts.png\", image)\n",
    "show_and_wait(image)\n",
    "cv2.destroyAllWindows()"
   ]
  }
 ],
 "metadata": {
  "kernelspec": {
   "display_name": "Python 3",
   "language": "python",
   "name": "python3"
  },
  "language_info": {
   "codemirror_mode": {
    "name": "ipython",
    "version": 3
   },
   "file_extension": ".py",
   "mimetype": "text/x-python",
   "name": "python",
   "nbconvert_exporter": "python",
   "pygments_lexer": "ipython3",
   "version": "3.7.8"
  }
 },
 "nbformat": 4,
 "nbformat_minor": 2
}

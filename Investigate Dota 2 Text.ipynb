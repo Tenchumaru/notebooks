{
 "cells": [
  {
   "cell_type": "code",
   "execution_count": 1,
   "metadata": {},
   "outputs": [],
   "source": [
    "%matplotlib inline\n",
    "\n",
    "import bisect\n",
    "import cv2\n",
    "import functools as ft\n",
    "import itertools as it\n",
    "import json\n",
    "import matplotlib.pyplot as plt\n",
    "#import mxnet as mx\n",
    "import numpy as np\n",
    "import operator as op\n",
    "import os\n",
    "import pickle\n",
    "import random\n",
    "import sys\n",
    "import tempfile\n",
    "import threading\n",
    "from collections import deque\n",
    "from collections.abc import Sequence\n",
    "from datetime import datetime, timedelta, timezone\n",
    "from PIL import Image, ImageDraw, ImageFont\n",
    "\n",
    "from utilities import *"
   ]
  },
  {
   "cell_type": "code",
   "execution_count": 2,
   "metadata": {},
   "outputs": [],
   "source": [
    "top, left, bottom, right = 611, 358, 625, 518\n",
    "width, height = right - left, bottom - top"
   ]
  },
  {
   "cell_type": "code",
   "execution_count": 3,
   "metadata": {},
   "outputs": [
    {
     "name": "stdout",
     "output_type": "stream",
     "text": [
      "uint8 (168, 320, 3) from 12 images at (14, 160, 3) each\n"
     ]
    }
   ],
   "source": [
    "directory_path, _, file_names = next(os.walk(r\"D:\\Dota 2\\Heroes\\Videos\"))\n",
    "def fn():\n",
    "    for file_name in file_names:\n",
    "        file_path = os.path.join(directory_path, file_name)\n",
    "        video = cv2.VideoCapture(file_path)\n",
    "        _, frame = video.read()\n",
    "        video.release()\n",
    "        def fn():\n",
    "            image = frame[top:bottom, left:right, :]\n",
    "            #cv2.imwrite(fr\"C:\\Users\\cidzerda\\Pictures\\{os.path.splitext(file_name)[0]}.png\", image)\n",
    "            yield image\n",
    "            g = (image[:, :, i] for i in range(image.shape[2]))\n",
    "            image = min(g, key=lambda image: image.sum())\n",
    "            image = np.stack([image] * 3, axis=-1)\n",
    "            yield image\n",
    "        yield np.hstack(list(fn()))\n",
    "image = np.vstack(list(fn()))\n",
    "g = (a // b for a, b in zip(image.shape, (len(file_names), 2, 1)))\n",
    "print(image.dtype, image.shape, 'from', len(file_names), 'images at', tuple(g), 'each')\n",
    "cv2.imwrite(r\"C:\\Users\\cidzerda\\Pictures\\Dota 2 Heros.png\", image)\n",
    "show_and_wait(image)\n",
    "cv2.destroyAllWindows()"
   ]
  },
  {
   "cell_type": "code",
   "execution_count": 4,
   "metadata": {},
   "outputs": [],
   "source": [
    "def fn(file_title):\n",
    "    video = cv2.VideoCapture(fr\"D:\\Dota 2\\Heroes\\Videos\\{file_title}.mp4\")\n",
    "    _, frame = video.read()\n",
    "    video.release()\n",
    "    image = frame[top:bottom, left:right, :]\n",
    "    g = (image[:, :, i] for i in range(image.shape[2]))\n",
    "    image = min(g, key=lambda image: image.sum())\n",
    "    return image\n",
    "g = ('outworld_devourer', 'queen_of_pain')\n",
    "\n",
    "#a = np.zeros([width, height])\n",
    "#i = Image.fromarray(a)\n",
    "f = ImageFont.truetype(r\"D:\\Fonts\\Cabin-Bold.ttf\", size=9)\n",
    "i = Image.new('L', [width, height], color=127)\n",
    "d = ImageDraw.Draw(i)\n",
    "# Perhaps vary the fill parameter between 223 and 255.\n",
    "# Perhaps vary the stroke_width parameter between 0 and 2.\n",
    "# Perhaps vary the stroke_fill parameter between 47 and 95.\n",
    "d.text((88, -1), 'JUGGERNAUT', font=f, fill=255, stroke_width=1, stroke_fill=63)\n",
    "#print(*i.getdata())\n",
    "image = np.hstack([np.array(i.getdata(), dtype=np.uint8).reshape([height, width])] + list(map(fn, g)))\n",
    "cv2.imwrite(r\"C:\\Users\\cidzerda\\Pictures\\Dota 2 Text Check.png\", image)\n",
    "show_and_wait(image)\n",
    "cv2.destroyAllWindows()"
   ]
  },
  {
   "cell_type": "code",
   "execution_count": 5,
   "metadata": {},
   "outputs": [
    {
     "name": "stdout",
     "output_type": "stream",
     "text": [
      "AGENCYB.TTF AGENCYR.TTF ALGER.TTF ANTQUAB.TTF ANTQUABI.TTF ANTQUAI.TTF ARIAL.TTF ARIALBD.TTF ARIALBI.TTF ARIALI.TTF ARIALN.TTF ARIALNB.TTF ARIALNBI.TTF ARIALNI.TTF ARIBLK.TTF ARLRDBD.TTF BAHNSCHRIFT.TTF BASKVILL.TTF BAUHS93.TTF BELL.TTF BELLB.TTF BELLI.TTF BERNHC.TTF BKANT.TTF BOD_B.TTF BOD_BI.TTF BOD_BLAI.TTF BOD_BLAR.TTF BOD_CB.TTF BOD_CBI.TTF BOD_CI.TTF BOD_CR.TTF BOD_I.TTF BOD_PSTC.TTF BOD_R.TTF BOOKOS.TTF BOOKOSB.TTF BOOKOSBI.TTF BOOKOSI.TTF BRADHITC.TTF BRITANIC.TTF BRLNSB.TTF BRLNSDB.TTF BRLNSR.TTF CALIBRI.TTF CALIBRIB.TTF CALIBRII.TTF CALIBRIL.TTF CALIBRILI.TTF CALIBRIZ.TTF CALIFB.TTF CALIFI.TTF CALIFR.TTF CALIST.TTF CALISTB.TTF CALISTBI.TTF CALISTI.TTF CAMBRIAB.TTF CAMBRIAI.TTF CAMBRIAZ.TTF CANDARA.TTF CANDARAB.TTF CANDARAI.TTF CANDARAL.TTF CANDARALI.TTF CANDARAZ.TTF CASTELAR.TTF CENSCBK.TTF CENTAUR.TTF CENTURY.TTF COLONNA.TTF COMIC.TTF COMICBD.TTF COMICI.TTF COMICZ.TTF CONSOLA.TTF CONSOLAB.TTF CONSOLAI.TTF CONSOLAZ.TTF CONSTAN.TTF CONSTANB.TTF CONSTANI.TTF CONSTANZ.TTF COOPBL.TTF COPRGTB.TTF COPRGTL.TTF CORBEL.TTF CORBELB.TTF CORBELI.TTF CORBELL.TTF CORBELLI.TTF CORBELZ.TTF COUR.TTF COURBD.TTF COURBI.TTF COURI.TTF EBRIMA.TTF EBRIMABD.TTF ELEPHNT.TTF ELEPHNTI.TTF ENGR.TTF ERASBD.TTF ERASDEMI.TTF ERASLGHT.TTF ERASMD.TTF FELIXTI.TTF FRABK.TTF FRABKIT.TTF FRADM.TTF FRADMCN.TTF FRADMIT.TTF FRAHV.TTF FRAHVIT.TTF FRAMD.TTF FRAMDCN.TTF FRAMDIT.TTF FTLTLT.TTF GABRIOLA.TTF GADUGI.TTF GADUGIB.TTF GARA.TTF GARABD.TTF GARAIT.TTF GEORGIA.TTF GEORGIAB.TTF GEORGIAI.TTF GEORGIAZ.TTF GILBI___.TTF GILB____.TTF GILC____.TTF GILI____.TTF GILLUBCD.TTF GILSANUB.TTF GIL_____.TTF GLECB.TTF GOTHIC.TTF GOTHICB.TTF GOTHICBI.TTF GOTHICI.TTF GOUDOS.TTF GOUDOSB.TTF GOUDOSI.TTF GOUDYSTO.TTF HATTEN.TTF HIMALAYA.TTF HTOWERT.TTF HTOWERTI.TTF IMPACT.TTF IMPRISHA.TTF ITCKRIST.TTF JAVATEXT.TTF JOKERMAN.TTF JUICE___.TTF LATINWD.TTF LBRITE.TTF LBRITED.TTF LBRITEDI.TTF LBRITEI.TTF LCALLIG.TTF LEELAUIB.TTF LEELAWUI.TTF LEELUISL.TTF LFAX.TTF LFAXD.TTF LFAXDI.TTF LFAXI.TTF LHANDW.TTF LSANS.TTF LSANSD.TTF LSANSDI.TTF LSANSI.TTF LTYPE.TTF LTYPEB.TTF LTYPEBO.TTF LTYPEO.TTF LUCON.TTF L_10646.TTF MAIAN.TTF MALGUN.TTF MALGUNBD.TTF MALGUNSL.TTF MICROSS.TTF MMRTEXT.TTF MMRTEXTB.TTF MOD20.TTF MONBAITI.TTF MSUIGHUB.TTF MSUIGHUR.TTF MSYI.TTF MVBOLI.TTF NIRMALA.TTF NIRMALAB.TTF NIRMALAS.TTF NTAILU.TTF NTAILUB.TTF OCRAEXT.TTF PALA.TTF PALAB.TTF PALABI.TTF PALAI.TTF PAPYRUS.TTF PERBI___.TTF PERB____.TTF PERI____.TTF PERTIBD.TTF PERTILI.TTF PER_____.TTF PHAGSPA.TTF PHAGSPAB.TTF PLAYBILL.TTF POORICH.TTF RAVIE.TTF REFSAN.TTF ROCCB___.TTF ROCC____.TTF ROCK.TTF ROCKB.TTF ROCKBI.TTF ROCKEB.TTF ROCKI.TTF SCHLBKB.TTF SCHLBKBI.TTF SCHLBKI.TTF SEGOEPR.TTF SEGOEPRB.TTF SEGOESC.TTF SEGOESCB.TTF SEGOEUI.TTF SEGOEUIB.TTF SEGOEUII.TTF SEGOEUIL.TTF SEGOEUISL.TTF SEGOEUIZ.TTF SEGUIBL.TTF SEGUIBLI.TTF SEGUIEMJ.TTF SEGUIHIS.TTF SEGUILI.TTF SEGUISB.TTF SEGUISBI.TTF SEGUISLI.TTF SEGUISYM.TTF SHOWG.TTF SIMSUNB.TTF SNAP____.TTF STENCIL.TTF SYLFAEN.TTF TAHOMA.TTF TAHOMABD.TTF TAILE.TTF TAILEB.TTF TCBI____.TTF TCB_____.TTF TCCB____.TTF TCCEB.TTF TCCM____.TTF TCMI____.TTF TCM_____.TTF TEMPSITC.TTF TIMES.TTF TIMESBD.TTF TIMESBI.TTF TIMESI.TTF TREBUC.TTF TREBUCBD.TTF TREBUCBI.TTF TREBUCIT.TTF VERDANA.TTF VERDANAB.TTF VERDANAI.TTF VERDANAZ.TTF CABIN-BOLD.TTF CABIN-BOLDITALIC.TTF CABIN-MEDIUM.TTF CABIN-MEDIUMITALIC.TTF CASCADIACODE-BOLD.TTF CASCADIACODE-EXTRALIGHT.TTF CASCADIACODE-LIGHT.TTF CASCADIACODE-REGULAR.TTF CASCADIACODE-SEMIBOLD.TTF\n"
     ]
    }
   ],
   "source": [
    "file_pairs = [(d, s.upper()) for d in (r'\\Windows\\Fonts', r'D:\\Fonts') for s in get_file_names(d)]\n",
    "excluded_file_titles = ['BROADW', 'BRUSHSCI', 'BSSYM7', 'CHILLER', 'CURLZ___', 'FORTE', 'FREESCPT', 'GLSNECB',\n",
    "                       'HARLOWSI', 'HARNGTON', 'KUNSTLER', 'FRSCRIPT', 'GIGI', 'HOLOMDL2', 'INFROMAN', 'INKFREE',\n",
    "                       'ITCBLKAD', 'ITCEDSCR', 'LEELAWAD', 'LEELAWDB', 'MAGNETOB', 'MARLETT', 'MATURASC',\n",
    "                       'MISTRAL','MTCORSVA', 'MTEXTRA', 'NIAGENG', 'NIAGSOL', 'OLDENGL', 'ONYX', 'OUTLOOK',\n",
    "                       'PALSCRI', 'PARCHM', 'PRISTINA', 'RAGE', 'REFSPCL', 'SCRIPTBL', 'SEGMDL2', 'SYMBOL',\n",
    "                       'VINERITC', 'VIVALDII', 'VLADIMIR', 'WEBDINGS', 'WINGDING', 'WINGDNG2', 'WINGDNG3']\n",
    "file_pairs = [(d, s) for d, s in file_pairs if s.endswith('.TTF') and s[:-4] not in excluded_file_titles]\n",
    "g = (s for d, s in file_pairs)\n",
    "print(*g)\n",
    "image = Image.new('L', [1200, 600], color=127)\n",
    "draw = ImageDraw.Draw(image)\n",
    "for i, (directory_name, file_name) in enumerate(file_pairs):\n",
    "    file_path = os.path.join(directory_name, file_name)\n",
    "    font = ImageFont.truetype(file_path, size=12)\n",
    "    x, y = 133 * (i // 35), 17 * (i % 35)\n",
    "    draw.text((x, y), file_name[:-4], font=font, fill=255, stroke_width=1, stroke_fill=63)\n",
    "image = np.array(image.getdata(), dtype=np.uint8).reshape([600, 1200])\n",
    "cv2.imwrite(r\"C:\\Users\\cidzerda\\Pictures\\Dota 2 Fonts.png\", image)\n",
    "show_and_wait(image)\n",
    "cv2.destroyAllWindows()"
   ]
  },
  {
   "cell_type": "code",
   "execution_count": 6,
   "metadata": {},
   "outputs": [
    {
     "name": "stdout",
     "output_type": "stream",
     "text": [
      "(75, 12)\n"
     ]
    }
   ],
   "source": [
    "def fn():\n",
    "    # Create the background.\n",
    "    directory_path, _, file_names = next(os.walk(r\"D:\\Dota 2\\Heroes\\Videos\"))\n",
    "    file_name = file_names[1]\n",
    "    file_path = os.path.join(directory_path, file_name)\n",
    "    video = cv2.VideoCapture(file_path)\n",
    "    _, frame = video.read()\n",
    "    video.release()\n",
    "    image = frame[top-height:bottom-height, left:right, :]\n",
    "    g = (image[:, :, i] for i in range(image.shape[2]))\n",
    "    image = min(g, key=lambda image: image.sum())\n",
    "    background = image\n",
    "\n",
    "    # Create the text.\n",
    "    image = Image.fromarray(background, mode='L')\n",
    "    draw = ImageDraw.Draw(image)\n",
    "    font = ImageFont.truetype(r\"D:\\Fonts\\Cabin-Medium.ttf\", size=10)\n",
    "    print(font.getsize('QUEEN OF PAIN', stroke_width=1))\n",
    "    x, y = 33, 0\n",
    "    draw.text((x, y), 'QUEEN OF PAIN', font=font, fill=255, stroke_width=1, stroke_fill=63)\n",
    "    image = np.array(image.getdata(), dtype=np.uint8).reshape([height, width])\n",
    "    cv2.imwrite(r\"C:\\Users\\cidzerda\\Pictures\\queen_of_pain.png\", image)\n",
    "    return image\n",
    "image = fn()\n",
    "show_and_wait(image)\n",
    "cv2.destroyAllWindows()"
   ]
  },
  {
   "cell_type": "code",
   "execution_count": 7,
   "metadata": {},
   "outputs": [
    {
     "name": "stdout",
     "output_type": "stream",
     "text": [
      "alger    (434, 44) 0 434 10 44 (434, 34)\n",
      "bauhs93  (393, 40) 2 393 10 40 (391, 30)\n",
      "bradhitc (454, 46) 3 454 13 46 (451, 33)\n",
      "colonna  (415, 32) 1 415 7 32 (414, 25)\n",
      "engr     (635, 42) 2 634 11 42 (632, 31)\n",
      "goudysto (918, 46) 3 915 11 45 (912, 34)\n",
      "jokerman (460, 53) 2 460 10 53 (458, 43)\n",
      "latinwd  (961, 38) 0 961 5 38 (961, 33)\n",
      "lcallig  (582, 55) 1 582 8 55 (581, 47)\n",
      "lhandw   (518, 52) 3 518 11 52 (515, 41)\n",
      "mod20    (481, 36) 0 481 7 36 (481, 29)\n",
      "msyi     (385, 39) 2 385 14 39 (383, 25)\n",
      "mvboli   (495, 51) 5 495 15 51 (490, 36)\n",
      "papyrus  (618, 54) 3 618 9 54 (615, 45)\n",
      "ravie    (623, 39) 0 622 0 39 (622, 39)\n",
      "simsunb  (401, 39) 0 400 7 39 (400, 32)\n",
      "snap____ (592, 48) 0 591 12 48 (591, 36)\n",
      "tempsitc (434, 45) 4 434 11 45 (430, 34)\n"
     ]
    }
   ],
   "source": [
    "# Determine the true extent of a text rendering.\n",
    "\n",
    "class ExtentFinder(Sequence):\n",
    "    def __init__(self, fn, n):\n",
    "        self.__fn = fn\n",
    "        self.__n = n\n",
    "\n",
    "    def __getitem__(self, index):\n",
    "        return self.__fn(index)\n",
    "\n",
    "    def __len__(self):\n",
    "        return self.__n\n",
    "\n",
    "def fn(file_title):\n",
    "    width, height = 999, 66\n",
    "    print(f'{file_title:<8}', end=' ')\n",
    "    stroke_width = 1\n",
    "    image = Image.new('L', [width, height])\n",
    "    draw = ImageDraw.Draw(image)\n",
    "    font = ImageFont.truetype(fr\"C:\\Windows\\Fonts\\{file_title}.ttf\", size=42)\n",
    "    text = 'KEEPER OF THE LIGHT' #+ file_title[0]\n",
    "    print(font.getsize(text, stroke_width=stroke_width), end=' ')\n",
    "    draw.text((0, 0), text, font=font, fill=255, stroke_width=stroke_width, stroke_fill=255)\n",
    "    image = np.array(image.getdata(), dtype=np.uint8).reshape([height, width])\n",
    "    # Find the left extent.\n",
    "    def fn(index):\n",
    "        a = image[:, :index + 1]\n",
    "        return 1 if a.max() else -1\n",
    "    left = bisect.bisect_left(ExtentFinder(fn, width), 0)\n",
    "    print(left, end=' ')\n",
    "    # Find the right extent.\n",
    "    def fn(index):\n",
    "        a = image[:, index:]\n",
    "        return -1 if a.max() else 1\n",
    "    right = bisect.bisect_left(ExtentFinder(fn, width), 0)\n",
    "    print(right, end=' ')\n",
    "    # Find the top extent.\n",
    "    def fn(index):\n",
    "        a = image[:index + 1, :]\n",
    "        return 1 if a.max() else -1\n",
    "    top = bisect.bisect_left(ExtentFinder(fn, height), 0)\n",
    "    print(top, end=' ')\n",
    "    # Find the bottom extent.\n",
    "    def fn(index):\n",
    "        a = image[index:, :]\n",
    "        return -1 if a.max() else 1\n",
    "    bottom = bisect.bisect_left(ExtentFinder(fn, height), 0)\n",
    "    print(bottom, end=' ')\n",
    "    print((right - left, bottom - top))\n",
    "    #for i in range(10, 15):\n",
    "     #   print(list(image[i]))\n",
    "    return image\n",
    "#image = fn('Cabin-Medium')\n",
    "image = np.vstack(list(map(fn, ['alger', 'bauhs93', 'bradhitc', 'colonna', 'engr', 'goudysto', 'jokerman',\n",
    "                                'latinwd', 'lcallig', 'lhandw', 'mod20', 'msyi', 'mvboli', 'papyrus', 'ravie',\n",
    "                                'simsunb', 'snap____', 'tempsitc'])))\n",
    "show_and_wait(image)\n",
    "cv2.destroyAllWindows()"
   ]
  }
 ],
 "metadata": {
  "kernelspec": {
   "display_name": "Python 3",
   "language": "python",
   "name": "python3"
  },
  "language_info": {
   "codemirror_mode": {
    "name": "ipython",
    "version": 3
   },
   "file_extension": ".py",
   "mimetype": "text/x-python",
   "name": "python",
   "nbconvert_exporter": "python",
   "pygments_lexer": "ipython3",
   "version": "3.7.8"
  }
 },
 "nbformat": 4,
 "nbformat_minor": 2
}

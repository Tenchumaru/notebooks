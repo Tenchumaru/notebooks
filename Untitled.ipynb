{
 "cells": [
  {
   "cell_type": "code",
   "execution_count": 1,
   "metadata": {},
   "outputs": [],
   "source": [
    "import cv2\n",
    "import functools as ft\n",
    "import itertools as it\n",
    "import json\n",
    "import numpy as np\n",
    "import operator as op\n",
    "import os\n",
    "import pickle\n",
    "import random\n",
    "import sys\n",
    "import tempfile\n",
    "import threading\n",
    "from collections import deque\n",
    "from datetime import datetime, timedelta, timezone\n",
    "from typing import Tuple\n",
    "from utilities import *\n",
    "\n",
    "class Timer:\n",
    "    def __init__(self, message: str):\n",
    "        self.__message = message\n",
    "\n",
    "    def __enter__(self):\n",
    "        self.__start_at = datetime.now()\n",
    "\n",
    "    def __exit__(self, *args):\n",
    "        print(f'{self.__message} time:', (datetime.now() - self.__start_at).total_seconds(), 'seconds')"
   ]
  },
  {
   "cell_type": "code",
   "execution_count": 2,
   "metadata": {},
   "outputs": [],
   "source": [
    "from captcha.image import ImageCaptcha\n",
    "labels = [f'{chars:>04}' for chars in range(10000)]\n",
    "random.shuffle(labels)"
   ]
  },
  {
   "cell_type": "code",
   "execution_count": 3,
   "metadata": {},
   "outputs": [
    {
     "name": "stdout",
     "output_type": "stream",
     "text": [
      "one thread time: 24.232515 seconds\n"
     ]
    },
    {
     "data": {
      "text/plain": [
       "(10000, 160, 60)"
      ]
     },
     "execution_count": 3,
     "metadata": {},
     "output_type": "execute_result"
    }
   ],
   "source": [
    "with Timer('one thread'):\n",
    "    l = [ImageCaptcha().generate_image(l) for l in labels]\n",
    "width, height = l[0].width, l[0].height\n",
    "len(l), width, height"
   ]
  },
  {
   "cell_type": "code",
   "execution_count": 4,
   "metadata": {},
   "outputs": [
    {
     "name": "stdout",
     "output_type": "stream",
     "text": [
      "multiple threads time: 24.746306 seconds\n"
     ]
    },
    {
     "data": {
      "text/plain": [
       "(10000, 160, 60)"
      ]
     },
     "execution_count": 4,
     "metadata": {},
     "output_type": "execute_result"
    }
   ],
   "source": [
    "n = 10\n",
    "l = n * [None]\n",
    "def fn(k):\n",
    "    l[k] = [ImageCaptcha().generate_image(labels[i]) for i in range(1000 * k, 1000 * (k + 1))]\n",
    "threads = [threading.Thread(target=fn, args=(i,)) for i in range(n)]\n",
    "for thread in threads:\n",
    "    thread.start()\n",
    "with Timer('multiple threads'):\n",
    "    for thread in threads:\n",
    "        thread.join()\n",
    "l = list(it.chain.from_iterable(l))\n",
    "width, height = l[0].width, l[0].height\n",
    "len(l), width, height"
   ]
  },
  {
   "cell_type": "code",
   "execution_count": 5,
   "metadata": {},
   "outputs": [],
   "source": [
    "image = np.array(l[0].getdata()).reshape((height, width, 3)).astype(np.uint8)\n",
    "cv2.imshow('tesst', image)\n",
    "cv2.waitKey()\n",
    "cv2.destroyAllWindows()"
   ]
  },
  {
   "cell_type": "code",
   "execution_count": 6,
   "metadata": {},
   "outputs": [
    {
     "name": "stdout",
     "output_type": "stream",
     "text": [
      "one thread time: 40.337646 seconds\n"
     ]
    },
    {
     "data": {
      "text/plain": [
       "(10000, (9600, 3), dtype('int32'))"
      ]
     },
     "execution_count": 6,
     "metadata": {},
     "output_type": "execute_result"
    }
   ],
   "source": [
    "with Timer('one thread'):\n",
    "    ll = [np.array(v.getdata()) for v in l]\n",
    "len(ll), ll[0].shape, ll[0].dtype"
   ]
  },
  {
   "cell_type": "code",
   "execution_count": 7,
   "metadata": {},
   "outputs": [
    {
     "name": "stdout",
     "output_type": "stream",
     "text": [
      "multiple threads time: 36.896506 seconds\n"
     ]
    },
    {
     "data": {
      "text/plain": [
       "(10000, (9600, 3), dtype('int32'))"
      ]
     },
     "execution_count": 7,
     "metadata": {},
     "output_type": "execute_result"
    }
   ],
   "source": [
    "n = 10\n",
    "ll = n * [None]\n",
    "def fn(k):\n",
    "    ll[k] = [np.array(l[i].getdata()) for i in range(1000 * k, 1000 * (k + 1))]\n",
    "threads = [threading.Thread(target=fn, args=(i,)) for i in range(n)]\n",
    "for thread in threads:\n",
    "    thread.start()\n",
    "with Timer('multiple threads'):\n",
    "    for thread in threads:\n",
    "        thread.join()\n",
    "ll = list(it.chain.from_iterable(ll))\n",
    "len(ll), ll[0].shape, ll[0].dtype"
   ]
  },
  {
   "cell_type": "code",
   "execution_count": 8,
   "metadata": {},
   "outputs": [
    {
     "data": {
      "text/plain": [
       "((10000, 60, 160, 3), '3645')"
      ]
     },
     "execution_count": 8,
     "metadata": {},
     "output_type": "execute_result"
    }
   ],
   "source": [
    "n=9\n",
    "image = np.vstack(ll).reshape((len(ll),60,160,3)).astype(np.uint8)\n",
    "cv2.imshow('tesst', image[n])\n",
    "cv2.waitKey()\n",
    "cv2.destroyAllWindows()\n",
    "image.shape, labels[n]"
   ]
  },
  {
   "cell_type": "code",
   "execution_count": 9,
   "metadata": {},
   "outputs": [
    {
     "data": {
      "text/plain": [
       "((10000, 60, 160), '3645')"
      ]
     },
     "execution_count": 9,
     "metadata": {},
     "output_type": "execute_result"
    }
   ],
   "source": [
    "n=9\n",
    "image = np.vstack(ll).reshape((len(ll)*60,160,3)).astype(np.uint8)\n",
    "image = cv2.cvtColor(image, cv2.COLOR_RGB2GRAY).reshape((len(ll),60,160))\n",
    "cv2.imshow('tesst', image[n])\n",
    "cv2.waitKey()\n",
    "cv2.destroyAllWindows()\n",
    "image.shape, labels[n]"
   ]
  },
  {
   "cell_type": "code",
   "execution_count": 10,
   "metadata": {
    "scrolled": true
   },
   "outputs": [
    {
     "data": {
      "text/plain": [
       "(540, 160, 3)"
      ]
     },
     "execution_count": 10,
     "metadata": {},
     "output_type": "execute_result"
    }
   ],
   "source": [
    "n=9\n",
    "image = np.vstack(ll[:n]).reshape((n*60,160,3)).astype(np.uint8)\n",
    "cv2.imshow('tesst', image)\n",
    "cv2.waitKey()\n",
    "cv2.destroyAllWindows()\n",
    "image.shape"
   ]
  },
  {
   "cell_type": "code",
   "execution_count": 11,
   "metadata": {},
   "outputs": [
    {
     "ename": "ValueError",
     "evalue": "",
     "output_type": "error",
     "traceback": [
      "\u001b[1;31m---------------------------------------------------------------------------\u001b[0m",
      "\u001b[1;31mValueError\u001b[0m                                Traceback (most recent call last)",
      "Cell \u001b[1;32mIn [11], line 2\u001b[0m\n\u001b[0;32m      1\u001b[0m \u001b[38;5;66;03m# Stop here.\u001b[39;00m\n\u001b[1;32m----> 2\u001b[0m \u001b[38;5;28;01mraise\u001b[39;00m \u001b[38;5;167;01mValueError\u001b[39;00m()\n",
      "\u001b[1;31mValueError\u001b[0m: "
     ]
    }
   ],
   "source": [
    "# Stop here.\n",
    "raise ValueError()"
   ]
  },
  {
   "cell_type": "code",
   "execution_count": null,
   "metadata": {},
   "outputs": [],
   "source": [
    "text = \"Funny text inside the box\"\n",
    "fontFace = cv2.FONT_HERSHEY_SCRIPT_SIMPLEX\n",
    "fontScale = 2\n",
    "thickness = 3\n",
    "\n",
    "img = np.zeros((600, 800, 3))\n",
    "\n",
    "baseline=0\n",
    "textSize, baseline = cv2.getTextSize(text, fontFace,\n",
    "                            fontScale, thickness)\n",
    "baseline += thickness\n",
    "\n",
    "# center the text\n",
    "textOrg=((img.shape[1] - textSize[0])//2,\n",
    "              (img.shape[0] + textSize[1])//2)\n",
    "\n",
    "# draw the box\n",
    "cv2.rectangle(img, (textOrg[0], textOrg[1] + baseline),\n",
    "          (textOrg[0] + textSize[0], textOrg[1]-textSize[1]),\n",
    "          (0,0,255))\n",
    "# ... and the baseline first\n",
    "cv2.line(img, (textOrg[0], textOrg[1] +  thickness),\n",
    "     (textOrg[0] + textSize[0], textOrg[1] + thickness),\n",
    "     (0, 0, 255))\n",
    "\n",
    "# then put the text itself\n",
    "cv2.putText(img, text, textOrg, fontFace, fontScale,\n",
    "        (255,), thickness, 8)\n",
    "cv2.imshow('tesst', img)\n",
    "cv2.waitKey()\n",
    "cv2.destroyWindow('tesst')\n",
    "print(textSize, baseline, thickness)"
   ]
  },
  {
   "cell_type": "code",
   "execution_count": null,
   "metadata": {},
   "outputs": [],
   "source": [
    "def fn():\n",
    "    return 1, 2, 3\n",
    "class Tesst:\n",
    "    a, b, c = fn()\n",
    "print(Tesst.a, Tesst.b, Tesst.c)"
   ]
  },
  {
   "cell_type": "code",
   "execution_count": null,
   "metadata": {},
   "outputs": [],
   "source": [
    "heights = [480, 720, 1080]\n",
    "for height in heights:\n",
    "    width = round(16 * height / 9) & ~1\n",
    "    print(width, height)"
   ]
  },
  {
   "cell_type": "code",
   "execution_count": null,
   "metadata": {},
   "outputs": [],
   "source": [
    "captcha = ImageCaptcha(fonts=[r'\\Windows\\Fonts\\Arial.ttf'])\n",
    "image = cv2.cvtColor(np.array(captcha.generate_image('FACE')), cv2.COLOR_RGB2GRAY)\n",
    "#image = np.frombuffer(captcha.generate('AbC').getvalue(), dtype='uint8')\n",
    "#print(image.shape)\n",
    "#image = cv2.imdecode(image, cv2.IMREAD_GRAYSCALE)\n",
    "#image = cv2.resize(image, (200, 50))\n",
    "print(image.shape)\n",
    "show_and_wait(image)\n",
    "cv2.imwrite(r'C:\\Users\\cidzerda\\Documents\\GitHub\\ctc\\alphabetic.png', image)\n",
    "cv2.destroyAllWindows()"
   ]
  },
  {
   "cell_type": "code",
   "execution_count": null,
   "metadata": {},
   "outputs": [],
   "source": [
    "class Processor:\n",
    "    def __init__(self, channel_name, stream):\n",
    "        self.__channel_name = channel_name\n",
    "        self.__delay = 0\n",
    "        self.__stream = stream\n",
    "\n",
    "    def __lt__(self, other):\n",
    "        return self.__delay < other.__delay\n",
    "\n",
    "    def __str__(self):\n",
    "        return '{} {}'.format(self.__channel_name, self.__delay)\n",
    "\n",
    "    def __sub__(self, delay):\n",
    "        self.__delay -= delay\n",
    "        return self\n",
    "\n",
    "a = Processor('a', None)\n",
    "b = Processor('b', None)\n",
    "print(np.argmin([a, b]))\n",
    "print(min([a, b]))\n",
    "print(a - 5)"
   ]
  },
  {
   "cell_type": "code",
   "execution_count": null,
   "metadata": {},
   "outputs": [],
   "source": [
    "import math\n",
    "aspect_ratio = 4/3\n",
    "def compose_image(images):\n",
    "    n = len(images)\n",
    "    height, width, *_ = images[0].shape\n",
    "    s = int(math.sqrt(aspect_ratio * height * width * n) / width)\n",
    "    l = sorted((n % i, i) for i in range(max(1, 4*s//5), 4*s//3+1))\n",
    "    print(height, width, s, l)\n",
    "    ncolumns = l[-1][1] #if l[0][0] else l[0][1]\n",
    "    g = [iter(images)] * ncolumns\n",
    "    g = it.zip_longest(*g, fillvalue=np.zeros_like(images[0]))\n",
    "    return np.vstack([np.hstack(g) for g in g])\n",
    "def fn(image, file_path):\n",
    "    file_path = os.path.dirname(file_path)\n",
    "    file_path, name = os.path.split(file_path)\n",
    "    file_path, date = os.path.split(file_path)\n",
    "    name = f'{date} {name}'\n",
    "    image = cv2.putText(image, name, (55, 33), cv2.FONT_HERSHEY_PLAIN, 2, (255, 255, 255), 5)\n",
    "    image = cv2.putText(image, name, (55, 33), cv2.FONT_HERSHEY_PLAIN, 2, (0, 0, 0), 2)\n",
    "    return image\n",
    "cv2.imwrite('data.png', compose_image(list(map(fn, images, l))))"
   ]
  }
 ],
 "metadata": {
  "kernelspec": {
   "display_name": "Python 3 (ipykernel)",
   "language": "python",
   "name": "python3"
  },
  "language_info": {
   "codemirror_mode": {
    "name": "ipython",
    "version": 3
   },
   "file_extension": ".py",
   "mimetype": "text/x-python",
   "name": "python",
   "nbconvert_exporter": "python",
   "pygments_lexer": "ipython3",
   "version": "3.10.5"
  }
 },
 "nbformat": 4,
 "nbformat_minor": 2
}

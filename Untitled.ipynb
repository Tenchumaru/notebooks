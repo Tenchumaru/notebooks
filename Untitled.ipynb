{
 "cells": [
  {
   "cell_type": "code",
   "execution_count": 1,
   "metadata": {},
   "outputs": [],
   "source": [
    "import cv2\n",
    "import functools as ft\n",
    "import itertools as it\n",
    "import json\n",
    "import numpy as np\n",
    "import operator as op\n",
    "import os\n",
    "import pickle\n",
    "import random\n",
    "import sys\n",
    "import tempfile\n",
    "import threading\n",
    "from collections import deque\n",
    "from datetime import datetime, timedelta, timezone\n",
    "from typing import Tuple\n",
    "\n",
    "from utilities import *"
   ]
  },
  {
   "cell_type": "code",
   "execution_count": 2,
   "metadata": {},
   "outputs": [
    {
     "data": {
      "text/plain": [
       "(10000, 160, 60)"
      ]
     },
     "execution_count": 2,
     "metadata": {},
     "output_type": "execute_result"
    }
   ],
   "source": [
    "from captcha.image import ImageCaptcha\n",
    "labels = [f'{chars:>04}' for chars in range(10000)]\n",
    "random.shuffle(labels)\n",
    "l = [ImageCaptcha().generate_image(l) for l in labels]\n",
    "width, height = l[0].width, l[0].height\n",
    "len(l), width, height"
   ]
  },
  {
   "cell_type": "code",
   "execution_count": 3,
   "metadata": {},
   "outputs": [],
   "source": [
    "image = np.array(l[0].getdata()).reshape((height, width, 3)).astype(np.uint8)\n",
    "cv2.imshow('tesst', image)\n",
    "cv2.waitKey()\n",
    "cv2.destroyAllWindows()"
   ]
  },
  {
   "cell_type": "code",
   "execution_count": 9,
   "metadata": {},
   "outputs": [
    {
     "data": {
      "text/plain": [
       "(10000, (9600, 3), dtype('int32'))"
      ]
     },
     "execution_count": 9,
     "metadata": {},
     "output_type": "execute_result"
    }
   ],
   "source": [
    "ll = [np.array(i.getdata()) for i in l]\n",
    "len(ll), ll[0].shape, ll[0].dtype"
   ]
  },
  {
   "cell_type": "code",
   "execution_count": 17,
   "metadata": {},
   "outputs": [
    {
     "data": {
      "text/plain": [
       "((10000, 60, 160, 3), '3645')"
      ]
     },
     "execution_count": 17,
     "metadata": {},
     "output_type": "execute_result"
    }
   ],
   "source": [
    "n=9\n",
    "image = np.vstack(ll).reshape((len(ll),60,160,3)).astype(np.uint8)\n",
    "cv2.imshow('tesst', image[n])\n",
    "cv2.waitKey()\n",
    "cv2.destroyAllWindows()\n",
    "image.shape, labels[n]"
   ]
  },
  {
   "cell_type": "code",
   "execution_count": 19,
   "metadata": {},
   "outputs": [
    {
     "data": {
      "text/plain": [
       "((10000, 60, 160), '3645')"
      ]
     },
     "execution_count": 19,
     "metadata": {},
     "output_type": "execute_result"
    }
   ],
   "source": [
    "n=9\n",
    "image = np.vstack(ll).reshape((len(ll)*60,160,3)).astype(np.uint8)\n",
    "image = cv2.cvtColor(image, cv2.COLOR_RGB2GRAY).reshape((len(ll),60,160))\n",
    "cv2.imshow('tesst', image[n])\n",
    "cv2.waitKey()\n",
    "cv2.destroyAllWindows()\n",
    "image.shape, labels[n]"
   ]
  },
  {
   "cell_type": "code",
   "execution_count": 10,
   "metadata": {
    "scrolled": true
   },
   "outputs": [
    {
     "data": {
      "text/plain": [
       "(540, 160, 3)"
      ]
     },
     "execution_count": 10,
     "metadata": {},
     "output_type": "execute_result"
    }
   ],
   "source": [
    "n=9\n",
    "image = np.vstack(ll[:n]).reshape((n*60,160,3)).astype(np.uint8)\n",
    "cv2.imshow('tesst', image)\n",
    "cv2.waitKey()\n",
    "cv2.destroyAllWindows()\n",
    "image.shape"
   ]
  },
  {
   "cell_type": "code",
   "execution_count": 8,
   "metadata": {},
   "outputs": [
    {
     "data": {
      "text/plain": [
       "(59940, 160)"
      ]
     },
     "execution_count": 8,
     "metadata": {},
     "output_type": "execute_result"
    }
   ],
   "source": [
    "cv2.cvtColor(image, cv2.COLOR_RGB2GRAY).shape\n",
    "#l = [np.array(i.getdata()).astype(np.float32) for i in g]"
   ]
  },
  {
   "cell_type": "code",
   "execution_count": 6,
   "metadata": {},
   "outputs": [
    {
     "ename": "ValueError",
     "evalue": "",
     "output_type": "error",
     "traceback": [
      "\u001b[1;31m---------------------------------------------------------------------------\u001b[0m",
      "\u001b[1;31mValueError\u001b[0m                                Traceback (most recent call last)",
      "Cell \u001b[1;32mIn [6], line 2\u001b[0m\n\u001b[0;32m      1\u001b[0m \u001b[38;5;66;03m# Stop here.\u001b[39;00m\n\u001b[1;32m----> 2\u001b[0m \u001b[38;5;28;01mraise\u001b[39;00m \u001b[38;5;167;01mValueError\u001b[39;00m()\n",
      "\u001b[1;31mValueError\u001b[0m: "
     ]
    }
   ],
   "source": [
    "# Stop here.\n",
    "raise ValueError()"
   ]
  },
  {
   "cell_type": "code",
   "execution_count": null,
   "metadata": {},
   "outputs": [],
   "source": [
    "def get_text_size(text: str, font_face: int, font_scale: int, thickness: int) -> Tuple[int, int]:\n",
    "    text_size, _ = cv2.getTextSize(text, font_face, font_scale, thickness)\n",
    "    return text_size[0] + thickness, text_size[1] + thickness\n",
    "\n",
    "def put_text(image: np.ndarray, text: str, x: int, y: int) -> None:\n",
    "    font_face = cv2.FONT_HERSHEY_SIMPLEX\n",
    "    font_scale = 1\n",
    "    thickness = 2\n",
    "    text_size = get_text_size(text, font_face, font_scale, thickness)\n",
    "    cv2.putText(image, text, (x, y + text_size[1]), font_face, font_scale, (255,), thickness, cv2.LINE_AA)\n",
    "\n",
    "def make_data(n: int):\n",
    "    import random\n",
    "    alphabet = list(map(chr, range(ord('A'), ord('Z') + 1)))\n",
    "    def fn(_):\n",
    "        inputs = []\n",
    "        while len([c for c in inputs if c != ' ']) < 2:\n",
    "            inputs = [alphabet[random.randrange(len(alphabet))] if random.randrange(5) else ' ' for _ in range(random.randrange(9))]\n",
    "        s = ''.join(inputs)\n",
    "        image = np.zeros((40, 200))\n",
    "        put_text(image, s, random.randrange(5, 35), 5)\n",
    "        outputs = [ord(c) - ord('A') + 1 for c in inputs if c != ' ']\n",
    "        return image, outputs\n",
    "    inputs, outputs = zip(*map(fn, range(n)))\n",
    "    return inputs, outputs\n",
    "\n",
    "inputs, outputs = make_data(9)\n",
    "image = np.vstack(inputs)\n",
    "cv2.imshow('tesst', image)\n",
    "cv2.waitKey()\n",
    "cv2.destroyWindow('tesst')\n",
    "np.expand_dims(np.stack(inputs, axis=0), axis=1).shape, np.array(outputs).shape"
   ]
  },
  {
   "cell_type": "code",
   "execution_count": null,
   "metadata": {},
   "outputs": [],
   "source": [
    "text = \"Funny text inside the box\"\n",
    "fontFace = cv2.FONT_HERSHEY_SCRIPT_SIMPLEX\n",
    "fontScale = 2\n",
    "thickness = 3\n",
    "\n",
    "img = np.zeros((600, 800, 3))\n",
    "\n",
    "baseline=0\n",
    "textSize, baseline = cv2.getTextSize(text, fontFace,\n",
    "                            fontScale, thickness)\n",
    "baseline += thickness\n",
    "\n",
    "# center the text\n",
    "textOrg=((img.shape[1] - textSize[0])//2,\n",
    "              (img.shape[0] + textSize[1])//2)\n",
    "\n",
    "# draw the box\n",
    "cv2.rectangle(img, (textOrg[0], textOrg[1] + baseline),\n",
    "          (textOrg[0] + textSize[0], textOrg[1]-textSize[1]),\n",
    "          (0,0,255))\n",
    "# ... and the baseline first\n",
    "cv2.line(img, (textOrg[0], textOrg[1] +  thickness),\n",
    "     (textOrg[0] + textSize[0], textOrg[1] + thickness),\n",
    "     (0, 0, 255))\n",
    "\n",
    "# then put the text itself\n",
    "cv2.putText(img, text, textOrg, fontFace, fontScale,\n",
    "        (255,), thickness, 8)\n",
    "cv2.imshow('tesst', img)\n",
    "cv2.waitKey()\n",
    "cv2.destroyWindow('tesst')\n",
    "print(textSize, baseline, thickness)"
   ]
  },
  {
   "cell_type": "code",
   "execution_count": null,
   "metadata": {},
   "outputs": [],
   "source": [
    "os.path.splitext(r'C:\\Users\\cidzerda\\Documents\\GitHub\\strevr.py')"
   ]
  },
  {
   "cell_type": "code",
   "execution_count": null,
   "metadata": {},
   "outputs": [],
   "source": [
    "def fn():\n",
    "    return 1, 2, 3\n",
    "class Tesst:\n",
    "    a, b, c = fn()\n",
    "print(Tesst.a, Tesst.b, Tesst.c)"
   ]
  },
  {
   "cell_type": "code",
   "execution_count": null,
   "metadata": {},
   "outputs": [],
   "source": [
    "heights = [480, 720, 1080]\n",
    "for height in heights:\n",
    "    width = round(16 * height / 9) & ~1\n",
    "    print(width, height)"
   ]
  },
  {
   "cell_type": "code",
   "execution_count": null,
   "metadata": {},
   "outputs": [],
   "source": [
    "root_directory_path = r\"W:\\My Documents\\Streams\\Apex Legends\\480\\2020-05-13\"\n",
    "for  directory_path, _, file_names in os.walk(root_directory_path):\n",
    "    file_paths = [os.path.join(directory_path, s) for s in file_names if s.endswith('.mpeg')]\n",
    "    if len(file_paths) == 0:\n",
    "        continue\n",
    "    file_path = file_paths[0]\n",
    "    video = cv2.VideoCapture(file_path)\n",
    "    #_, frame = video.read()\n",
    "    #print(*[s for s in dir(cv2) if s.startswith('CAP_PROP_')], sep='\\n')\n",
    "    def fn():\n",
    "        g = (s for s in dir(cv2) if s.startswith('CAP_PROP_'))\n",
    "        g = ((s, video.get(getattr(cv2, s))) for s in g)\n",
    "        g = ((s, v) for s, v in g if v)\n",
    "        return g\n",
    "    #print(*fn(), sep='\\n')\n",
    "    print(video.set(cv2.CAP_PROP_POS_FRAMES, video.get(cv2.CAP_PROP_FRAME_COUNT) - 1))\n",
    "    print(*fn(), sep='\\n')\n",
    "    print(file_path, video.get(cv2.CAP_PROP_FRAME_COUNT) / video.get(cv2.CAP_PROP_FPS))\n",
    "    video.release()"
   ]
  },
  {
   "cell_type": "code",
   "execution_count": null,
   "metadata": {},
   "outputs": [],
   "source": [
    "def fn(file_title):\n",
    "    with open(fr'D:\\{file_title}.pickle', 'rb') as fin:\n",
    "        generator_name = pickle.load(fin)\n",
    "        validation_images, validation_labels = pickle.load(fin)\n",
    "        test_images, test_labels = pickle.load(fin)\n",
    "    def fn(l):\n",
    "        a = l[0]\n",
    "        if hasattr(a, 'asnumpy'):\n",
    "            a = a.asnumpy()\n",
    "        return len(l), type(l[0]), l[0].shape, l[0].dtype, l[0].min(), l[0].max()\n",
    "    return file_title, generator_name, fn(validation_images), fn(validation_labels), fn(test_images), fn(test_labels)\n",
    "#list(map(fn, ['vs', 'extracting-greyscale', 'complex-color', 'complex-greyscale', 'simple-color', 'simple-greyscale']))\n",
    "list(map(fn, ['vs']))"
   ]
  },
  {
   "cell_type": "code",
   "execution_count": null,
   "metadata": {},
   "outputs": [],
   "source": [
    "with open(r'D:\\extracting-greyscale.pickle', 'rb') as fin:\n",
    "     images, labels = pickle.load(fin)"
   ]
  },
  {
   "cell_type": "code",
   "execution_count": null,
   "metadata": {},
   "outputs": [],
   "source": [
    "g = (i.asnumpy().transpose((1, 2, 0)) for i in images)\n",
    "for g in grouper(g, 160):\n",
    "    show_and_wait(np.vstack([np.hstack(list(g)) for g in grouper(g, 4)]))\n",
    "cv2.destroyAllWindows()"
   ]
  },
  {
   "cell_type": "code",
   "execution_count": null,
   "metadata": {},
   "outputs": [],
   "source": [
    "def fn(file_title):\n",
    "    with open(fr'D:\\{file_title}.pickle', 'rb') as fin:\n",
    "         images, labels = pickle.load(fin)\n",
    "    def fn(l):\n",
    "        return len(l), type(l[0]), l[0].shape, l[0].dtype, l[0].asnumpy().min(), l[0].asnumpy().max()\n",
    "    return file_title, fn(images), fn(labels)\n",
    "list(map(fn, ['extracting-greyscale', 'complex-color', 'complex-greyscale', 'simple-color', 'simple-greyscale']))"
   ]
  },
  {
   "cell_type": "code",
   "execution_count": null,
   "metadata": {},
   "outputs": [],
   "source": [
    "g = (i.asnumpy().squeeze(axis=0) * 255 for i in images)\n",
    "image = np.vstack([np.hstack(list(g)) for g in grouper(g, 20)]).astype(np.uint8)\n",
    "show_and_wait(image)\n",
    "cv2.destroyAllWindows()"
   ]
  },
  {
   "cell_type": "code",
   "execution_count": null,
   "metadata": {},
   "outputs": [],
   "source": [
    "cv2.imwrite(r'D:\\validation.png', image)"
   ]
  },
  {
   "cell_type": "code",
   "execution_count": null,
   "metadata": {},
   "outputs": [],
   "source": [
    "image = cv2.imread(r'D:\\validation.png')\n",
    "show_and_wait(image)\n",
    "cv2.destroyAllWindows()"
   ]
  },
  {
   "cell_type": "code",
   "execution_count": null,
   "metadata": {},
   "outputs": [],
   "source": [
    "l = [\n",
    "    'ancient_apparition',\n",
    "    'anti-mage',\n",
    "    'broodmother',\n",
    "    'centaur_warrunner',\n",
    "    'clinkz',\n",
    "    'io',\n",
    "    'juggernaut',\n",
    "    'keeper_of_the_light',\n",
    "    \"nature's_prophet\",\n",
    "    'nyx_assassin',\n",
    "    'outworld_devourer',\n",
    "    'queen_of_pain',\n",
    "]\n",
    "l = [cv2.VideoCapture(fr'D:\\Dota 2\\Heroes\\Videos\\{s}.mp4') for s in l]"
   ]
  },
  {
   "cell_type": "code",
   "execution_count": null,
   "metadata": {},
   "outputs": [],
   "source": [
    "[(type(video), int(video.get(cv2.CAP_PROP_FRAME_COUNT))) for video in l]"
   ]
  },
  {
   "cell_type": "code",
   "execution_count": null,
   "metadata": {},
   "outputs": [],
   "source": [
    "[(type(video), int(video.set(cv2.CAP_PROP_POS_FRAMES, 9999))) for video in l]"
   ]
  },
  {
   "cell_type": "code",
   "execution_count": null,
   "metadata": {},
   "outputs": [],
   "source": [
    "[video.read() and None for video in l]"
   ]
  },
  {
   "cell_type": "code",
   "execution_count": null,
   "metadata": {},
   "outputs": [],
   "source": [
    "[video.release() for video in l]"
   ]
  },
  {
   "cell_type": "code",
   "execution_count": null,
   "metadata": {},
   "outputs": [],
   "source": [
    "def fn():\n",
    "    image = 255 * np.ones((60, 800, 3))\n",
    "    image = image.astype(np.uint8)\n",
    "    text = ''.join(' ' if random.random() < .2 else chr(random.randint(ord('A'), ord('Z'))) for _ in range(60))\n",
    "    image = cv2.putText(image, text, (random.randint(0, 66), 33), cv2.FONT_HERSHEY_PLAIN, 1, (0, 0, 0), thickness=1, lineType=cv2.LINE_AA)\n",
    "    return image\n",
    "show_and_wait(np.vstack([fn() for _ in range(5)]))\n",
    "cv2.destroyAllWindows()"
   ]
  },
  {
   "cell_type": "code",
   "execution_count": null,
   "metadata": {},
   "outputs": [],
   "source": [
    "captcha = ImageCaptcha(fonts=[r'\\Windows\\Fonts\\Arial.ttf'])\n",
    "image = cv2.cvtColor(np.array(captcha.generate_image('FACE')), cv2.COLOR_RGB2GRAY)\n",
    "#image = np.frombuffer(captcha.generate('AbC').getvalue(), dtype='uint8')\n",
    "#print(image.shape)\n",
    "#image = cv2.imdecode(image, cv2.IMREAD_GRAYSCALE)\n",
    "#image = cv2.resize(image, (200, 50))\n",
    "print(image.shape)\n",
    "show_and_wait(image)\n",
    "cv2.imwrite(r'C:\\Users\\cidzerda\\Documents\\GitHub\\ctc\\alphabetic.png', image)\n",
    "cv2.destroyAllWindows()"
   ]
  },
  {
   "cell_type": "code",
   "execution_count": null,
   "metadata": {},
   "outputs": [],
   "source": [
    "l = [s for s in dir(cv2) if s.startswith('FONT_')]\n",
    "for s in l:\n",
    "    image = cv2.imread(r\"C:\\Users\\cidzerda\\Pictures\\1.png\")\n",
    "    #help(cv2.putText)\n",
    "    cv2.putText(image, 'INURE', (5, 95), getattr(cv2, s), 2, (255, 255, 255))\n",
    "    show_and_wait(image)\n",
    "cv2.destroyAllWindows()\n",
    "print(image.shape)"
   ]
  },
  {
   "cell_type": "code",
   "execution_count": null,
   "metadata": {},
   "outputs": [],
   "source": [
    "class Processor:\n",
    "    def __init__(self, channel_name, stream):\n",
    "        self.__channel_name = channel_name\n",
    "        self.__delay = 0\n",
    "        self.__stream = stream\n",
    "\n",
    "    def __lt__(self, other):\n",
    "        return self.__delay < other.__delay\n",
    "\n",
    "    def __str__(self):\n",
    "        return '{} {}'.format(self.__channel_name, self.__delay)\n",
    "\n",
    "    def __sub__(self, delay):\n",
    "        self.__delay -= delay\n",
    "        return self\n",
    "\n",
    "a = Processor('a', None)\n",
    "b = Processor('b', None)\n",
    "print(np.argmin([a, b]))\n",
    "print(min([a, b]))\n",
    "print(a - 5)"
   ]
  },
  {
   "cell_type": "code",
   "execution_count": null,
   "metadata": {},
   "outputs": [],
   "source": [
    "video = cv2.VideoCapture(r\"C:\\Users\\cidzerda\\Documents\\GitHub\\strevr-dota-2\\sides\\Dota 2.mp4\")\n",
    "print(video.get(cv2.CAP_PROP_POS_MSEC), video.get(cv2.CAP_PROP_POS_FRAMES), cv2.CAP_MSMF)\n",
    "for _ in range(5):\n",
    "    _, frame = video.read()\n",
    "    print(_, video.get(cv2.CAP_PROP_POS_MSEC), video.get(cv2.CAP_PROP_POS_FRAMES))\n",
    "video.release()"
   ]
  },
  {
   "cell_type": "code",
   "execution_count": null,
   "metadata": {},
   "outputs": [],
   "source": [
    "import math\n",
    "from collections import Counter, defaultdict\n",
    "with open(r\"C:\\Users\\cidzerda\\Documents\\GitHub\\strevr-dota-2\\sides\\Dota 2.txt\") as fin:\n",
    "    labels = [c for c in fin.read() if 'a' <= c <= 'z']\n",
    "with open(r\"C:\\Users\\cidzerda\\Documents\\GitHub\\strevr-dota-2\\sides\\Dota 2.pickle\", 'rb') as fin:\n",
    "    images = [pickle.load(fin) for _ in labels]\n",
    "def fn(ch):\n",
    "    g = zip(images, labels)\n",
    "    l = [image for image, label in g if label == ch]\n",
    "    n = math.floor(math.sqrt(len(l)))\n",
    "    del l[n * n:]\n",
    "    l = [iter(l)] * n\n",
    "    l = list(zip(*l))\n",
    "    l = np.vstack([np.hstack(l) for l in l])\n",
    "    return l\n",
    "d = Counter(labels)\n",
    "for c in d:\n",
    "    print(c)\n",
    "    show_and_wait(fn(c))\n",
    "cv2.destroyAllWindows()"
   ]
  },
  {
   "cell_type": "code",
   "execution_count": null,
   "metadata": {},
   "outputs": [],
   "source": [
    "l = [\n",
    "    r\"W:\\My Documents\\Streams\\Dota 2\\2020-01-15\\grandgrant\\0000000.mpeg\",\n",
    "    r\"W:\\My Documents\\Streams\\Dota 2\\2020-01-15\\justcooman\\0000000.mpeg\",\n",
    "    r\"W:\\My Documents\\Streams\\Dota 2\\2020-01-15\\stray228\\0000000.mpeg\",\n",
    "    r\"W:\\My Documents\\Streams\\Dota 2\\2020-01-15\\uccleague4\\0000000.mpeg\",\n",
    "    r\"W:\\My Documents\\Streams\\Dota 2\\2020-01-15\\ybicanoooobov\\0000000.mpeg\",\n",
    "    r\"W:\\My Documents\\Streams\\Dota 2\\2020-01-16\\daxak\\0000000.mpeg\",\n",
    "    r\"W:\\My Documents\\Streams\\Dota 2\\2020-01-16\\gorgc\\0000000.mpeg\",\n",
    "    r\"W:\\My Documents\\Streams\\Dota 2\\2020-01-16\\moonstudio_ru\\0000000.mpeg\",\n",
    "    r\"W:\\My Documents\\Streams\\Dota 2\\2020-01-16\\singsing\\0000000.mpeg\",\n",
    "    r\"W:\\My Documents\\Streams\\Dota 2\\2020-01-16\\uccleague4\\0000000.mpeg\",\n",
    "    r\"W:\\My Documents\\Streams\\Dota 2\\2020-01-17\\cartmanzbs\\0000000.mpeg\",\n",
    "    r\"W:\\My Documents\\Streams\\Dota 2\\2020-01-17\\gibkiydota\\0000000.mpeg\",\n",
    "    r\"W:\\My Documents\\Streams\\Dota 2\\2020-01-17\\gorgc\\0000000.mpeg\",\n",
    "    r\"W:\\My Documents\\Streams\\Dota 2\\2020-01-17\\illidanstr\\0000000.mpeg\",\n",
    "    r\"W:\\My Documents\\Streams\\Dota 2\\2020-01-17\\noctisak47\\0000000.mpeg\",\n",
    "    r\"W:\\My Documents\\Streams\\Dota 2\\2020-01-17\\sh4dowehhh\\0000000.mpeg\",\n",
    "    r\"W:\\My Documents\\Streams\\Dota 2\\2020-01-17\\stray228\\0000000.mpeg\",\n",
    "    r\"W:\\My Documents\\Streams\\Dota 2\\2020-01-17\\streamsbytempl\\0000000.mpeg\",\n",
    "    r\"W:\\My Documents\\Streams\\Dota 2\\2020-01-17\\uccleague4\\0000000.mpeg\",\n",
    "    r\"W:\\My Documents\\Streams\\Dota 2\\2020-01-17\\uccleague5\\0000000.mpeg\",\n",
    "    r\"W:\\My Documents\\Streams\\Dota 2\\2020-01-19\\admiralbulldog\\0000000.mpeg\",\n",
    "    r\"W:\\My Documents\\Streams\\Dota 2\\2020-01-19\\dota2mc_ru\\0000000.mpeg\",\n",
    "    r\"W:\\My Documents\\Streams\\Dota 2\\2020-01-19\\dota2mc_ru2\\0000000.mpeg\",\n",
    "    r\"W:\\My Documents\\Streams\\Dota 2\\2020-01-19\\dota2mc_ru3\\0000000.mpeg\",\n",
    "    r\"W:\\My Documents\\Streams\\Dota 2\\2020-01-19\\dota2mc_ru4\\0000000.mpeg\",\n",
    "    r\"W:\\My Documents\\Streams\\Dota 2\\2020-01-19\\dreamleague\\0000000.mpeg\",\n",
    "    r\"W:\\My Documents\\Streams\\Dota 2\\2020-01-19\\dreamleague2\\0000000.mpeg\",\n",
    "    r\"W:\\My Documents\\Streams\\Dota 2\\2020-01-19\\dreamleague4\\0000000.mpeg\",\n",
    "    r\"W:\\My Documents\\Streams\\Dota 2\\2020-01-19\\icebergdoto\\0000000.mpeg\",\n",
    "    r\"W:\\My Documents\\Streams\\Dota 2\\2020-01-19\\sh4dowehhh\\0000000.mpeg\",\n",
    "    r\"W:\\My Documents\\Streams\\Dota 2\\2020-01-20\\botanicx\\0000000.mpeg\",\n",
    "    r\"W:\\My Documents\\Streams\\Dota 2\\2020-01-20\\dreamleague\\0000000.mpeg\",\n",
    "    r\"W:\\My Documents\\Streams\\Dota 2\\2020-01-20\\ftmawf\\0000000.mpeg\",\n",
    "    r\"W:\\My Documents\\Streams\\Dota 2\\2020-01-20\\gorgc\\0000000.mpeg\",\n",
    "    r\"W:\\My Documents\\Streams\\Dota 2\\2020-01-20\\serega_pirat\\0000000.mpeg\",\n",
    "    r\"W:\\My Documents\\Streams\\Dota 2\\2020-01-20\\stray228\\0000000.mpeg\",\n",
    "    r\"W:\\My Documents\\Streams\\Dota 2\\2020-01-20\\synderen\\0000000.mpeg\",\n",
    "    r\"W:\\My Documents\\Streams\\Dota 2\\2020-01-20\\uccleague4\\0000000.mpeg\",\n",
    "    r\"W:\\My Documents\\Streams\\Dota 2\\2020-01-20\\uccleague5\\0000000.mpeg\",\n",
    "    r\"W:\\My Documents\\Streams\\Dota 2\\2020-01-20\\wagamamatv\\0000000.mpeg\",\n",
    "    r\"W:\\My Documents\\Streams\\Dota 2\\2020-01-23\\admiralbulldog\\0000000.mpeg\",\n",
    "    r\"W:\\My Documents\\Streams\\Dota 2\\2020-01-23\\beyondthesummit_pt\\0000000.mpeg\",\n",
    "    r\"W:\\My Documents\\Streams\\Dota 2\\2020-01-23\\dota2mc_ru\\0000000.mpeg\",\n",
    "    r\"W:\\My Documents\\Streams\\Dota 2\\2020-01-23\\dreamleague\\0000000.mpeg\",\n",
    "    r\"W:\\My Documents\\Streams\\Dota 2\\2020-01-23\\ggwpsnosite\\0000000.mpeg\",\n",
    "    r\"W:\\My Documents\\Streams\\Dota 2\\2020-01-23\\gorgc\\0000000.mpeg\",\n",
    "    r\"W:\\My Documents\\Streams\\Dota 2\\2020-01-23\\icebergdoto\\0000000.mpeg\",\n",
    "    r\"W:\\My Documents\\Streams\\Dota 2\\2020-01-23\\just_ns\\0000000.mpeg\",\n",
    "    r\"W:\\My Documents\\Streams\\Dota 2\\2020-01-23\\sh4dowehhh\\0000000.mpeg\",\n",
    "    r\"W:\\My Documents\\Streams\\Dota 2\\2020-01-23\\streamsbytempl\\0000000.mpeg\",\n",
    "    r\"W:\\My Documents\\Streams\\Dota 2\\2020-01-24\\admiralbulldog\\0000000.mpeg\",\n",
    "    r\"W:\\My Documents\\Streams\\Dota 2\\2020-01-24\\beyondthesummit_pt\\0000000.mpeg\",\n",
    "    r\"W:\\My Documents\\Streams\\Dota 2\\2020-01-24\\dota2mc_ru\\0000000.mpeg\",\n",
    "    r\"W:\\My Documents\\Streams\\Dota 2\\2020-01-24\\dreamleague\\0000000.mpeg\",\n",
    "    r\"W:\\My Documents\\Streams\\Dota 2\\2020-01-24\\froggedtv\\0000000.mpeg\",\n",
    "    r\"W:\\My Documents\\Streams\\Dota 2\\2020-01-24\\gorgc\\0000000.mpeg\",\n",
    "    r\"W:\\My Documents\\Streams\\Dota 2\\2020-01-24\\icebergdoto\\0000000.mpeg\",\n",
    "    r\"W:\\My Documents\\Streams\\Dota 2\\2020-01-24\\lightfurylf\\0000000.mpeg\",\n",
    "    r\"W:\\My Documents\\Streams\\Dota 2\\2020-01-24\\sh4dowehhh\\0000000.mpeg\",\n",
    "    r\"W:\\My Documents\\Streams\\Dota 2\\2020-01-24\\singsing\\0000000.mpeg\",\n",
    "    r\"W:\\My Documents\\Streams\\Dota 2\\2020-03-04\\a1taoda\\0000000.mpeg\",\n",
    "    r\"W:\\My Documents\\Streams\\Dota 2\\2020-03-04\\beyondthesummit\\0000000.mpeg\",\n",
    "    r\"W:\\My Documents\\Streams\\Dota 2\\2020-03-04\\dendi\\0000000.mpeg\",\n",
    "    r\"W:\\My Documents\\Streams\\Dota 2\\2020-03-04\\dota2ruhub2\\0000000.mpeg\",\n",
    "    r\"W:\\My Documents\\Streams\\Dota 2\\2020-03-04\\dreadztv\\0000000.mpeg\",\n",
    "    r\"W:\\My Documents\\Streams\\Dota 2\\2020-03-04\\gorgc\\0000000.mpeg\",\n",
    "    r\"W:\\My Documents\\Streams\\Dota 2\\2020-03-04\\illidanstr\\0000000.mpeg\",\n",
    "    r\"W:\\My Documents\\Streams\\Dota 2\\2020-03-04\\just_ns\\0000000.mpeg\",\n",
    "    r\"W:\\My Documents\\Streams\\Dota 2\\2020-03-04\\uccleague4\\0000000.mpeg\",\n",
    "    r\"W:\\My Documents\\Streams\\Dota 2\\2020-03-04\\zai\\0000000.mpeg\",\n",
    "    r\"W:\\My Documents\\Streams\\Dota 2\\2020-03-06\\alohadancetv\\0000000.mpeg\",\n",
    "    r\"W:\\My Documents\\Streams\\Dota 2\\2020-03-06\\dotastarladder_en\\0000000.mpeg\",\n",
    "    r\"W:\\My Documents\\Streams\\Dota 2\\2020-03-06\\gorgc\\0000000.mpeg\",\n",
    "    r\"W:\\My Documents\\Streams\\Dota 2\\2020-03-06\\icebergdoto\\0000000.mpeg\",\n",
    "    r\"W:\\My Documents\\Streams\\Dota 2\\2020-03-06\\lightfurylf\\0000000.mpeg\",\n",
    "    r\"W:\\My Documents\\Streams\\Dota 2\\2020-03-06\\noctisak47\\0000000.mpeg\",\n",
    "    r\"W:\\My Documents\\Streams\\Dota 2\\2020-03-06\\sh4dowehhh\\0000000.mpeg\",\n",
    "    r\"W:\\My Documents\\Streams\\Dota 2\\2020-03-06\\sinner666\\0000000.mpeg\",\n",
    "    r\"W:\\My Documents\\Streams\\Dota 2\\2020-03-06\\starladder1\\0000000.mpeg\",\n",
    "    r\"W:\\My Documents\\Streams\\Dota 2\\2020-03-06\\tpabomah\\0000000.mpeg\",\n",
    "]\n",
    "def fn(s):\n",
    "    print(s)\n",
    "    video = cv2.VideoCapture(s)\n",
    "    _, image = video.read()\n",
    "    video.release()\n",
    "    return image\n",
    "images = list(map(fn, l))"
   ]
  },
  {
   "cell_type": "code",
   "execution_count": null,
   "metadata": {},
   "outputs": [],
   "source": [
    "import math\n",
    "aspect_ratio = 4/3\n",
    "def compose_image(images):\n",
    "    n = len(images)\n",
    "    height, width, *_ = images[0].shape\n",
    "    s = int(math.sqrt(aspect_ratio * height * width * n) / width)\n",
    "    l = sorted((n % i, i) for i in range(max(1, 4*s//5), 4*s//3+1))\n",
    "    print(height, width, s, l)\n",
    "    ncolumns = l[-1][1] #if l[0][0] else l[0][1]\n",
    "    g = [iter(images)] * ncolumns\n",
    "    g = it.zip_longest(*g, fillvalue=np.zeros_like(images[0]))\n",
    "    return np.vstack([np.hstack(g) for g in g])\n",
    "def fn(image, file_path):\n",
    "    file_path = os.path.dirname(file_path)\n",
    "    file_path, name = os.path.split(file_path)\n",
    "    file_path, date = os.path.split(file_path)\n",
    "    name = f'{date} {name}'\n",
    "    image = cv2.putText(image, name, (55, 33), cv2.FONT_HERSHEY_PLAIN, 2, (255, 255, 255), 5)\n",
    "    image = cv2.putText(image, name, (55, 33), cv2.FONT_HERSHEY_PLAIN, 2, (0, 0, 0), 2)\n",
    "    return image\n",
    "cv2.imwrite('data.png', compose_image(list(map(fn, images, l))))"
   ]
  },
  {
   "cell_type": "code",
   "execution_count": null,
   "metadata": {},
   "outputs": [],
   "source": [
    "def fn(s):\n",
    "    print(s)\n",
    "    video = cv2.VideoCapture(s)\n",
    "    _, image = video.read()\n",
    "    video.release()\n",
    "    return image\n",
    "images = list(map(fn, l))\n",
    "top = r\"W:\\My Documents\\Streams\\Dota 2\"\n",
    "for dir1 in os.listdir(top):\n",
    "    for dir2 in os.listdir(os.path.join(top, dir1)):\n",
    "        path = os.path.join(top, dir1, dir2, '0000000.mpeg')\n",
    "        print(path, os.access(path, os.R_OK))"
   ]
  },
  {
   "cell_type": "code",
   "execution_count": null,
   "metadata": {},
   "outputs": [],
   "source": [
    "top = r\"W:\\My Documents\\Streams\\Dota 2\"\n",
    "paths = [os.path.join(top, dir1, dir2, '0000000.mpeg') for dir1 in os.listdir(top) for dir2 in os.listdir(os.path.join(top, dir1))]\n",
    "paths"
   ]
  }
 ],
 "metadata": {
  "kernelspec": {
   "display_name": "Python 3 (ipykernel)",
   "language": "python",
   "name": "python3"
  },
  "language_info": {
   "codemirror_mode": {
    "name": "ipython",
    "version": 3
   },
   "file_extension": ".py",
   "mimetype": "text/x-python",
   "name": "python",
   "nbconvert_exporter": "python",
   "pygments_lexer": "ipython3",
   "version": "3.10.5"
  }
 },
 "nbformat": 4,
 "nbformat_minor": 2
}

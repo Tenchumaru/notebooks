{
 "cells": [
  {
   "cell_type": "code",
   "execution_count": 1,
   "metadata": {},
   "outputs": [],
   "source": [
    "%matplotlib inline\n",
    "\n",
    "import cv2\n",
    "import functools as ft\n",
    "import hdbscan\n",
    "import itertools as it\n",
    "import json\n",
    "import m3u8\n",
    "import matplotlib.pyplot as plt\n",
    "import mxnet as mx\n",
    "import numpy as np\n",
    "import operator as op\n",
    "import os\n",
    "import pickle\n",
    "import PIL\n",
    "import random\n",
    "import requests\n",
    "import sys\n",
    "import tempfile\n",
    "import threading\n",
    "from captcha.image import ImageCaptcha\n",
    "from collections import deque\n",
    "from datetime import datetime, timedelta, timezone\n",
    "from sklearn.preprocessing import StandardScaler\n",
    "\n",
    "from utilities import *"
   ]
  },
  {
   "cell_type": "code",
   "execution_count": 2,
   "metadata": {},
   "outputs": [
    {
     "name": "stdout",
     "output_type": "stream",
     "text": [
      "True\n",
      "('CAP_PROP_BACKEND', 1900.0)\n",
      "('CAP_PROP_BITRATE', 1476.0)\n",
      "('CAP_PROP_CODEC_PIXEL_FORMAT', 808596553.0)\n",
      "('CAP_PROP_FOURCC', 27.0)\n",
      "('CAP_PROP_FPS', 30.0)\n",
      "('CAP_PROP_FRAME_COUNT', 61.0)\n",
      "('CAP_PROP_FRAME_HEIGHT', 480.0)\n",
      "('CAP_PROP_FRAME_WIDTH', 852.0)\n",
      "('CAP_PROP_POS_AVI_RATIO', 1.1111111111111112e-05)\n",
      "('CAP_PROP_POS_FRAMES', 60.0)\n",
      "('CAP_PROP_POS_MSEC', -22164031.333333336)\n",
      "('CAP_PROP_SAR_DEN', 1.0)\n",
      "('CAP_PROP_SAR_NUM', 1.0)\n",
      "W:\\My Documents\\Streams\\Apex Legends\\480\\2020-05-13\\kingofthehillgg\\0004288.mpeg 2.033333333333333\n",
      "True\n",
      "('CAP_PROP_BACKEND', 1900.0)\n",
      "('CAP_PROP_BITRATE', 1412.0)\n",
      "('CAP_PROP_CODEC_PIXEL_FORMAT', 808596553.0)\n",
      "('CAP_PROP_FOURCC', 27.0)\n",
      "('CAP_PROP_FPS', 30.0)\n",
      "('CAP_PROP_FRAME_COUNT', 61.0)\n",
      "('CAP_PROP_FRAME_HEIGHT', 480.0)\n",
      "('CAP_PROP_FRAME_WIDTH', 852.0)\n",
      "('CAP_PROP_POS_AVI_RATIO', 1.1111111111111112e-05)\n",
      "('CAP_PROP_POS_FRAMES', 60.0)\n",
      "('CAP_PROP_POS_MSEC', -12016031.333333334)\n",
      "('CAP_PROP_SAR_DEN', 1.0)\n",
      "('CAP_PROP_SAR_NUM', 1.0)\n",
      "W:\\My Documents\\Streams\\Apex Legends\\480\\2020-05-13\\milanez\\0004283.mpeg 2.033333333333333\n",
      "True\n",
      "('CAP_PROP_BACKEND', 1900.0)\n",
      "('CAP_PROP_BITRATE', 1618.0)\n",
      "('CAP_PROP_CODEC_PIXEL_FORMAT', 808596553.0)\n",
      "('CAP_PROP_FOURCC', 27.0)\n",
      "('CAP_PROP_FPS', 2000.0)\n",
      "('CAP_PROP_FRAME_COUNT', 4001.0)\n",
      "('CAP_PROP_FRAME_HEIGHT', 480.0)\n",
      "('CAP_PROP_FRAME_WIDTH', 852.0)\n",
      "('CAP_PROP_POS_AVI_RATIO', 1.1111111111111112e-05)\n",
      "('CAP_PROP_POS_FRAMES', 2.049638230219132e+17)\n",
      "('CAP_PROP_POS_MSEC', -9651970.555555556)\n",
      "('CAP_PROP_SAR_DEN', 1.0)\n",
      "W:\\My Documents\\Streams\\Apex Legends\\480\\2020-05-13\\staycationtg\\0004290.mpeg 2.0005\n",
      "True\n",
      "('CAP_PROP_BACKEND', 1900.0)\n",
      "('CAP_PROP_BITRATE', 1429.0)\n",
      "('CAP_PROP_CODEC_PIXEL_FORMAT', 808596553.0)\n",
      "('CAP_PROP_FOURCC', 27.0)\n",
      "('CAP_PROP_FPS', 30.0)\n",
      "('CAP_PROP_FRAME_COUNT', 125.0)\n",
      "('CAP_PROP_FRAME_HEIGHT', 480.0)\n",
      "('CAP_PROP_FRAME_WIDTH', 852.0)\n",
      "('CAP_PROP_POS_AVI_RATIO', 1.1111111111111112e-05)\n",
      "('CAP_PROP_POS_FRAMES', 124.0)\n",
      "('CAP_PROP_POS_MSEC', -15887130.622222222)\n",
      "('CAP_PROP_SAR_DEN', 1.0)\n",
      "('CAP_PROP_SAR_NUM', 1.0)\n",
      "W:\\My Documents\\Streams\\Apex Legends\\480\\2020-05-13\\tafytv\\0002060.mpeg 4.166666666666667\n"
     ]
    }
   ],
   "source": [
    "root_directory_path = r\"W:\\My Documents\\Streams\\Apex Legends\\480\\2020-05-13\"\n",
    "for  directory_path, _, file_names in os.walk(root_directory_path):\n",
    "    file_paths = [os.path.join(directory_path, s) for s in file_names if s.endswith('.mpeg')]\n",
    "    if len(file_paths) == 0:\n",
    "        continue\n",
    "    file_path = file_paths[0]\n",
    "    video = cv2.VideoCapture(file_path)\n",
    "    #_, frame = video.read()\n",
    "    #print(*[s for s in dir(cv2) if s.startswith('CAP_PROP_')], sep='\\n')\n",
    "    def fn():\n",
    "        g = (s for s in dir(cv2) if s.startswith('CAP_PROP_'))\n",
    "        g = ((s, video.get(getattr(cv2, s))) for s in g)\n",
    "        g = ((s, v) for s, v in g if v)\n",
    "        return g\n",
    "    #print(*fn(), sep='\\n')\n",
    "    print(video.set(cv2.CAP_PROP_POS_FRAMES, video.get(cv2.CAP_PROP_FRAME_COUNT) - 1))\n",
    "    print(*fn(), sep='\\n')\n",
    "    print(file_path, video.get(cv2.CAP_PROP_FRAME_COUNT) / video.get(cv2.CAP_PROP_FPS))\n",
    "    video.release()"
   ]
  },
  {
   "cell_type": "code",
   "execution_count": 3,
   "metadata": {},
   "outputs": [
    {
     "data": {
      "text/plain": [
       "[('vs',\n",
       "  'extracting',\n",
       "  (1600, numpy.ndarray, (1, 16, 120), dtype('float32'), 0.0, 1.0),\n",
       "  (1600, numpy.ndarray, (19,), dtype('int32'), -1, 19),\n",
       "  (1600, numpy.ndarray, (1, 16, 120), dtype('float32'), 0.0, 1.0),\n",
       "  (1600, numpy.ndarray, (19,), dtype('int32'), -1, 25))]"
      ]
     },
     "execution_count": 3,
     "metadata": {},
     "output_type": "execute_result"
    }
   ],
   "source": [
    "def fn(file_title):\n",
    "    with open(fr'D:\\{file_title}.pickle', 'rb') as fin:\n",
    "        generator_name = pickle.load(fin)\n",
    "        validation_images, validation_labels = pickle.load(fin)\n",
    "        test_images, test_labels = pickle.load(fin)\n",
    "    def fn(l):\n",
    "        a = l[0]\n",
    "        if hasattr(a, 'asnumpy'):\n",
    "            a = a.asnumpy()\n",
    "        return len(l), type(l[0]), l[0].shape, l[0].dtype, l[0].min(), l[0].max()\n",
    "    return file_title, generator_name, fn(validation_images), fn(validation_labels), fn(test_images), fn(test_labels)\n",
    "#list(map(fn, ['vs', 'extracting-greyscale', 'complex-color', 'complex-greyscale', 'simple-color', 'simple-greyscale']))\n",
    "list(map(fn, ['vs']))"
   ]
  },
  {
   "cell_type": "code",
   "execution_count": 2,
   "metadata": {},
   "outputs": [],
   "source": [
    "with open(r'D:\\extracting-greyscale.pickle', 'rb') as fin:\n",
    "     images, labels = pickle.load(fin)"
   ]
  },
  {
   "cell_type": "code",
   "execution_count": 13,
   "metadata": {},
   "outputs": [],
   "source": [
    "g = (i.asnumpy().transpose((1, 2, 0)) for i in images)\n",
    "for g in grouper(g, 160):\n",
    "    show_and_wait(np.vstack([np.hstack(list(g)) for g in grouper(g, 4)]))\n",
    "cv2.destroyAllWindows()"
   ]
  },
  {
   "cell_type": "code",
   "execution_count": 6,
   "metadata": {},
   "outputs": [
    {
     "data": {
      "text/plain": [
       "[('extracting-greyscale',\n",
       "  (1600, mxnet.ndarray.ndarray.NDArray, (1, 16, 120), numpy.float32, 0.0, 1.0),\n",
       "  (1600, mxnet.ndarray.ndarray.NDArray, (19,), numpy.float32, -1.0, 20.0)),\n",
       " ('complex-color',\n",
       "  (1600, mxnet.ndarray.ndarray.NDArray, (3, 16, 120), numpy.float32, 0.0, 1.0),\n",
       "  (1600, mxnet.ndarray.ndarray.NDArray, (19,), numpy.float32, -1.0, 14.0)),\n",
       " ('complex-greyscale',\n",
       "  (1600,\n",
       "   mxnet.ndarray.ndarray.NDArray,\n",
       "   (1, 16, 120),\n",
       "   numpy.float32,\n",
       "   0.003921569,\n",
       "   1.0),\n",
       "  (1600, mxnet.ndarray.ndarray.NDArray, (19,), numpy.float32, -1.0, 19.0)),\n",
       " ('simple-color',\n",
       "  (1600,\n",
       "   mxnet.ndarray.ndarray.NDArray,\n",
       "   (3, 16, 120),\n",
       "   numpy.float32,\n",
       "   0.0,\n",
       "   0.9607843),\n",
       "  (1600, mxnet.ndarray.ndarray.NDArray, (19,), numpy.float32, -1.0, 21.0)),\n",
       " ('simple-greyscale',\n",
       "  (1600,\n",
       "   mxnet.ndarray.ndarray.NDArray,\n",
       "   (1, 16, 120),\n",
       "   numpy.float32,\n",
       "   0.0,\n",
       "   0.80784315),\n",
       "  (1600, mxnet.ndarray.ndarray.NDArray, (19,), numpy.float32, -1.0, 9.0))]"
      ]
     },
     "execution_count": 6,
     "metadata": {},
     "output_type": "execute_result"
    }
   ],
   "source": [
    "def fn(file_title):\n",
    "    with open(fr'D:\\{file_title}.pickle', 'rb') as fin:\n",
    "         images, labels = pickle.load(fin)\n",
    "    def fn(l):\n",
    "        return len(l), type(l[0]), l[0].shape, l[0].dtype, l[0].asnumpy().min(), l[0].asnumpy().max()\n",
    "    return file_title, fn(images), fn(labels)\n",
    "list(map(fn, ['extracting-greyscale', 'complex-color', 'complex-greyscale', 'simple-color', 'simple-greyscale']))"
   ]
  },
  {
   "cell_type": "code",
   "execution_count": 19,
   "metadata": {},
   "outputs": [],
   "source": [
    "g = (i.asnumpy().squeeze(axis=0) * 255 for i in images)\n",
    "image = np.vstack([np.hstack(list(g)) for g in grouper(g, 20)]).astype(np.uint8)\n",
    "show_and_wait(image)\n",
    "cv2.destroyAllWindows()"
   ]
  },
  {
   "cell_type": "code",
   "execution_count": 20,
   "metadata": {},
   "outputs": [
    {
     "data": {
      "text/plain": [
       "True"
      ]
     },
     "execution_count": 20,
     "metadata": {},
     "output_type": "execute_result"
    }
   ],
   "source": [
    "cv2.imwrite(r'D:\\validation.png', image)"
   ]
  },
  {
   "cell_type": "code",
   "execution_count": 21,
   "metadata": {},
   "outputs": [],
   "source": [
    "image = cv2.imread(r'D:\\validation.png')\n",
    "show_and_wait(image)\n",
    "cv2.destroyAllWindows()"
   ]
  },
  {
   "cell_type": "code",
   "execution_count": 37,
   "metadata": {},
   "outputs": [],
   "source": [
    "l = [\n",
    "    'ancient_apparition',\n",
    "    'anti-mage',\n",
    "    'broodmother',\n",
    "    'centaur_warrunner',\n",
    "    'clinkz',\n",
    "    'io',\n",
    "    'juggernaut',\n",
    "    'keeper_of_the_light',\n",
    "    \"nature's_prophet\",\n",
    "    'nyx_assassin',\n",
    "    'outworld_devourer',\n",
    "    'queen_of_pain',\n",
    "]\n",
    "l = [cv2.VideoCapture(fr'D:\\Dota 2\\Heroes\\Videos\\{s}.mp4') for s in l]"
   ]
  },
  {
   "cell_type": "code",
   "execution_count": 38,
   "metadata": {},
   "outputs": [
    {
     "data": {
      "text/plain": [
       "[(cv2.VideoCapture, 23400),\n",
       " (cv2.VideoCapture, 26970),\n",
       " (cv2.VideoCapture, 27030),\n",
       " (cv2.VideoCapture, 25110),\n",
       " (cv2.VideoCapture, 27030),\n",
       " (cv2.VideoCapture, 28920),\n",
       " (cv2.VideoCapture, 26730),\n",
       " (cv2.VideoCapture, 13020),\n",
       " (cv2.VideoCapture, 25500),\n",
       " (cv2.VideoCapture, 27000),\n",
       " (cv2.VideoCapture, 26430),\n",
       " (cv2.VideoCapture, 25830)]"
      ]
     },
     "execution_count": 38,
     "metadata": {},
     "output_type": "execute_result"
    }
   ],
   "source": [
    "[(type(video), int(video.get(cv2.CAP_PROP_FRAME_COUNT))) for video in l]"
   ]
  },
  {
   "cell_type": "code",
   "execution_count": 39,
   "metadata": {},
   "outputs": [
    {
     "data": {
      "text/plain": [
       "[(cv2.VideoCapture, 1),\n",
       " (cv2.VideoCapture, 1),\n",
       " (cv2.VideoCapture, 1),\n",
       " (cv2.VideoCapture, 1),\n",
       " (cv2.VideoCapture, 1),\n",
       " (cv2.VideoCapture, 1),\n",
       " (cv2.VideoCapture, 1),\n",
       " (cv2.VideoCapture, 1),\n",
       " (cv2.VideoCapture, 1),\n",
       " (cv2.VideoCapture, 1),\n",
       " (cv2.VideoCapture, 1),\n",
       " (cv2.VideoCapture, 1)]"
      ]
     },
     "execution_count": 39,
     "metadata": {},
     "output_type": "execute_result"
    }
   ],
   "source": [
    "[(type(video), int(video.set(cv2.CAP_PROP_POS_FRAMES, 9999))) for video in l]"
   ]
  },
  {
   "cell_type": "code",
   "execution_count": 40,
   "metadata": {},
   "outputs": [
    {
     "data": {
      "text/plain": [
       "[None, None, None, None, None, None, None, None, None, None, None, None]"
      ]
     },
     "execution_count": 40,
     "metadata": {},
     "output_type": "execute_result"
    }
   ],
   "source": [
    "[video.read() and None for video in l]"
   ]
  },
  {
   "cell_type": "code",
   "execution_count": 42,
   "metadata": {},
   "outputs": [
    {
     "data": {
      "text/plain": [
       "[None, None, None, None, None, None, None, None, None, None, None, None]"
      ]
     },
     "execution_count": 42,
     "metadata": {},
     "output_type": "execute_result"
    }
   ],
   "source": [
    "[video.release() for video in l]"
   ]
  },
  {
   "cell_type": "code",
   "execution_count": null,
   "metadata": {},
   "outputs": [],
   "source": [
    "def fn():\n",
    "    image = 255 * np.ones((60, 800, 3))\n",
    "    image = image.astype(np.uint8)\n",
    "    text = ''.join(' ' if random.random() < .2 else chr(random.randint(ord('A'), ord('Z'))) for _ in range(60))\n",
    "    image = cv2.putText(image, text, (random.randint(0, 66), 33), cv2.FONT_HERSHEY_PLAIN, 1, (0, 0, 0), thickness=1, lineType=cv2.LINE_AA)\n",
    "    return image\n",
    "show_and_wait(np.vstack([fn() for _ in range(5)]))\n",
    "cv2.destroyAllWindows()"
   ]
  },
  {
   "cell_type": "code",
   "execution_count": null,
   "metadata": {},
   "outputs": [],
   "source": [
    "captcha = ImageCaptcha(fonts=[r'\\Windows\\Fonts\\Arial.ttf'])\n",
    "image = cv2.cvtColor(np.array(captcha.generate_image('FACE')), cv2.COLOR_RGB2GRAY)\n",
    "#image = np.frombuffer(captcha.generate('AbC').getvalue(), dtype='uint8')\n",
    "#print(image.shape)\n",
    "#image = cv2.imdecode(image, cv2.IMREAD_GRAYSCALE)\n",
    "#image = cv2.resize(image, (200, 50))\n",
    "print(image.shape)\n",
    "show_and_wait(image)\n",
    "cv2.imwrite(r'C:\\Users\\cidzerda\\Documents\\GitHub\\ctc\\alphabetic.png', image)\n",
    "cv2.destroyAllWindows()"
   ]
  },
  {
   "cell_type": "code",
   "execution_count": null,
   "metadata": {},
   "outputs": [],
   "source": [
    "l = [s for s in dir(cv2) if s.startswith('FONT_')]\n",
    "for s in l:\n",
    "    image = cv2.imread(r\"C:\\Users\\cidzerda\\Pictures\\1.png\")\n",
    "    #help(cv2.putText)\n",
    "    cv2.putText(image, 'INURE', (5, 95), getattr(cv2, s), 2, (255, 255, 255))\n",
    "    show_and_wait(image)\n",
    "cv2.destroyAllWindows()\n",
    "print(image.shape)"
   ]
  },
  {
   "cell_type": "code",
   "execution_count": null,
   "metadata": {},
   "outputs": [],
   "source": [
    "class Processor:\n",
    "    def __init__(self, channel_name, stream):\n",
    "        self.__channel_name = channel_name\n",
    "        self.__delay = 0\n",
    "        self.__stream = stream\n",
    "\n",
    "    def __lt__(self, other):\n",
    "        return self.__delay < other.__delay\n",
    "\n",
    "    def __str__(self):\n",
    "        return '{} {}'.format(self.__channel_name, self.__delay)\n",
    "\n",
    "    def __sub__(self, delay):\n",
    "        self.__delay -= delay\n",
    "        return self\n",
    "\n",
    "a = Processor('a', None)\n",
    "b = Processor('b', None)\n",
    "print(np.argmin([a, b]))\n",
    "print(min([a, b]))\n",
    "print(a - 5)"
   ]
  },
  {
   "cell_type": "code",
   "execution_count": null,
   "metadata": {},
   "outputs": [],
   "source": [
    "video = cv2.VideoCapture(r\"C:\\Users\\cidzerda\\Documents\\GitHub\\strevr-dota-2\\sides\\Dota 2.mp4\")\n",
    "print(video.get(cv2.CAP_PROP_POS_MSEC), video.get(cv2.CAP_PROP_POS_FRAMES), cv2.CAP_MSMF)\n",
    "for _ in range(5):\n",
    "    _, frame = video.read()\n",
    "    print(_, video.get(cv2.CAP_PROP_POS_MSEC), video.get(cv2.CAP_PROP_POS_FRAMES))\n",
    "video.release()"
   ]
  },
  {
   "cell_type": "code",
   "execution_count": null,
   "metadata": {},
   "outputs": [],
   "source": [
    "import math\n",
    "from collections import Counter, defaultdict\n",
    "with open(r\"C:\\Users\\cidzerda\\Documents\\GitHub\\strevr-dota-2\\sides\\Dota 2.txt\") as fin:\n",
    "    labels = [c for c in fin.read() if 'a' <= c <= 'z']\n",
    "with open(r\"C:\\Users\\cidzerda\\Documents\\GitHub\\strevr-dota-2\\sides\\Dota 2.pickle\", 'rb') as fin:\n",
    "    images = [pickle.load(fin) for _ in labels]\n",
    "def fn(ch):\n",
    "    g = zip(images, labels)\n",
    "    l = [image for image, label in g if label == ch]\n",
    "    n = math.floor(math.sqrt(len(l)))\n",
    "    del l[n * n:]\n",
    "    l = [iter(l)] * n\n",
    "    l = list(zip(*l))\n",
    "    l = np.vstack([np.hstack(l) for l in l])\n",
    "    return l\n",
    "d = Counter(labels)\n",
    "for c in d:\n",
    "    print(c)\n",
    "    show_and_wait(fn(c))\n",
    "cv2.destroyAllWindows()"
   ]
  },
  {
   "cell_type": "code",
   "execution_count": null,
   "metadata": {},
   "outputs": [],
   "source": [
    "l = [\n",
    "    r\"W:\\My Documents\\Streams\\Dota 2\\2020-01-15\\grandgrant\\0000000.mpeg\",\n",
    "    r\"W:\\My Documents\\Streams\\Dota 2\\2020-01-15\\justcooman\\0000000.mpeg\",\n",
    "    r\"W:\\My Documents\\Streams\\Dota 2\\2020-01-15\\stray228\\0000000.mpeg\",\n",
    "    r\"W:\\My Documents\\Streams\\Dota 2\\2020-01-15\\uccleague4\\0000000.mpeg\",\n",
    "    r\"W:\\My Documents\\Streams\\Dota 2\\2020-01-15\\ybicanoooobov\\0000000.mpeg\",\n",
    "    r\"W:\\My Documents\\Streams\\Dota 2\\2020-01-16\\daxak\\0000000.mpeg\",\n",
    "    r\"W:\\My Documents\\Streams\\Dota 2\\2020-01-16\\gorgc\\0000000.mpeg\",\n",
    "    r\"W:\\My Documents\\Streams\\Dota 2\\2020-01-16\\moonstudio_ru\\0000000.mpeg\",\n",
    "    r\"W:\\My Documents\\Streams\\Dota 2\\2020-01-16\\singsing\\0000000.mpeg\",\n",
    "    r\"W:\\My Documents\\Streams\\Dota 2\\2020-01-16\\uccleague4\\0000000.mpeg\",\n",
    "    r\"W:\\My Documents\\Streams\\Dota 2\\2020-01-17\\cartmanzbs\\0000000.mpeg\",\n",
    "    r\"W:\\My Documents\\Streams\\Dota 2\\2020-01-17\\gibkiydota\\0000000.mpeg\",\n",
    "    r\"W:\\My Documents\\Streams\\Dota 2\\2020-01-17\\gorgc\\0000000.mpeg\",\n",
    "    r\"W:\\My Documents\\Streams\\Dota 2\\2020-01-17\\illidanstr\\0000000.mpeg\",\n",
    "    r\"W:\\My Documents\\Streams\\Dota 2\\2020-01-17\\noctisak47\\0000000.mpeg\",\n",
    "    r\"W:\\My Documents\\Streams\\Dota 2\\2020-01-17\\sh4dowehhh\\0000000.mpeg\",\n",
    "    r\"W:\\My Documents\\Streams\\Dota 2\\2020-01-17\\stray228\\0000000.mpeg\",\n",
    "    r\"W:\\My Documents\\Streams\\Dota 2\\2020-01-17\\streamsbytempl\\0000000.mpeg\",\n",
    "    r\"W:\\My Documents\\Streams\\Dota 2\\2020-01-17\\uccleague4\\0000000.mpeg\",\n",
    "    r\"W:\\My Documents\\Streams\\Dota 2\\2020-01-17\\uccleague5\\0000000.mpeg\",\n",
    "    r\"W:\\My Documents\\Streams\\Dota 2\\2020-01-19\\admiralbulldog\\0000000.mpeg\",\n",
    "    r\"W:\\My Documents\\Streams\\Dota 2\\2020-01-19\\dota2mc_ru\\0000000.mpeg\",\n",
    "    r\"W:\\My Documents\\Streams\\Dota 2\\2020-01-19\\dota2mc_ru2\\0000000.mpeg\",\n",
    "    r\"W:\\My Documents\\Streams\\Dota 2\\2020-01-19\\dota2mc_ru3\\0000000.mpeg\",\n",
    "    r\"W:\\My Documents\\Streams\\Dota 2\\2020-01-19\\dota2mc_ru4\\0000000.mpeg\",\n",
    "    r\"W:\\My Documents\\Streams\\Dota 2\\2020-01-19\\dreamleague\\0000000.mpeg\",\n",
    "    r\"W:\\My Documents\\Streams\\Dota 2\\2020-01-19\\dreamleague2\\0000000.mpeg\",\n",
    "    r\"W:\\My Documents\\Streams\\Dota 2\\2020-01-19\\dreamleague4\\0000000.mpeg\",\n",
    "    r\"W:\\My Documents\\Streams\\Dota 2\\2020-01-19\\icebergdoto\\0000000.mpeg\",\n",
    "    r\"W:\\My Documents\\Streams\\Dota 2\\2020-01-19\\sh4dowehhh\\0000000.mpeg\",\n",
    "    r\"W:\\My Documents\\Streams\\Dota 2\\2020-01-20\\botanicx\\0000000.mpeg\",\n",
    "    r\"W:\\My Documents\\Streams\\Dota 2\\2020-01-20\\dreamleague\\0000000.mpeg\",\n",
    "    r\"W:\\My Documents\\Streams\\Dota 2\\2020-01-20\\ftmawf\\0000000.mpeg\",\n",
    "    r\"W:\\My Documents\\Streams\\Dota 2\\2020-01-20\\gorgc\\0000000.mpeg\",\n",
    "    r\"W:\\My Documents\\Streams\\Dota 2\\2020-01-20\\serega_pirat\\0000000.mpeg\",\n",
    "    r\"W:\\My Documents\\Streams\\Dota 2\\2020-01-20\\stray228\\0000000.mpeg\",\n",
    "    r\"W:\\My Documents\\Streams\\Dota 2\\2020-01-20\\synderen\\0000000.mpeg\",\n",
    "    r\"W:\\My Documents\\Streams\\Dota 2\\2020-01-20\\uccleague4\\0000000.mpeg\",\n",
    "    r\"W:\\My Documents\\Streams\\Dota 2\\2020-01-20\\uccleague5\\0000000.mpeg\",\n",
    "    r\"W:\\My Documents\\Streams\\Dota 2\\2020-01-20\\wagamamatv\\0000000.mpeg\",\n",
    "    r\"W:\\My Documents\\Streams\\Dota 2\\2020-01-23\\admiralbulldog\\0000000.mpeg\",\n",
    "    r\"W:\\My Documents\\Streams\\Dota 2\\2020-01-23\\beyondthesummit_pt\\0000000.mpeg\",\n",
    "    r\"W:\\My Documents\\Streams\\Dota 2\\2020-01-23\\dota2mc_ru\\0000000.mpeg\",\n",
    "    r\"W:\\My Documents\\Streams\\Dota 2\\2020-01-23\\dreamleague\\0000000.mpeg\",\n",
    "    r\"W:\\My Documents\\Streams\\Dota 2\\2020-01-23\\ggwpsnosite\\0000000.mpeg\",\n",
    "    r\"W:\\My Documents\\Streams\\Dota 2\\2020-01-23\\gorgc\\0000000.mpeg\",\n",
    "    r\"W:\\My Documents\\Streams\\Dota 2\\2020-01-23\\icebergdoto\\0000000.mpeg\",\n",
    "    r\"W:\\My Documents\\Streams\\Dota 2\\2020-01-23\\just_ns\\0000000.mpeg\",\n",
    "    r\"W:\\My Documents\\Streams\\Dota 2\\2020-01-23\\sh4dowehhh\\0000000.mpeg\",\n",
    "    r\"W:\\My Documents\\Streams\\Dota 2\\2020-01-23\\streamsbytempl\\0000000.mpeg\",\n",
    "    r\"W:\\My Documents\\Streams\\Dota 2\\2020-01-24\\admiralbulldog\\0000000.mpeg\",\n",
    "    r\"W:\\My Documents\\Streams\\Dota 2\\2020-01-24\\beyondthesummit_pt\\0000000.mpeg\",\n",
    "    r\"W:\\My Documents\\Streams\\Dota 2\\2020-01-24\\dota2mc_ru\\0000000.mpeg\",\n",
    "    r\"W:\\My Documents\\Streams\\Dota 2\\2020-01-24\\dreamleague\\0000000.mpeg\",\n",
    "    r\"W:\\My Documents\\Streams\\Dota 2\\2020-01-24\\froggedtv\\0000000.mpeg\",\n",
    "    r\"W:\\My Documents\\Streams\\Dota 2\\2020-01-24\\gorgc\\0000000.mpeg\",\n",
    "    r\"W:\\My Documents\\Streams\\Dota 2\\2020-01-24\\icebergdoto\\0000000.mpeg\",\n",
    "    r\"W:\\My Documents\\Streams\\Dota 2\\2020-01-24\\lightfurylf\\0000000.mpeg\",\n",
    "    r\"W:\\My Documents\\Streams\\Dota 2\\2020-01-24\\sh4dowehhh\\0000000.mpeg\",\n",
    "    r\"W:\\My Documents\\Streams\\Dota 2\\2020-01-24\\singsing\\0000000.mpeg\",\n",
    "    r\"W:\\My Documents\\Streams\\Dota 2\\2020-03-04\\a1taoda\\0000000.mpeg\",\n",
    "    r\"W:\\My Documents\\Streams\\Dota 2\\2020-03-04\\beyondthesummit\\0000000.mpeg\",\n",
    "    r\"W:\\My Documents\\Streams\\Dota 2\\2020-03-04\\dendi\\0000000.mpeg\",\n",
    "    r\"W:\\My Documents\\Streams\\Dota 2\\2020-03-04\\dota2ruhub2\\0000000.mpeg\",\n",
    "    r\"W:\\My Documents\\Streams\\Dota 2\\2020-03-04\\dreadztv\\0000000.mpeg\",\n",
    "    r\"W:\\My Documents\\Streams\\Dota 2\\2020-03-04\\gorgc\\0000000.mpeg\",\n",
    "    r\"W:\\My Documents\\Streams\\Dota 2\\2020-03-04\\illidanstr\\0000000.mpeg\",\n",
    "    r\"W:\\My Documents\\Streams\\Dota 2\\2020-03-04\\just_ns\\0000000.mpeg\",\n",
    "    r\"W:\\My Documents\\Streams\\Dota 2\\2020-03-04\\uccleague4\\0000000.mpeg\",\n",
    "    r\"W:\\My Documents\\Streams\\Dota 2\\2020-03-04\\zai\\0000000.mpeg\",\n",
    "    r\"W:\\My Documents\\Streams\\Dota 2\\2020-03-06\\alohadancetv\\0000000.mpeg\",\n",
    "    r\"W:\\My Documents\\Streams\\Dota 2\\2020-03-06\\dotastarladder_en\\0000000.mpeg\",\n",
    "    r\"W:\\My Documents\\Streams\\Dota 2\\2020-03-06\\gorgc\\0000000.mpeg\",\n",
    "    r\"W:\\My Documents\\Streams\\Dota 2\\2020-03-06\\icebergdoto\\0000000.mpeg\",\n",
    "    r\"W:\\My Documents\\Streams\\Dota 2\\2020-03-06\\lightfurylf\\0000000.mpeg\",\n",
    "    r\"W:\\My Documents\\Streams\\Dota 2\\2020-03-06\\noctisak47\\0000000.mpeg\",\n",
    "    r\"W:\\My Documents\\Streams\\Dota 2\\2020-03-06\\sh4dowehhh\\0000000.mpeg\",\n",
    "    r\"W:\\My Documents\\Streams\\Dota 2\\2020-03-06\\sinner666\\0000000.mpeg\",\n",
    "    r\"W:\\My Documents\\Streams\\Dota 2\\2020-03-06\\starladder1\\0000000.mpeg\",\n",
    "    r\"W:\\My Documents\\Streams\\Dota 2\\2020-03-06\\tpabomah\\0000000.mpeg\",\n",
    "]\n",
    "def fn(s):\n",
    "    print(s)\n",
    "    video = cv2.VideoCapture(s)\n",
    "    _, image = video.read()\n",
    "    video.release()\n",
    "    return image\n",
    "images = list(map(fn, l))"
   ]
  },
  {
   "cell_type": "code",
   "execution_count": null,
   "metadata": {},
   "outputs": [],
   "source": [
    "import math\n",
    "aspect_ratio = 4/3\n",
    "def compose_image(images):\n",
    "    n = len(images)\n",
    "    height, width, *_ = images[0].shape\n",
    "    s = int(math.sqrt(aspect_ratio * height * width * n) / width)\n",
    "    l = sorted((n % i, i) for i in range(max(1, 4*s//5), 4*s//3+1))\n",
    "    print(height, width, s, l)\n",
    "    ncolumns = l[-1][1] #if l[0][0] else l[0][1]\n",
    "    g = [iter(images)] * ncolumns\n",
    "    g = it.zip_longest(*g, fillvalue=np.zeros_like(images[0]))\n",
    "    return np.vstack([np.hstack(g) for g in g])\n",
    "def fn(image, file_path):\n",
    "    file_path = os.path.dirname(file_path)\n",
    "    file_path, name = os.path.split(file_path)\n",
    "    file_path, date = os.path.split(file_path)\n",
    "    name = f'{date} {name}'\n",
    "    image = cv2.putText(image, name, (55, 33), cv2.FONT_HERSHEY_PLAIN, 2, (255, 255, 255), 5)\n",
    "    image = cv2.putText(image, name, (55, 33), cv2.FONT_HERSHEY_PLAIN, 2, (0, 0, 0), 2)\n",
    "    return image\n",
    "cv2.imwrite('data.png', compose_image(list(map(fn, images, l))))"
   ]
  },
  {
   "cell_type": "code",
   "execution_count": null,
   "metadata": {},
   "outputs": [],
   "source": [
    "def fn(s):\n",
    "    print(s)\n",
    "    video = cv2.VideoCapture(s)\n",
    "    _, image = video.read()\n",
    "    video.release()\n",
    "    return image\n",
    "images = list(map(fn, l))\n",
    "top = r\"W:\\My Documents\\Streams\\Dota 2\"\n",
    "for dir1 in os.listdir(top):\n",
    "    for dir2 in os.listdir(os.path.join(top, dir1)):\n",
    "        path = os.path.join(top, dir1, dir2, '0000000.mpeg')\n",
    "        print(path, os.access(path, os.R_OK))"
   ]
  },
  {
   "cell_type": "code",
   "execution_count": null,
   "metadata": {},
   "outputs": [],
   "source": [
    "top = r\"W:\\My Documents\\Streams\\Dota 2\"\n",
    "paths = [os.path.join(top, dir1, dir2, '0000000.mpeg') for dir1 in os.listdir(top) for dir2 in os.listdir(os.path.join(top, dir1))]\n",
    "paths"
   ]
  }
 ],
 "metadata": {
  "kernelspec": {
   "display_name": "Python 3",
   "language": "python",
   "name": "python3"
  },
  "language_info": {
   "codemirror_mode": {
    "name": "ipython",
    "version": 3
   },
   "file_extension": ".py",
   "mimetype": "text/x-python",
   "name": "python",
   "nbconvert_exporter": "python",
   "pygments_lexer": "ipython3",
   "version": "3.7.8"
  }
 },
 "nbformat": 4,
 "nbformat_minor": 2
}

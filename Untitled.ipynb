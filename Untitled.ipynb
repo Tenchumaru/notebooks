{
 "cells": [
  {
   "cell_type": "code",
   "execution_count": 1,
   "metadata": {},
   "outputs": [],
   "source": [
    "%matplotlib inline\n",
    "\n",
    "import cv2\n",
    "import functools as ft\n",
    "import itertools as it\n",
    "import json\n",
    "import matplotlib.pyplot as plt\n",
    "import mxnet as mx\n",
    "import numpy as np\n",
    "import operator as op\n",
    "import os\n",
    "import pickle\n",
    "import random\n",
    "import sys\n",
    "import hdbscan\n",
    "from datetime import datetime, timedelta\n",
    "from sklearn.preprocessing import StandardScaler\n",
    "\n",
    "random.seed(1)\n",
    "np.random.seed(1)\n",
    "mx.random.seed(1)\n",
    "\n",
    "def show_and_wait(frame, title='tesst', wait_time=0):\n",
    "    cv2.imshow(title, frame)\n",
    "    key = cv2.waitKey(wait_time)\n",
    "    return None if key < 0 else chr(key)\n",
    "\n",
    "def read_and_wait(video, title='tesst', wait_time=0):\n",
    "    result, frame = video.read()\n",
    "    if result:\n",
    "        return show_and_wait(frame, title, wait_time)\n",
    "\n",
    "def pairwise(iterable):\n",
    "    \"s -> (s0,s1), (s1,s2), (s2, s3), ...\"\n",
    "    a, b = it.tee(iterable)\n",
    "    next(b, None)\n",
    "    return zip(a, b)\n",
    "\n",
    "def construct_data(file_path, extent, known_file_path=None, known_frame=-1, modify_frame=None):\n",
    "    start_at = datetime.now()\n",
    "    video = cv2.VideoCapture(file_path, cv2.CAP_MSMF)\n",
    "    print(video.get(cv2.CAP_PROP_FRAME_COUNT), video.get(cv2.CAP_PROP_FPS))\n",
    "    n = min(max(1, round(video.get(cv2.CAP_PROP_FRAME_COUNT) / 2000)), 30)\n",
    "    top, left, bottom, right = extent\n",
    "    def fn(frame):\n",
    "        frame = frame[top:bottom, left:right]\n",
    "        return modify_frame(frame) if modify_frame else frame\n",
    "    def yield_frames():\n",
    "        while True:\n",
    "            result, frame = video.read()\n",
    "            if not result:\n",
    "                break\n",
    "            yield frame\n",
    "    frames = [fn(f) for i, f in enumerate(yield_frames()) if i % n == 0]\n",
    "    video.release()\n",
    "\n",
    "    if known_file_path:\n",
    "        # Add a known positive frame.\n",
    "        video = cv2.VideoCapture(known_file_path, cv2.CAP_MSMF)\n",
    "        print(video.get(cv2.CAP_PROP_FRAME_COUNT), video.get(cv2.CAP_PROP_FPS))\n",
    "        print(video.set(cv2.CAP_PROP_POS_FRAMES, video.get(cv2.CAP_PROP_FRAME_COUNT) if known_frame < 0 else known_frame))\n",
    "        _, frame = video.read()\n",
    "        frames.append(fn(frame))\n",
    "        video.release()\n",
    "\n",
    "    data = StandardScaler().fit_transform(np.stack([f.reshape(-1) for f in frames]))\n",
    "    print(data.shape)\n",
    "    print('total time:', (datetime.now() - start_at).total_seconds(), 'seconds')\n",
    "    return frames, data\n",
    "\n",
    "def print_clusters(frames, cluster_labels, has_known_cluster=False):\n",
    "    print('cluster count:', len(np.unique(cluster_labels)))\n",
    "    print(np.unique(cluster_labels))\n",
    "    print(cluster_labels[:22])\n",
    "    print(*enumerate(cluster_labels[:22]))\n",
    "    print(*((k, len(list(v))) for k, v in it.groupby(np.sort(cluster_labels))))\n",
    "    if has_known_cluster:\n",
    "        if cluster_labels[-1] < 0:\n",
    "            print('desired cluster unknown')\n",
    "        else:\n",
    "            print('desired cluster:', cluster_labels[-1])\n",
    "    def fn():\n",
    "        for n in np.unique(cluster_labels):\n",
    "            g = (i for i, j in enumerate(cluster_labels) if j == n)\n",
    "            g = it.islice(g, 5)\n",
    "            stack = [frames[i] for i in g]\n",
    "            yield np.hstack(stack)\n",
    "    plt.imshow(np.vstack(list(fn())).take([2,1,0], axis=2))\n",
    "\n",
    "def predict_cluster_labels(data, min_cluster_size=22):\n",
    "    start_at = datetime.now()\n",
    "    clusterer = hdbscan.HDBSCAN(min_cluster_size=min_cluster_size)\n",
    "    cluster_labels = clusterer.fit_predict(data)\n",
    "    print('total time:', (datetime.now() - start_at).total_seconds(), 'seconds')\n",
    "    return cluster_labels\n",
    "\n",
    "def construct_data(input_file_path, output_file_path, extent, resize_factor=None):\n",
    "    start_at = datetime.now()\n",
    "    video = cv2.VideoCapture(input_file_path, cv2.CAP_MSMF)\n",
    "    print('approximately', video.get(cv2.CAP_PROP_FRAME_COUNT) // 1000, 'seconds')\n",
    "    top, left, bottom, right = extent\n",
    "    n = 0\n",
    "    with open(output_file_path, 'wb') as fout:\n",
    "        while True:\n",
    "            result, frame = video.read()\n",
    "            if not result:\n",
    "                break\n",
    "            frame = frame[top:bottom, left:right]\n",
    "            if resize_factor:\n",
    "                frame = cv2.resize(frame, (0, 0), fx=resize_factor, fy=resize_factor, interpolation=cv2.INTER_AREA)\n",
    "            pickle.dump(frame, file=fout)\n",
    "            n += 1\n",
    "        pickle.dump(None, file=fout)\n",
    "    video.release()\n",
    "    print(n, 'construction time:', (datetime.now() - start_at).total_seconds(), 'seconds')\n",
    "\n",
    "def for_plt(image):\n",
    "    return image.take([2,1,0], axis=2)"
   ]
  },
  {
   "cell_type": "code",
   "execution_count": 2,
   "metadata": {},
   "outputs": [],
   "source": [
    "file_path = r\"C:\\Users\\cidzerda\\Documents\\GitHub\\strevr-data\\tesst.mp4\"\n",
    "#file_path = r\"C:\\Users\\cidzerda\\Documents\\GitHub\\strevr-data\\tesst\\staycationyoutube1.mp4\"\n",
    "#file_path = r\"C:\\Users\\cidzerda\\Documents\\GitHub\\strevr-data\\tesst\\telshin1-cg.mp4\"\n",
    "video = cv2.VideoCapture(file_path, cv2.CAP_MSMF)"
   ]
  },
  {
   "cell_type": "code",
   "execution_count": 3,
   "metadata": {},
   "outputs": [
    {
     "name": "stdout",
     "output_type": "stream",
     "text": [
      "frame count 17940\n",
      "0 0.0\n",
      "1 3.0\n",
      "2 3.0\n",
      "3 3.0\n",
      "4 4.0\n",
      "5 5.0\n",
      "6 6.0\n",
      "17937 17937.0\n",
      "17938 17938.0\n",
      "17939 17939.0\n",
      "17940 17940.0\n",
      "17941 17941.0\n",
      "cannot show frame at frame index 17941\n",
      "cannot set frame index 17942\n",
      "0.0\n"
     ]
    }
   ],
   "source": [
    "def fn(video, i):\n",
    "    if video.set(cv2.CAP_PROP_POS_FRAMES, i):\n",
    "        print(i, video.get(cv2.CAP_PROP_POS_FRAMES))\n",
    "        result, frame = video.read()\n",
    "        if result:\n",
    "            cv2.imshow('tesst', frame)\n",
    "            cv2.waitKey(0)\n",
    "        else:\n",
    "            print('cannot show frame at frame index', i)\n",
    "    else:\n",
    "        print('cannot set frame index', i)\n",
    "\n",
    "n = int(video.get(cv2.CAP_PROP_FRAME_COUNT))\n",
    "print('frame count', n)\n",
    "for i in range(7):\n",
    "    fn(video, i)\n",
    "for i in range(n - 3, n + 3):\n",
    "    fn(video, i)\n",
    "video.set(cv2.CAP_PROP_POS_FRAMES, 0)\n",
    "print(video.get(cv2.CAP_PROP_POS_FRAMES))\n",
    "cv2.destroyAllWindows()"
   ]
  },
  {
   "cell_type": "code",
   "execution_count": 36,
   "metadata": {},
   "outputs": [
    {
     "name": "stdout",
     "output_type": "stream",
     "text": [
      "frame count 5845\n",
      "True\n",
      "duplicate frame at frame index 3941\n",
      "duplicate frame at frame index 3944\n",
      "duplicate frame at frame index 3947\n",
      "duplicate frame at frame index 3951\n",
      "duplicate frame at frame index 3954\n",
      "duplicate frame at frame index 3957\n",
      "duplicate frame at frame index 3960\n",
      "duplicate frame at frame index 3963\n",
      "duplicate frame at frame index 3966\n",
      "duplicate frame at frame index 3970\n",
      "duplicate frame at frame index 3973\n",
      "duplicate frame at frame index 3976\n",
      "duplicate frame at frame index 3979\n",
      "duplicate frame at frame index 3982\n",
      "duplicate frame at frame index 3985\n",
      "duplicate frame at frame index 3989\n",
      "duplicate frame at frame index 3992\n",
      "duplicate frame at frame index 3995\n",
      "duplicate frame at frame index 3998\n",
      "duplicate frame at frame index 4001\n",
      "duplicate frame at frame index 4004\n",
      "duplicate frame at frame index 4008\n",
      "duplicate frame at frame index 4011\n",
      "duplicate frame at frame index 4014\n",
      "duplicate frame at frame index 4017\n",
      "duplicate frame at frame index 4020\n",
      "duplicate frame at frame index 4023\n",
      "duplicate frame at frame index 4027\n",
      "duplicate frame at frame index 4030\n",
      "duplicate frame at frame index 4036\n",
      "duplicate frame at frame index 4039\n",
      "duplicate frame at frame index 4042\n",
      "duplicate frame at frame index 4046\n",
      "duplicate frame at frame index 4049\n",
      "duplicate frame at frame index 4052\n",
      "duplicate frame at frame index 4055\n",
      "duplicate frame at frame index 4058\n",
      "duplicate frame at frame index 4061\n",
      "duplicate frame at frame index 4065\n",
      "duplicate frame at frame index 4068\n",
      "duplicate frame at frame index 4071\n",
      "duplicate frame at frame index 4074\n",
      "duplicate frame at frame index 4077\n",
      "duplicate frame at frame index 4080\n",
      "duplicate frame at frame index 4084\n",
      "duplicate frame at frame index 4087\n",
      "duplicate frame at frame index 4090\n",
      "duplicate frame at frame index 4093\n",
      "duplicate frame at frame index 4096\n",
      "duplicate frame at frame index 4099\n",
      "duplicate frame at frame index 4103\n",
      "duplicate frame at frame index 4106\n",
      "duplicate frame at frame index 4109\n",
      "duplicate frame at frame index 4112\n",
      "duplicate frame at frame index 4115\n",
      "duplicate frame at frame index 4118\n",
      "duplicate frame at frame index 4122\n",
      "duplicate frame at frame index 4125\n",
      "duplicate frame at frame index 4128\n",
      "duplicate frame at frame index 4131\n",
      "duplicate frame at frame index 4134\n",
      "duplicate frame at frame index 4137\n",
      "duplicate frame at frame index 4141\n",
      "duplicate frame at frame index 4144\n",
      "duplicate frame at frame index 4147\n",
      "duplicate frame at frame index 4153\n",
      "duplicate frame at frame index 4156\n",
      "duplicate frame at frame index 4160\n",
      "duplicate frame at frame index 4163\n",
      "duplicate frame at frame index 4166\n",
      "duplicate frame at frame index 4169\n",
      "duplicate frame at frame index 4172\n",
      "duplicate frame at frame index 4175\n",
      "duplicate frame at frame index 4179\n",
      "duplicate frame at frame index 4182\n",
      "duplicate frame at frame index 4185\n",
      "duplicate frame at frame index 4188\n",
      "duplicate frame at frame index 4191\n",
      "duplicate frame at frame index 4194\n",
      "duplicate frame at frame index 4198\n",
      "duplicate frame at frame index 4201\n",
      "duplicate frame at frame index 4204\n",
      "duplicate frame at frame index 4207\n",
      "duplicate frame at frame index 4210\n",
      "duplicate frame at frame index 4214\n",
      "duplicate frame at frame index 4217\n",
      "duplicate frame at frame index 4220\n",
      "duplicate frame at frame index 4223\n",
      "duplicate frame at frame index 4226\n",
      "duplicate frame at frame index 4229\n",
      "duplicate frame at frame index 4233\n",
      "duplicate frame at frame index 4236\n",
      "duplicate frame at frame index 4239\n",
      "duplicate frame at frame index 4242\n",
      "duplicate frame at frame index 4245\n",
      "duplicate frame at frame index 4248\n",
      "duplicate frame at frame index 4252\n",
      "duplicate frame at frame index 4255\n",
      "duplicate frame at frame index 4258\n",
      "duplicate frame at frame index 4261\n",
      "duplicate frame at frame index 4264\n",
      "duplicate frame at frame index 4271\n",
      "duplicate frame at frame index 4274\n",
      "duplicate frame at frame index 4277\n",
      "duplicate frame at frame index 4280\n",
      "duplicate frame at frame index 4283\n",
      "duplicate frame at frame index 4286\n",
      "duplicate frame at frame index 4290\n",
      "duplicate frame at frame index 4293\n",
      "duplicate frame at frame index 4296\n",
      "duplicate frame at frame index 4299\n",
      "duplicate frame at frame index 4302\n",
      "duplicate frame at frame index 4305\n",
      "duplicate frame at frame index 4309\n",
      "duplicate frame at frame index 4312\n",
      "duplicate frame at frame index 4315\n",
      "duplicate frame at frame index 4318\n",
      "duplicate frame at frame index 4321\n",
      "duplicate frame at frame index 4324\n",
      "duplicate frame at frame index 4328\n",
      "duplicate frame at frame index 4331\n",
      "duplicate frame at frame index 4334\n",
      "duplicate frame at frame index 4337\n",
      "duplicate frame at frame index 4340\n",
      "duplicate frame at frame index 4343\n",
      "duplicate frame at frame index 4347\n",
      "duplicate frame at frame index 4350\n",
      "duplicate frame at frame index 4353\n",
      "duplicate frame at frame index 4356\n",
      "duplicate frame at frame index 4359\n",
      "duplicate frame at frame index 4362\n",
      "duplicate frame at frame index 4366\n",
      "duplicate frame at frame index 4369\n",
      "duplicate frame at frame index 4372\n",
      "duplicate frame at frame index 4375\n",
      "duplicate frame at frame index 4378\n",
      "duplicate frame at frame index 4381\n",
      "duplicate frame at frame index 4385\n",
      "duplicate frame at frame index 4388\n",
      "duplicate frame at frame index 4391\n",
      "duplicate frame at frame index 4394\n",
      "duplicate frame at frame index 4397\n",
      "duplicate frame at frame index 4400\n",
      "duplicate frame at frame index 4404\n",
      "duplicate frame at frame index 4407\n",
      "duplicate frame at frame index 4410\n",
      "duplicate frame at frame index 4413\n",
      "duplicate frame at frame index 4416\n",
      "5846\n"
     ]
    }
   ],
   "source": [
    "n = int(video.get(cv2.CAP_PROP_FRAME_COUNT))\n",
    "print('frame count', n)\n",
    "i = 0\n",
    "last_frame = None\n",
    "print(video.set(cv2.CAP_PROP_POS_FRAMES, i))\n",
    "while True:\n",
    "    result, frame = video.read()\n",
    "    if result:\n",
    "        if last_frame is not None and (last_frame == frame).all():\n",
    "            print('duplicate frame at frame index', i)\n",
    "        else:\n",
    "            last_frame = frame\n",
    "        i += 1\n",
    "        video.get(cv2.CAP_PROP_POS_FRAMES)\n",
    "    else:\n",
    "        break\n",
    "print(i)\n",
    "cv2.destroyAllWindows()"
   ]
  },
  {
   "cell_type": "code",
   "execution_count": 4,
   "metadata": {},
   "outputs": [],
   "source": [
    "video.release()"
   ]
  },
  {
   "cell_type": "code",
   "execution_count": 41,
   "metadata": {},
   "outputs": [
    {
     "name": "stdout",
     "output_type": "stream",
     "text": [
      "anytimeshield.txt 14209 Counter({'z': 5603, 'b': 4661, 'r': 3202, 'i': 743})\n",
      "mymisterfruit.txt 38339 Counter({'o': 21962, 'z': 10475, 'm': 5903})\n",
      "nicewigg.txt 25019 Counter({'w': 20353, 'z': 4667})\n",
      "nikolarn.txt 8842 Counter({'i': 6366, 'z': 2476})\n",
      "shivfps.txt 15874 Counter({'b': 9774, 'z': 5722, 'p': 378})\n",
      "staycationyoutube.txt 58860 Counter({'z': 27487, 'a': 21355, 'g': 5491, 'i': 4479, 'p': 48})\n",
      "staycationyoutube1.txt 32065 Counter({'z': 20479, 'c': 11586})\n",
      "tannerslays.txt 10560 Counter({'p': 10225, 'z': 335})\n",
      "tannerslays1.txt 2760 Counter({'i': 2507, 'z': 253})\n",
      "telshin-g.txt 13140 Counter({'g': 10021, 'z': 3119})\n",
      "telshin-l.txt 11280 Counter({'l': 9916, 'z': 1364})\n",
      "telshin-m.txt 27960 Counter({'m': 16522, 'z': 11438})\n",
      "telshin-o.txt 23280 Counter({'o': 16764, 'z': 6516})\n",
      "telshin1-c.txt 20940 Counter({'c': 16134, 'z': 4806})\n",
      "telshin1-g.txt 20400 Counter({'g': 14425, 'z': 5975})\n",
      "telshin1-l.txt 48300 Counter({'l': 27470, 'z': 20830})\n",
      "telshin1-r.txt 18720 Counter({'r': 16724, 'z': 1996})\n",
      "telshin1-w.txt 20760 Counter({'w': 15444, 'z': 5316})\n",
      "thefyzu.txt 61650 Counter({'p': 37505, 'z': 24145})\n",
      "vsnz.txt 3628 Counter({'i': 3093, 'z': 536})\n",
      "xednim.txt 23521 Counter({'b': 19763, 'z': 3758})\n"
     ]
    }
   ],
   "source": [
    "from collections import Counter\n",
    "\n",
    "def make_labels(g, n):\n",
    "    labels = []\n",
    "    for index, label in g:\n",
    "        while len(labels) < index:\n",
    "            labels.append(next_label)\n",
    "        next_label = label\n",
    "    while len(labels) < n:\n",
    "        labels.append(next_label)\n",
    "    return ''.join(labels)\n",
    "\n",
    "directory_path = r'C:\\Users\\cidzerda\\Documents\\GitHub\\strevr-data\\archive\\legends'\n",
    "_, _, file_names = next(os.walk(directory_path), (None, None, []))\n",
    "g = (s for s in file_names if s.endswith('.txt'))\n",
    "for s in g:\n",
    "    file_path = directory_path + '\\\\' + s\n",
    "    video = cv2.VideoCapture(file_path.replace('txt', 'mp4'), cv2.CAP_MSMF)\n",
    "    n = int(video.get(cv2.CAP_PROP_FRAME_COUNT))\n",
    "    video.release()\n",
    "    with open(file_path, 'rt') as fin:\n",
    "        l = make_labels(eval(fin.read()), n)\n",
    "    c = Counter(l)\n",
    "    print(file_path.split('\\\\')[-1], n, c)\n",
    "    g = ((k, v) for k, v in c.items() if k != 'z' and v >= 2000)\n",
    "    #print(file_path.split('\\\\')[-1], n, *sorted(g))"
   ]
  },
  {
   "cell_type": "code",
   "execution_count": 42,
   "metadata": {},
   "outputs": [],
   "source": [
    "from collections import Counter\n",
    "\n",
    "def make_labels(g, n):\n",
    "    labels = []\n",
    "    for index, label in g:\n",
    "        while len(labels) < index:\n",
    "            labels.append(next_label)\n",
    "        next_label = label\n",
    "    while len(labels) < n:\n",
    "        labels.append(next_label)\n",
    "    return ''.join(labels)\n",
    "\n",
    "directory_path = r'C:\\Users\\cidzerda\\Documents\\GitHub\\strevr-data\\archive\\legends'\n",
    "file_names = 'staycationyoutube', 'shivfps', 'staycationyoutube1', 'telshin-l', 'mymisterfruit', 'tannerslays', 'telshin1-r', 'telshin1-w'\n",
    "for s in file_names:\n",
    "    file_path = directory_path + '\\\\' + s + '.txt'\n",
    "    video = cv2.VideoCapture(file_path.replace('txt', 'mp4'), cv2.CAP_MSMF)\n",
    "    n = int(video.get(cv2.CAP_PROP_FRAME_COUNT))\n",
    "    video.release()\n",
    "    with open(file_path, 'rt') as fin:\n",
    "        l = eval(fin.read())\n",
    "    l = make_labels(l, n)\n",
    "    with open(r'C:\\Users\\cidzerda\\Documents\\GitHub\\strevr-data\\legends' + '\\\\' + s + '.txt', 'wt') as fout:\n",
    "        print(l, file=fout)"
   ]
  },
  {
   "cell_type": "code",
   "execution_count": 45,
   "metadata": {},
   "outputs": [
    {
     "name": "stdout",
     "output_type": "stream",
     "text": [
      "p\tthefyzu\n",
      "gia\tstaycationyoutube\n",
      "om\tmymisterfruit\n",
      "cb\tstaycationyoutube1\n",
      "w\tnicewigg\n",
      "b\txednim\n",
      "b\tshivfps\n",
      "rbi\tanytimeshield\n",
      "p\ttannerslays\n",
      "i\tnikolarn\n",
      "i\tvsnz\n",
      "i\ttannerslays1\n",
      "\n"
     ]
    }
   ],
   "source": [
    "file_path = r'C:\\Users\\cidzerda\\Documents\\GitHub\\strevr-data\\archive\\legends.txt'\n",
    "with open(file_path) as fin:\n",
    "    print(fin.read())"
   ]
  },
  {
   "cell_type": "code",
   "execution_count": 57,
   "metadata": {},
   "outputs": [
    {
     "name": "stdout",
     "output_type": "stream",
     "text": [
      "Counter({'o': 3030, 'm': 3030, 'b': 3030, 'p': 3030, 'g': 3030, 'i': 3030, 'a': 3030, 'c': 3030, 'l': 3030, 'r': 3030, 'w': 3030})\n",
      "33330\n"
     ]
    }
   ],
   "source": [
    "from collections import Counter\n",
    "file_path = r'C:\\Users\\cidzerda\\Documents\\GitHub\\strevr-data\\legends\\selected.txt'\n",
    "with open(file_path) as fin:\n",
    "    labels = [s for s in fin.read() if 'a' <= s <= 'z']\n",
    "c = Counter(labels)\n",
    "print(c)\n",
    "with open(file_path.replace('txt', 'pickle'), 'rb') as fin:\n",
    "    images = [pickle.load(fin) for _ in range(len(labels))]\n",
    "print(len(images))"
   ]
  },
  {
   "cell_type": "code",
   "execution_count": 83,
   "metadata": {},
   "outputs": [
    {
     "name": "stdout",
     "output_type": "stream",
     "text": [
      "30 35 59\n",
      "3000 60 50.0\n",
      "(-710, -1408, 2100, 1500)\n",
      "30 35 59\n",
      "3000 60 50.0\n",
      "30 35 59\n",
      "3000 60 50.0\n",
      "3028\n",
      "3030\n"
     ]
    }
   ],
   "source": [
    "def make_title_for_window():\n",
    "    return 'tesst'\n",
    "\n",
    "def show_images(images):\n",
    "    n = len(images)\n",
    "    height, width, *_ = images[0].shape\n",
    "    s = int(math.sqrt(1.375 * height * width * n) / width)\n",
    "    l = sorted((n % i, i) for i in range(s, 2 * s))\n",
    "    ncolumns = l[-1][1] if l[0][0] else l[0][1]\n",
    "    print(height, width, s)\n",
    "    print(n, ncolumns, n / ncolumns)\n",
    "    g = [iter(images)] * ncolumns\n",
    "    g = it.zip_longest(*g, fillvalue=np.zeros_like(images[0]))\n",
    "    cv2.imshow(make_title_for_window(), np.vstack([np.hstack(g) for g in g]))\n",
    "    return height, width, ncolumns\n",
    "\n",
    "def inspect_images(images, desired_count):\n",
    "    images = images[:]\n",
    "    window_name = make_title_for_window()\n",
    "    cv2.namedWindow(window_name, cv2.WINDOW_NORMAL | cv2.WINDOW_GUI_EXPANDED)\n",
    "    def mouse_callback(event, x, y, *_):\n",
    "        if event == cv2.EVENT_LBUTTONDOWN:\n",
    "            index = (y // height) * ncolumns + x // width\n",
    "            images[index] = images[-1]\n",
    "            del images[-1]\n",
    "            show_images(images[:desired_count])\n",
    "    cv2.setMouseCallback(window_name, mouse_callback)\n",
    "    height, width, ncolumns = show_images(images[:desired_count])\n",
    "    print(cv2.getWindowImageRect(window_name))\n",
    "    cv2.waitKey(0)\n",
    "    cv2.destroyAllWindows()\n",
    "    return images\n",
    "\n",
    "l = [i for i, l in zip(images, labels) if l == 'b']\n",
    "print(len(inspect_images(l, 3000)))\n",
    "print(len(l))"
   ]
  },
  {
   "cell_type": "code",
   "execution_count": 73,
   "metadata": {},
   "outputs": [],
   "source": [
    "import math\n",
    "x = images[:3211]\n",
    "n = len(x)\n",
    "m = int(math.sqrt(n))\n",
    "l = sorted((n % i, i) for i in range(m, 2 * m))\n",
    "def mouse_callback(event, x, y, *_):\n",
    "    if event == cv2.EVENT_LBUTTONDOWN:\n",
    "        print(x, y, (y // 30) * w + x // 35)\n",
    "cv2.namedWindow('tesst', cv2.WINDOW_NORMAL | cv2.WINDOW_GUI_EXPANDED)\n",
    "cv2.setMouseCallback('tesst', mouse_callback)\n",
    "for s in c:\n",
    "    l = [i for i, l in zip(x, labels) if l == s]\n",
    "    n = len(l)\n",
    "    m = int(math.sqrt(n))\n",
    "    s = sorted((n % i, i) for i in range(m, 2 * m))\n",
    "    w = s[-1][1] if s[0][0] else s[0][1]\n",
    "    g = [iter(l)] * w\n",
    "    g = it.zip_longest(*g, fillvalue=np.zeros_like(images[0]))\n",
    "    cv2.imshow('tesst', np.vstack([np.hstack(g) for g in g]))\n",
    "    if chr(cv2.waitKey(0)) == 'q':\n",
    "        break\n",
    "cv2.destroyAllWindows()"
   ]
  },
  {
   "cell_type": "code",
   "execution_count": 18,
   "metadata": {},
   "outputs": [
    {
     "data": {
      "text/plain": [
       "(30, 35, 3)"
      ]
     },
     "execution_count": 18,
     "metadata": {},
     "output_type": "execute_result"
    }
   ],
   "source": [
    "images[0].shape"
   ]
  },
  {
   "cell_type": "code",
   "execution_count": 47,
   "metadata": {},
   "outputs": [
    {
     "name": "stdout",
     "output_type": "stream",
     "text": [
      "3029 101 29.99009900990099\n",
      "101 101 101 101 101 101 101 101 101 101 101 101 101 101 101 101 101 101 101 101 101 101 101 101 101 101 101 101 101 101\n"
     ]
    }
   ],
   "source": [
    "import math\n",
    "x = images[:3029]\n",
    "n = len(x)\n",
    "m = int(math.sqrt(n))\n",
    "s = sorted((n % i, i) for i in range(m, 2 * m))\n",
    "w = s[-1][1] if s[0][0] else s[0][1]\n",
    "print(n, w, n / w)\n",
    "g = [iter(x)] * w\n",
    "g = it.zip_longest(*g, fillvalue=np.zeros_like(images[0]))\n",
    "#print(len(list(g)))\n",
    "g = (len(list(g)) for g in g)\n",
    "print(*g)"
   ]
  },
  {
   "cell_type": "code",
   "execution_count": 8,
   "metadata": {},
   "outputs": [
    {
     "name": "stdout",
     "output_type": "stream",
     "text": [
      "(1, 'a') (2, 'a') (3, 'a') (4, 'b') (5, 'b') (6, 'b')\n",
      "((1, 'a'), (4, 'b')) ((2, 'a'), (5, 'b')) ((3, 'a'), (6, 'b'))\n",
      "(1, 'a') (2, 'a') (3, 'a') (4, 'b') (5, 'b') (6, 'b')\n"
     ]
    }
   ],
   "source": [
    "l = [([1,2,3], it.repeat('a', 9)), ([4,5,6], it.repeat('b', 9))]\n",
    "print(*(it.chain.from_iterable(zip(a, b) for a, b in l)))\n",
    "l = [zip([1,2,3], it.repeat('a', 9)), zip([4,5,6], it.repeat('b', 9))]\n",
    "print(*zip(*l))\n",
    "l = [zip([1,2,3], it.repeat('a', 9)), zip([4,5,6], it.repeat('b', 9))]\n",
    "print(*it.chain.from_iterable(l))"
   ]
  },
  {
   "cell_type": "code",
   "execution_count": 6,
   "metadata": {},
   "outputs": [
    {
     "data": {
      "text/plain": [
       "3000"
      ]
     },
     "execution_count": 6,
     "metadata": {},
     "output_type": "execute_result"
    }
   ],
   "source": [
    "with open(r\"C:\\Users\\cidzerda\\Documents\\GitHub\\strevr-data\\idle\\selected.pickle\", 'rb') as fin:\n",
    "    images = []\n",
    "    try:\n",
    "        while True:\n",
    "            images.append(pickle.load(fin))\n",
    "    except EOFError:\n",
    "        pass\n",
    "len(images)"
   ]
  },
  {
   "cell_type": "code",
   "execution_count": null,
   "metadata": {
    "scrolled": true
   },
   "outputs": [
    {
     "name": "stdout",
     "output_type": "stream",
     "text": [
      "1070\n",
      "c 16870 0:09:25.033658\n",
      "z 17289 0:09:39.067393\n",
      "c 17299 0:09:39.402327\n",
      "z 17950 0:10:01.206530\n",
      "- 0 0:00:00\n"
     ]
    }
   ],
   "source": [
    "from datetime import timedelta\n",
    "label_file_path = r\"C:\\Users\\cidzerda\\Documents\\GitHub\\strevr-data\\idle\\staycationyoutube1.txt\"\n",
    "video_file_path = r\"C:\\Users\\cidzerda\\Documents\\GitHub\\strevr-data\\idle\\staycationyoutube1.mp4\"\n",
    "with open(label_file_path, 'rt') as fin:\n",
    "    labels = [s for s in fin.read() if 'a' <= s <= 'z']\n",
    "l = [len(list(v)) for k, v in it.groupby(labels) if k != 'z']\n",
    "print(sum(l))\n",
    "l = [(k, len(list(v))) for k, v in it.groupby(labels)]\n",
    "#print(l)\n",
    "l = list(it.accumulate(l, lambda a, b: (b[0], a[1] + b[1])))\n",
    "#print(l)\n",
    "l = list(zip(*l))\n",
    "#print(l)\n",
    "g = iter(l[0])\n",
    "next(g)\n",
    "l[0] = g\n",
    "l = list(zip(*l))\n",
    "#print(l)\n",
    "g = iter(l)\n",
    "g = it.chain(g, it.repeat(('-', 0)))\n",
    "video = cv2.VideoCapture(video_file_path, cv2.CAP_MSMF)\n",
    "while True:\n",
    "    result, frame = video.read()\n",
    "    if not result:\n",
    "        break\n",
    "    cv2.imshow('tesst', frame)\n",
    "    ch = chr(cv2.waitKey(0))\n",
    "    if ch == 'q':\n",
    "        break\n",
    "    if ch == 'n':\n",
    "        s, i = next(g)\n",
    "        print(s, i, timedelta(seconds=i / video.get(cv2.CAP_PROP_FPS)))\n",
    "        video.set(cv2.CAP_PROP_POS_FRAMES, i)\n",
    "    elif ch == ',':\n",
    "        video.set(cv2.CAP_PROP_POS_FRAMES, video.get(cv2.CAP_PROP_POS_FRAMES) - 2)\n",
    "video.release()\n",
    "cv2.destroyAllWindows()"
   ]
  },
  {
   "cell_type": "code",
   "execution_count": 26,
   "metadata": {
    "scrolled": true
   },
   "outputs": [
    {
     "name": "stdout",
     "output_type": "stream",
     "text": [
      "4:50.651 8738 204\n",
      "4:58.002 8959 159\n",
      "29:07.532 52537 75\n",
      "29:10.460 52625 46\n"
     ]
    }
   ],
   "source": [
    "print('4:50.651', 8738, 8943 - 8739)\n",
    "print('4:58.002', 8959, 9119 - 8960)\n",
    "print('29:07.532', 52537, 52613 - 52538)\n",
    "print('29:10.460', 52625, 52672 - 52626)"
   ]
  },
  {
   "cell_type": "code",
   "execution_count": 5,
   "metadata": {},
   "outputs": [
    {
     "name": "stdout",
     "output_type": "stream",
     "text": [
      "C:\\Users\\cidzerda\\Documents\\GitHub\\strevr-data\\idle\\staycationyoutube1.txt Counter({'z': 30995, 'c': 1070})\n",
      "C:\\Users\\cidzerda\\Documents\\GitHub\\strevr-data\\idle\\vsnz1.txt Counter({'z': 58403, 'x': 7090, 'y': 569})\n"
     ]
    }
   ],
   "source": [
    "from collections import Counter\n",
    "label_file_paths = [\n",
    "    r\"C:\\Users\\cidzerda\\Documents\\GitHub\\strevr-data\\idle\\staycationyoutube1.txt\",\n",
    "    r\"C:\\Users\\cidzerda\\Documents\\GitHub\\strevr-data\\idle\\vsnz1.txt\",\n",
    "]\n",
    "for label_file_path in label_file_paths:\n",
    "    with open(label_file_path, 'rt') as fin:\n",
    "        print(label_file_path, Counter(s for s in fin.read() if 'a' <= s <= 'z'))"
   ]
  }
 ],
 "metadata": {
  "kernelspec": {
   "display_name": "Python 3",
   "language": "python",
   "name": "python3"
  },
  "language_info": {
   "codemirror_mode": {
    "name": "ipython",
    "version": 3
   },
   "file_extension": ".py",
   "mimetype": "text/x-python",
   "name": "python",
   "nbconvert_exporter": "python",
   "pygments_lexer": "ipython3",
   "version": "3.6.6"
  }
 },
 "nbformat": 4,
 "nbformat_minor": 2
}

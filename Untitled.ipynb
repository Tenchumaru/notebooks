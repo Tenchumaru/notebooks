{
 "cells": [
  {
   "cell_type": "code",
   "execution_count": 1,
   "metadata": {},
   "outputs": [],
   "source": [
    "import cv2\n",
    "import functools as ft\n",
    "import itertools as it\n",
    "import json\n",
    "import numpy as np\n",
    "import operator as op\n",
    "import os\n",
    "import pickle\n",
    "import random\n",
    "import sys\n",
    "import tempfile\n",
    "import threading\n",
    "from collections import deque, namedtuple\n",
    "from datetime import datetime, timedelta, timezone\n",
    "from typing import Tuple\n",
    "from utilities import *"
   ]
  },
  {
   "cell_type": "code",
   "execution_count": 2,
   "metadata": {},
   "outputs": [
    {
     "data": {
      "text/plain": [
       "{\"'\": 1,\n",
       " '-': 1,\n",
       " 'A': 7,\n",
       " 'B': 1,\n",
       " 'C': 1,\n",
       " 'D': 1,\n",
       " 'E': 7,\n",
       " 'F': 1,\n",
       " 'G': 3,\n",
       " 'H': 2,\n",
       " 'I': 5,\n",
       " 'J': 1,\n",
       " 'K': 1,\n",
       " 'L': 1,\n",
       " 'M': 2,\n",
       " 'N': 8,\n",
       " 'O': 6,\n",
       " 'P': 3,\n",
       " 'Q': 1,\n",
       " 'R': 5,\n",
       " 'S': 5,\n",
       " 'T': 5,\n",
       " 'U': 4,\n",
       " 'X': 1,\n",
       " 'Y': 1,\n",
       " 'Z': 1,\n",
       " 'a': 5,\n",
       " 'c': 2,\n",
       " 'd': 2,\n",
       " 'e': 9,\n",
       " 'f': 1,\n",
       " 'g': 1,\n",
       " 'h': 2,\n",
       " 'i': 4,\n",
       " 'k': 1,\n",
       " 'l': 2,\n",
       " 'n': 6,\n",
       " 'o': 5,\n",
       " 'p': 3,\n",
       " 'r': 9,\n",
       " 't': 6,\n",
       " 'u': 4,\n",
       " 'v': 1,\n",
       " 'w': 2}"
      ]
     },
     "execution_count": 2,
     "metadata": {},
     "output_type": "execute_result"
    }
   ],
   "source": [
    "with open(r\"F:\\Dota 2\\Heroes\\letters.pickle\", 'br') as fin:\n",
    "    letters = pickle.load(fin)\n",
    "{k: len(v[0]) for k, v in letters.items()}"
   ]
  },
  {
   "cell_type": "code",
   "execution_count": 28,
   "metadata": {},
   "outputs": [],
   "source": [
    "l = [\n",
    "    letters['A'][0][0],\n",
    "    *(cv2.resize(letters['v'][0][i], None, fx=4/3, fy=4/3)[3:-2, :] for i in range(len(letters['v'][0]))),\n",
    "    letters['N'][0][0],\n",
    "    cv2.resize(letters['w'][0][0], None, fx=5/4, fy=5/4)[3:-1, :],\n",
    "    cv2.resize(letters['w'][0][1], None, fx=4/3, fy=4/3)[3:-2, :],\n",
    "    letters['Z'][0][0],\n",
    "]\n",
    "cv2.imshow('tesst', np.hstack(l))\n",
    "cv2.waitKey()\n",
    "cv2.destroyAllWindows()"
   ]
  },
  {
   "cell_type": "code",
   "execution_count": 3,
   "metadata": {},
   "outputs": [
    {
     "name": "stdout",
     "output_type": "stream",
     "text": [
      "test time: 0.047023 seconds\n",
      "test time: 0.048997 seconds\n"
     ]
    }
   ],
   "source": [
    "with Timer('test'):\n",
    "    for _ in range(99999):\n",
    "        s = \"'\" if random.randrange(2) else '-'\n",
    "l= [\"'\", '-']\n",
    "with Timer('test'):\n",
    "    for _ in range(99999):\n",
    "        s = l[random.randrange(2)]"
   ]
  },
  {
   "cell_type": "code",
   "execution_count": null,
   "metadata": {},
   "outputs": [],
   "source": [
    "text = \"Funny text inside the box\"\n",
    "fontFace = cv2.FONT_HERSHEY_SCRIPT_SIMPLEX\n",
    "fontScale = 2\n",
    "thickness = 3\n",
    "\n",
    "img = np.zeros((600, 800, 3))\n",
    "\n",
    "baseline=0\n",
    "textSize, baseline = cv2.getTextSize(text, fontFace,\n",
    "                            fontScale, thickness)\n",
    "baseline += thickness\n",
    "\n",
    "# center the text\n",
    "textOrg=((img.shape[1] - textSize[0])//2,\n",
    "              (img.shape[0] + textSize[1])//2)\n",
    "\n",
    "# draw the box\n",
    "cv2.rectangle(img, (textOrg[0], textOrg[1] + baseline),\n",
    "          (textOrg[0] + textSize[0], textOrg[1]-textSize[1]),\n",
    "          (0,0,255))\n",
    "# ... and the baseline first\n",
    "cv2.line(img, (textOrg[0], textOrg[1] +  thickness),\n",
    "     (textOrg[0] + textSize[0], textOrg[1] + thickness),\n",
    "     (0, 0, 255))\n",
    "\n",
    "# then put the text itself\n",
    "cv2.putText(img, text, textOrg, fontFace, fontScale,\n",
    "        (255,), thickness, 8)\n",
    "cv2.imshow('tesst', img)\n",
    "cv2.waitKey()\n",
    "cv2.destroyWindow('tesst')\n",
    "print(textSize, baseline, thickness)"
   ]
  },
  {
   "cell_type": "code",
   "execution_count": null,
   "metadata": {},
   "outputs": [],
   "source": [
    "heights = [480, 720, 1080]\n",
    "for height in heights:\n",
    "    width = round(16 * height / 9) & ~1\n",
    "    print(width, height)"
   ]
  },
  {
   "cell_type": "code",
   "execution_count": null,
   "metadata": {},
   "outputs": [],
   "source": [
    "captcha = ImageCaptcha(fonts=[r'\\Windows\\Fonts\\Arial.ttf'])\n",
    "image = cv2.cvtColor(np.array(captcha.generate_image('FACE')), cv2.COLOR_RGB2GRAY)\n",
    "#image = np.frombuffer(captcha.generate('AbC').getvalue(), dtype='uint8')\n",
    "#print(image.shape)\n",
    "#image = cv2.imdecode(image, cv2.IMREAD_GRAYSCALE)\n",
    "#image = cv2.resize(image, (200, 50))\n",
    "print(image.shape)\n",
    "show_and_wait(image)\n",
    "cv2.imwrite(r'C:\\Users\\cidzerda\\Documents\\GitHub\\ctc\\alphabetic.png', image)\n",
    "cv2.destroyAllWindows()"
   ]
  },
  {
   "cell_type": "code",
   "execution_count": 87,
   "metadata": {},
   "outputs": [],
   "source": [
    "[s for s in dir(cv2) if 'video' in s.lower()]\n",
    "video = cv2.VideoCapture(r\"F:\\Dota 2\\Heroes\\Videos\\Io.mp4\")\n",
    "succeeded, frame = video.read()\n",
    "video.release()\n",
    "show_and_wait(frame)\n",
    "cv2.destroyAllWindows()"
   ]
  },
  {
   "cell_type": "code",
   "execution_count": 4,
   "metadata": {},
   "outputs": [
    {
     "data": {
      "text/plain": [
       "('left rows 35 left columns 3 center rows 35 center columns 7 right rows 26 right columns 2 lower rows 16 lower columns 3',\n",
       " [(430, 250), (430, 450), (320, 180), (200, 230)])"
      ]
     },
     "execution_count": 4,
     "metadata": {},
     "output_type": "execute_result"
    }
   ],
   "source": [
    "# I came up with this set of bounds based on a visual inspection of \"Ancient Apparition.mp4\".\n",
    "Bounds = namedtuple('Bounds', ['top', 'left', 'bottom', 'right'])\n",
    "left_bounds = Bounds(70, 0, 500, 250)\n",
    "center_bounds = Bounds(90, 250, 520, 700)\n",
    "right_bounds = Bounds(90, 700, 410, 880)\n",
    "lower_bounds = Bounds(520, 160, 720, 390)\n",
    "extents = [(b.bottom - b.top, b.right - b.left) for b in (left_bounds, center_bounds, right_bounds, lower_bounds)]\n",
    "' '.join(map(str, ('left rows', len(list(range(70, 500 - 16, 12))),\n",
    " 'left columns', len(list(range(0, 250 - 132, 58))),\n",
    " 'center rows', len(list(range(90, 520 - 16, 12))),\n",
    " 'center columns', len(list(range(250, 700 - 132, 52))),\n",
    " 'right rows', len(list(range(90, 410 - 16, 12))),\n",
    " 'right columns', len(list(range(700, 880 - 132, 47))),\n",
    " 'lower rows', len(list(range(520, 720 - 16, 12))),\n",
    " 'lower columns', len(list(range(160, 390 - 132, 48)))))), extents"
   ]
  },
  {
   "cell_type": "code",
   "execution_count": 11,
   "metadata": {},
   "outputs": [
    {
     "data": {
      "text/plain": [
       "(16, 132)"
      ]
     },
     "execution_count": 11,
     "metadata": {},
     "output_type": "execute_result"
    }
   ],
   "source": [
    "video = cv2.VideoCapture(r\"F:\\Dota 2\\Heroes\\Videos\\Io.mp4\")\n",
    "succeeded, frame = video.read()\n",
    "video.release()\n",
    "background_image = frame[90:90 + 16, 250:250 + 132, 0].astype(np.float32) / 255\n",
    "show_and_wait(background_image)\n",
    "cv2.destroyAllWindows()\n",
    "background_image.shape"
   ]
  }
 ],
 "metadata": {
  "kernelspec": {
   "display_name": "Python 3 (ipykernel)",
   "language": "python",
   "name": "python3"
  },
  "language_info": {
   "codemirror_mode": {
    "name": "ipython",
    "version": 3
   },
   "file_extension": ".py",
   "mimetype": "text/x-python",
   "name": "python",
   "nbconvert_exporter": "python",
   "pygments_lexer": "ipython3",
   "version": "3.10.5"
  }
 },
 "nbformat": 4,
 "nbformat_minor": 2
}

{
 "cells": [
  {
   "cell_type": "code",
   "execution_count": 1,
   "metadata": {},
   "outputs": [],
   "source": [
    "%matplotlib inline\n",
    "\n",
    "import cv2\n",
    "import functools as ft\n",
    "import itertools as it\n",
    "import matplotlib.pyplot as plt\n",
    "import mxnet as mx\n",
    "import numpy as np\n",
    "import operator as op\n",
    "import pickle\n",
    "import random\n",
    "import sys\n",
    "import hdbscan\n",
    "from datetime import datetime, timedelta\n",
    "from sklearn.preprocessing import StandardScaler\n",
    "\n",
    "def show_and_wait(frame, title='tesst', wait_time=0):\n",
    "    cv2.imshow(title, frame)\n",
    "    key = cv2.waitKey(wait_time)\n",
    "    return None if key < 0 else chr(key)\n",
    "\n",
    "def read_and_wait(video, title='tesst', wait_time=0):\n",
    "    result, frame = video.read()\n",
    "    if result:\n",
    "        return show_and_wait(frame, title, wait_time)\n",
    "\n",
    "def pairwise(iterable):\n",
    "    \"s -> (s0,s1), (s1,s2), (s2, s3), ...\"\n",
    "    a, b = it.tee(iterable)\n",
    "    next(b, None)\n",
    "    return zip(a, b)\n",
    "\n",
    "def construct_data(file_path, extent, known_file_path=None, known_frame=-1, modify_frame=None):\n",
    "    start_at = datetime.now()\n",
    "    video = cv2.VideoCapture(file_path, cv2.CAP_MSMF)\n",
    "    print(video.get(cv2.CAP_PROP_FRAME_COUNT), video.get(cv2.CAP_PROP_FPS))\n",
    "    n = min(max(1, round(video.get(cv2.CAP_PROP_FRAME_COUNT) / 2000)), 30)\n",
    "    top, left, bottom, right = extent\n",
    "    def fn(frame):\n",
    "        frame = frame[top:bottom, left:right]\n",
    "        return modify_frame(frame) if modify_frame else frame\n",
    "    def yield_frames():\n",
    "        while True:\n",
    "            result, frame = video.read()\n",
    "            if not result:\n",
    "                break\n",
    "            yield frame\n",
    "    frames = [fn(f) for i, f in enumerate(yield_frames()) if i % n == 0]\n",
    "    video.release()\n",
    "\n",
    "    if known_file_path:\n",
    "        # Add a known positive frame.\n",
    "        video = cv2.VideoCapture(known_file_path, cv2.CAP_MSMF)\n",
    "        print(video.get(cv2.CAP_PROP_FRAME_COUNT), video.get(cv2.CAP_PROP_FPS))\n",
    "        print(video.set(cv2.CAP_PROP_POS_FRAMES, video.get(cv2.CAP_PROP_FRAME_COUNT) if known_frame < 0 else known_frame))\n",
    "        _, frame = video.read()\n",
    "        frames.append(fn(frame))\n",
    "        video.release()\n",
    "\n",
    "    data = StandardScaler().fit_transform(np.stack([f.reshape(-1) for f in frames]))\n",
    "    print(data.shape)\n",
    "    print('total time:', (datetime.now() - start_at).total_seconds(), 'seconds')\n",
    "    return frames, data\n",
    "\n",
    "def print_clusters(frames, cluster_labels, has_known_cluster=False):\n",
    "    print('cluster count:', len(np.unique(cluster_labels)))\n",
    "    print(np.unique(cluster_labels))\n",
    "    print(cluster_labels[:22])\n",
    "    print(*enumerate(cluster_labels[:22]))\n",
    "    print(*((k, len(list(v))) for k, v in it.groupby(np.sort(cluster_labels))))\n",
    "    if has_known_cluster:\n",
    "        if cluster_labels[-1] < 0:\n",
    "            print('desired cluster unknown')\n",
    "        else:\n",
    "            print('desired cluster:', cluster_labels[-1])\n",
    "    def fn():\n",
    "        for n in np.unique(cluster_labels):\n",
    "            g = (i for i, j in enumerate(cluster_labels) if j == n)\n",
    "            g = it.islice(g, 5)\n",
    "            stack = [frames[i] for i in g]\n",
    "            yield np.hstack(stack)\n",
    "    plt.imshow(np.vstack(list(fn())).take([2,1,0], axis=2))\n",
    "\n",
    "def predict_cluster_labels(data, min_cluster_size=22):\n",
    "    start_at = datetime.now()\n",
    "    clusterer = hdbscan.HDBSCAN(min_cluster_size=min_cluster_size)\n",
    "    cluster_labels = clusterer.fit_predict(data)\n",
    "    print('total time:', (datetime.now() - start_at).total_seconds(), 'seconds')\n",
    "    return cluster_labels"
   ]
  },
  {
   "cell_type": "code",
   "execution_count": 11,
   "metadata": {},
   "outputs": [
    {
     "name": "stdout",
     "output_type": "stream",
     "text": [
      "196367.0\n"
     ]
    }
   ],
   "source": [
    "video_file_path = r\"C:\\Users\\cidzerda\\Documents\\GitHub\\strevr-data\\unsupervised\\unsupervised.mp4\"\n",
    "video = cv2.VideoCapture(video_file_path)\n",
    "print(video.get(cv2.CAP_PROP_FRAME_COUNT))\n",
    "video.release()\n",
    "cv2.destroyAllWindows()"
   ]
  },
  {
   "cell_type": "code",
   "execution_count": 12,
   "metadata": {},
   "outputs": [
    {
     "name": "stdout",
     "output_type": "stream",
     "text": [
      "6547 (30, 35, 3) 6547 (6547,) 292\n",
      "[(0, 'z'), (114, 'a'), (116, 'z'), (155, 'a'), (220, 'z'), (221, 'a'), (294, 'z'), (304, 'a'), (308, 'z'), (310, 'a'), (334, 'z'), (336, 'a'), (360, 'z'), (361, 'a'), (472, 'z'), (475, 'a'), (520, 'z'), (522, 'a'), (546, 'z'), (547, 'a'), (643, 'z'), (714, 'a'), (716, 'z'), (755, 'a'), (759, 'z'), (783, 'a'), (822, 'z'), (824, 'a'), (826, 'z'), (828, 'a'), (841, 'z'), (842, 'a'), (877, 'z'), (879, 'a'), (903, 'z'), (906, 'a'), (957, 'z'), (959, 'a'), (960, 'z'), (962, 'a'), (964, 'c'), (995, 'z'), (1004, 'c'), (1010, 'z'), (1013, 'c'), (1018, 'z'), (1020, 'c'), (1074, 'z'), (1080, 'c'), (1090, 'z'), (1093, 'c'), (1165, 'z'), (1169, 'c'), (1182, 'z'), (1183, 'c'), (1210, 'z'), (1213, 'c'), (1220, 'z'), (1222, 'c'), (1225, 'z'), (1229, 'c'), (1483, 'z'), (1624, 'b'), (1669, 'z'), (1670, 'b'), (1695, 'z'), (1696, 'b'), (1708, 'z'), (1710, 'b'), (1723, 'z'), (1724, 'b'), (1764, 'z'), (1769, 'b'), (1771, 'z'), (1774, 'b'), (1823, 'z'), (1836, 'b'), (1841, 'z'), (1843, 'b'), (1844, 'z'), (1846, 'b'), (1847, 'z'), (1850, 'b'), (1851, 'z'), (1853, 'b'), (1960, 'z'), (1965, 'b'), (1968, 'z'), (1971, 'b'), (1975, 'z'), (1977, 'b'), (1979, 'z'), (1983, 'b'), (1988, 'z'), (1996, 'b'), (1997, 'z'), (2002, 'b'), (2028, 'z'), (2029, 'b'), (2031, 'z'), (2034, 'b'), (2036, 'c'), (2038, 'z'), (2040, 'c'), (2141, 'z'), (2142, 'c'), (2143, 'z'), (2256, 'g'), (2271, 'z'), (2272, 'g'), (2279, 'z'), (2283, 'g'), (2375, 'z'), (2377, 'g'), (2439, 'z'), (2440, 'g'), (2460, 'z'), (2463, 'g'), (2473, 'z'), (2474, 'g'), (2538, 'z'), (2541, 'g'), (2574, 'z'), (2575, 'g'), (2584, 'z'), (2663, 'g'), (2671, 'z'), (2672, 'g'), (2690, 'z'), (2692, 'i'), (2707, 'z'), (2709, 'i'), (2719, 'z'), (2720, 'i'), (2722, 'z'), (2723, 'i'), (2777, 'z'), (2778, 'i'), (2787, 'z'), (2788, 'i'), (2794, 'z'), (2795, 'i'), (2796, 'z'), (2797, 'i'), (2804, 'z'), (2805, 'i'), (2818, 'z'), (2820, 'i'), (2902, 'z'), (2903, 'i'), (2922, 'z'), (2986, 'l'), (2992, 'z'), (2993, 'l'), (2996, 'z'), (2997, 'l'), (3038, 'z'), (3039, 'l'), (3117, 'z'), (3121, 'l'), (3133, 'z'), (3144, 'l'), (3179, 'z'), (3180, 'l'), (3183, 'z'), (3185, 'l'), (3189, 'z'), (3193, 'l'), (3212, 'z'), (3214, 'l'), (3235, 'z'), (3244, 'l'), (3281, 'z'), (3284, 'l'), (3353, 'z'), (3354, 'l'), (3355, 'z'), (3356, 'l'), (3360, 'z'), (3364, 'm'), (3366, 'z'), (3371, 'm'), (3434, 'z'), (3439, 'm'), (3452, 'z'), (3603, 'm'), (3605, 'z'), (3619, 'm'), (3622, 'z'), (3625, 'm'), (3687, 'z'), (3833, 'm'), (3862, 'z'), (3864, 'm'), (3999, 'z'), (4000, 'm'), (4004, 'z'), (4005, 'm'), (4030, 'z'), (4033, 'm'), (4039, 'z'), (4041, 'm'), (4105, 'o'), (4109, 'z'), (4113, 'o'), (4246, 'z'), (4247, 'o'), (4249, 'z'), (4416, 'o'), (4424, 'z'), (4427, 'o'), (4481, 'z'), (4483, 'o'), (4569, 'z'), (4570, 'o'), (4578, 'z'), (4580, 'o'), (4581, 'z'), (4582, 'o'), (4590, 'z'), (4591, 'o'), (4593, 'z'), (4596, 'o'), (4647, 'z'), (4650, 'o'), (4658, 'z'), (4663, 'o'), (4799, 'z'), (4800, 'o'), (4878, 'z'), (4882, 'p'), (4973, 'z'), (4979, 'p'), (5023, 'z'), (5024, 'p'), (5049, 'z'), (5050, 'p'), (5093, 'z'), (5094, 'p'), (5232, 'z'), (5233, 'r'), (5335, 'z'), (5336, 'r'), (5337, 'z'), (5338, 'r'), (5343, 'z'), (5352, 'r'), (5358, 'z'), (5361, 'r'), (5369, 'z'), (5373, 'r'), (5455, 'z'), (5457, 'r'), (5512, 'z'), (5513, 'r'), (5636, 'z'), (5646, 'r'), (5697, 'z'), (5702, 'r'), (5775, 'z'), (5776, 'r'), (5819, 'z'), (5837, 'r'), (5854, 'z'), (5856, 'w'), (5859, 'z'), (5864, 'w'), (5974, 'z'), (6103, 'w'), (6116, 'z'), (6118, 'w'), (6208, 'z'), (6209, 'w'), (6252, 'z'), (6254, 'w'), (6256, 'z'), (6258, 'w'), (6270, 'z'), (6277, 'w'), (6279, 'z'), (6280, 'w'), (6291, 'z'), (6293, 'w'), (6351, 'z'), (6352, 'w'), (6477, 'z'), (6479, 'w'), (6496, 'z'), (6498, 'w'), (6530, 'z'), (6532, 'w'), (6545, 'z')]\n"
     ]
    }
   ],
   "source": [
    "pickle_file_path = r'C:\\Users\\cidzerda\\Documents\\GitHub\\strevr-data\\unsupervised.pickle'\n",
    "label_file_path = r'C:\\Users\\cidzerda\\Documents\\GitHub\\strevr-data\\unsupervised\\unsupervised.txt'\n",
    "with open(pickle_file_path, 'rb') as fin:\n",
    "    frames = pickle.load(fin)\n",
    "    clusters = pickle.load(fin)\n",
    "with open(label_file_path, 'rt') as fin:\n",
    "    labels = eval(fin.read())\n",
    "print(len(frames), frames[0].shape, len(clusters), clusters.shape, len(labels))\n",
    "print(labels)"
   ]
  },
  {
   "cell_type": "code",
   "execution_count": 31,
   "metadata": {},
   "outputs": [
    {
     "name": "stdout",
     "output_type": "stream",
     "text": [
      "19\n"
     ]
    }
   ],
   "source": [
    "print(clusters[116])\n",
    "show_and_wait(frames[116])\n",
    "cv2.destroyAllWindows()"
   ]
  },
  {
   "cell_type": "code",
   "execution_count": null,
   "metadata": {},
   "outputs": [],
   "source": [
    "g = pairwise(labels)\n",
    "for a, b in g:\n",
    "    a, label = a\n",
    "    b, _ = b\n",
    "    for i in range(a, b):\n",
    "        show_and_wait(frames[i], wait_time=25)\n",
    "    print(label)\n",
    "    if chr(cv2.waitKey(0)) == 'q':\n",
    "        cv2.destroyAllWindows()\n",
    "        break"
   ]
  }
 ],
 "metadata": {
  "kernelspec": {
   "display_name": "Python 3",
   "language": "python",
   "name": "python3"
  },
  "language_info": {
   "codemirror_mode": {
    "name": "ipython",
    "version": 3
   },
   "file_extension": ".py",
   "mimetype": "text/x-python",
   "name": "python",
   "nbconvert_exporter": "python",
   "pygments_lexer": "ipython3",
   "version": "3.6.6"
  }
 },
 "nbformat": 4,
 "nbformat_minor": 2
}

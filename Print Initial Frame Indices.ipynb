{
 "cells": [
  {
   "cell_type": "code",
   "execution_count": 23,
   "metadata": {},
   "outputs": [
    {
     "name": "stdout",
     "output_type": "stream",
     "text": [
      "0.0\n"
     ]
    }
   ],
   "source": [
    "import cv2\n",
    "c = cv2.VideoCapture(r\"C:\\Users\\cidzerda\\Documents\\GitHub\\streams\\kswinniie.mp4\", cv2.CAP_MSMF)\n",
    "print(c.get(cv2.CAP_PROP_POS_FRAMES))"
   ]
  },
  {
   "cell_type": "code",
   "execution_count": 28,
   "metadata": {},
   "outputs": [
    {
     "name": "stdout",
     "output_type": "stream",
     "text": [
      "3.0\n",
      "4.0\n",
      "4.0\n",
      "4.0\n",
      "5.0\n"
     ]
    }
   ],
   "source": [
    "for i in range(5):\n",
    "    c.set(cv2.CAP_PROP_POS_FRAMES, i)\n",
    "    _, frame = c.read()\n",
    "    print(c.get(cv2.CAP_PROP_POS_FRAMES))\n",
    "    cv2.imshow('Untitled2', frame)\n",
    "    cv2.waitKey(0)"
   ]
  },
  {
   "cell_type": "code",
   "execution_count": 29,
   "metadata": {},
   "outputs": [],
   "source": [
    "c.release()\n",
    "cv2.destroyAllWindows()"
   ]
  }
 ],
 "metadata": {
  "kernelspec": {
   "display_name": "Python 3",
   "language": "python",
   "name": "python3"
  },
  "language_info": {
   "codemirror_mode": {
    "name": "ipython",
    "version": 3
   },
   "file_extension": ".py",
   "mimetype": "text/x-python",
   "name": "python",
   "nbconvert_exporter": "python",
   "pygments_lexer": "ipython3",
   "version": "3.6.6"
  }
 },
 "nbformat": 4,
 "nbformat_minor": 2
}

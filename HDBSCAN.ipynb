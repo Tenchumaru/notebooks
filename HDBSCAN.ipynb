{
 "cells": [
  {
   "cell_type": "code",
   "execution_count": 3,
   "metadata": {},
   "outputs": [],
   "source": [
    "%matplotlib inline\n",
    "\n",
    "import cv2\n",
    "import functools as ft\n",
    "import itertools as it\n",
    "import mxnet as mx\n",
    "import numpy as np\n",
    "import operator as op\n",
    "import pickle\n",
    "import random\n",
    "import sys\n",
    "import hdbscan\n",
    "from sklearn.preprocessing import StandardScaler\n",
    "\n",
    "def show_and_wait(frame, title='tesst'):\n",
    "    cv2.imshow(title, frame)\n",
    "    return chr(cv2.waitKey(0))\n",
    "\n",
    "def read_and_wait(video, title='tesst'):\n",
    "    result, frame = video.read()\n",
    "    if result:\n",
    "        return show_and_wait(frame, title)\n",
    "\n",
    "def pairwise(iterable):\n",
    "    \"s -> (s0,s1), (s1,s2), (s2, s3), ...\"\n",
    "    a, b = it.tee(iterable)\n",
    "    next(b, None)\n",
    "    return zip(a, b)"
   ]
  },
  {
   "cell_type": "code",
   "execution_count": 2,
   "metadata": {},
   "outputs": [
    {
     "name": "stdout",
     "output_type": "stream",
     "text": [
      "154000 (30, 35, 3)\n"
     ]
    }
   ],
   "source": [
    "path = r\"C:\\Users\\cidzerda\\Documents\\GitHub\\strevr-data\\legends.pickle\"\n",
    "frames, labels = [], []\n",
    "with open(path, 'rb') as fin:\n",
    "    while True:\n",
    "        try:\n",
    "            frames.append(pickle.load(fin))\n",
    "            labels.append(pickle.load(fin))\n",
    "        except:\n",
    "            break\n",
    "print(len(frames), frames[0].shape)"
   ]
  },
  {
   "cell_type": "code",
   "execution_count": 4,
   "metadata": {},
   "outputs": [
    {
     "name": "stdout",
     "output_type": "stream",
     "text": [
      "(154000, 3150)\n"
     ]
    }
   ],
   "source": [
    "X = StandardScaler().fit_transform(np.stack([f.reshape(-1) for f in frames]))\n",
    "print(X.shape)"
   ]
  },
  {
   "cell_type": "code",
   "execution_count": 38,
   "metadata": {},
   "outputs": [
    {
     "name": "stdout",
     "output_type": "stream",
     "text": [
      "cluster count: 12 true count: 11\n",
      "[ 3  4  7  0  3  1  2  8  9  6  8  1  9 10  2  5  2  0 11  8  1  7]\n",
      "['w', 'p', 'o', 'a', 'w', 'c', 'l', 'm', 'i', 'b', 'm', 'c', 'i', 'g', 'l', 'r', 'l', 'a', 'g', 'm', 'c', 'o']\n"
     ]
    }
   ],
   "source": [
    "random.seed(1)\n",
    "indices = random.sample(range(len(X)), 5555)\n",
    "data, true_labels = [X[i] for i in indices], [labels[i] for i in indices]\n",
    "\n",
    "clusterer = hdbscan.HDBSCAN(min_cluster_size=25)\n",
    "cluster_labels = clusterer.fit_predict(data)\n",
    "print('cluster count:', len(np.unique(cluster_labels)), 'true count:', len(np.unique(true_labels)))\n",
    "print(cluster_labels[:22] % len(np.unique(cluster_labels)))\n",
    "print(true_labels[:22])"
   ]
  },
  {
   "cell_type": "code",
   "execution_count": 39,
   "metadata": {},
   "outputs": [
    {
     "name": "stdout",
     "output_type": "stream",
     "text": [
      "w\n",
      "p\n",
      "o\n",
      "a\n",
      "w\n"
     ]
    }
   ],
   "source": [
    "for i in range(5):\n",
    "    print(true_labels[i])\n",
    "    show_and_wait(frames[indices[i]])\n",
    "cv2.destroyAllWindows()"
   ]
  }
 ],
 "metadata": {
  "kernelspec": {
   "display_name": "Python 3",
   "language": "python",
   "name": "python3"
  },
  "language_info": {
   "codemirror_mode": {
    "name": "ipython",
    "version": 3
   },
   "file_extension": ".py",
   "mimetype": "text/x-python",
   "name": "python",
   "nbconvert_exporter": "python",
   "pygments_lexer": "ipython3",
   "version": "3.6.6"
  }
 },
 "nbformat": 4,
 "nbformat_minor": 2
}

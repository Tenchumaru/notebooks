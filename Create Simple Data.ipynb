{
 "cells": [
  {
   "cell_type": "code",
   "execution_count": 1,
   "metadata": {},
   "outputs": [],
   "source": [
    "import cv2\n",
    "from datetime import datetime\n",
    "import itertools as it\n",
    "import numpy as np\n",
    "import random\n",
    "from typing import Tuple\n",
    "\n",
    "class mx:\n",
    "    class context:\n",
    "        class Context:\n",
    "            pass\n",
    "    def cpu():\n",
    "        pass\n",
    "    class nd:\n",
    "        class NDArray:\n",
    "            pass\n",
    "        def array(array, ctx):\n",
    "            return array\n",
    "\n",
    "class Timer:\n",
    "    def __init__(self, message: str):\n",
    "        self.__message = message\n",
    "\n",
    "    def __enter__(self):\n",
    "        self.__start_at = datetime.now()\n",
    "\n",
    "    def __exit__(self, *args):\n",
    "        print(f'{self.__message} time:', (datetime.now() - self.__start_at).total_seconds(), 'seconds')"
   ]
  },
  {
   "cell_type": "code",
   "execution_count": 2,
   "metadata": {},
   "outputs": [
    {
     "name": "stdout",
     "output_type": "stream",
     "text": [
      "make_data time: 0.263294 seconds\n",
      "0.0 1.0 float64 (999, 1, 60, 400) -1 27 int32 (999, 80)\n",
      "(540, 400)\n"
     ]
    },
    {
     "data": {
      "text/plain": [
       "((999, 1, 60, 400), [80, 80, 80, 80, 80, 80, 80, 80, 80])"
      ]
     },
     "execution_count": 2,
     "metadata": {},
     "output_type": "execute_result"
    }
   ],
   "source": [
    "max_seq_len = 80\n",
    "alphabet = list(map(chr, range(ord('A'), ord('Z') + 1))) + list(\"'-\")\n",
    "alphabet_dict = {alphabet[i]: i for i in range(len(alphabet))}\n",
    "alphabet_with_spaces = alphabet + round(len(alphabet) / 5) * [' ']\n",
    "font_face = cv2.FONT_HERSHEY_SIMPLEX\n",
    "font_scale = 1.5\n",
    "thickness = 2\n",
    "width, height = 400, 60\n",
    "\n",
    "def get_text_size(text: str, font_face: int, font_scale: int, thickness: int) -> Tuple[int, int]:\n",
    "    text_size, _ = cv2.getTextSize(text, font_face, font_scale, thickness)\n",
    "    return text_size[0] + thickness, text_size[1] + thickness\n",
    "\n",
    "def put_text(image: np.ndarray, text: str, x: int, y: int) -> None:\n",
    "    text_size = get_text_size(text, font_face, font_scale, thickness)\n",
    "    cv2.putText(image, text, (x, y + text_size[1]), font_face, font_scale, (255,), thickness, cv2.LINE_AA)\n",
    "\n",
    "def make_data(n: int, ctx: mx.context.Context) -> Tuple[mx.nd.NDArray, mx.nd.NDArray]:\n",
    "    def fn(_):\n",
    "        letters = None\n",
    "        while letters is None or len([c for c in letters if c != ' ']) < 2:\n",
    "            letters = random.choices(alphabet_with_spaces, k=10)\n",
    "        s = ''.join(letters)\n",
    "        image = np.zeros((height, width), dtype=np.uint8)\n",
    "        put_text(image, s, random.randrange(5, 35), 5)\n",
    "        g = (alphabet_dict[c] for c in letters if c != ' ')\n",
    "        g = it.chain(g, it.repeat(-1, max_seq_len))\n",
    "        return image[np.newaxis, :, :] / 255.0, list(g)[:max_seq_len]\n",
    "    x, y = (mx.nd.array(np.stack(v, axis=0), ctx=ctx) for v in zip(*map(fn, range(n))))\n",
    "    return x, y\n",
    "\n",
    "with Timer('make_data'):\n",
    "    inputs, outputs = make_data(999, mx.cpu())\n",
    "print(inputs.min(), inputs.max(), inputs.dtype, inputs.shape, outputs.min(), outputs.max(), outputs.dtype, outputs.shape)\n",
    "image = np.vstack(inputs[:9])\n",
    "image = image.reshape(-1, image.shape[-1])\n",
    "print(image.shape)\n",
    "cv2.imshow('tesst', image)\n",
    "cv2.waitKey()\n",
    "cv2.destroyWindow('tesst')\n",
    "np.stack(inputs, axis=0).shape, list(map(len, outputs[:9]))"
   ]
  }
 ],
 "metadata": {
  "kernelspec": {
   "display_name": "Python 3 (ipykernel)",
   "language": "python",
   "name": "python3"
  },
  "language_info": {
   "codemirror_mode": {
    "name": "ipython",
    "version": 3
   },
   "file_extension": ".py",
   "mimetype": "text/x-python",
   "name": "python",
   "nbconvert_exporter": "python",
   "pygments_lexer": "ipython3",
   "version": "3.10.5"
  }
 },
 "nbformat": 4,
 "nbformat_minor": 2
}

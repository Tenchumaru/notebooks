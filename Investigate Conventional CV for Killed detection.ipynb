{
 "cells": [
  {
   "cell_type": "code",
   "execution_count": 1,
   "metadata": {},
   "outputs": [],
   "source": [
    "import cv2\n",
    "import itertools as it\n",
    "import math\n",
    "import numpy as np\n",
    "import os\n",
    "import pickle\n",
    "import random\n",
    "from collections import Counter\n",
    "from utilities import *"
   ]
  },
  {
   "cell_type": "code",
   "execution_count": 5,
   "metadata": {},
   "outputs": [
    {
     "data": {
      "text/plain": [
       "(array([0.52949995, 0.6719118 , 0.70135915], dtype=float32),\n",
       " array([70.05418  ,  6.4813266, 27.519352 ], dtype=float32),\n",
       " array([0.5308992, 0.6740422, 0.7026945], dtype=float32))"
      ]
     },
     "execution_count": 5,
     "metadata": {},
     "output_type": "execute_result"
    }
   ],
   "source": [
    "file_titles = ('2020-04-11-telshin-3', '2020-04-13-mixwell-1', '2020-04-14-myth-0')\n",
    "top, left, bottom, right = 39, 678, 242, 725\n",
    "width, height = right - left, 11\n",
    "color = np.array([0.52949995, 0.6719118, 0.70135915], dtype=np.float32)\n",
    "luv = np.array([70.05418, 6.4813266, 27.519352], dtype=np.float32)\n",
    "composite = cv2.cvtColor(np.broadcast_to(luv, (1, 1, 3)), cv2.COLOR_LUV2BGR).reshape(-1)\n",
    "color_template, luv_template, composite_template = (np.broadcast_to(i, (height, width, 3)) for i in (color, luv, composite))\n",
    "color, luv, composite"
   ]
  },
  {
   "cell_type": "code",
   "execution_count": null,
   "metadata": {},
   "outputs": [],
   "source": [
    "def fn(file_title):\n",
    "    input_file_path = fr'D:\\Valorant\\Videos\\{file_title}.mp4'\n",
    "    output_file_path = fr'D:\\Valorant\\Killed\\Pickles\\{file_title}.pickle'\n",
    "    video = cv2.VideoCapture(input_file_path)\n",
    "    with open(output_file_path, 'wb') as fout:\n",
    "        while True:\n",
    "            _, frame = video.read()\n",
    "            if frame is None:\n",
    "                break\n",
    "            image = frame[top:bottom, left:right].astype(np.float32) / 255\n",
    "            pickle.dump(image, fout)\n",
    "    video.release()\n",
    "for s in file_titles:\n",
    "    fn(s)"
   ]
  },
  {
   "cell_type": "code",
   "execution_count": 3,
   "metadata": {},
   "outputs": [
    {
     "data": {
      "text/plain": [
       "Counter({'n': 84497, 'y': 30976, 'z': 1})"
      ]
     },
     "execution_count": 3,
     "metadata": {},
     "output_type": "execute_result"
    }
   ],
   "source": [
    "def fn(file_path):\n",
    "    with open(file_path) as fin:\n",
    "        return fin.readline().rstrip()\n",
    "g = (fr'D:\\Valorant\\Killed\\Labels\\{s}.txt' for s in file_titles)\n",
    "g = map(fn, g)\n",
    "g = it.chain.from_iterable(g)\n",
    "labels = ''.join(g)\n",
    "Counter(labels)"
   ]
  },
  {
   "cell_type": "code",
   "execution_count": 4,
   "metadata": {},
   "outputs": [
    {
     "data": {
      "text/plain": [
       "Counter({'n': 14604, 'y': 5396})"
      ]
     },
     "execution_count": 4,
     "metadata": {},
     "output_type": "execute_result"
    }
   ],
   "source": [
    "def fn(g, n, k):\n",
    "    for v in g:\n",
    "        if random.randrange(n) < k:\n",
    "            yield v\n",
    "            k -= 1\n",
    "            if k == 0:\n",
    "                break\n",
    "        n -= 1\n",
    "g = (fr'D:\\Valorant\\Killed\\Pickles\\{s}.pickle' for s in file_titles)\n",
    "g = map(pickle_iter, g)\n",
    "g = it.chain.from_iterable(g)\n",
    "g = zip(g, labels)\n",
    "g = ((i, l) for i, l in g if l != 'z')\n",
    "data = list(fn(g, len(labels), 20000))\n",
    "Counter(l for i, l in data)"
   ]
  },
  {
   "cell_type": "code",
   "execution_count": 10,
   "metadata": {},
   "outputs": [
    {
     "data": {
      "text/plain": [
       "[Counter({('n', False): 9613,\n",
       "          ('n', True): 4991,\n",
       "          ('y', True): 5375,\n",
       "          ('y', False): 21})]"
      ]
     },
     "execution_count": 10,
     "metadata": {},
     "output_type": "execute_result"
    }
   ],
   "source": [
    "def fn(image, label):\n",
    "    match = cv2.matchTemplate(image, color_template, cv2.TM_SQDIFF)\n",
    "    result = match.min() < 46\n",
    "    return label, result\n",
    "[Counter(it.starmap(fn, data))]"
   ]
  },
  {
   "cell_type": "code",
   "execution_count": 6,
   "metadata": {},
   "outputs": [
    {
     "data": {
      "text/plain": [
       "[Counter({('n', False): 7357,\n",
       "          ('n', True): 7247,\n",
       "          ('y', True): 5298,\n",
       "          ('y', False): 98})]"
      ]
     },
     "execution_count": 6,
     "metadata": {},
     "output_type": "execute_result"
    }
   ],
   "source": [
    "def fn(image, label):\n",
    "    image = cv2.cvtColor(image, cv2.COLOR_BGR2LUV)\n",
    "    match = cv2.matchTemplate(image, luv_template, cv2.TM_SQDIFF)\n",
    "    result = match.min() < 500000 or len(match[match < 2 * match.min()]) < 60\n",
    "    return label, result\n",
    "[Counter(it.starmap(fn, data))]"
   ]
  },
  {
   "cell_type": "code",
   "execution_count": 8,
   "metadata": {},
   "outputs": [
    {
     "data": {
      "text/plain": [
       "[Counter({('n', False): 9042,\n",
       "          ('n', True): 5562,\n",
       "          ('y', True): 5374,\n",
       "          ('y', False): 22})]"
      ]
     },
     "execution_count": 8,
     "metadata": {},
     "output_type": "execute_result"
    }
   ],
   "source": [
    "def fn(image, label):\n",
    "    match = cv2.matchTemplate(image, composite_template, cv2.TM_SQDIFF)\n",
    "    result = match.min() < 42 or len(match[match < 2 * match.min()]) < 30\n",
    "    return label, result\n",
    "[Counter(it.starmap(fn, data))]"
   ]
  }
 ],
 "metadata": {
  "kernelspec": {
   "display_name": "Python 3",
   "language": "python",
   "name": "python3"
  },
  "language_info": {
   "codemirror_mode": {
    "name": "ipython",
    "version": 3
   },
   "file_extension": ".py",
   "mimetype": "text/x-python",
   "name": "python",
   "nbconvert_exporter": "python",
   "pygments_lexer": "ipython3",
   "version": "3.7.5"
  }
 },
 "nbformat": 4,
 "nbformat_minor": 2
}

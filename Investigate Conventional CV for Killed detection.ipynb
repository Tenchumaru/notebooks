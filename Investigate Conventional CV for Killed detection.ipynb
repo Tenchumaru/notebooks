{
 "cells": [
  {
   "cell_type": "code",
   "execution_count": 29,
   "metadata": {},
   "outputs": [],
   "source": [
    "import bisect\n",
    "import cv2\n",
    "import itertools as it\n",
    "import numpy as np\n",
    "import pickle\n",
    "import random\n",
    "from collections import Counter, defaultdict\n",
    "from utilities import *"
   ]
  },
  {
   "cell_type": "code",
   "execution_count": 20,
   "metadata": {},
   "outputs": [
    {
     "data": {
      "text/plain": [
       "array([135, 171, 179], dtype=uint8)"
      ]
     },
     "execution_count": 20,
     "metadata": {},
     "output_type": "execute_result"
    }
   ],
   "source": [
    "file_titles = ('2020-04-11-telshin-3', '2020-04-13-mixwell-1', '2020-04-14-myth-0')\n",
    "top, left, bottom, right = 39, 678, 242, 725\n",
    "width, height = right - left, 11\n",
    "color = [0.52949995, 0.6719118, 0.70135915]\n",
    "color = [min(max(0, round(255 * v)), 255) for v in color]\n",
    "color = np.array(color, dtype=np.uint8)\n",
    "color_template = np.broadcast_to(color, (height, width, 3))\n",
    "color"
   ]
  },
  {
   "cell_type": "code",
   "execution_count": 15,
   "metadata": {},
   "outputs": [],
   "source": [
    "def fn(file_title):\n",
    "    input_file_path = fr'D:\\Valorant\\Videos\\{file_title}.mp4'\n",
    "    output_file_path = fr'D:\\Valorant\\Killed\\Pickles\\{file_title}.pickle'\n",
    "    video = cv2.VideoCapture(input_file_path)\n",
    "    with open(output_file_path, 'wb') as fout:\n",
    "        while True:\n",
    "            _, frame = video.read()\n",
    "            if frame is None:\n",
    "                break\n",
    "            image = frame[top:bottom, left:right]\n",
    "            pickle.dump(image, fout)\n",
    "    video.release()\n",
    "for s in file_titles:\n",
    "    fn(s)"
   ]
  },
  {
   "cell_type": "code",
   "execution_count": 17,
   "metadata": {},
   "outputs": [
    {
     "data": {
      "text/plain": [
       "Counter({'n': 84497, 'y': 30976, 'z': 1})"
      ]
     },
     "execution_count": 17,
     "metadata": {},
     "output_type": "execute_result"
    }
   ],
   "source": [
    "def fn(file_path):\n",
    "    with open(file_path) as fin:\n",
    "        return fin.readline().rstrip()\n",
    "g = (fr'D:\\Valorant\\Killed\\Labels\\{s}.txt' for s in file_titles)\n",
    "g = map(fn, g)\n",
    "g = it.chain.from_iterable(g)\n",
    "labels = ''.join(g)\n",
    "Counter(labels)"
   ]
  },
  {
   "cell_type": "code",
   "execution_count": 18,
   "metadata": {},
   "outputs": [
    {
     "data": {
      "text/plain": [
       "Counter({'n': 14599, 'y': 5400})"
      ]
     },
     "execution_count": 18,
     "metadata": {},
     "output_type": "execute_result"
    }
   ],
   "source": [
    "def fn(g, n, k):\n",
    "    for v in g:\n",
    "        if random.randrange(n) < k:\n",
    "            yield v\n",
    "            k -= 1\n",
    "            if k == 0:\n",
    "                break\n",
    "        n -= 1\n",
    "g = (fr'D:\\Valorant\\Killed\\Pickles\\{s}.pickle' for s in file_titles)\n",
    "g = map(pickle_iter, g)\n",
    "g = it.chain.from_iterable(g)\n",
    "g = zip(g, labels)\n",
    "g = ((i, l) for i, l in g if l != 'z')\n",
    "data = list(fn(g, len(labels), 20000))\n",
    "Counter(l for i, l in data)"
   ]
  },
  {
   "cell_type": "code",
   "execution_count": 23,
   "metadata": {},
   "outputs": [],
   "source": [
    "def fn(image, label):\n",
    "    match = cv2.matchTemplate(image, color_template, cv2.TM_SQDIFF)\n",
    "    result = match.min()\n",
    "    return label, result\n",
    "d = defaultdict(list)\n",
    "g = it.starmap(fn, data)\n",
    "for label, result in g:\n",
    "    d[label].append(result)"
   ]
  },
  {
   "cell_type": "code",
   "execution_count": 25,
   "metadata": {},
   "outputs": [
    {
     "data": {
      "text/plain": [
       "[('n', 28361.0, 39982580.0), ('y', 4158.0, 4745223.0)]"
      ]
     },
     "execution_count": 25,
     "metadata": {},
     "output_type": "execute_result"
    }
   ],
   "source": [
    "[(k, min(v), max(v)) for k, v in d.items()]"
   ]
  },
  {
   "cell_type": "code",
   "execution_count": 32,
   "metadata": {
    "scrolled": false
   },
   "outputs": [
    {
     "name": "stdout",
     "output_type": "stream",
     "text": [
      "2372612 Counter({('n', False): 10341, ('y', True): 5326, ('n', True): 4258, ('y', False): 74})\n",
      "3558919 Counter({('n', False): 9023, ('n', True): 5576, ('y', True): 5396, ('y', False): 4})\n",
      "2965766 Counter({('n', False): 9633, ('y', True): 5366, ('n', True): 4966, ('y', False): 34})\n",
      "3262343 Counter({('n', False): 9357, ('y', True): 5394, ('n', True): 5242, ('y', False): 6})\n",
      "3114055 Counter({('n', False): 9502, ('y', True): 5391, ('n', True): 5097, ('y', False): 9})\n",
      "3039911 Counter({('n', False): 9566, ('y', True): 5389, ('n', True): 5033, ('y', False): 11})\n",
      "3002839 Counter({('n', False): 9599, ('y', True): 5387, ('n', True): 5000, ('y', False): 13})\n",
      "2984303 Counter({('n', False): 9614, ('y', True): 5379, ('n', True): 4985, ('y', False): 21})\n",
      "2993571 Counter({('n', False): 9605, ('y', True): 5387, ('n', True): 4994, ('y', False): 13})\n",
      "2988937 Counter({('n', False): 9610, ('y', True): 5382, ('n', True): 4989, ('y', False): 18})\n",
      "2991254 Counter({('n', False): 9607, ('y', True): 5387, ('n', True): 4992, ('y', False): 13})\n",
      "2990096 Counter({('n', False): 9609, ('y', True): 5387, ('n', True): 4990, ('y', False): 13})\n",
      "2989517 Counter({('n', False): 9609, ('y', True): 5385, ('n', True): 4990, ('y', False): 15})\n",
      "2989807 Counter({('n', False): 9609, ('y', True): 5387, ('n', True): 4990, ('y', False): 13})\n",
      "2989662 Counter({('n', False): 9609, ('y', True): 5386, ('n', True): 4990, ('y', False): 14})\n",
      "2989735 Counter({('n', False): 9609, ('y', True): 5387, ('n', True): 4990, ('y', False): 13})\n",
      "2989699 Counter({('n', False): 9609, ('y', True): 5386, ('n', True): 4990, ('y', False): 14})\n",
      "2989717 Counter({('n', False): 9609, ('y', True): 5386, ('n', True): 4990, ('y', False): 14})\n",
      "2989726 Counter({('n', False): 9609, ('y', True): 5387, ('n', True): 4990, ('y', False): 13})\n",
      "2989722 Counter({('n', False): 9609, ('y', True): 5387, ('n', True): 4990, ('y', False): 13})\n",
      "2989720 Counter({('n', False): 9609, ('y', True): 5386, ('n', True): 4990, ('y', False): 14})\n",
      "2989721 Counter({('n', False): 9609, ('y', True): 5387, ('n', True): 4990, ('y', False): 13})\n"
     ]
    },
    {
     "data": {
      "text/plain": [
       "2989721"
      ]
     },
     "execution_count": 32,
     "metadata": {},
     "output_type": "execute_result"
    }
   ],
   "source": [
    "class Tesst:\n",
    "    def __len__(self):\n",
    "        return 4745225\n",
    "    def __getitem__(self, i):\n",
    "        def fn(image, label):\n",
    "            match = cv2.matchTemplate(image, color_template, cv2.TM_SQDIFF)\n",
    "            result = match.min() < i\n",
    "            return label, result\n",
    "        d = Counter(it.starmap(fn, data))\n",
    "        n = d[('y', False)]\n",
    "        print(i, d)\n",
    "        return 13 - n\n",
    "bisect.bisect_left(Tesst(), 0)"
   ]
  },
  {
   "cell_type": "code",
   "execution_count": 33,
   "metadata": {},
   "outputs": [
    {
     "data": {
      "text/plain": [
       "[Counter({('n', False): 9609,\n",
       "          ('n', True): 4990,\n",
       "          ('y', True): 5387,\n",
       "          ('y', False): 13})]"
      ]
     },
     "execution_count": 33,
     "metadata": {},
     "output_type": "execute_result"
    }
   ],
   "source": [
    "def fn(image, label):\n",
    "    match = cv2.matchTemplate(image, color_template, cv2.TM_SQDIFF)\n",
    "    result = match.min() < 2990096\n",
    "    return label, result\n",
    "Counter(it.starmap(fn, data))"
   ]
  }
 ],
 "metadata": {
  "kernelspec": {
   "display_name": "Python 3",
   "language": "python",
   "name": "python3"
  },
  "language_info": {
   "codemirror_mode": {
    "name": "ipython",
    "version": 3
   },
   "file_extension": ".py",
   "mimetype": "text/x-python",
   "name": "python",
   "nbconvert_exporter": "python",
   "pygments_lexer": "ipython3",
   "version": "3.7.5"
  }
 },
 "nbformat": 4,
 "nbformat_minor": 2
}

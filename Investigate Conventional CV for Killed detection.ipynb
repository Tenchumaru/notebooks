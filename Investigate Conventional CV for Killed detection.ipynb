{
 "cells": [
  {
   "cell_type": "code",
   "execution_count": 1,
   "metadata": {},
   "outputs": [],
   "source": [
    "%matplotlib inline\n",
    "\n",
    "import cv2\n",
    "import itertools as it\n",
    "import math\n",
    "import matplotlib.pyplot as plt\n",
    "import numpy as np\n",
    "import os\n",
    "import pickle\n",
    "import random\n",
    "from collections import Counter\n",
    "from utilities import *\n",
    "\n",
    "def show_square(images, size=None):\n",
    "    n = math.ceil(math.sqrt(len(images)))\n",
    "    if size is None:\n",
    "        size = 999 // n\n",
    "    height, width = (min(size, n) for n in images[0].shape[:2])\n",
    "    g = (cv2.resize(image, (width, height)) for image in images)\n",
    "    z = np.zeros_like(images[0])[:height, :width]\n",
    "    g = (np.hstack(list(g)) for g in grouper(g, n, fillvalue=z))\n",
    "    return show_and_wait(np.vstack(list(g)))"
   ]
  },
  {
   "cell_type": "code",
   "execution_count": 2,
   "metadata": {},
   "outputs": [
    {
     "data": {
      "text/plain": [
       "16000"
      ]
     },
     "execution_count": 2,
     "metadata": {},
     "output_type": "execute_result"
    }
   ],
   "source": [
    "g = (fr'D:\\Valorant\\Killed\\Color\\{i:05}.pickle' for i in (1, 39))\n",
    "g = map(pickle_iter, g)\n",
    "images = list(it.chain.from_iterable(g))\n",
    "len(images)"
   ]
  },
  {
   "cell_type": "code",
   "execution_count": 3,
   "metadata": {},
   "outputs": [
    {
     "name": "stdout",
     "output_type": "stream",
     "text": [
      "1883\n"
     ]
    }
   ],
   "source": [
    "for i, image in enumerate(images):\n",
    "    if show_and_wait(image, wait_time=1) == 'q':\n",
    "        print(i)\n",
    "        break\n",
    "cv2.destroyAllWindows()"
   ]
  },
  {
   "cell_type": "code",
   "execution_count": 4,
   "metadata": {},
   "outputs": [],
   "source": [
    "indexes = (0, 6096, 6310, 7748, 8000, 11700, 13565, 13645, 13734, 13783,\n",
    "           13849, 15033, 15545, 15548, 15555, 15582, 15602, 16000)"
   ]
  },
  {
   "cell_type": "code",
   "execution_count": 5,
   "metadata": {},
   "outputs": [
    {
     "data": {
      "text/plain": [
       "[(214, [2, 107]),\n",
       " (252, [2, 2, 3, 3, 7]),\n",
       " (1865, [5, 373]),\n",
       " (89, [89]),\n",
       " (66, [2, 3, 11]),\n",
       " (512, [2, 2, 2, 2, 2, 2, 2, 2, 2]),\n",
       " (7, [7]),\n",
       " (20, [2, 2, 5])]"
      ]
     },
     "execution_count": 5,
     "metadata": {},
     "output_type": "execute_result"
    }
   ],
   "source": [
    "positives = list(images[a:b] for a, b in grouper(indexes[1:-1], 2))\n",
    "show_square(list(it.chain.from_iterable(positives)))\n",
    "cv2.destroyAllWindows()\n",
    "[(len(l), list(prime_factors(len(l)))) for l in positives]"
   ]
  },
  {
   "cell_type": "code",
   "execution_count": 6,
   "metadata": {},
   "outputs": [],
   "source": [
    "show_and_wait(np.hstack([np.vstack(random.sample(l, 7)) for l in positives]))\n",
    "cv2.destroyAllWindows()"
   ]
  },
  {
   "cell_type": "code",
   "execution_count": 7,
   "metadata": {},
   "outputs": [],
   "source": [
    "for i, image in enumerate(it.chain.from_iterable(positives)):\n",
    "    if show_and_wait(image, wait_time=12) == 'q':\n",
    "        break\n",
    "cv2.destroyAllWindows()"
   ]
  },
  {
   "cell_type": "code",
   "execution_count": 8,
   "metadata": {},
   "outputs": [
    {
     "data": {
      "text/plain": [
       "(array([0.52949995, 0.6719118 , 0.70135915], dtype=float32),\n",
       " array([70.05418  ,  6.4813266, 27.519352 ], dtype=float32),\n",
       " array([[[0.5308992, 0.6740422, 0.7026945]]], dtype=float32))"
      ]
     },
     "execution_count": 8,
     "metadata": {},
     "output_type": "execute_result"
    }
   ],
   "source": [
    "left, right = 3, 59\n",
    "width, height = right - left, 11\n",
    "extents = (\n",
    "    (59, left, 59 + height, right),\n",
    "    (95, left, 95 + height, right),\n",
    "    (49, left, 49 + height, right),\n",
    "    (73, left, 73 + height, right),\n",
    "    (73, left, 73 + height, right),\n",
    "    (60, left, 60 + height, right),\n",
    "    (60, left, 60 + height, right),\n",
    "    (60, left, 60 + height, right),\n",
    ")\n",
    "g = zip(positives, extents)\n",
    "g = (zip(a, it.repeat(b)) for a, b in g)\n",
    "g = it.chain.from_iterable(g)\n",
    "g = (i[top:bottom, left:right] for i, (top, left, bottom, right) in g)\n",
    "g = ((i, cv2.cvtColor(i, cv2.COLOR_BGR2LUV)) for i in g)\n",
    "g = zip(*g)\n",
    "color = np.stack(list(next(g))).mean(axis=(0, 1, 2))\n",
    "luv = np.stack(list(next(g))).mean(axis=(0, 1, 2))\n",
    "show_and_wait(np.vstack([\n",
    "    np.broadcast_to(color, (111, 222, 3)),\n",
    "    cv2.cvtColor(np.broadcast_to(luv, (111, 222, 3)), cv2.COLOR_LUV2BGR),\n",
    "]))\n",
    "cv2.destroyAllWindows()\n",
    "positives = list(it.chain.from_iterable(positives))\n",
    "color, luv, cv2.cvtColor(np.broadcast_to(luv, (1, 1, 3)), cv2.COLOR_LUV2BGR)"
   ]
  },
  {
   "cell_type": "code",
   "execution_count": 9,
   "metadata": {
    "scrolled": true
   },
   "outputs": [
    {
     "data": {
      "text/plain": [
       "(array([ 99.53078 ,  98.58604 ,  97.52049 ,  95.9792  ,  94.303734,\n",
       "         92.19998 ,  89.75486 ,  86.91403 ,  83.807304,  80.45618 ,\n",
       "         76.857216,  73.23069 ,  69.96427 ,  66.92392 ,  64.334305,\n",
       "         61.748333,  59.354908,  57.240044,  55.48504 ,  53.973682,\n",
       "         52.757607,  51.799583,  50.912483,  49.92861 ,  49.091946,\n",
       "         48.172413,  47.31106 ,  46.335487,  45.453068,  44.512863,\n",
       "         43.430042,  42.12786 ,  40.60775 ,  39.19978 ,  37.955402,\n",
       "         36.667732,  35.610847,  34.65393 ,  33.828552,  32.963394,\n",
       "         32.222588,  31.631948,  31.19197 ,  30.875448,  30.822918,\n",
       "         30.747808,  30.097124,  28.216944,  27.151716,  26.13875 ,\n",
       "         25.076878,  24.038067,  23.013193,  22.003084,  21.17602 ,\n",
       "         20.083853,  18.978073,  18.5195  ,  19.288967,  19.259623,\n",
       "         19.875525,  19.502615,  34.749435,  50.551704,  66.93586 ,\n",
       "         82.95444 ,  97.44619 , 111.53619 , 126.60974 , 140.76355 ,\n",
       "        153.68468 , 174.26604 , 192.172   , 194.07353 , 194.57909 ,\n",
       "        190.9874  , 187.23882 , 178.75893 , 170.17915 , 178.87306 ,\n",
       "        187.49614 , 188.16585 , 178.06291 , 174.46658 , 172.01625 ,\n",
       "        170.773   , 173.85516 , 177.86987 , 189.08134 , 201.78442 ,\n",
       "        197.48781 , 194.77495 , 204.21756 , 214.68593 , 200.30525 ,\n",
       "        190.84364 , 197.82738 , 201.09663 ], dtype=float32),\n",
       " 18.5195,\n",
       " 214.68593)"
      ]
     },
     "execution_count": 9,
     "metadata": {},
     "output_type": "execute_result"
    }
   ],
   "source": [
    "color_template, luv_template = (np.broadcast_to(i, (height, width, 3)) for i in (color, luv))\n",
    "match = cv2.matchTemplate(positives[0][:, left:right], color_template, cv2.TM_SQDIFF)\n",
    "show_and_wait(np.broadcast_to(match / match.max(), (match.shape[0], 222)))\n",
    "cv2.destroyAllWindows()\n",
    "match.reshape(-1), match.min(), match.max()"
   ]
  },
  {
   "cell_type": "code",
   "execution_count": 10,
   "metadata": {},
   "outputs": [
    {
     "data": {
      "text/plain": [
       "([5, 5, 11, 11], 3025, 3025)"
      ]
     },
     "execution_count": 10,
     "metadata": {},
     "output_type": "execute_result"
    }
   ],
   "source": [
    "negatives = list(it.chain.from_iterable(range(a, b) for a, b in grouper(indexes, 2)))\n",
    "negatives = sorted(random.sample(negatives, len(positives)))\n",
    "negatives = [images[i] for i in negatives]\n",
    "show_square(negatives)\n",
    "cv2.destroyAllWindows()\n",
    "list(prime_factors(len(negatives))), len(positives), len(negatives)"
   ]
  },
  {
   "cell_type": "code",
   "execution_count": 11,
   "metadata": {},
   "outputs": [],
   "source": [
    "def fn(image):\n",
    "    match = cv2.matchTemplate(image[:, left:right], color_template, cv2.TM_SQDIFF)\n",
    "    return match\n",
    "image = np.hstack(list(map(fn, negatives + positives)))\n",
    "show_and_wait(image / image.max())\n",
    "cv2.destroyAllWindows()"
   ]
  },
  {
   "cell_type": "code",
   "execution_count": 12,
   "metadata": {},
   "outputs": [],
   "source": [
    "n, d = 25, math.log(2)"
   ]
  },
  {
   "cell_type": "code",
   "execution_count": 13,
   "metadata": {},
   "outputs": [
    {
     "data": {
      "text/plain": [
       "(array([[0.01037415, 0.50187459, 0.49577329],\n",
       "        [0.13382953, 0.14211109, 0.21855868],\n",
       "        [0.41850818, 0.24810117, 0.08405965]]),\n",
       " array([0.01037415, 0.13382953, 0.14211109, 0.21855868, 0.24810117,\n",
       "        0.08405965]))"
      ]
     },
     "execution_count": 13,
     "metadata": {},
     "output_type": "execute_result"
    }
   ],
   "source": [
    "image = np.random.rand(9).reshape((3, 3))\n",
    "image, image[image < .3]"
   ]
  },
  {
   "cell_type": "code",
   "execution_count": 14,
   "metadata": {},
   "outputs": [
    {
     "data": {
      "text/plain": [
       "[Counter({False: 2172, True: 853}), Counter({True: 3020, False: 5})]"
      ]
     },
     "execution_count": 14,
     "metadata": {},
     "output_type": "execute_result"
    }
   ],
   "source": [
    "def fn(image):\n",
    "    image = cv2.cvtColor(image[:, left:right], cv2.COLOR_BGR2LUV)\n",
    "    match = cv2.matchTemplate(image, luv_template, cv2.TM_SQDIFF)\n",
    "    result = match.min() < 500000 or len(match[match < 2 * match.min()]) < 60\n",
    "    return result\n",
    "    #print(match.min(), match.max(), round(math.log(match.min(), 2)),\n",
    "     #     round(math.log(match.max(), 2)),\n",
    "      #    len(match[match < 2 * match.min()]), result)\n",
    "[Counter(map(fn, images)) for images in (negatives, positives)]"
   ]
  },
  {
   "cell_type": "code",
   "execution_count": 15,
   "metadata": {},
   "outputs": [
    {
     "data": {
      "text/plain": [
       "[Counter({False: 2032, True: 993}), Counter({True: 3019, False: 6})]"
      ]
     },
     "execution_count": 15,
     "metadata": {},
     "output_type": "execute_result"
    }
   ],
   "source": [
    "def fn(image):\n",
    "    match = cv2.matchTemplate(image[:, left:right], color_template, cv2.TM_SQDIFF)\n",
    "    result = match.min() < 42 or len(match[match < 2 * match.min()]) < 30\n",
    "    return result\n",
    "[Counter(map(fn, images)) for images in (negatives, positives)]"
   ]
  }
 ],
 "metadata": {
  "kernelspec": {
   "display_name": "Python 3",
   "language": "python",
   "name": "python3"
  },
  "language_info": {
   "codemirror_mode": {
    "name": "ipython",
    "version": 3
   },
   "file_extension": ".py",
   "mimetype": "text/x-python",
   "name": "python",
   "nbconvert_exporter": "python",
   "pygments_lexer": "ipython3",
   "version": "3.7.5"
  }
 },
 "nbformat": 4,
 "nbformat_minor": 2
}

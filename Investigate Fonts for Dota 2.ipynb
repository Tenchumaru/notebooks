{
 "cells": [
  {
   "cell_type": "code",
   "execution_count": 1,
   "metadata": {},
   "outputs": [],
   "source": [
    "%matplotlib inline\n",
    "\n",
    "import cv2\n",
    "import itertools as it\n",
    "import numpy as np\n",
    "import os\n",
    "from PIL import ImageFont, ImageDraw, Image\n",
    "\n",
    "def get_file_names(input_directory_path):\n",
    "    _, _, file_names = next(os.walk(input_directory_path), (None, None, []))\n",
    "    return file_names\n",
    "\n",
    "def grouper(iterable, n, fillvalue=None):\n",
    "    \"Collect data into fixed-length chunks or blocks\"\n",
    "    # grouper('ABCDEFG', 3, 'x') --> ABC DEF Gxx\"\n",
    "    args = [iter(iterable)] * n\n",
    "    return it.zip_longest(*args, fillvalue=fillvalue)\n",
    "\n",
    "def show_and_wait(frame, title='tesst', wait_time=0):\n",
    "    cv2.imshow(title, frame)\n",
    "    key = cv2.waitKey(wait_time)\n",
    "    return None if key < 0 else chr(key)\n",
    "\n",
    "def read_and_wait(video, title='tesst', wait_time=0):\n",
    "    result, frame = video.read()\n",
    "    if result:\n",
    "        return show_and_wait(frame, title, wait_time)\n",
    "\n",
    "def pairwise(iterable):\n",
    "    \"s -> (s0,s1), (s1,s2), (s2, s3), ...\"\n",
    "    a, b = it.tee(iterable)\n",
    "    next(b, None)\n",
    "    return zip(a, b)\n",
    "\n",
    "def yield_frames(video):\n",
    "    while True:\n",
    "        result, frame = video.read()\n",
    "        if not result:\n",
    "            break\n",
    "        yield frame"
   ]
  },
  {
   "cell_type": "code",
   "execution_count": null,
   "metadata": {},
   "outputs": [],
   "source": [
    "video = cv2.VideoCapture(r\"C:\\Users\\cidzerda\\Documents\\GitHub\\strevr-data\\masondota2.mp4\")\n",
    "g = (s for s in get_file_names(r'\\Windows\\Fonts') if s.lower().endswith('.ttf'))\n",
    "g = grouper(g, 50)\n",
    "size = 9\n",
    "for t in g:\n",
    "    _, image = video.read()\n",
    "    image = cv2.cvtColor(image, cv2.COLOR_BGR2RGB)\n",
    "    image = Image.fromarray(image)\n",
    "    draw = ImageDraw.Draw(image)\n",
    "    for i, s in enumerate(s for s in t if s):\n",
    "        s = r'\\Windows\\Fonts\\{}'.format(s)\n",
    "        print(i, s)\n",
    "        font = ImageFont.truetype(s, size)\n",
    "        s = '{}:  DROW RANGER PUCK -- {}'.format(i, os.path.basename(s))\n",
    "        draw.text((0, size * i), s, font=font, fill=(226, 225, 116, 0), stroke_fill=(113, 112, 58, 0), stroke_width=1)\n",
    "    image = cv2.cvtColor(np.array(image), cv2.COLOR_RGB2BGR)\n",
    "    if show_and_wait(image).lower() == 'q':\n",
    "        break\n",
    "cv2.destroyAllWindows()\n",
    "print(image.shape)"
   ]
  },
  {
   "cell_type": "code",
   "execution_count": 3,
   "metadata": {},
   "outputs": [
    {
     "name": "stdout",
     "output_type": "stream",
     "text": [
      "0 C:\\Windows\\Fonts\\Candarab.ttf\n",
      "1 C:\\Windows\\Fonts\\COPRGTB.TTF\n",
      "2 C:\\Windows\\Fonts\\corbelb.ttf\n",
      "3 C:\\Windows\\Fonts\\ebrimabd.ttf\n",
      "4 C:\\Windows\\Fonts\\malgunbd.ttf\n",
      "5 C:\\Windows\\Fonts\\mmrtextb.ttf\n",
      "6 C:\\Windows\\Fonts\\NirmalaB.ttf\n",
      "7 C:\\Windows\\Fonts\\ntailub.ttf\n",
      "8 C:\\Windows\\Fonts\\phagspab.ttf\n",
      "9 C:\\Windows\\Fonts\\segoeuib.ttf\n",
      "10 C:\\Windows\\Fonts\\taileb.ttf\n",
      "11 C:\\Windows\\Fonts\\trebucbd.ttf\n",
      "(480, 852, 3)\n"
     ]
    }
   ],
   "source": [
    "from PIL import ImageFont, ImageDraw, Image\n",
    "video = cv2.VideoCapture(r\"C:\\Users\\cidzerda\\Documents\\GitHub\\strevr-data\\masondota2.mp4\")\n",
    "with open(r\"C:\\Users\\cidzerda\\Documents\\GitHub\\ctc\\font_paths.txt\") as fin:\n",
    "    l = [s.strip() for s in iter(fin)]\n",
    "size = 9\n",
    "_, image = video.read()\n",
    "image = cv2.cvtColor(image, cv2.COLOR_BGR2RGB)\n",
    "image = Image.fromarray(image)\n",
    "draw = ImageDraw.Draw(image)\n",
    "for i, s in enumerate(l):\n",
    "    print(i, s)\n",
    "    font = ImageFont.truetype(s, size)\n",
    "    s = '{}:  DROW RANGER PUCK -- {}'.format(i, os.path.basename(s))\n",
    "    draw.text((0, 2 * size * i), s, font=font, fill=(220, 220, 112, 0), stroke_fill=(110, 110, 56, 0), stroke_width=1)\n",
    "image = cv2.cvtColor(np.array(image), cv2.COLOR_RGB2BGR)\n",
    "show_and_wait(image)\n",
    "cv2.destroyAllWindows()\n",
    "print(image.shape)"
   ]
  }
 ],
 "metadata": {
  "kernelspec": {
   "display_name": "Python 3",
   "language": "python",
   "name": "python3"
  },
  "language_info": {
   "codemirror_mode": {
    "name": "ipython",
    "version": 3
   },
   "file_extension": ".py",
   "mimetype": "text/x-python",
   "name": "python",
   "nbconvert_exporter": "python",
   "pygments_lexer": "ipython3",
   "version": "3.6.6"
  }
 },
 "nbformat": 4,
 "nbformat_minor": 2
}

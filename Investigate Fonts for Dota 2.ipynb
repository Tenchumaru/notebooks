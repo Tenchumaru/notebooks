{
 "cells": [
  {
   "cell_type": "code",
   "execution_count": 1,
   "metadata": {},
   "outputs": [],
   "source": [
    "%matplotlib inline\n",
    "\n",
    "import cv2\n",
    "import itertools as it\n",
    "import numpy as np\n",
    "import os\n",
    "from PIL import ImageFont, ImageDraw, Image\n",
    "\n",
    "from utilities import *"
   ]
  },
  {
   "cell_type": "code",
   "execution_count": 21,
   "metadata": {},
   "outputs": [
    {
     "name": "stdout",
     "output_type": "stream",
     "text": [
      "ANTQUAB.TTF arial.ttf arialbd.ttf ARIALN.TTF ARIALNB.TTF ARIALNBI.TTF ariblk.ttf ARLRDBD.TTF bahnschrift.ttf BASKVILL.TTF BELL.TTF BELLB.TTF BKANT.TTF BOD_B.TTF BOD_R.TTF BOOKOS.TTF BOOKOSB.TTF BRITANIC.TTF BRLNSB.TTF BRLNSDB.TTF BRLNSR.TTF calibri.ttf calibrib.ttf\n",
      "CALIFB.TTF CALIFR.TTF CALIST.TTF CALISTB.TTF cambriab.ttf Candara.ttf Candarab.ttf CASTELAR.TTF CENSCBK.TTF CENTAUR.TTF CENTURY.TTF consola.ttf consolab.ttf constan.ttf constanb.ttf COOPBL.TTF COPRGTB.TTF corbel.ttf corbelb.ttf cour.ttf courbd.ttf\n",
      "ebrima.ttf ebrimabd.ttf ELEPHNT.TTF ENGR.TTF ERASBD.TTF ERASDEMI.TTF ERASMD.TTF FELIXTI.TTF FRABK.TTF FRADM.TTF FRADMCN.TTF FRAHV.TTF FRAMDCN.TTF FTLTLT.TTF gadugi.ttf gadugib.ttf GARA.TTF GARABD.TTF georgia.ttf georgiab.ttf GILB____.TTF GILLUBCD.TTF GILSANUB.TTF GIL_____.TTF GOTHIC.TTF GOTHICB.TTF\n",
      "GOUDOSB.TTF GOUDOSI.TTF HTOWERT.TTF IMPRISHA.TTF javatext.ttf LBRITED.TTF LeelaUIb.ttf LEELAWAD.TTF LEELAWDB.TTF LeelawUI.ttf LFAX.TTF LFAXD.TTF LSANS.TTF LSANSD.TTF LTYPE.TTF LTYPEB.TTF lucon.ttf l_10646.ttf MAIAN.TTF malgun.ttf\n",
      "micross.ttf mmrtext.ttf mmrtextb.ttf monbaiti.ttf Nirmala.ttf NirmalaB.ttf NirmalaS.ttf ntailu.ttf ntailub.ttf OCRAEXT.TTF pala.ttf palab.ttf PERB____.TTF PERTIBD.TTF PERTILI.TTF phagspa.ttf phagspab.ttf REFSAN.TTF\n",
      "ROCK.TTF ROCKB.TTF ROCKEB.TTF segoeui.ttf segoeuib.ttf segoeuil.ttf segoeuisl.ttf seguibl.ttf seguiemj.ttf seguihis.ttf seguisb.ttf seguisym.ttf sylfaen.ttf tahoma.ttf tahomabd.ttf taile.ttf taileb.ttf TCB_____.TTF times.ttf timesbd.ttf\n",
      "trebucbd.ttf verdana.ttf verdanab.ttf\n",
      "['ANTQUAB.TTF', 'arial.ttf', 'arialbd.ttf', 'ARIALN.TTF', 'ARIALNB.TTF', 'ARIALNBI.TTF', 'ariblk.ttf', 'ARLRDBD.TTF', 'bahnschrift.ttf', 'BASKVILL.TTF', 'BELL.TTF', 'BELLB.TTF', 'BKANT.TTF', 'BOD_B.TTF', 'BOD_R.TTF', 'BOOKOS.TTF', 'BOOKOSB.TTF', 'BRITANIC.TTF', 'BRLNSB.TTF', 'BRLNSDB.TTF', 'BRLNSR.TTF', 'calibri.ttf', 'calibrib.ttf', 'CALIFB.TTF', 'CALIFR.TTF', 'CALIST.TTF', 'CALISTB.TTF', 'cambriab.ttf', 'Candara.ttf', 'Candarab.ttf', 'CASTELAR.TTF', 'CENSCBK.TTF', 'CENTAUR.TTF', 'CENTURY.TTF', 'consola.ttf', 'consolab.ttf', 'constan.ttf', 'constanb.ttf', 'COOPBL.TTF', 'COPRGTB.TTF', 'corbel.ttf', 'corbelb.ttf', 'cour.ttf', 'courbd.ttf', 'ebrima.ttf', 'ebrimabd.ttf', 'ELEPHNT.TTF', 'ENGR.TTF', 'ERASBD.TTF', 'ERASDEMI.TTF', 'ERASMD.TTF', 'FELIXTI.TTF', 'FRABK.TTF', 'FRADM.TTF', 'FRADMCN.TTF', 'FRAHV.TTF', 'FRAMDCN.TTF', 'FTLTLT.TTF', 'gadugi.ttf', 'gadugib.ttf', 'GARA.TTF', 'GARABD.TTF', 'georgia.ttf', 'georgiab.ttf', 'GILB____.TTF', 'GILLUBCD.TTF', 'GILSANUB.TTF', 'GIL_____.TTF', 'GOTHIC.TTF', 'GOTHICB.TTF', 'GOUDOSB.TTF', 'GOUDOSI.TTF', 'HTOWERT.TTF', 'IMPRISHA.TTF', 'javatext.ttf', 'LBRITED.TTF', 'LeelaUIb.ttf', 'LEELAWAD.TTF', 'LEELAWDB.TTF', 'LeelawUI.ttf', 'LFAX.TTF', 'LFAXD.TTF', 'LSANS.TTF', 'LSANSD.TTF', 'LTYPE.TTF', 'LTYPEB.TTF', 'lucon.ttf', 'l_10646.ttf', 'MAIAN.TTF', 'malgun.ttf', 'micross.ttf', 'mmrtext.ttf', 'mmrtextb.ttf', 'monbaiti.ttf', 'Nirmala.ttf', 'NirmalaB.ttf', 'NirmalaS.ttf', 'ntailu.ttf', 'ntailub.ttf', 'OCRAEXT.TTF', 'pala.ttf', 'palab.ttf', 'PERB____.TTF', 'PERTIBD.TTF', 'PERTILI.TTF', 'phagspa.ttf', 'phagspab.ttf', 'REFSAN.TTF', 'ROCK.TTF', 'ROCKB.TTF', 'ROCKEB.TTF', 'segoeui.ttf', 'segoeuib.ttf', 'segoeuil.ttf', 'segoeuisl.ttf', 'seguibl.ttf', 'seguiemj.ttf', 'seguihis.ttf', 'seguisb.ttf', 'seguisym.ttf', 'sylfaen.ttf', 'tahoma.ttf', 'tahomabd.ttf', 'taile.ttf', 'taileb.ttf', 'TCB_____.TTF', 'times.ttf', 'timesbd.ttf', 'trebucbd.ttf', 'verdana.ttf', 'verdanab.ttf']\n",
      "(1179, 99, 3)\n"
     ]
    }
   ],
   "source": [
    "size = 9\n",
    "indices = set()\n",
    "def handle_mouse_event(event, _x, y, *_):\n",
    "    if event == cv2.EVENT_LBUTTONDOWN:\n",
    "        index = y // size\n",
    "        indices.add(index)\n",
    "\n",
    "window_name = 'tesst'\n",
    "cv2.namedWindow(window_name, cv2.WINDOW_NORMAL | cv2.WINDOW_GUI_EXPANDED)\n",
    "cv2.setMouseCallback(window_name, handle_mouse_event)\n",
    "video = cv2.VideoCapture(r\"C:\\Users\\cidzerda\\Documents\\GitHub\\strevr-dota-2\\heroes\\queen_of_pain.mp4\")\n",
    "g = (s for s in get_file_names(r\"C:\\Windows\\Fonts\") if s.lower().endswith('.ttf'))\n",
    "g = grouper(g, 50)\n",
    "selected_fonts = []\n",
    "for t in g:\n",
    "    _, image = video.read()\n",
    "    image = cv2.cvtColor(image, cv2.COLOR_BGR2RGB)\n",
    "    image = Image.fromarray(image)\n",
    "    draw = ImageDraw.Draw(image)\n",
    "    for i, s in enumerate(s for s in t if s):\n",
    "        s = r\"C:\\Windows\\Fonts\\{}\".format(s)\n",
    "        font = ImageFont.truetype(s, size)\n",
    "        s = '{}:  DROW RANGER PUCK -- {}'.format(i, os.path.basename(s))\n",
    "        draw.text((0, size * i), s, font=font, fill=(226, 225, 116, 0), stroke_fill=(113, 112, 58, 0), stroke_width=1)\n",
    "    image = cv2.cvtColor(np.array(image), cv2.COLOR_RGB2BGR)\n",
    "    if show_and_wait(image, title=window_name).lower() == 'q':\n",
    "        break\n",
    "    print(*(t[i] for i in sorted(indices)))\n",
    "    selected_fonts.extend(t[i] for i in sorted(indices))\n",
    "    indices.clear()\n",
    "image = Image.fromarray(255 * np.ones((len(selected_fonts) * size, 99, 3), dtype=np.uint8))\n",
    "draw = ImageDraw.Draw(image)\n",
    "for i, s in enumerate(selected_fonts):\n",
    "    s = r\"C:\\Windows\\Fonts\\{}\".format(s)\n",
    "    font = ImageFont.truetype(s, size)\n",
    "    s = '{}:  DROW RANGER PUCK -- {}'.format(i, os.path.basename(s))\n",
    "    draw.text((0, size * i), s, font=font, fill=(0, 0, 0, 0), stroke_fill=(128, 128, 128, 0), stroke_width=1)\n",
    "image = np.array(image)\n",
    "print(selected_fonts)\n",
    "show_and_wait(image, title=window_name)\n",
    "cv2.destroyAllWindows()\n",
    "print(image.shape)"
   ]
  },
  {
   "cell_type": "code",
   "execution_count": 28,
   "metadata": {},
   "outputs": [
    {
     "name": "stdout",
     "output_type": "stream",
     "text": [
      "['calibri', 'FELIXTI', 'gadugi', 'LeelawUI', 'monbaiti', 'PERTILI', 'segoeui']\n"
     ]
    }
   ],
   "source": [
    "l=['ANTQUAB.TTF', 'arial.ttf', 'arialbd.ttf', 'ARIALN.TTF', 'ARIALNB.TTF', 'ariblk.ttf', 'ARLRDBD.TTF', 'bahnschrift.ttf', 'BASKVILL.TTF', 'BELL.TTF', 'BELLB.TTF', 'BKANT.TTF', 'BOD_B.TTF', 'BOD_R.TTF', 'BOOKOS.TTF', 'BOOKOSB.TTF', 'BRITANIC.TTF', 'BRLNSB.TTF', 'BRLNSDB.TTF', 'BRLNSR.TTF', 'calibri.ttf', 'calibrib.ttf', 'CALIFB.TTF', 'CALIFR.TTF', 'CALIST.TTF', 'CALISTB.TTF', 'cambriab.ttf', 'Candara.ttf', 'Candarab.ttf', 'CASTELAR.TTF', 'CENSCBK.TTF', 'CENTAUR.TTF', 'CENTURY.TTF', 'consola.ttf', 'consolab.ttf', 'constan.ttf', 'constanb.ttf', 'COOPBL.TTF', 'COPRGTB.TTF', 'corbel.ttf', 'corbelb.ttf', 'cour.ttf', 'courbd.ttf', 'ebrima.ttf', 'ebrimabd.ttf', 'ELEPHNT.TTF', 'ENGR.TTF', 'ERASBD.TTF', 'ERASMD.TTF', 'FELIXTI.TTF', 'FRABK.TTF', 'FRADM.TTF', 'FRADMCN.TTF', 'FRAHV.TTF', 'FRAMDCN.TTF', 'FTLTLT.TTF', 'gadugi.ttf', 'gadugib.ttf', 'GARA.TTF', 'GARABD.TTF', 'georgia.ttf', 'georgiab.ttf', 'GILB____.TTF', 'GILLUBCD.TTF', 'GILSANUB.TTF', 'GIL_____.TTF', 'GOTHIC.TTF', 'GOTHICB.TTF', 'GOUDOSB.TTF', 'HTOWERT.TTF', 'IMPRISHA.TTF', 'javatext.ttf', 'LBRITED.TTF', 'LeelaUIb.ttf', 'LEELAWAD.TTF', 'LEELAWDB.TTF', 'LeelawUI.ttf', 'LFAX.TTF', 'LFAXD.TTF', 'LSANS.TTF', 'LSANSD.TTF', 'LTYPE.TTF', 'LTYPEB.TTF', 'lucon.ttf', 'l_10646.ttf', 'MAIAN.TTF', 'malgun.ttf', 'micross.ttf', 'mmrtext.ttf', 'mmrtextb.ttf', 'monbaiti.ttf', 'Nirmala.ttf', 'NirmalaB.ttf', 'NirmalaS.ttf', 'ntailu.ttf', 'ntailub.ttf', 'OCRAEXT.TTF', 'pala.ttf', 'palab.ttf', 'PERB____.TTF', 'PERTIBD.TTF', 'PERTILI.TTF', 'phagspa.ttf', 'phagspab.ttf', 'REFSAN.TTF', 'ROCK.TTF', 'ROCKB.TTF', 'ROCKEB.TTF', 'segoeui.ttf', 'segoeuib.ttf', 'segoeuil.ttf', 'segoeuisl.ttf', 'seguibl.ttf', 'seguiemj.ttf', 'seguihis.ttf', 'seguisb.ttf', 'seguisym.ttf', 'sylfaen.ttf', 'tahoma.ttf', 'tahomabd.ttf', 'taile.ttf', 'taileb.ttf', 'TCB_____.TTF', 'times.ttf', 'timesbd.ttf', 'trebucbd.ttf', 'verdana.ttf', 'verdanab.ttf']\n",
    "g = (s[:-4] for s in l)\n",
    "g = (s for s in g if s.lower().endswith('i'))\n",
    "l = list(g)\n",
    "image = Image.fromarray(255 * np.ones(((len(l) + 1) * size, 222, 3), dtype=np.uint8))\n",
    "draw = ImageDraw.Draw(image)\n",
    "for i, s in enumerate(l):\n",
    "    s = r\"C:\\Windows\\Fonts\\{}\".format(s)\n",
    "    font = ImageFont.truetype(s, size)\n",
    "    s = '{}:  DROW RANGER PUCK -- {}'.format(i, os.path.basename(s))\n",
    "    draw.text((0, size * i), s, font=font, fill=(0, 0, 0, 0), stroke_fill=(128, 128, 128, 0), stroke_width=1)\n",
    "image = np.array(image)\n",
    "print(l)\n",
    "show_and_wait(image, title=window_name)\n",
    "cv2.destroyAllWindows()"
   ]
  },
  {
   "cell_type": "code",
   "execution_count": 3,
   "metadata": {},
   "outputs": [
    {
     "name": "stdout",
     "output_type": "stream",
     "text": [
      "0 C:\\Windows\\Fonts\\Candarab.ttf\n",
      "1 C:\\Windows\\Fonts\\COPRGTB.TTF\n",
      "2 C:\\Windows\\Fonts\\corbelb.ttf\n",
      "3 C:\\Windows\\Fonts\\ebrimabd.ttf\n",
      "4 C:\\Windows\\Fonts\\malgunbd.ttf\n",
      "5 C:\\Windows\\Fonts\\mmrtextb.ttf\n",
      "6 C:\\Windows\\Fonts\\NirmalaB.ttf\n",
      "7 C:\\Windows\\Fonts\\ntailub.ttf\n",
      "8 C:\\Windows\\Fonts\\phagspab.ttf\n",
      "9 C:\\Windows\\Fonts\\segoeuib.ttf\n",
      "10 C:\\Windows\\Fonts\\taileb.ttf\n",
      "11 C:\\Windows\\Fonts\\trebucbd.ttf\n",
      "(480, 852, 3)\n"
     ]
    }
   ],
   "source": [
    "video = cv2.VideoCapture(r\"C:\\Users\\cidzerda\\Documents\\GitHub\\strevr-data\\masondota2.mp4\")\n",
    "with open(r\"C:\\Users\\cidzerda\\Documents\\GitHub\\ctc\\font_paths.txt\") as fin:\n",
    "    l = [s.strip() for s in iter(fin)]\n",
    "size = 9\n",
    "_, image = video.read()\n",
    "image = cv2.cvtColor(image, cv2.COLOR_BGR2RGB)\n",
    "image = Image.fromarray(image)\n",
    "draw = ImageDraw.Draw(image)\n",
    "for i, s in enumerate(l):\n",
    "    print(i, s)\n",
    "    font = ImageFont.truetype(s, size)\n",
    "    s = '{}:  DROW RANGER PUCK -- {}'.format(i, os.path.basename(s))\n",
    "    draw.text((0, 2 * size * i), s, font=font, fill=(220, 220, 112, 0), stroke_fill=(110, 110, 56, 0), stroke_width=1)\n",
    "image = cv2.cvtColor(np.array(image), cv2.COLOR_RGB2BGR)\n",
    "show_and_wait(image)\n",
    "cv2.destroyAllWindows()\n",
    "print(image.shape)"
   ]
  }
 ],
 "metadata": {
  "kernelspec": {
   "display_name": "Python 3",
   "language": "python",
   "name": "python3"
  },
  "language_info": {
   "codemirror_mode": {
    "name": "ipython",
    "version": 3
   },
   "file_extension": ".py",
   "mimetype": "text/x-python",
   "name": "python",
   "nbconvert_exporter": "python",
   "pygments_lexer": "ipython3",
   "version": "3.6.6"
  }
 },
 "nbformat": 4,
 "nbformat_minor": 2
}

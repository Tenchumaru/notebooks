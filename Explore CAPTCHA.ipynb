{
 "cells": [
  {
   "cell_type": "code",
   "execution_count": 1,
   "metadata": {},
   "outputs": [],
   "source": [
    "import cv2\n",
    "import itertools as it\n",
    "import numpy as np\n",
    "import random\n",
    "import threading\n",
    "from captcha.image import ImageCaptcha\n",
    "from utilities import *"
   ]
  },
  {
   "cell_type": "code",
   "execution_count": 2,
   "metadata": {},
   "outputs": [],
   "source": [
    "labels = [f'{chars:>04}' for chars in range(10000)]\n",
    "random.shuffle(labels)"
   ]
  },
  {
   "cell_type": "code",
   "execution_count": 3,
   "metadata": {},
   "outputs": [
    {
     "name": "stdout",
     "output_type": "stream",
     "text": [
      "one thread time: 24.232515 seconds\n"
     ]
    },
    {
     "data": {
      "text/plain": [
       "(10000, 160, 60)"
      ]
     },
     "execution_count": 3,
     "metadata": {},
     "output_type": "execute_result"
    }
   ],
   "source": [
    "with Timer('one thread'):\n",
    "    l = [ImageCaptcha().generate_image(l) for l in labels]\n",
    "width, height = l[0].width, l[0].height\n",
    "len(l), width, height"
   ]
  },
  {
   "cell_type": "code",
   "execution_count": 4,
   "metadata": {},
   "outputs": [
    {
     "name": "stdout",
     "output_type": "stream",
     "text": [
      "multiple threads time: 24.746306 seconds\n"
     ]
    },
    {
     "data": {
      "text/plain": [
       "(10000, 160, 60)"
      ]
     },
     "execution_count": 4,
     "metadata": {},
     "output_type": "execute_result"
    }
   ],
   "source": [
    "n = 10\n",
    "l = n * [None]\n",
    "def fn(k):\n",
    "    l[k] = [ImageCaptcha().generate_image(labels[i]) for i in range(1000 * k, 1000 * (k + 1))]\n",
    "threads = [threading.Thread(target=fn, args=(i,)) for i in range(n)]\n",
    "for thread in threads:\n",
    "    thread.start()\n",
    "with Timer('multiple threads'):\n",
    "    for thread in threads:\n",
    "        thread.join()\n",
    "l = list(it.chain.from_iterable(l))\n",
    "width, height = l[0].width, l[0].height\n",
    "len(l), width, height"
   ]
  },
  {
   "cell_type": "code",
   "execution_count": 5,
   "metadata": {},
   "outputs": [],
   "source": [
    "image = np.array(l[0].getdata()).reshape((height, width, 3)).astype(np.uint8)\n",
    "cv2.imshow('tesst', image)\n",
    "cv2.waitKey()\n",
    "cv2.destroyAllWindows()"
   ]
  },
  {
   "cell_type": "code",
   "execution_count": 6,
   "metadata": {},
   "outputs": [
    {
     "name": "stdout",
     "output_type": "stream",
     "text": [
      "one thread time: 40.337646 seconds\n"
     ]
    },
    {
     "data": {
      "text/plain": [
       "(10000, (9600, 3), dtype('int32'))"
      ]
     },
     "execution_count": 6,
     "metadata": {},
     "output_type": "execute_result"
    }
   ],
   "source": [
    "with Timer('one thread'):\n",
    "    ll = [np.array(v.getdata()) for v in l]\n",
    "len(ll), ll[0].shape, ll[0].dtype"
   ]
  },
  {
   "cell_type": "code",
   "execution_count": 7,
   "metadata": {},
   "outputs": [
    {
     "name": "stdout",
     "output_type": "stream",
     "text": [
      "multiple threads time: 36.896506 seconds\n"
     ]
    },
    {
     "data": {
      "text/plain": [
       "(10000, (9600, 3), dtype('int32'))"
      ]
     },
     "execution_count": 7,
     "metadata": {},
     "output_type": "execute_result"
    }
   ],
   "source": [
    "n = 10\n",
    "ll = n * [None]\n",
    "def fn(k):\n",
    "    ll[k] = [np.array(l[i].getdata()) for i in range(1000 * k, 1000 * (k + 1))]\n",
    "threads = [threading.Thread(target=fn, args=(i,)) for i in range(n)]\n",
    "for thread in threads:\n",
    "    thread.start()\n",
    "with Timer('multiple threads'):\n",
    "    for thread in threads:\n",
    "        thread.join()\n",
    "ll = list(it.chain.from_iterable(ll))\n",
    "len(ll), ll[0].shape, ll[0].dtype"
   ]
  },
  {
   "cell_type": "code",
   "execution_count": 8,
   "metadata": {},
   "outputs": [
    {
     "data": {
      "text/plain": [
       "((10000, 60, 160, 3), '3645')"
      ]
     },
     "execution_count": 8,
     "metadata": {},
     "output_type": "execute_result"
    }
   ],
   "source": [
    "n=9\n",
    "image = np.vstack(ll).reshape((len(ll),60,160,3)).astype(np.uint8)\n",
    "cv2.imshow('tesst', image[n])\n",
    "cv2.waitKey()\n",
    "cv2.destroyAllWindows()\n",
    "image.shape, labels[n]"
   ]
  },
  {
   "cell_type": "code",
   "execution_count": 9,
   "metadata": {},
   "outputs": [
    {
     "data": {
      "text/plain": [
       "((10000, 60, 160), '3645')"
      ]
     },
     "execution_count": 9,
     "metadata": {},
     "output_type": "execute_result"
    }
   ],
   "source": [
    "n=9\n",
    "image = np.vstack(ll).reshape((len(ll)*60,160,3)).astype(np.uint8)\n",
    "image = cv2.cvtColor(image, cv2.COLOR_RGB2GRAY).reshape((len(ll),60,160))\n",
    "cv2.imshow('tesst', image[n])\n",
    "cv2.waitKey()\n",
    "cv2.destroyAllWindows()\n",
    "image.shape, labels[n]"
   ]
  },
  {
   "cell_type": "code",
   "execution_count": 10,
   "metadata": {
    "scrolled": true
   },
   "outputs": [
    {
     "data": {
      "text/plain": [
       "(540, 160, 3)"
      ]
     },
     "execution_count": 10,
     "metadata": {},
     "output_type": "execute_result"
    }
   ],
   "source": [
    "n=9\n",
    "image = np.vstack(ll[:n]).reshape((n*60,160,3)).astype(np.uint8)\n",
    "cv2.imshow('tesst', image)\n",
    "cv2.waitKey()\n",
    "cv2.destroyAllWindows()\n",
    "image.shape"
   ]
  }
 ],
 "metadata": {
  "kernelspec": {
   "display_name": "Python 3 (ipykernel)",
   "language": "python",
   "name": "python3"
  },
  "language_info": {
   "codemirror_mode": {
    "name": "ipython",
    "version": 3
   },
   "file_extension": ".py",
   "mimetype": "text/x-python",
   "name": "python",
   "nbconvert_exporter": "python",
   "pygments_lexer": "ipython3",
   "version": "3.10.5"
  }
 },
 "nbformat": 4,
 "nbformat_minor": 2
}

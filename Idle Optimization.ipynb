{
 "cells": [
  {
   "cell_type": "code",
   "execution_count": 1,
   "metadata": {},
   "outputs": [],
   "source": [
    "%matplotlib inline\n",
    "\n",
    "import cv2\n",
    "import json\n",
    "import numpy as np\n",
    "import os\n",
    "import pickle\n",
    "import random\n",
    "import sys\n",
    "from datetime import datetime, timedelta, timezone\n",
    "\n",
    "random.seed(1)\n",
    "np.random.seed(1)\n",
    "\n",
    "def show_and_wait(frame, title='tesst', wait_time=0):\n",
    "    cv2.imshow(title, frame)\n",
    "    key = cv2.waitKey(wait_time)\n",
    "    return None if key < 0 else chr(key)\n",
    "\n",
    "def read_and_wait(video, title='tesst', wait_time=0):\n",
    "    result, frame = video.read()\n",
    "    if result:\n",
    "        return show_and_wait(frame, title, wait_time)\n",
    "\n",
    "def pairwise(iterable):\n",
    "    \"s -> (s0,s1), (s1,s2), (s2, s3), ...\"\n",
    "    a, b = it.tee(iterable)\n",
    "    next(b, None)\n",
    "    return zip(a, b)\n",
    "\n",
    "def yield_frames(video):\n",
    "    while True:\n",
    "        result, frame = video.read()\n",
    "        if not result:\n",
    "            break\n",
    "        yield frame"
   ]
  },
  {
   "cell_type": "code",
   "execution_count": null,
   "metadata": {},
   "outputs": [],
   "source": [
    "# Check a range of frames to ensure they're all Idle frames.\n",
    "video = cv2.VideoCapture(r\"C:\\Users\\cidzerda\\Documents\\GitHub\\strevr-data\\champion\\matafe_.mp4\")\n",
    "n = int(123 * video.get(cv2.CAP_PROP_FPS))\n",
    "print(n)\n",
    "print(video.set(cv2.CAP_PROP_POS_FRAMES, n))\n",
    "for i in range(40):\n",
    "    _, frame = video.read()\n",
    "    show_and_wait(frame[:37, 137:265])\n",
    "video.release()\n",
    "input()\n",
    "cv2.destroyAllWindows()"
   ]
  },
  {
   "cell_type": "code",
   "execution_count": 2,
   "metadata": {},
   "outputs": [],
   "source": [
    "# Create an image representing an average Idle frame.\n",
    "def sum_frames(file_path, start, count):\n",
    "    try:\n",
    "        video = cv2.VideoCapture(file_path)\n",
    "        video.set(cv2.CAP_PROP_POS_FRAMES, start)\n",
    "        return sum(f[:37, 137:265].astype('float32') for _, f in zip(range(count), yield_frames(video)))\n",
    "    finally:\n",
    "        video.release()\n",
    "image = (sum_frames(r\"C:\\Users\\cidzerda\\Documents\\GitHub\\strevr-data\\champion\\xednim1.mp4\", 1409, 40) +\n",
    "         sum_frames(r\"C:\\Users\\cidzerda\\Documents\\GitHub\\strevr-data\\idle\\staycationyoutube1.mp4\", 300, 40) +\n",
    "         sum_frames(r\"C:\\Users\\cidzerda\\Documents\\GitHub\\strevr-data\\idle\\vsnz1.mp4\", 200, 40) +\n",
    "         sum_frames(r\"C:\\Users\\cidzerda\\Documents\\GitHub\\strevr-data\\legends\\mymisterfruit.mp4\", 6060, 40)) / 160\n",
    "image = image.astype('uint8')\n",
    "show_and_wait(image)\n",
    "cv2.destroyAllWindows()"
   ]
  },
  {
   "cell_type": "code",
   "execution_count": 3,
   "metadata": {},
   "outputs": [
    {
     "name": "stdout",
     "output_type": "stream",
     "text": [
      "(37, 128, 3)\n"
     ]
    }
   ],
   "source": [
    "# Create a mask to exclude the controller and label.\n",
    "mask = np.ones_like(image) * 255\n",
    "print(mask.shape)\n",
    "mask[17:27, 33:99] = 0\n",
    "top, left, right = 24, 1, 24\n",
    "for i in range(0, mask.shape[0] - top):\n",
    "    mask[top + i:top + i + 1, left + i:right + i] = 0\n",
    "show_and_wait(mask)\n",
    "\n",
    "# Create a function to apply the mask.\n",
    "def apply_mask(image):\n",
    "    return (mask & image).astype('float32')\n",
    "\n",
    "# Apply the mask to the average image.\n",
    "image = apply_mask(image)\n",
    "show_and_wait(image.astype('uint8'))\n",
    "cv2.destroyAllWindows()"
   ]
  },
  {
   "cell_type": "code",
   "execution_count": null,
   "metadata": {},
   "outputs": [],
   "source": [
    "# Display the result.\n",
    "video = cv2.VideoCapture(r\"C:\\Users\\cidzerda\\Documents\\GitHub\\strevr-data\\champion\\xednim1.mp4\")\n",
    "video.set(cv2.CAP_PROP_POS_FRAMES, 1409)\n",
    "for i in range(40):\n",
    "    _, frame = video.read()\n",
    "    cv2.imshow('Crop', frame[:37, 137:265])\n",
    "    if show_and_wait(abs(image - apply_mask(frame[:37, 137:265])) / 255) == '?':\n",
    "        print(i, sum(list(sum((image - apply_mask(frame[:37, 137:265])) ** 2).reshape(-1))))\n",
    "cv2.destroyAllWindows()"
   ]
  },
  {
   "cell_type": "code",
   "execution_count": 4,
   "metadata": {},
   "outputs": [
    {
     "name": "stdout",
     "output_type": "stream",
     "text": [
      "Idle\n",
      "staycationyoutube1.mp4 2209313.0 3249.0\n",
      "vsnz1.mp4 372187.0 576.0\n",
      "mymisterfruit.mp4 1101743.0 529.0\n",
      "telshin.mp4 592576.0 3249.0\n",
      "telshin.mp4 736480.0 3721.0\n",
      "telshin1.mp4 728498.0 3721.0\n",
      "telshin1.mp4 621553.0 2704.0\n",
      "matafe_.mp4 1203361.0 2401.0\n",
      "xednim1.mp4 2986419.0 4225.0\n",
      "non-Idle\n",
      "staycationyoutube1.mp4 40723296.0 42849.0\n",
      "vsnz1.mp4 344141374.0 61009.0\n",
      "mymisterfruit.mp4 22756873.0 20449.0\n",
      "telshin.mp4 19068791.0 13225.0\n",
      "telshin.mp4 28898611.0 13689.0\n",
      "telshin.mp4 14309830.0 16129.0\n",
      "telshin1.mp4 14149459.0 16384.0\n",
      "matafe_.mp4 15517364.0 12996.0\n",
      "xednim1.mp4 11986791.0 15876.0\n"
     ]
    }
   ],
   "source": [
    "# Report the largest squared difference from the average.\n",
    "def get_largest_squared_difference(file_path, start, count, fn=max):\n",
    "    try:\n",
    "        video = cv2.VideoCapture(file_path)\n",
    "        video.set(cv2.CAP_PROP_POS_FRAMES, start)\n",
    "        l = [((image - apply_mask(f[:37, 137:265])) ** 2).reshape(-1) for _, f in zip(range(count), yield_frames(video))]\n",
    "        return fn(map(sum, l)), fn(map(max, l))\n",
    "    finally:\n",
    "        video.release()\n",
    "\n",
    "def print_largest_squared_difference(file_path, start, count, fn=max):\n",
    "    print(os.path.basename(file_path), *get_largest_squared_difference(file_path, start, count, fn))\n",
    "\n",
    "# Try it on known Idle frames.\n",
    "print('Idle')\n",
    "print_largest_squared_difference(r\"C:\\Users\\cidzerda\\Documents\\GitHub\\strevr-data\\idle\\staycationyoutube1.mp4\", 300, 40)\n",
    "print_largest_squared_difference(r\"C:\\Users\\cidzerda\\Documents\\GitHub\\strevr-data\\idle\\vsnz1.mp4\", 200, 40)\n",
    "print_largest_squared_difference(r\"C:\\Users\\cidzerda\\Documents\\GitHub\\strevr-data\\legends\\mymisterfruit.mp4\", 6060, 40)\n",
    "print_largest_squared_difference(r\"C:\\Users\\cidzerda\\Documents\\GitHub\\strevr-data\\legends\\telshin.mp4\", 12060, 40)\n",
    "print_largest_squared_difference(r\"C:\\Users\\cidzerda\\Documents\\GitHub\\strevr-data\\legends\\telshin.mp4\", 16830, 400)\n",
    "print_largest_squared_difference(r\"C:\\Users\\cidzerda\\Documents\\GitHub\\strevr-data\\unsupervised\\telshin1.mp4\", 210, 40)\n",
    "print_largest_squared_difference(r\"C:\\Users\\cidzerda\\Documents\\GitHub\\strevr-data\\unsupervised\\telshin1.mp4\", 990, 40)\n",
    "print_largest_squared_difference(r\"C:\\Users\\cidzerda\\Documents\\GitHub\\strevr-data\\champion\\matafe_.mp4\", 2538, 40)\n",
    "print_largest_squared_difference(r\"C:\\Users\\cidzerda\\Documents\\GitHub\\strevr-data\\champion\\xednim1.mp4\", 1409, 400)\n",
    "\n",
    "# Try it on known non-Idle frames.\n",
    "print('non-Idle')\n",
    "print_largest_squared_difference(r\"C:\\Users\\cidzerda\\Documents\\GitHub\\strevr-data\\idle\\staycationyoutube1.mp4\", 0, 40, min)\n",
    "print_largest_squared_difference(r\"C:\\Users\\cidzerda\\Documents\\GitHub\\strevr-data\\idle\\vsnz1.mp4\", 0, 40, min)\n",
    "print_largest_squared_difference(r\"C:\\Users\\cidzerda\\Documents\\GitHub\\strevr-data\\legends\\mymisterfruit.mp4\", 0, 400, min)\n",
    "print_largest_squared_difference(r\"C:\\Users\\cidzerda\\Documents\\GitHub\\strevr-data\\legends\\telshin.mp4\", 0, 400, min)\n",
    "print_largest_squared_difference(r\"C:\\Users\\cidzerda\\Documents\\GitHub\\strevr-data\\legends\\telshin.mp4\", 18060, 400, min)\n",
    "print_largest_squared_difference(r\"C:\\Users\\cidzerda\\Documents\\GitHub\\strevr-data\\legends\\telshin.mp4\", 19440, 400, min)\n",
    "print_largest_squared_difference(r\"C:\\Users\\cidzerda\\Documents\\GitHub\\strevr-data\\unsupervised\\telshin1.mp4\", 1470, 400, min)\n",
    "print_largest_squared_difference(r\"C:\\Users\\cidzerda\\Documents\\GitHub\\strevr-data\\champion\\matafe_.mp4\", 3717, 400, min)\n",
    "print_largest_squared_difference(r\"C:\\Users\\cidzerda\\Documents\\GitHub\\strevr-data\\champion\\xednim1.mp4\", 0, 400, min)"
   ]
  },
  {
   "cell_type": "code",
   "execution_count": 5,
   "metadata": {},
   "outputs": [],
   "source": [
    "# Save the average and mask images.\n",
    "with open(r\"C:\\Users\\cidzerda\\Documents\\GitHub\\strevr-data\\idle\\average.pickle\", 'wb') as fout:\n",
    "    pickle.dump(image, fout)\n",
    "    pickle.dump(mask, fout)\n",
    "\n",
    "# Save the sum and max parameters.\n",
    "sum_upper_bound = 4e6\n",
    "max_upper_bound = 5e3\n",
    "with open(r\"C:\\Users\\cidzerda\\Documents\\GitHub\\strevr-data\\idle\\average.json\", 'wt') as fout:\n",
    "    json.dump({'sum_upper_bound': sum_upper_bound, 'max_upper_bound': max_upper_bound},fout)"
   ]
  },
  {
   "cell_type": "code",
   "execution_count": 6,
   "metadata": {},
   "outputs": [
    {
     "name": "stdout",
     "output_type": "stream",
     "text": [
      "Idle\n",
      "True\n",
      "True\n",
      "True\n",
      "True\n",
      "True\n",
      "True\n",
      "True\n",
      "non-Idle\n",
      "False\n",
      "False\n",
      "False\n",
      "False\n",
      "False\n",
      "False\n",
      "False\n"
     ]
    }
   ],
   "source": [
    "def is_idle(frame):\n",
    "    frame = ((image - apply_mask(frame[:37, 137:265])) ** 2).reshape(-1)\n",
    "    return sum(frame) < sum_upper_bound and max(frame) < max_upper_bound\n",
    "\n",
    "def print_is_idle(file_path, start):\n",
    "    try:\n",
    "        video = cv2.VideoCapture(file_path)\n",
    "        video.set(cv2.CAP_PROP_POS_FRAMES, start)\n",
    "        print(is_idle(next(yield_frames(video))))\n",
    "    finally:\n",
    "        video.release()\n",
    "\n",
    "# Try it on known Idle frames.\n",
    "print('Idle')\n",
    "print_is_idle(r\"C:\\Users\\cidzerda\\Documents\\GitHub\\strevr-data\\idle\\staycationyoutube1.mp4\", 300)\n",
    "print_is_idle(r\"C:\\Users\\cidzerda\\Documents\\GitHub\\strevr-data\\idle\\vsnz1.mp4\", 200)\n",
    "print_is_idle(r\"C:\\Users\\cidzerda\\Documents\\GitHub\\strevr-data\\legends\\mymisterfruit.mp4\", 6060)\n",
    "print_is_idle(r\"C:\\Users\\cidzerda\\Documents\\GitHub\\strevr-data\\legends\\telshin.mp4\", 12060)\n",
    "print_is_idle(r\"C:\\Users\\cidzerda\\Documents\\GitHub\\strevr-data\\legends\\telshin.mp4\", 16830)\n",
    "print_is_idle(r\"C:\\Users\\cidzerda\\Documents\\GitHub\\strevr-data\\unsupervised\\telshin1.mp4\", 210)\n",
    "print_is_idle(r\"C:\\Users\\cidzerda\\Documents\\GitHub\\strevr-data\\unsupervised\\telshin1.mp4\", 990)\n",
    "\n",
    "# Try it on known non-Idle frames.\n",
    "print('non-Idle')\n",
    "print_is_idle(r\"C:\\Users\\cidzerda\\Documents\\GitHub\\strevr-data\\idle\\staycationyoutube1.mp4\", 0)\n",
    "print_is_idle(r\"C:\\Users\\cidzerda\\Documents\\GitHub\\strevr-data\\idle\\vsnz1.mp4\", 0)\n",
    "print_is_idle(r\"C:\\Users\\cidzerda\\Documents\\GitHub\\strevr-data\\legends\\mymisterfruit.mp4\", 0)\n",
    "print_is_idle(r\"C:\\Users\\cidzerda\\Documents\\GitHub\\strevr-data\\legends\\telshin.mp4\", 0)\n",
    "print_is_idle(r\"C:\\Users\\cidzerda\\Documents\\GitHub\\strevr-data\\legends\\telshin.mp4\", 18060)\n",
    "print_is_idle(r\"C:\\Users\\cidzerda\\Documents\\GitHub\\strevr-data\\legends\\telshin.mp4\", 19440)\n",
    "print_is_idle(r\"C:\\Users\\cidzerda\\Documents\\GitHub\\strevr-data\\unsupervised\\telshin1.mp4\", 1470)"
   ]
  },
  {
   "cell_type": "code",
   "execution_count": null,
   "metadata": {},
   "outputs": [],
   "source": [
    "a = (np.random.random((2,3)) * 10).astype('uint8')\n",
    "print(a)\n",
    "b = (np.random.random((2,3)) * 10).astype('uint8')\n",
    "print(b)\n",
    "print(a.astype('float32') - b.astype('float32'))\n",
    "print((a.astype('float32') - b.astype('float32')) ** 2)\n",
    "print(sum(((a.astype('float32') - b.astype('float32')) ** 2).reshape(-1)))\n",
    "print(max(((a.astype('float32') - b.astype('float32')) ** 2).reshape(-1)))"
   ]
  },
  {
   "cell_type": "code",
   "execution_count": null,
   "metadata": {},
   "outputs": [],
   "source": [
    "[s for s in dir(cv2) if s.lower().startswith('canny')]"
   ]
  },
  {
   "cell_type": "code",
   "execution_count": null,
   "metadata": {
    "scrolled": false
   },
   "outputs": [],
   "source": [
    "video = cv2.VideoCapture(r\"C:\\Users\\cidzerda\\Documents\\GitHub\\strevr-data\\idle\\vsnz1.mp4\")\n",
    "print(video.get(cv2.CAP_PROP_FPS))\n",
    "print(video.get(cv2.CAP_PROP_FRAME_COUNT))\n",
    "start = 250\n",
    "print(video.set(cv2.CAP_PROP_POS_FRAMES, start))\n",
    "for i in it.count(300):\n",
    "    _, frame = video.read()\n",
    "    image = cv2.Canny(frame, 100, 100)\n",
    "    print(image.shape)\n",
    "    if show_and_wait(image, 'Crop').lower() == 'q':\n",
    "        break\n",
    "video.release()\n",
    "cv2.destroyAllWindows()"
   ]
  }
 ],
 "metadata": {
  "kernelspec": {
   "display_name": "Python 3",
   "language": "python",
   "name": "python3"
  },
  "language_info": {
   "codemirror_mode": {
    "name": "ipython",
    "version": 3
   },
   "file_extension": ".py",
   "mimetype": "text/x-python",
   "name": "python",
   "nbconvert_exporter": "python",
   "pygments_lexer": "ipython3",
   "version": "3.6.6"
  }
 },
 "nbformat": 4,
 "nbformat_minor": 2
}

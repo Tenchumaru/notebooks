{
 "cells": [
  {
   "cell_type": "code",
   "execution_count": null,
   "metadata": {},
   "outputs": [],
   "source": [
    "import cv2\n",
    "import itertools as it\n",
    "import numpy as np\n",
    "import pickle\n",
    "from utilities import *"
   ]
  },
  {
   "cell_type": "code",
   "execution_count": null,
   "metadata": {},
   "outputs": [],
   "source": [
    "def fn(file_title):\n",
    "    with open(fr\"D:\\Dota 2\\Heroes\\Pickles\\Narrow\\{file_title}.pickle\", 'rb') as fin:\n",
    "        images = []\n",
    "        try:\n",
    "            while True:\n",
    "                images.append(pickle.load(fin))\n",
    "        except:\n",
    "            pass\n",
    "\n",
    "    def fn(image):\n",
    "        # Take the color channel with the lowest value.  This changes the shape\n",
    "        # of the image from (60, 160, 3) to (60, 160).\n",
    "        g = (image[:, :, i] for i in range(image.shape[2]))\n",
    "        image = min(g, key=lambda image: image.sum())\n",
    "        return image\n",
    "    images = list(map(fn, images))\n",
    "\n",
    "    # Combine the list of two-dimensional tensors into a single three-\n",
    "    # dimensional tensor.\n",
    "    images = np.stack(images, axis=0)\n",
    "\n",
    "    # Print the number of images.  Include that number's prime factors in case\n",
    "    # I want to display them in a grid.\n",
    "    print(images.shape, *prime_factors(images.shape[0]))\n",
    "\n",
    "    # Determine the desired whiteness by computing the mean of all whiteness.\n",
    "    desired_whiteness = np.mean(images, axis=0)\n",
    "    print(desired_whiteness.shape, desired_whiteness.min(), desired_whiteness.max())\n",
    "    yield desired_whiteness\n",
    "\n",
    "    # Determine the desired factor by scaling the range of standard deviations\n",
    "    # of all whiteness from [min, max] to [1, 0].\n",
    "    std = np.std(images, axis=0)\n",
    "    desired_factor = (std - np.max(std)) / (np.min(std) - np.max(std))\n",
    "    print(desired_factor.shape)\n",
    "    #print(*[[int(f * 10) for f in e] for e in desired_factor], sep='\\n')\n",
    "    yield desired_factor\n",
    "\n",
    "    # Apply a threshold to remove the background.\n",
    "    image = (desired_factor * 255).astype(np.uint8)\n",
    "    #threshold, image = cv2.threshold(image, 0, 255, cv2.THRESH_TRIANGLE | cv2.THRESH_TOZERO)\n",
    "    #print(threshold)\n",
    "    threshold = 73\n",
    "    _, image = cv2.threshold(image, threshold, 255, cv2.THRESH_TOZERO)\n",
    "    desired_factor = image.astype(np.float32) / 255\n",
    "    #print(*[[int(f * 10) for f in e] for e in desired_factor], sep='\\n')\n",
    "    yield desired_factor\n",
    "\n",
    "    # Display examples side-by-side.\n",
    "    def fn(desired_whiteness, desired_factor, color):\n",
    "        background = np.ones(desired_factor.shape, dtype=np.float32) * color\n",
    "        image = background * (1.0 - desired_factor) + desired_whiteness * desired_factor\n",
    "        return image\n",
    "    random_indices = sorted(np.random.uniform(0, len(images), [9]).astype(int))\n",
    "    random_indices = [297, 2599, 3473, 4462, 4883, 5394, 5781, 6485, 11840] # These are good.\n",
    "    g = ((fn(desired_whiteness, desired_factor, images[i].min()), fn(desired_whiteness, desired_factor, images[i].mean()), images[i]) for i in random_indices)\n",
    "    l = list(it.chain.from_iterable(g))\n",
    "    yield np.vstack(l)"
   ]
  },
  {
   "cell_type": "code",
   "execution_count": null,
   "metadata": {},
   "outputs": [],
   "source": [
    "# Determine a bounding box for the name based on the desired factor.\n",
    "image = np.vstack(list(fn('ancient_apparition')))\n",
    "show_and_wait(image)\n",
    "cv2.destroyAllWindows()"
   ]
  },
  {
   "cell_type": "code",
   "execution_count": null,
   "metadata": {},
   "outputs": [],
   "source": [
    "# The height of all of these letters is 8.  The widths vary from 4 to 7.\n",
    "top, bottom, left = 5, 13, 5\n",
    "A1 = image[top:bottom, left + 0:left + 7]\n",
    "N1 = image[top:bottom, left + 7:left + 13]\n",
    "C = image[top:bottom, left + 13:left + 19]\n",
    "I1 = image[top:bottom, left + 19:left + 23]\n",
    "E = image[top:bottom, left + 23:left + 28]\n",
    "N2 = image[top:bottom, left + 28:left + 35]\n",
    "T1 = image[top:bottom, left + 35:left + 40] # word gap is 4 pixels\n",
    "A2 = image[top:bottom, left + 44:left + 50]\n",
    "P1 = image[top:bottom, left + 50:left + 56]\n",
    "P2 = image[top:bottom, left + 56:left + 61]\n",
    "A3 = image[top:bottom, left + 61:left + 67]\n",
    "R = image[top:bottom, left + 67:left + 73]\n",
    "I2 = image[top:bottom, left + 73:left + 77]\n",
    "T2 = image[top:bottom, left + 77:left + 83]\n",
    "I3 = image[top:bottom, left + 83:left + 87]\n",
    "O = image[top:bottom, left + 87:left + 93]\n",
    "N3 = image[top:bottom, left + 93:left + 99]\n",
    "show_and_wait(np.hstack([A1, N1, C, I1, E, N2, T1, A2, P1, P2, A3, R, I2, T2, I3, O, N3]))\n",
    "cv2.destroyAllWindows()"
   ]
  },
  {
   "cell_type": "code",
   "execution_count": null,
   "metadata": {},
   "outputs": [],
   "source": [
    "# Determine a bounding box for the name based on the desired factor.\n",
    "image = np.vstack(list(fn('anti-mage')))\n",
    "show_and_wait(image)\n",
    "cv2.destroyAllWindows()"
   ]
  },
  {
   "cell_type": "code",
   "execution_count": null,
   "metadata": {},
   "outputs": [],
   "source": [
    "# The height of all of these letters is 9.  The widths vary from 4 to 9.\n",
    "top, bottom, left = 4, 13, 24\n",
    "A1 = image[top:bottom, left + 0:left + 8]\n",
    "N = image[top:bottom, left + 8:left + 16]\n",
    "T = image[top:bottom, left + 16:left + 23]\n",
    "I = image[top:bottom, left + 23:left + 27]\n",
    "hyphen = image[top:bottom, left + 27:left + 32]\n",
    "M = image[top:bottom, left + 32:left + 41]\n",
    "A2 = image[top:bottom, left + 41:left + 48]\n",
    "G = image[top:bottom, left + 48:left + 56]\n",
    "E = image[top:bottom, left + 56:left + 62]\n",
    "show_and_wait(np.hstack([A1, N, T, I, hyphen, M, A2, G, E]))\n",
    "cv2.destroyAllWindows()"
   ]
  },
  {
   "cell_type": "code",
   "execution_count": null,
   "metadata": {},
   "outputs": [],
   "source": [
    "if False:\n",
    "    # Load all Broodmother images.\n",
    "    def fn(file_title):\n",
    "        with open(fr\"D:\\Dota 2\\Heroes\\Pickles\\{file_title}.pickle\", 'rb') as fin:\n",
    "            try:\n",
    "                while True:\n",
    "                    yield pickle.load(fin)\n",
    "            except:\n",
    "                pass\n",
    "    images = list(fn('broodmother'))\n",
    "\n",
    "    # Look at all Broodmother images.\n",
    "    for i in range(0, len(images), 8*50):\n",
    "        try:\n",
    "            show_and_wait(np.hstack([np.vstack(images[j:j+50]) for j in range(i, i+8*50, 50)]))\n",
    "        except:\n",
    "            break\n",
    "    for j in range(i, len(images), 23):\n",
    "        show_and_wait(np.vstack(images[j:j+23]))\n",
    "    cv2.destroyAllWindows()\n",
    "    # None look bad."
   ]
  },
  {
   "cell_type": "code",
   "execution_count": null,
   "metadata": {},
   "outputs": [],
   "source": [
    "# Determine a bounding box for the name based on the desired factor.\n",
    "image = np.vstack(list(fn('broodmother')))\n",
    "show_and_wait(image)\n",
    "cv2.destroyAllWindows()"
   ]
  },
  {
   "cell_type": "code",
   "execution_count": null,
   "metadata": {},
   "outputs": [],
   "source": [
    "# The height of all of these letters is 9.  The widths vary from 7 to 9.\n",
    "top, bottom, left = 4, 13, 13\n",
    "B = image[top:bottom, left + 0:left + 7]\n",
    "R1 = image[top:bottom, left + 7:left + 13]\n",
    "O1 = image[top:bottom, left + 13:left + 22]\n",
    "O2 = image[top:bottom, left + 22:left + 30]\n",
    "D = image[top:bottom, left + 30:left + 38]\n",
    "M = image[top:bottom, left + 38:left + 47]\n",
    "O3 = image[top:bottom, left + 47:left + 56]\n",
    "T = image[top:bottom, left + 56:left + 63]\n",
    "H = image[top:bottom, left + 63:left + 71]\n",
    "E = image[top:bottom, left + 71:left + 77]\n",
    "R2 = image[top:bottom, left + 77:left + 84]\n",
    "show_and_wait(np.hstack([B, R1, O1, O2, D, M, O3, T, H, E, R2]))\n",
    "cv2.destroyAllWindows()"
   ]
  },
  {
   "cell_type": "code",
   "execution_count": null,
   "metadata": {},
   "outputs": [],
   "source": [
    "# Determine a bounding box for the name based on the desired factor.\n",
    "image = np.vstack(list(fn('centaur_warrunner')))\n",
    "show_and_wait(image)\n",
    "cv2.destroyAllWindows()"
   ]
  },
  {
   "cell_type": "code",
   "execution_count": null,
   "metadata": {},
   "outputs": [],
   "source": [
    "# The height of all of these letters is 8. The widths vary from 6 to 7.\n",
    "top, bottom, left = 5, 13, 4\n",
    "C = image[top:bottom, left + 0:left + 6]\n",
    "E1 = image[top:bottom, left + 6:left + 12]\n",
    "N1 = image[top:bottom, left + 12:left + 18]\n",
    "T = image[top:bottom, left + 18:left + 23]\n",
    "A1 = image[top:bottom, left + 23:left + 29]\n",
    "U1 = image[top:bottom, left + 29:left + 35]\n",
    "R1 = image[top:bottom, left + 35:left + 41] # word gap is 4 pixels\n",
    "W = image[top:bottom, left + 45:left + 52]\n",
    "A2 = image[top:bottom, left + 52:left + 59]\n",
    "R2 = image[top:bottom, left + 59:left + 65]\n",
    "R3 = image[top:bottom, left + 65:left + 71]\n",
    "U2 = image[top:bottom, left + 71:left + 77]\n",
    "N2 = image[top:bottom, left + 77:left + 84]\n",
    "N3 = image[top:bottom, left + 84:left + 90]\n",
    "E2 = image[top:bottom, left + 90:left + 96]\n",
    "R4 = image[top:bottom, left + 96:left + 102]\n",
    "show_and_wait(np.hstack([C, E1, N1, T, A1, U1, R1, W, A2, R2, R3, U2, N2, N3, E2, R4]))\n",
    "cv2.destroyAllWindows()"
   ]
  },
  {
   "cell_type": "code",
   "execution_count": null,
   "metadata": {
    "scrolled": true
   },
   "outputs": [],
   "source": [
    "# Determine a bounding box for the name based on the desired factor.\n",
    "image = np.vstack(list(fn('clinkz')))\n",
    "show_and_wait(image)\n",
    "cv2.destroyAllWindows()"
   ]
  },
  {
   "cell_type": "code",
   "execution_count": null,
   "metadata": {},
   "outputs": [],
   "source": [
    "# The height of all of these letters is 9. The widths vary from 5 to 8.\n",
    "top, bottom, left = 4, 13, 35\n",
    "C = image[top:bottom, left + 0:left + 7]\n",
    "L = image[top:bottom, left + 7:left + 13]\n",
    "I = image[top:bottom, left + 13:left + 18]\n",
    "N = image[top:bottom, left + 18:left + 26]\n",
    "K = image[top:bottom, left + 26:left + 33]\n",
    "Z = image[top:bottom, left + 33:left + 40]\n",
    "show_and_wait(np.hstack([C, L, I, N, K, Z]))\n",
    "cv2.destroyAllWindows()"
   ]
  },
  {
   "cell_type": "code",
   "execution_count": null,
   "metadata": {
    "scrolled": true
   },
   "outputs": [],
   "source": [
    "# Determine a bounding box for the name based on the desired factor.\n",
    "image = np.vstack(list(fn('io')))\n",
    "show_and_wait(image)\n",
    "cv2.destroyAllWindows()"
   ]
  },
  {
   "cell_type": "code",
   "execution_count": null,
   "metadata": {},
   "outputs": [],
   "source": [
    "# The height of all of these letters is 9. The widths vary from 4 to 9.\n",
    "top, bottom, left = 4, 13, 49\n",
    "I = image[top:bottom, left + 0:left + 4]\n",
    "O = image[top:bottom, left + 4:left + 13]\n",
    "show_and_wait(np.hstack([I, O]))\n",
    "cv2.destroyAllWindows()"
   ]
  },
  {
   "cell_type": "code",
   "execution_count": null,
   "metadata": {
    "scrolled": true
   },
   "outputs": [],
   "source": [
    "# Determine a bounding box for the name based on the desired factor.\n",
    "image = np.vstack(list(fn('juggernaut')))\n",
    "show_and_wait(image)\n",
    "cv2.destroyAllWindows()"
   ]
  },
  {
   "cell_type": "code",
   "execution_count": null,
   "metadata": {},
   "outputs": [],
   "source": [
    "# The height of all of these letters is 9. The widths vary from 5 to 8.\n",
    "top, bottom, left = 4, 13, 19\n",
    "J = image[top:bottom, left + 0:left + 5]\n",
    "U1 = image[top:bottom, left + 5:left + 13]\n",
    "G1 = image[top:bottom, left + 13:left + 21]\n",
    "G2 = image[top:bottom, left + 21:left + 29]\n",
    "E = image[top:bottom, left + 29:left + 35]\n",
    "R = image[top:bottom, left + 35:left + 42]\n",
    "N = image[top:bottom, left + 42:left + 50]\n",
    "A = image[top:bottom, left + 50:left + 58]\n",
    "U2 = image[top:bottom, left + 58:left + 66]\n",
    "T = image[top:bottom, left + 66:left + 73]\n",
    "show_and_wait(np.hstack([J, U1, G1, G2, E, R, N, A, U2, T]))\n",
    "cv2.destroyAllWindows()"
   ]
  },
  {
   "cell_type": "code",
   "execution_count": null,
   "metadata": {},
   "outputs": [],
   "source": [
    "# Determine a bounding box for the name based on the desired factor.\n",
    "image = np.vstack(list(fn('keeper_of_the_light')))\n",
    "show_and_wait(image)\n",
    "cv2.destroyAllWindows()"
   ]
  },
  {
   "cell_type": "code",
   "execution_count": null,
   "metadata": {},
   "outputs": [],
   "source": [
    "# The height of all of these letters is 8.  The widths vary from 3 to 7.\n",
    "top, bottom, left = 5, 13, 5\n",
    "K = image[top:bottom, left + 0:left + 6]\n",
    "E1 = image[top:bottom, left + 6:left + 12]\n",
    "E2 = image[top:bottom, left + 12:left + 17]\n",
    "P = image[top:bottom, left + 17:left + 23]\n",
    "E3 = image[top:bottom, left + 23:left + 28]\n",
    "R = image[top:bottom, left + 28:left + 34]\n",
    "O = image[top:bottom, left + 37:left + 44]\n",
    "F = image[top:bottom, left + 44:left + 49]\n",
    "T1 = image[top:bottom, left + 52:left + 58]\n",
    "H1 = image[top:bottom, left + 58:left + 64]\n",
    "E4 = image[top:bottom, left + 64:left + 70]\n",
    "L = image[top:bottom, left + 73:left + 78]\n",
    "I = image[top:bottom, left + 78:left + 81]\n",
    "G = image[top:bottom, left + 81:left + 88]\n",
    "H2 = image[top:bottom, left + 88:left + 95]\n",
    "T2 = image[top:bottom, left + 95:left + 100]\n",
    "show_and_wait(np.hstack([K, E1, E2, P, E3, R, O, F, T1, H1, E4, L, I, G, H2, T2]))\n",
    "cv2.destroyAllWindows()"
   ]
  },
  {
   "cell_type": "code",
   "execution_count": null,
   "metadata": {},
   "outputs": [],
   "source": [
    "# Determine a bounding box for the name based on the desired factor.\n",
    "image = np.vstack(list(fn(\"nature's_prophet\")))\n",
    "show_and_wait(image)\n",
    "cv2.destroyAllWindows()"
   ]
  },
  {
   "cell_type": "code",
   "execution_count": null,
   "metadata": {},
   "outputs": [],
   "source": [
    "# The height of all of these letters is 9.  The widths vary from 3 to 9.\n",
    "top, bottom, left = 4, 13, 3\n",
    "N = image[top:bottom, left + 0:left + 8]\n",
    "A = image[top:bottom, left + 8:left + 15]\n",
    "T1 = image[top:bottom, left + 15:left + 22]\n",
    "U = image[top:bottom, left + 22:left + 29]\n",
    "R1 = image[top:bottom, left + 29:left + 36]\n",
    "E1 = image[top:bottom, left + 36:left + 42]\n",
    "apostrophe = image[top:bottom, left + 42:left + 45]\n",
    "S = image[top:bottom, left + 45:left + 52] # word gap is 3 pixels\n",
    "P1 = image[top:bottom, left + 55:left + 62]\n",
    "R2 = image[top:bottom, left + 62:left + 68]\n",
    "O = image[top:bottom, left + 68:left + 77]\n",
    "P2 = image[top:bottom, left + 77:left + 83]\n",
    "H = image[top:bottom, left + 83:left + 91]\n",
    "E2 = image[top:bottom, left + 91:left + 97]\n",
    "T2 = image[top:bottom, left + 97:left + 104]\n",
    "show_and_wait(np.hstack([N, A, T1, U, R1, E1, apostrophe, S, P1, R2, O, P2, H, E2, T2]))\n",
    "cv2.destroyAllWindows()"
   ]
  },
  {
   "cell_type": "code",
   "execution_count": null,
   "metadata": {},
   "outputs": [],
   "source": [
    "# Determine a bounding box for the name based on the desired factor.\n",
    "image = np.vstack(list(fn('nyx_assassin')))\n",
    "show_and_wait(image)\n",
    "cv2.destroyAllWindows()"
   ]
  },
  {
   "cell_type": "code",
   "execution_count": null,
   "metadata": {},
   "outputs": [],
   "source": [
    "# The height of all of these letters is 9.  The widths vary from 5 to 8.\n",
    "top, bottom, left = 4, 13, 16\n",
    "N1 = image[top:bottom, left + 0:left + 8]\n",
    "Y = image[top:bottom, left + 8:left + 16]\n",
    "X = image[top:bottom, left + 16:left + 23] # word gap is 3 pixels\n",
    "A1 = image[top:bottom, left + 26:left + 34]\n",
    "S1 = image[top:bottom, left + 34:left + 40]\n",
    "S2 = image[top:bottom, left + 40:left + 46]\n",
    "A2 = image[top:bottom, left + 46:left + 53]\n",
    "S3 = image[top:bottom, left + 53:left + 59]\n",
    "S4 = image[top:bottom, left + 59:left + 65]\n",
    "I = image[top:bottom, left + 65:left + 70]\n",
    "N2 = image[top:bottom, left + 70:left + 78]\n",
    "show_and_wait(np.hstack([N1, Y, X, A1, S1, S2, A2, S3, S4, I, N2]))\n",
    "cv2.destroyAllWindows()"
   ]
  },
  {
   "cell_type": "code",
   "execution_count": null,
   "metadata": {},
   "outputs": [],
   "source": [
    "# Determine a bounding box for the name based on the desired factor.\n",
    "image = np.vstack(list(fn('outworld_devourer')))\n",
    "show_and_wait(image)\n",
    "cv2.destroyAllWindows()"
   ]
  },
  {
   "cell_type": "code",
   "execution_count": null,
   "metadata": {},
   "outputs": [],
   "source": [
    "# The height of all of these letters is 8.  The widths vary from 5 to 8.\n",
    "top, bottom, left = 5, 13, 5\n",
    "O1 = image[top:bottom, left + 0:left + 7]\n",
    "U1 = image[top:bottom, left + 7:left + 14]\n",
    "T = image[top:bottom, left + 14:left + 19]\n",
    "W = image[top:bottom, left + 19:left + 27]\n",
    "O2 = image[top:bottom, left + 27:left + 34]\n",
    "R1 = image[top:bottom, left + 34:left + 40]\n",
    "L = image[top:bottom, left + 40:left + 45]\n",
    "D1 = image[top:bottom, left + 45:left + 51] # word gap is 2 pixels\n",
    "D2 = image[top:bottom, left + 53:left + 60]\n",
    "E1 = image[top:bottom, left + 60:left + 65]\n",
    "V = image[top:bottom, left + 65:left + 71]\n",
    "O3 = image[top:bottom, left + 71:left + 77]\n",
    "U2 = image[top:bottom, left + 77:left + 84]\n",
    "R2 = image[top:bottom, left + 84:left + 89]\n",
    "E2 = image[top:bottom, left + 89:left + 94]\n",
    "R3 = image[top:bottom, left + 94:left + 100]\n",
    "show_and_wait(np.hstack([O1, U1, T, W, O2, R1, L, D1, D2, E1, V, O3, U2, R2, E2, R3]))\n",
    "cv2.destroyAllWindows()"
   ]
  },
  {
   "cell_type": "code",
   "execution_count": null,
   "metadata": {},
   "outputs": [],
   "source": [
    "# Determine a bounding box for the name based on the desired factor.\n",
    "image = np.vstack(list(fn('queen_of_pain')))\n",
    "show_and_wait(image)\n",
    "cv2.destroyAllWindows()"
   ]
  },
  {
   "cell_type": "code",
   "execution_count": null,
   "metadata": {},
   "outputs": [],
   "source": [
    "# The height of all of these letters is 10.  The widths vary from 5 to 8.\n",
    "top, bottom, left = 4, 14, 13\n",
    "Q = image[top:bottom, left + 0:left + 8]\n",
    "U = image[top:bottom, left + 8:left + 16]\n",
    "E1 = image[top:bottom, left + 16:left + 23]\n",
    "E2 = image[top:bottom, left + 23:left + 29]\n",
    "N2 = image[top:bottom, left + 29:left + 37] # word gap is 4 pixels\n",
    "O = image[top:bottom, left + 41:left + 49]\n",
    "F = image[top:bottom, left + 49:left + 55] # word gap is 4 pixels\n",
    "P = image[top:bottom, left + 59:left + 65]\n",
    "A = image[top:bottom, left + 65:left + 72]\n",
    "I = image[top:bottom, left + 72:left + 77]\n",
    "N2 = image[top:bottom, left + 77:left + 85]\n",
    "show_and_wait(np.hstack([Q, U, E1, E2, N2, O, F, P, A, I, N2]))\n",
    "cv2.destroyAllWindows()"
   ]
  }
 ],
 "metadata": {
  "kernelspec": {
   "display_name": "Python 3",
   "language": "python",
   "name": "python3"
  },
  "language_info": {
   "codemirror_mode": {
    "name": "ipython",
    "version": 3
   },
   "file_extension": ".py",
   "mimetype": "text/x-python",
   "name": "python",
   "nbconvert_exporter": "python",
   "pygments_lexer": "ipython3",
   "version": "3.7.5"
  }
 },
 "nbformat": 4,
 "nbformat_minor": 2
}

{
 "cells": [
  {
   "cell_type": "code",
   "execution_count": 1,
   "metadata": {},
   "outputs": [],
   "source": [
    "import collections\n",
    "import cv2\n",
    "import itertools as it\n",
    "import numpy as np\n",
    "import operator as op\n",
    "import os\n",
    "import pickle\n",
    "import random\n",
    "\n",
    "from utilities import *"
   ]
  },
  {
   "cell_type": "code",
   "execution_count": 2,
   "metadata": {},
   "outputs": [
    {
     "name": "stdout",
     "output_type": "stream",
     "text": [
      "12 '-_abcdefghijklmnopqrstuvwxyz 29\n"
     ]
    }
   ],
   "source": [
    "top, left, bottom, right = 609, 381, 625, 501\n",
    "width, height = right - left, bottom - top\n",
    "\n",
    "file_titles = [\n",
    "    'ancient_apparition',\n",
    "    'anti-mage',\n",
    "    'broodmother',\n",
    "    'centaur_warrunner',\n",
    "    'clinkz',\n",
    "    'io',\n",
    "    'juggernaut',\n",
    "    'keeper_of_the_light',\n",
    "    \"nature's_prophet\",\n",
    "    'nyx_assassin',\n",
    "    'outworld_devourer',\n",
    "    'queen_of_pain',\n",
    "]\n",
    "s = ''.join(c for c, _ in it.groupby(sorted(it.chain.from_iterable(file_titles))))\n",
    "print(len(file_titles), s, len(s))"
   ]
  },
  {
   "cell_type": "code",
   "execution_count": 3,
   "metadata": {},
   "outputs": [
    {
     "name": "stdout",
     "output_type": "stream",
     "text": [
      "[23400, 26970, 27030, 25110, 27030, 28920, 26730, 13020, 25500, 27000, 26430, 25830]\n"
     ]
    },
    {
     "data": {
      "text/plain": [
       "(12, (16, 120, 3), dtype('uint8'), 0, 255)"
      ]
     },
     "execution_count": 3,
     "metadata": {},
     "output_type": "execute_result"
    }
   ],
   "source": [
    "def fn(file_title):\n",
    "    with open(fr\"D:\\Dota 2\\Heroes\\Pickles\\{file_title}.pickle\", 'rb') as fin:\n",
    "        return tuple(pickle_iter(fin))\n",
    "data = {s: fn(s) for s in file_titles}\n",
    "#show_and_wait(np.vstack(list(data.items())[0][1][:33]))\n",
    "cv2.destroyAllWindows()\n",
    "image = list(data.items())[0][1][0]\n",
    "print([len(v) for _, v in data.items()])\n",
    "len(data), image.shape, image.dtype, image.min(), image.max()"
   ]
  },
  {
   "cell_type": "code",
   "execution_count": 4,
   "metadata": {},
   "outputs": [],
   "source": [
    "# Color data adds no value to this methodology.\n",
    "# Transform all data into greyscale.\n",
    "data = {k: tuple(cv2.cvtColor(image, cv2.COLOR_BGR2GRAY) for image in v) for k, v in data.items()}"
   ]
  },
  {
   "cell_type": "code",
   "execution_count": 5,
   "metadata": {},
   "outputs": [
    {
     "name": "stdout",
     "output_type": "stream",
     "text": [
      "120 135 150 165 180 195 210\n"
     ]
    }
   ],
   "source": [
    "range_args = (120, 211, 15)\n",
    "print(*range(*range_args))\n",
    "known_thresholds = list(range(*range_args))\n",
    "known_thresholds[-1] = -1"
   ]
  },
  {
   "cell_type": "code",
   "execution_count": 6,
   "metadata": {},
   "outputs": [],
   "source": [
    "# Based on this experiment, it appears 165 is a good threshold for most of the data but, for \"outworld devourer\",\n",
    "# this needs to be no more than 135.  Using an adaptive thresholding mechanism ensures a suitable threshold for all data.\n",
    "# A given threshold excludes more background pixels in greyscale than in color.\n",
    "def fn(images):\n",
    "    computed_thresholds = set()\n",
    "    def fn(index, threshold):\n",
    "        image = images[index].copy()\n",
    "        if threshold > 0:\n",
    "            image[image < threshold] = 0\n",
    "        else:\n",
    "            threshold, image = cv2.threshold(image, 0, 0, cv2.THRESH_TOZERO | cv2.THRESH_OTSU)\n",
    "            computed_thresholds.add(int(threshold))\n",
    "        return image\n",
    "    indices = random.sample(range(len(images)), k=99)\n",
    "    show_and_wait(np.hstack([np.vstack([fn(i, n) for i in indices]) for n in known_thresholds]))\n",
    "    return min(computed_thresholds), max(computed_thresholds)\n",
    "g = ((k, fn(v)) for k, v in data.items())\n",
    "#print(*g, sep='\\n')\n",
    "cv2.destroyAllWindows()"
   ]
  },
  {
   "cell_type": "code",
   "execution_count": 7,
   "metadata": {},
   "outputs": [],
   "source": [
    "# Determine horizontal limits to extract the text from the background.\n",
    "cv2.namedWindow('tesst', cv2.WINDOW_NORMAL | cv2.WINDOW_GUI_EXPANDED)\n",
    "def fn(images):\n",
    "    while True:\n",
    "        image = random.choice(images)\n",
    "        _, image = cv2.threshold(image, 0, 0, cv2.THRESH_TOZERO | cv2.THRESH_OTSU)\n",
    "        if show_and_wait(image) == 'g':\n",
    "            break\n",
    "    left_limit, right_limit = 0, image.shape[1]\n",
    "    while True:\n",
    "        ch = show_and_wait(np.hstack([np.ones([image.shape[0] - 7, left_limit], dtype=image.dtype) * 128,\n",
    "                                      image[4:-3, left_limit:right_limit],\n",
    "                                      np.ones([image.shape[0] - 7, image.shape[1] - right_limit], dtype=image.dtype) * 128]))\n",
    "        if ch == 's':\n",
    "            left_limit -= 1\n",
    "        elif ch == 'f':\n",
    "            left_limit += 1\n",
    "        elif ch == 'j':\n",
    "            right_limit -= 1\n",
    "        elif ch == 'l':\n",
    "            right_limit += 1\n",
    "        elif ch == ' ':\n",
    "            break\n",
    "        elif ch == 'q':\n",
    "            return\n",
    "        else:\n",
    "            print(ch, ord(ch))\n",
    "    return (left_limit, right_limit)\n",
    "#horizontal_limits = {k: fn(v) for k, v in data.items()}\n",
    "cv2.destroyAllWindows()"
   ]
  },
  {
   "cell_type": "code",
   "execution_count": 8,
   "metadata": {},
   "outputs": [],
   "source": [
    "# These are the limits created above.\n",
    "horizontal_limits = {'ancient_apparition': (14, 117),\n",
    "          'anti-mage': (33, 98),\n",
    "          'broodmother': (22, 110),\n",
    "          'centaur_warrunner': (13, 118),\n",
    "          'clinkz': (44, 87),\n",
    "          'io': (58, 74),\n",
    "          'juggernaut': (27, 104),\n",
    "          'keeper_of_the_light': (14, 118),\n",
    "          \"nature's_prophet\": (12, 120),\n",
    "          'nyx_assassin': (25, 106),\n",
    "          'outworld_devourer': (14, 117),\n",
    "          'queen_of_pain': (21, 110)}"
   ]
  },
  {
   "cell_type": "code",
   "execution_count": 9,
   "metadata": {
    "scrolled": true
   },
   "outputs": [],
   "source": [
    "def fn(file_title):\n",
    "    # Determine possible horizontal extents for the letters in a random sample of the images.\n",
    "    horizontal_offset = horizontal_limits[file_title][0]\n",
    "    def fn(image):\n",
    "        # Apply a threshold to and crop the image.\n",
    "        _, image = cv2.threshold(image, 0, 0, cv2.THRESH_TOZERO | cv2.THRESH_OTSU)\n",
    "        image = image[4:-3, horizontal_offset:horizontal_limits[file_title][1]]\n",
    "\n",
    "        # Collect a list of letter extents.\n",
    "        l = []\n",
    "        for x in range(image.shape[1] - 1):\n",
    "            if not image[:, x].any() and image[:, x + 1].any():\n",
    "                l.append([x + horizontal_offset])\n",
    "            elif len(l) and image[:, x].any() and not image[:, x + 1].any():\n",
    "                l[-1].append(x + 1 + horizontal_offset)\n",
    "        return tuple(map(tuple, l))\n",
    "    images = random.sample(data[file_title], k=999)\n",
    "    g = map(fn, images)\n",
    "    expected_length = len([c for c in file_title if c != '_'])\n",
    "    s = {t for t in g if len(t) == expected_length and all(len(t) == 2 for t in t)}\n",
    "    g = map(set, zip(*s))\n",
    "    return tuple((min(a for a, _ in s), max(b for _, b in s), s) for s in g)\n",
    "#possible_extents = {k: fn(k) for k in data}"
   ]
  },
  {
   "cell_type": "code",
   "execution_count": 10,
   "metadata": {},
   "outputs": [],
   "source": [
    "# These are the extents created above.\n",
    "possible_extents = {\n",
    "    'ancient_apparition': ((16, 21, {(16, 21)}), (21, 28, {(21, 28), (22, 28), (23, 28)}), (29, 34, {(29, 33), (29, 34)}), (35, 37, {(35, 37)}), (38, 43, {(38, 42), (38, 43), (39, 42)}), (44, 49, {(44, 49)}), (50, 55, {(50, 55)}), (58, 65, {(58, 65), (59, 65)}), (65, 70, {(65, 70), (66, 70)}), (71, 76, {(71, 76), (72, 76)}), (76, 83, {(76, 82), (76, 83)}), (83, 89, {(83, 88), (83, 89)}), (89, 91, {(89, 91)}), (91, 98, {(91, 97), (92, 97), (92, 98)}), (97, 101, {(97, 101), (98, 101), (99, 101)}), (102, 108, {(102, 108)}), (109, 115, {(109, 114), (109, 115)})),\n",
    "    'anti-mage': ((33, 43, {(33, 42), (34, 42), (35, 41), (35, 42), (35, 43)}), (42, 49, {(42, 49), (43, 49)}), (49, 58, {(49, 56), (49, 57), (50, 56), (50, 57), (50, 58)}), (56, 60, {(56, 60), (57, 60), (58, 60)}), (61, 66, {(61, 66), (62, 65), (62, 66)}), (66, 74, {(66, 74), (67, 74)}), (74, 82, {(74, 82), (75, 82)}), (82, 89, {(82, 89), (83, 89)}), (90, 96, {(90, 95), (91, 95), (91, 96)})),\n",
    "    'broodmother': ((23, 29, {(23, 29), (24, 29)}), (30, 36, {(30, 36), (31, 36)}), (37, 44, {(37, 44)}), (44, 54, {(44, 53), (45, 53), (45, 54), (46, 53)}), (53, 61, {(53, 60), (54, 60), (54, 61)}), (61, 70, {(61, 70), (62, 69), (62, 70)}), (70, 79, {(70, 78), (71, 78), (71, 79)}), (78, 86, {(78, 85), (79, 85), (79, 86)}), (86, 93, {(86, 93), (87, 93)}), (94, 99, {(94, 99), (95, 99)}), (101, 107, {(101, 107)})),\n",
    "    'centaur_warrunner': ((14, 20, {(14, 20), (15, 19), (15, 20)}), (21, 25, {(21, 25)}), (26, 32, {(26, 30), (26, 32), (27, 32)}), (30, 38, {(30, 38), (32, 38), (33, 38)}), (38, 43, {(38, 43)}), (44, 49, {(44, 49)}), (50, 55, {(50, 55), (51, 55)}), (59, 67, {(59, 67)}), (67, 72, {(67, 72)}), (73, 79, {(73, 78), (74, 78), (74, 79)}), (79, 84, {(79, 84), (80, 84)}), (85, 92, {(85, 90), (85, 91), (85, 92), (86, 90), (86, 91)}), (92, 97, {(92, 97)}), (97, 104, {(97, 104), (98, 104), (99, 104)}), (105, 109, {(105, 109)}), (110, 116, {(110, 115), (110, 116), (111, 115)})),\n",
    "    'clinkz': ((44, 52, {(44, 46), (45, 52), (46, 51), (46, 52)}), (46, 59, {(46, 52), (53, 58), (53, 59)}), (53, 62, {(53, 58), (59, 62)}), (59, 70, {(59, 62), (62, 70), (63, 70), (64, 70)}), (62, 78, {(62, 70), (71, 78), (72, 78)}), (71, 85, {(71, 85), (79, 84), (79, 85)})),\n",
    "    'io': ((58, 63, {(58, 63), (59, 62), (59, 63), (60, 62)}), (62, 72, {(62, 72), (63, 72), (64, 71), (64, 72)})),\n",
    "    'juggernaut': ((28, 33, {(28, 33), (29, 33)}), (35, 43, {(35, 41), (35, 42), (35, 43)}), (41, 49, {(41, 49), (42, 49), (43, 49)}), (50, 57, {(50, 56), (50, 57), (51, 56)}), (57, 63, {(57, 63), (58, 63)}), (63, 70, {(63, 70), (64, 70), (65, 70)}), (70, 79, {(70, 78), (72, 78), (72, 79)}), (80, 87, {(80, 86), (80, 87)}), (87, 94, {(87, 94), (88, 94)}), (95, 103, {(95, 101), (95, 102), (95, 103)})),\n",
    "    'keeper_of_the_light': ((14, 21, {(14, 21), (15, 20), (15, 21), (16, 20), (16, 21)}), (22, 27, {(22, 26), (22, 27)}), (27, 32, {(27, 31), (27, 32), (28, 31)}), (33, 37, {(33, 37)}), (38, 43, {(38, 42), (38, 43), (39, 42)}), (44, 49, {(44, 49)}), (53, 59, {(53, 59)}), (60, 64, {(60, 64)}), (65, 73, {(65, 73), (67, 73), (68, 72), (68, 73)}), (73, 79, {(73, 79), (74, 79)}), (80, 85, {(80, 84), (80, 85), (81, 84), (81, 85)}), (89, 93, {(89, 93)}), (94, 97, {(94, 96), (94, 97)}), (96, 103, {(96, 102), (97, 102), (97, 103)}), (104, 109, {(104, 109)}), (110, 117, {(110, 115), (110, 117)})),\n",
    "    \"nature's_prophet\": ((14, 20, {(14, 20)}), (21, 28, {(21, 28), (22, 28)}), (28, 34, {(28, 34)}), (35, 43, {(35, 41), (35, 42), (35, 43), (36, 41), (36, 42)}), (43, 49, {(43, 45), (43, 49)}), (46, 56, {(46, 55), (49, 56), (50, 54), (50, 55)}), (56, 59, {(56, 58), (56, 59)}), (58, 64, {(58, 64), (59, 64), (60, 64)}), (69, 76, {(69, 74), (69, 75), (69, 76)}), (75, 89, {(75, 81), (75, 89), (76, 81)}), (81, 91, {(81, 89), (82, 89), (82, 91), (89, 91)}), (89, 97, {(89, 97), (90, 96), (91, 95), (91, 96)}), (97, 105, {(97, 103), (97, 105)}), (105, 110, {(105, 109), (105, 110)}), (110, 118, {(110, 117), (111, 116), (111, 117), (111, 118)})),\n",
    "    'nyx_assassin': ((27, 41, {(27, 33), (27, 34), (35, 41)}), (34, 48, {(34, 41), (35, 41), (35, 42), (41, 48)}), (41, 52, {(41, 48), (42, 48), (42, 49), (48, 52)}), (50, 60, {(50, 60), (51, 59), (53, 59), (53, 60)}), (60, 65, {(60, 65), (61, 65)}), (65, 72, {(65, 71), (66, 71), (66, 72), (67, 71)}), (72, 79, {(72, 79)}), (79, 85, {(79, 85), (80, 85)}), (86, 91, {(86, 91)}), (91, 96, {(91, 96), (92, 95)}), (95, 103, {(95, 103), (96, 103), (97, 103)})),\n",
    "    'outworld_devourer': ((16, 22, {(16, 22)}), (22, 29, {(22, 28), (23, 28), (23, 29)}), (29, 34, {(29, 34)}), (34, 42, {(34, 42), (35, 42)}), (43, 50, {(43, 48), (43, 49), (43, 50)}), (50, 55, {(50, 54), (50, 55)}), (54, 65, {(54, 65), (55, 58), (55, 59), (56, 58)}), (60, 74, {(60, 65), (60, 66), (61, 65), (69, 74)}), (66, 79, {(66, 68), (67, 69), (69, 74), (69, 75), (70, 74), (75, 79)}), (69, 85, {(69, 74), (75, 79), (80, 85)}), (75, 92, {(75, 79), (80, 85), (80, 86), (86, 92)}), (80, 98, {(80, 86), (80, 92), (86, 92), (93, 98)}), (86, 104, {(86, 98), (93, 98), (93, 99), (99, 104)}), (98, 109, {(98, 104), (99, 104), (105, 109)}), (105, 114, {(105, 109), (110, 114)}), (110, 116, {(110, 114), (110, 115), (110, 116), (114, 116)})),\n",
    "    'queen_of_pain': ((23, 38, {(23, 32), (24, 32), (32, 38)}), (32, 40, {(32, 38), (38, 40)}), (38, 45, {(38, 45), (39, 45), (40, 45)}), (45, 53, {(45, 51), (45, 53), (46, 51), (47, 51)}), (53, 72, {(53, 59), (53, 60), (53, 72)}), (62, 78, {(62, 72), (64, 72), (65, 72), (73, 78)}), (73, 82, {(73, 78), (78, 82)}), (82, 88, {(82, 88), (83, 88)}), (88, 96, {(88, 95), (88, 96)}), (96, 99, {(96, 99)}), (100, 107, {(100, 107), (101, 107)})),\n",
    "}"
   ]
  },
  {
   "cell_type": "code",
   "execution_count": 11,
   "metadata": {},
   "outputs": [],
   "source": [
    "# Select the horizontal extent of each letter of each Hero.\n",
    "cv2.namedWindow('tesst', cv2.WINDOW_NORMAL | cv2.WINDOW_GUI_EXPANDED)\n",
    "def fn(file_title):\n",
    "    images = data[file_title]\n",
    "    while True:\n",
    "        reference_image = random.choice(images)\n",
    "        _, reference_image = cv2.threshold(reference_image, 0, 0, cv2.THRESH_TOZERO | cv2.THRESH_OTSU)\n",
    "        ch = show_and_wait(reference_image)\n",
    "        if ch == 'g':\n",
    "            break\n",
    "        elif ch == 'q':\n",
    "            return\n",
    "    selected_extents = []\n",
    "    for horizontal_extent in possible_extents[file_title]:\n",
    "        left_offset = right_offset = 0\n",
    "        while True:\n",
    "            image = reference_image.copy()\n",
    "            for selected_extent in selected_extents:\n",
    "                image[-1, selected_extent[0]:selected_extent[1]] = 128\n",
    "            image[-2, horizontal_extent[0] + left_offset:horizontal_extent[1] + right_offset] = 255\n",
    "            ch = show_and_wait(image)\n",
    "            if ch == 's':\n",
    "                left_offset -= 1\n",
    "            elif ch == 'f':\n",
    "                left_offset += 1\n",
    "            elif ch == 'j':\n",
    "                right_offset -= 1\n",
    "            elif ch == 'l':\n",
    "                right_offset += 1\n",
    "            elif ch == ' ':\n",
    "                break\n",
    "            elif ch == 'q':\n",
    "                return\n",
    "            elif ord(ch) == 8:\n",
    "                return fn(file_title)\n",
    "            else:\n",
    "                print(ch, ord(ch))\n",
    "        selected_extents.append([horizontal_extent[0] + left_offset, horizontal_extent[1] + right_offset])\n",
    "    return selected_extents\n",
    "#selected_extents = {k: fn(k) for k in data}\n",
    "cv2.destroyAllWindows()"
   ]
  },
  {
   "cell_type": "code",
   "execution_count": 12,
   "metadata": {},
   "outputs": [],
   "source": [
    "# These are the extents created above.\n",
    "selected_extents = {\n",
    "    'ancient_apparition': ((16, 22), (22, 29), (29, 35), (35, 38), (39, 43), (44, 50), (50, 56), (59, 66), (66, 71), (71, 76), (76, 83), (83, 89), (89, 92), (92, 98), (99, 102), (102, 109), (109, 115)),\n",
    "    'anti-mage': ((35, 43), (43, 50), (50, 57), (58, 61), (62, 66), (67, 75), (75, 83), (83, 90), (91, 96)),\n",
    "    'broodmother': ((24, 30), (31, 37), (37, 45), (46, 54), (54, 61), (62, 70), (71, 79), (79, 86), (87, 94), (95, 100), (101, 108)),\n",
    "    'centaur_warrunner': ((15, 21), (21, 26), (26, 33), (33, 39), (39, 44), (44, 50), (50, 56), (59, 68), (68, 73), (74, 79), (80, 85), (86, 92), (92, 98), (99, 105), (105, 110), (110, 116)),\n",
    "    'clinkz': ((46, 53), (53, 59), (59, 63), (64, 71), (72, 79), (79, 85)),\n",
    "    'io': ((60, 63), (64, 72)),\n",
    "    'juggernaut': ((29, 34), (35, 42), (43, 50), (51, 58), (58, 64), (65, 71), (72, 79), (80, 88), (88, 95), (95, 102)),\n",
    "    'keeper_of_the_light': ((16, 22), (22, 27), (27, 32), (33, 38), (38, 43), (44, 50), (53, 60), (60, 65), (68, 74), (74, 80), (80, 85), (89, 94), (94, 97), (97, 103), (104, 110), (110, 116)),\n",
    "    \"nature's_prophet\": ((14, 21), (22, 29), (29, 35), (36, 42), (43, 50), (50, 56), (56, 59), (59, 65), (69, 75), (76, 82), (82, 90), (91, 97), (97, 104), (105, 111), (111, 118)),\n",
    "    'nyx_assassin': ((27, 34), (35, 42), (42, 49), (53, 60), (60, 66), (66, 72), (72, 80), (80, 86), (86, 92), (92, 96), (97, 104)),\n",
    "    'outworld_devourer': ((16, 23), (23, 29), (29, 35), (35, 43), (43, 50), (50, 55), (55, 60), (60, 66), (69, 75), (75, 80), (80, 86), (86, 93), (93, 99), (99, 105), (105, 110), (110, 115)),\n",
    "    'queen_of_pain': ((23, 33), (33, 39), (40, 46), (47, 52), (53, 60), (64, 73), (73, 79), (83, 89), (89, 96), (96, 100), (101, 108)),\n",
    "}"
   ]
  },
  {
   "cell_type": "code",
   "execution_count": 13,
   "metadata": {},
   "outputs": [],
   "source": [
    "# Construct and display some random text.\n",
    "image = next(iter(data.values()))[0]\n",
    "dtype, height, width = image.dtype, *image.shape\n",
    "def make_letter():\n",
    "    file_title, extents = random.choice(tuple(selected_extents.items()))\n",
    "    left, right = random.choice(extents)\n",
    "    image = random.choice(data[file_title])\n",
    "    image = cv2.threshold(image, 0, 0, cv2.THRESH_TOZERO | cv2.THRESH_OTSU)[1]\n",
    "    image = image[:, left:right]\n",
    "    return image\n",
    "def make_space():\n",
    "    width = random.randint(0, 1) if random.random() < .8 else random.randint(7, 8)\n",
    "    image = np.zeros((height, width), dtype=dtype)\n",
    "    return image\n",
    "def fn():\n",
    "    a = (make_letter() for _ in it.repeat(None))\n",
    "    b = (make_space() for _ in it.repeat(None))\n",
    "    g = it.chain.from_iterable(zip(a, b))\n",
    "    n = random.randint(2, 19) * 2 - 1\n",
    "    g = (image for _, image in zip(range(n), g))\n",
    "    image = np.hstack(list(g))\n",
    "    if image.shape[1] < width:\n",
    "        image = np.hstack([image, np.zeros((height, width - image.shape[1]))])\n",
    "    else:\n",
    "        image = image[:, :width]\n",
    "    return image\n",
    "show_and_wait(np.vstack([fn() for _ in range(9)]))\n",
    "cv2.destroyAllWindows()"
   ]
  },
  {
   "cell_type": "code",
   "execution_count": 14,
   "metadata": {},
   "outputs": [],
   "source": [
    "def fn():\n",
    "    file_path = r\"D:\\Dota 2\\Heroes\\Pickles\\letter_image_dict.pickle\"\n",
    "    if os.access(file_path, os.F_OK):\n",
    "        # Load the previously saved dictionary.\n",
    "        with open(file_path, 'rb') as fin:\n",
    "            d = pickle.load(fin)\n",
    "    else:\n",
    "        # Create a dictionary of letters to images for each extent extracted from each image in the data dictionary.\n",
    "        d = collections.defaultdict(list)\n",
    "        for file_title, images in data.items():\n",
    "            file_extents = selected_extents[file_title]\n",
    "            letters = [c for c in file_title if c != '_']\n",
    "            for (left, right), letter in zip(file_extents, letters):\n",
    "                for image in images:\n",
    "                    image = cv2.threshold(image, 0, 0, cv2.THRESH_TOZERO | cv2.THRESH_OTSU)[1]\n",
    "                    image = image[:, left:right]\n",
    "                    d[letter.upper()].append(image)\n",
    "        # Save that dictionary.\n",
    "        with open(file_path, 'wb') as fout:\n",
    "            pickle.dump(letter_images, fout)\n",
    "    return d\n",
    "letter_images = fn()"
   ]
  },
  {
   "cell_type": "code",
   "execution_count": 15,
   "metadata": {},
   "outputs": [
    {
     "name": "stdout",
     "output_type": "stream",
     "text": [
      "28 A N C I E T P R O - M G B D H U W L K Z J F ' S Y X V Q\n",
      "3421770\n",
      "('A', 306420)\n",
      "('N', 357420)\n",
      "('C', 75540)\n",
      "('I', 218970)\n",
      "('E', 361950)\n",
      "('T', 256110)\n",
      "('P', 136650)\n",
      "('R', 347940)\n",
      "('O', 277050)\n",
      "('-', 26970)\n",
      "('M', 54000)\n",
      "('G', 93450)\n",
      "('B', 27030)\n",
      "('D', 79890)\n",
      "('H', 78570)\n",
      "('U', 207870)\n",
      "('W', 51540)\n",
      "('L', 66480)\n",
      "('K', 40050)\n",
      "('Z', 27030)\n",
      "('J', 26730)\n",
      "('F', 38850)\n",
      "(\"'\", 25500)\n",
      "('S', 133500)\n",
      "('Y', 27000)\n",
      "('X', 27000)\n",
      "('V', 26430)\n",
      "('Q', 25830)\n"
     ]
    }
   ],
   "source": [
    "print(len(letter_images), *letter_images)\n",
    "l = [(k, len(v)) for k, v in letter_images.items()]\n",
    "print(sum(n for _, n in l))\n",
    "print(*l, sep='\\n')"
   ]
  },
  {
   "cell_type": "code",
   "execution_count": 16,
   "metadata": {},
   "outputs": [],
   "source": [
    "# Display examples of each letter.\n",
    "def display_examples(d):\n",
    "    def fn(c):\n",
    "        width = 11 + max(np.hstack(list(g)).shape[1] for g in grouper(random.sample(d[c], k=2000), 50))\n",
    "        def fn(g):\n",
    "            image = np.hstack(list(g))\n",
    "            image = np.hstack([image, np.zeros((image.shape[0], width - image.shape[1]))])\n",
    "            return image\n",
    "        return show_and_wait(np.vstack([fn(g) for g in grouper(random.sample(d[c], k=2000), 50)]))\n",
    "    g = map(fn, sorted(d))\n",
    "    _ = list(it.takewhile(lambda c: c != 'q', g))\n",
    "    cv2.destroyAllWindows()"
   ]
  },
  {
   "cell_type": "code",
   "execution_count": 17,
   "metadata": {},
   "outputs": [],
   "source": [
    "display_examples(letter_images)"
   ]
  },
  {
   "cell_type": "code",
   "execution_count": 18,
   "metadata": {},
   "outputs": [],
   "source": [
    "# Create a file that multiple processes can partially load.\n",
    "file_path = r\"D:\\Dota 2\\Heroes\\Pickles\\letter_images.pickle\"\n",
    "if not os.access(file_path, os.F_OK):\n",
    "    with open(file_path, 'wb') as fout:\n",
    "        # Write a dictionary of letter image counts.\n",
    "        pickle.dump({k: len(v) for k, v, in letter_images.items()}, fout)\n",
    "        # Write each letter's images in lexical order.\n",
    "        for k, v in sorted(letter_images.items()):\n",
    "            print(k, len(v))\n",
    "            pickle.dump(tuple(v), fout)"
   ]
  },
  {
   "cell_type": "code",
   "execution_count": 19,
   "metadata": {},
   "outputs": [
    {
     "data": {
      "text/plain": [
       "[(\"'\", 9999),\n",
       " ('-', 9999),\n",
       " ('A', 9999),\n",
       " ('B', 9999),\n",
       " ('C', 9999),\n",
       " ('D', 9999),\n",
       " ('E', 9999),\n",
       " ('F', 9999),\n",
       " ('G', 9999),\n",
       " ('H', 9999),\n",
       " ('I', 9999),\n",
       " ('J', 9999),\n",
       " ('K', 9999),\n",
       " ('L', 9999),\n",
       " ('M', 9999),\n",
       " ('N', 9999),\n",
       " ('O', 9999),\n",
       " ('P', 9999),\n",
       " ('Q', 9999),\n",
       " ('R', 9999),\n",
       " ('S', 9999),\n",
       " ('T', 9999),\n",
       " ('U', 9999),\n",
       " ('V', 9999),\n",
       " ('W', 9999),\n",
       " ('X', 9999),\n",
       " ('Y', 9999),\n",
       " ('Z', 9999)]"
      ]
     },
     "execution_count": 19,
     "metadata": {},
     "output_type": "execute_result"
    }
   ],
   "source": [
    "# Test partial loading.\n",
    "def fn():\n",
    "    with open(file_path, 'rb') as fin:\n",
    "        # Read the letter image count dictionary.\n",
    "        d = pickle.load(fin)\n",
    "        # Read a fraction of the images for each letter.\n",
    "        d = {k: random.sample(pickle.load(fin), k=9999) for k in sorted(d)}\n",
    "    return d\n",
    "sampled_letter_images = fn()\n",
    "[(k, len(v)) for k, v in sampled_letter_images.items()]"
   ]
  },
  {
   "cell_type": "code",
   "execution_count": 20,
   "metadata": {},
   "outputs": [],
   "source": [
    "# Display examples of each letter.\n",
    "display_examples(sampled_letter_images)"
   ]
  },
  {
   "cell_type": "code",
   "execution_count": 21,
   "metadata": {},
   "outputs": [],
   "source": [
    "# Create a dictionary of letters to images for each extent extracted from each image in each video file.\n",
    "# Distinguish between large and small letter renderings by using an upper-case letter for the large ones and\n",
    "# a lower-case letter for the small ones.\n",
    "def fn():\n",
    "    file_path = r\"D:\\Dota 2\\Heroes\\Pickles\\sized_letter_images.pickle\"\n",
    "    if os.access(file_path, os.F_OK):\n",
    "        with open(file_path, 'rb') as fin:\n",
    "            # Read the dictionary of letter image counts.\n",
    "            d = pickle.load(fin)\n",
    "            # Read each letter's images in lexical order.\n",
    "            for k in sorted(d):\n",
    "                d[k] = pickle.load(fin)\n",
    "    else:\n",
    "        # Create a file that multiple processes can partially load.\n",
    "        small_letters = {\n",
    "            'ancient_apparition',\n",
    "            'centaur_warrunner',\n",
    "            'keeper_of_the_light',\n",
    "            'outworld_devourer',\n",
    "        }\n",
    "        d = collections.defaultdict(list)\n",
    "        for file_title, images in data.items():\n",
    "            file_extents = selected_extents[file_title]\n",
    "            letters = [c if file_title in small_letters else c.upper() for c in file_title if c != '_']\n",
    "            for (left, right), letter in zip(file_extents, letters):\n",
    "                for image in images:\n",
    "                    image = cv2.threshold(image, 0, 0, cv2.THRESH_TOZERO | cv2.THRESH_OTSU)[1]\n",
    "                    image = image[:, left:right]\n",
    "                    d[letter].append(image)\n",
    "        with open(file_path, 'wb') as fout:\n",
    "            # Write a dictionary of letter image counts.\n",
    "            pickle.dump({k: len(v) for k, v, in d.items()}, fout)\n",
    "            # Write each letter's images in lexical order.\n",
    "            for k, v in sorted(d.items()):\n",
    "                print(k, len(v))\n",
    "                pickle.dump(tuple(v), fout)\n",
    "    return d\n",
    "sized_letter_images = fn()"
   ]
  },
  {
   "cell_type": "code",
   "execution_count": 22,
   "metadata": {},
   "outputs": [
    {
     "name": "stdout",
     "output_type": "stream",
     "text": [
      "' - A B C D E F G H I J K L M N O P Q R S T U X Y Z a c d e f g h i k l n o p r t u v w\n",
      "missing 2 ['V', 'W']\n",
      "missing 8 ['b', 'j', 'm', 'q', 's', 'x', 'y', 'z']\n"
     ]
    },
    {
     "data": {
      "text/plain": [
       "[(\"'\", 25500),\n",
       " ('-', 26970),\n",
       " ('A', 186000),\n",
       " ('B', 27030),\n",
       " ('C', 27030),\n",
       " ('D', 27030),\n",
       " ('E', 183390),\n",
       " ('F', 25830),\n",
       " ('G', 80430),\n",
       " ('H', 52530),\n",
       " ('I', 135750),\n",
       " ('J', 26730),\n",
       " ('K', 27030),\n",
       " ('L', 27030),\n",
       " ('M', 54000),\n",
       " ('N', 211890),\n",
       " ('O', 161340),\n",
       " ('P', 76830),\n",
       " ('Q', 25830),\n",
       " ('R', 131790),\n",
       " ('S', 133500),\n",
       " ('T', 131730),\n",
       " ('U', 104790),\n",
       " ('X', 27000),\n",
       " ('Y', 27000),\n",
       " ('Z', 27030),\n",
       " ('a', 120420),\n",
       " ('c', 48510),\n",
       " ('d', 52860),\n",
       " ('e', 178560),\n",
       " ('f', 13020),\n",
       " ('g', 13020),\n",
       " ('h', 26040),\n",
       " ('i', 83220),\n",
       " ('k', 13020),\n",
       " ('l', 39450),\n",
       " ('n', 145530),\n",
       " ('o', 115710),\n",
       " ('p', 59820),\n",
       " ('r', 216150),\n",
       " ('t', 124380),\n",
       " ('u', 103080),\n",
       " ('v', 26430),\n",
       " ('w', 51540)]"
      ]
     },
     "execution_count": 22,
     "metadata": {},
     "output_type": "execute_result"
    }
   ],
   "source": [
    "print(*sorted(sized_letter_images))\n",
    "def fn(fn):\n",
    "    all_letters = {fn(chr(i)) for i in range(ord('A'), ord('Z') + 1)}\n",
    "    given_letters = {c for c in sized_letter_images if c == fn(c)}\n",
    "    missing_letters = all_letters - given_letters\n",
    "    print('missing', len(missing_letters), sorted(missing_letters))\n",
    "fn(str.upper)\n",
    "fn(str.lower)\n",
    "[(k, len(v)) for k, v in sorted(sized_letter_images.items())]"
   ]
  },
  {
   "cell_type": "code",
   "execution_count": 23,
   "metadata": {},
   "outputs": [],
   "source": [
    "# Display examples of each letter.\n",
    "display_examples(sized_letter_images)"
   ]
  },
  {
   "cell_type": "markdown",
   "metadata": {},
   "source": [
    "The rest of the code is archived and not used."
   ]
  },
  {
   "cell_type": "code",
   "execution_count": 24,
   "metadata": {},
   "outputs": [],
   "source": [
    "# Select 1200 of each letter.\n",
    "# Manually select ranges of images to exclude.\n",
    "nimages = 1200\n",
    "ncolumns = 60\n",
    "window_name = 'tesst'\n",
    "cv2.namedWindow(window_name, cv2.WINDOW_NORMAL | cv2.WINDOW_GUI_EXPANDED)\n",
    "def fn(file_title, horizontal_extent):\n",
    "    images = data[file_title]\n",
    "    indices = list(range(nimages))\n",
    "    left, right = horizontal_extent\n",
    "    def fn():\n",
    "        g = (cv2.threshold(images[i], 0, 0, cv2.THRESH_TOZERO | cv2.THRESH_OTSU)[1][:, left:right] for i in indices)\n",
    "        g = grouper(g, ncolumns)\n",
    "        return np.vstack([np.hstack(list(g)) for g in g])\n",
    "    initial_index = []\n",
    "    height, width = images[0].shape[0], right - left\n",
    "    def handle_mouse_event(event, x, y, *_):\n",
    "        if event == cv2.EVENT_LBUTTONDOWN:\n",
    "            initial_index.clear()\n",
    "            initial_index.append((y // height) * ncolumns + x // width)\n",
    "        elif event == cv2.EVENT_RBUTTONDOWN:\n",
    "            index = (y // height) * ncolumns + x // width\n",
    "            begin, end = initial_index[0] if initial_index else index, index + 1\n",
    "            del indices[begin:end]\n",
    "            begin = indices[-1] + 1\n",
    "            end = begin + nimages - len(indices)\n",
    "            indices.extend(range(begin, end))\n",
    "            cv2.imshow(window_name, fn())\n",
    "            initial_index.clear()\n",
    "    cv2.setMouseCallback(window_name, handle_mouse_event)\n",
    "    show_and_wait(fn())\n",
    "    return indices\n",
    "#fn('io', selected_extents['io'][1])\n",
    "cv2.destroyAllWindows()"
   ]
  },
  {
   "cell_type": "code",
   "execution_count": 25,
   "metadata": {},
   "outputs": [],
   "source": [
    "# Select 1200 of each letter.\n",
    "# Manually select the minimum number of zeros to include images.\n",
    "nimages = 1200\n",
    "ncolumns = 60\n",
    "window_name = 'tesst'\n",
    "cv2.namedWindow(window_name, cv2.WINDOW_NORMAL | cv2.WINDOW_GUI_EXPANDED)\n",
    "def fn(file_title, horizontal_extent):\n",
    "    images = data[file_title]\n",
    "    minimum_nzero = (images[0].shape[0] - 7) * -op.sub(*selected_extents[file_title][1]) // 2\n",
    "    left, right = horizontal_extent\n",
    "    def fn():\n",
    "        l = random.sample(images, len(images))\n",
    "        g = (cv2.threshold(image, 0, 0, cv2.THRESH_TOZERO | cv2.THRESH_OTSU)[1] for image in l)\n",
    "        g = (image[4:-3, left:right] for image in g)\n",
    "        return [image for image in g if (image == 0).sum() >= minimum_nzero]\n",
    "    while True:\n",
    "        l = fn()\n",
    "        if len(l) < nimages:\n",
    "            image = np.zeros([1, 1], dtype=images[0].dtype)\n",
    "        else:\n",
    "            image = np.vstack([np.hstack(list(g)) for g in grouper(l[:nimages], ncolumns)])\n",
    "        ch = show_and_wait(image)\n",
    "        if ch == '-':\n",
    "            minimum_nzero -= 1\n",
    "        elif ch == '+':\n",
    "            minimum_nzero += 1\n",
    "        elif ch == '/':\n",
    "            minimum_nzero -= 10\n",
    "        elif ch == '*':\n",
    "            minimum_nzero += 10\n",
    "        elif ch == 'p':\n",
    "            print(minimum_nzero, len(l))\n",
    "        elif ch == 'q':\n",
    "            return minimum_nzero, len(fn())\n",
    "#print(fn('io', selected_extents['io'][1]))\n",
    "cv2.destroyAllWindows()"
   ]
  }
 ],
 "metadata": {
  "kernelspec": {
   "display_name": "Python 3",
   "language": "python",
   "name": "python3"
  },
  "language_info": {
   "codemirror_mode": {
    "name": "ipython",
    "version": 3
   },
   "file_extension": ".py",
   "mimetype": "text/x-python",
   "name": "python",
   "nbconvert_exporter": "python",
   "pygments_lexer": "ipython3",
   "version": "3.7.8"
  }
 },
 "nbformat": 4,
 "nbformat_minor": 2
}

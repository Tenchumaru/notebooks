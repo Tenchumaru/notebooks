{
 "cells": [
  {
   "cell_type": "code",
   "execution_count": 1,
   "metadata": {},
   "outputs": [],
   "source": [
    "import cv2\n",
    "import itertools as it\n",
    "import numpy as np\n",
    "import pickle\n",
    "import random\n",
    "\n",
    "from utilities import *"
   ]
  },
  {
   "cell_type": "code",
   "execution_count": 2,
   "metadata": {},
   "outputs": [
    {
     "name": "stdout",
     "output_type": "stream",
     "text": [
      "12 '-_abcdefghijklmnopqrstuvwxyz 29\n"
     ]
    }
   ],
   "source": [
    "top, left, bottom, right = 609, 381, 625, 501\n",
    "width, height = right - left, bottom - top\n",
    "\n",
    "file_titles = [\n",
    "    'ancient_apparition',\n",
    "    'anti-mage',\n",
    "    'broodmother',\n",
    "    'centaur_warrunner',\n",
    "    'clinkz',\n",
    "    'io',\n",
    "    'juggernaut',\n",
    "    'keeper_of_the_light',\n",
    "    \"nature's_prophet\",\n",
    "    'nyx_assassin',\n",
    "    'outworld_devourer',\n",
    "    'queen_of_pain',\n",
    "]\n",
    "s = ''.join(c for c, _ in it.groupby(sorted(it.chain.from_iterable(file_titles))))\n",
    "print(len(file_titles), s, len(s))"
   ]
  },
  {
   "cell_type": "code",
   "execution_count": 3,
   "metadata": {},
   "outputs": [
    {
     "name": "stdout",
     "output_type": "stream",
     "text": [
      "[23400, 26970, 27030, 25110, 27030, 28920, 26730, 13020, 25500, 27000, 26430, 25830]\n"
     ]
    },
    {
     "data": {
      "text/plain": [
       "(12, (16, 120, 3), dtype('uint8'), 0, 255)"
      ]
     },
     "execution_count": 3,
     "metadata": {},
     "output_type": "execute_result"
    }
   ],
   "source": [
    "def fn(file_title):\n",
    "    with open(fr\"D:\\Dota 2\\Heroes\\Pickles\\{file_title}.pickle\", 'rb') as fin:\n",
    "        return tuple(pickle_iter(fin))\n",
    "data = {s: fn(s) for s in file_titles}\n",
    "show_and_wait(np.vstack(list(data.items())[0][1][:33]))\n",
    "cv2.destroyAllWindows()\n",
    "image = list(data.items())[0][1][0]\n",
    "print([len(v) for _, v in data.items()])\n",
    "len(data), image.shape, image.dtype, image.min(), image.max()"
   ]
  },
  {
   "cell_type": "code",
   "execution_count": 5,
   "metadata": {},
   "outputs": [],
   "source": [
    "# Color data adds no value to this methodology.\n",
    "# Transform all data into greyscale.\n",
    "data = {k: tuple(cv2.cvtColor(image, cv2.COLOR_BGR2GRAY) for image in v) for k, v in data.items()}"
   ]
  },
  {
   "cell_type": "code",
   "execution_count": 4,
   "metadata": {},
   "outputs": [
    {
     "name": "stdout",
     "output_type": "stream",
     "text": [
      "120 135 150 165 180 195 210\n"
     ]
    }
   ],
   "source": [
    "range_args = (120, 211, 15)\n",
    "print(*range(*range_args))\n",
    "known_thresholds = list(range(*range_args))\n",
    "known_thresholds[-1] = -1"
   ]
  },
  {
   "cell_type": "code",
   "execution_count": 7,
   "metadata": {},
   "outputs": [
    {
     "name": "stdout",
     "output_type": "stream",
     "text": [
      "ancient_apparition 118.0 167.0\n",
      "anti-mage 96.0 177.0\n",
      "broodmother 118.0 178.0\n",
      "centaur_warrunner 109.0 179.0\n",
      "clinkz 91.0 178.0\n",
      "io 54.0 153.0\n",
      "juggernaut 98.0 181.0\n",
      "keeper_of_the_light 117.0 184.0\n",
      "nature's_prophet 118.0 175.0\n",
      "nyx_assassin 118.0 173.0\n",
      "outworld_devourer 97.0 163.0\n",
      "queen_of_pain 111.0 178.0\n"
     ]
    }
   ],
   "source": [
    "# Based on this experiment, it appears 165 is a good threshold for most of the data but, for \"outworld devourer\",\n",
    "# this needs to be no more than 135.  Using an adaptive thresholding mechanism ensures a suitable threshold for all data.\n",
    "# The same threshold excludes more background pixels in greyscale than in color.\n",
    "def fn(k, v):\n",
    "    def fn(index, threshold):\n",
    "        image = v[index].copy()\n",
    "        if threshold > 0:\n",
    "            image[image < threshold] = 0\n",
    "        else:\n",
    "            threshold, image = cv2.threshold(image, 0, 0, cv2.THRESH_TOZERO | cv2.THRESH_OTSU)\n",
    "            computed_thresholds.add(threshold)\n",
    "        return image\n",
    "    indices = sorted(random.sample(range(len(v)), k=99))\n",
    "    computed_thresholds = set()\n",
    "    show_and_wait(np.hstack([np.vstack([fn(i, n) for i in indices]) for n in known_thresholds]))\n",
    "    print(k, min(computed_thresholds), max(computed_thresholds))\n",
    "[fn(k, v) for k, v in data.items()]\n",
    "cv2.destroyAllWindows()"
   ]
  },
  {
   "cell_type": "code",
   "execution_count": null,
   "metadata": {},
   "outputs": [],
   "source": [
    "cv2.namedWindow('tesst', cv2.WINDOW_NORMAL | cv2.WINDOW_GUI_EXPANDED)\n",
    "limits = {}\n",
    "for k, v in data.items():\n",
    "    while True:\n",
    "        image = random.choice(v)\n",
    "        _, image = cv2.threshold(image, 0, 0, cv2.THRESH_TOZERO | cv2.THRESH_OTSU)\n",
    "        if show_and_wait(image) == 'g':\n",
    "            break\n",
    "    left_limit, right_limit = 0, image.shape[1]\n",
    "    while True:\n",
    "        ch = show_and_wait(np.hstack([np.ones([image.shape[0] - 7, left_limit], dtype=image.dtype) * 128,\n",
    "                                      image[4:-3, left_limit:right_limit],\n",
    "                                      np.ones([image.shape[0] - 7, image.shape[1] - right_limit], dtype=image.dtype) * 128]))\n",
    "        if ch == 's':\n",
    "            left_limit -= 1\n",
    "        elif ch == 'f':\n",
    "            left_limit += 1\n",
    "        elif ch == 'j':\n",
    "            right_limit -= 1\n",
    "        elif ch == 'l':\n",
    "            right_limit += 1\n",
    "        elif ch in [' ', 'q']:\n",
    "            break\n",
    "        else:\n",
    "            print(ch, ord(ch))\n",
    "    if ch == 'q':\n",
    "        break\n",
    "    limits[k] = (left_limit, right_limit)\n",
    "cv2.destroyAllWindows()"
   ]
  },
  {
   "cell_type": "code",
   "execution_count": 31,
   "metadata": {},
   "outputs": [],
   "source": [
    "# These are the limits created above.\n",
    "limits = {'ancient_apparition': (14, 117),\n",
    "          'anti-mage': (33, 98),\n",
    "          'broodmother': (22, 110),\n",
    "          'centaur_warrunner': (13, 118),\n",
    "          'clinkz': (44, 87),\n",
    "          'io': (58, 74),\n",
    "          'juggernaut': (27, 104),\n",
    "          'keeper_of_the_light': (14, 118),\n",
    "          \"nature's_prophet\": (12, 120),\n",
    "          'nyx_assassin': (25, 106),\n",
    "          'outworld_devourer': (14, 117),\n",
    "          'queen_of_pain': (21, 110)}"
   ]
  },
  {
   "cell_type": "code",
   "execution_count": 8,
   "metadata": {},
   "outputs": [],
   "source": [
    "def fn(file_title):\n",
    "    # Select image.\n",
    "    while True:\n",
    "        image = random.choice(data[file_title])\n",
    "        if show_and_wait(image) == 'g':\n",
    "            break\n",
    "\n",
    "    # Compute threshold\n",
    "    _, image = cv2.threshold(image, 0, 0, cv2.THRESH_TOZERO | cv2.THRESH_OTSU)\n",
    "    horizontal_offset = 14\n",
    "    show_and_wait(image[4:-3, 14:-3])\n",
    "\n",
    "    # Determine possible horizontal extents for the letters in the image.\n",
    "    def fn(image):\n",
    "        l = []\n",
    "        for x in range(image.shape[1] - 1):\n",
    "            if not image[:, x].any() and image[:, x + 1].any():\n",
    "                l.append([x + horizontal_offset])\n",
    "            elif len(l) and image[:, x].any() and not image[:, x + 1].any():\n",
    "                l[-1].append(x + 1 + horizontal_offset)\n",
    "        return tuple(map(tuple, l))\n",
    "    g = (cv2.threshold(image, 0, 0, cv2.THRESH_TOZERO | cv2.THRESH_OTSU)[1] for image in data[\"outworld_devourer\"][:1111])\n",
    "    g = (fn(image[4:-4, horizontal_offset:-3]) for image in g)\n",
    "    s = {t for t in g if len(t) == 16 and all(len(t) == 2 for t in t)}\n",
    "    g = map(set, zip(*s))\n",
    "    horizontal_extents = tuple((min(a for a, _ in s), max(b for _, b in s), s) for s in g)\n",
    "    print(*horizontal_extents, sep='\\n')\n",
    "\n",
    "cv2.namedWindow('tesst', cv2.WINDOW_NORMAL | cv2.WINDOW_GUI_EXPANDED)\n",
    "indicators_image = np.zeros([2, reference_image.shape[1]], dtype=reference_image.dtype)\n",
    "selected_extents = []\n",
    "for horizontal_extent in horizontal_extents:\n",
    "    left_offset = right_offset = 0\n",
    "    while True:\n",
    "        image = np.vstack([reference_image, indicators_image])\n",
    "        for selected_extent in selected_extents:\n",
    "            image[-1, selected_extent[0]:selected_extent[1]] = 128\n",
    "        image[-2, horizontal_extent[0] + left_offset:horizontal_extent[1] + right_offset] = 255\n",
    "        ch = show_and_wait(image)\n",
    "        if ch == 's':\n",
    "            left_offset -= 1\n",
    "        elif ch == 'f':\n",
    "            left_offset += 1\n",
    "        elif ch == 'j':\n",
    "            right_offset -= 1\n",
    "        elif ch == 'l':\n",
    "            right_offset += 1\n",
    "        elif ch in [' ', 'q']:\n",
    "            break\n",
    "        else:\n",
    "            print(ch, ord(ch))\n",
    "    if ch == 'q':\n",
    "        break\n",
    "    selected_extents.append([horizontal_extent[0] + left_offset, horizontal_extent[1] + right_offset])\n",
    "cv2.destroyAllWindows()\n",
    "print(*selected_extents)"
   ]
  }
 ],
 "metadata": {
  "kernelspec": {
   "display_name": "Python 3",
   "language": "python",
   "name": "python3"
  },
  "language_info": {
   "codemirror_mode": {
    "name": "ipython",
    "version": 3
   },
   "file_extension": ".py",
   "mimetype": "text/x-python",
   "name": "python",
   "nbconvert_exporter": "python",
   "pygments_lexer": "ipython3",
   "version": "3.7.8"
  }
 },
 "nbformat": 4,
 "nbformat_minor": 2
}

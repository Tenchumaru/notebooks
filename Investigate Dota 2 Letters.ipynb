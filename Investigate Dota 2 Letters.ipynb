{
 "cells": [
  {
   "cell_type": "code",
   "execution_count": 1,
   "metadata": {},
   "outputs": [],
   "source": [
    "import cv2\n",
    "import itertools as it\n",
    "import numpy as np\n",
    "import pickle\n",
    "import random\n",
    "\n",
    "from utilities import *"
   ]
  },
  {
   "cell_type": "code",
   "execution_count": 2,
   "metadata": {},
   "outputs": [
    {
     "name": "stdout",
     "output_type": "stream",
     "text": [
      "12 '-_abcdefghijklmnopqrstuvwxyz 29\n"
     ]
    }
   ],
   "source": [
    "top, left, bottom, right = 609, 381, 625, 501\n",
    "width, height = right - left, bottom - top\n",
    "\n",
    "file_titles = [\n",
    "    'ancient_apparition',\n",
    "    'anti-mage',\n",
    "    'broodmother',\n",
    "    'centaur_warrunner',\n",
    "    'clinkz',\n",
    "    'io',\n",
    "    'juggernaut',\n",
    "    'keeper_of_the_light',\n",
    "    \"nature's_prophet\",\n",
    "    'nyx_assassin',\n",
    "    'outworld_devourer',\n",
    "    'queen_of_pain',\n",
    "]\n",
    "s = ''.join(c for c, _ in it.groupby(sorted(it.chain.from_iterable(file_titles))))\n",
    "print(len(file_titles), s, len(s))"
   ]
  },
  {
   "cell_type": "code",
   "execution_count": 3,
   "metadata": {},
   "outputs": [
    {
     "name": "stdout",
     "output_type": "stream",
     "text": [
      "[23400, 26970, 27030, 25110, 27030, 28920, 26730, 13020, 25500, 27000, 26430, 25830]\n"
     ]
    },
    {
     "data": {
      "text/plain": [
       "(12, (16, 120, 3), dtype('uint8'), 0, 255)"
      ]
     },
     "execution_count": 3,
     "metadata": {},
     "output_type": "execute_result"
    }
   ],
   "source": [
    "def fn(file_title):\n",
    "    with open(fr\"D:\\Dota 2\\Heroes\\Pickles\\{file_title}.pickle\", 'rb') as fin:\n",
    "        return tuple(pickle_iter(fin))\n",
    "data = {s: fn(s) for s in file_titles}\n",
    "show_and_wait(np.vstack(list(data.items())[0][1][:33]))\n",
    "cv2.destroyAllWindows()\n",
    "image = list(data.items())[0][1][0]\n",
    "print([len(v) for _, v in data.items()])\n",
    "len(data), image.shape, image.dtype, image.min(), image.max()"
   ]
  },
  {
   "cell_type": "code",
   "execution_count": 4,
   "metadata": {},
   "outputs": [],
   "source": [
    "# Color data adds no value to this methodology.\n",
    "# Transform all data into greyscale.\n",
    "data = {k: tuple(cv2.cvtColor(image, cv2.COLOR_BGR2GRAY) for image in v) for k, v in data.items()}"
   ]
  },
  {
   "cell_type": "code",
   "execution_count": 5,
   "metadata": {},
   "outputs": [
    {
     "name": "stdout",
     "output_type": "stream",
     "text": [
      "120 135 150 165 180 195 210\n"
     ]
    }
   ],
   "source": [
    "range_args = (120, 211, 15)\n",
    "print(*range(*range_args))\n",
    "known_thresholds = list(range(*range_args))\n",
    "known_thresholds[-1] = -1"
   ]
  },
  {
   "cell_type": "code",
   "execution_count": 6,
   "metadata": {},
   "outputs": [
    {
     "name": "stdout",
     "output_type": "stream",
     "text": [
      "('ancient_apparition', (118.0, 167.0))\n",
      "('anti-mage', (96.0, 177.0))\n",
      "('broodmother', (118.0, 178.0))\n",
      "('centaur_warrunner', (109.0, 179.0))\n",
      "('clinkz', (91.0, 178.0))\n",
      "('io', (54.0, 153.0))\n",
      "('juggernaut', (98.0, 181.0))\n",
      "('keeper_of_the_light', (117.0, 184.0))\n",
      "(\"nature's_prophet\", (118.0, 175.0))\n",
      "('nyx_assassin', (118.0, 173.0))\n",
      "('outworld_devourer', (97.0, 163.0))\n",
      "('queen_of_pain', (111.0, 178.0))\n"
     ]
    }
   ],
   "source": [
    "# Based on this experiment, it appears 165 is a good threshold for most of the data but, for \"outworld devourer\",\n",
    "# this needs to be no more than 135.  Using an adaptive thresholding mechanism ensures a suitable threshold for all data.\n",
    "# A given threshold excludes more background pixels in greyscale than in color.\n",
    "def fn(images):\n",
    "    computed_thresholds = set()\n",
    "    def fn(index, threshold):\n",
    "        image = images[index].copy()\n",
    "        if threshold > 0:\n",
    "            image[image < threshold] = 0\n",
    "        else:\n",
    "            threshold, image = cv2.threshold(image, 0, 0, cv2.THRESH_TOZERO | cv2.THRESH_OTSU)\n",
    "            computed_thresholds.add(threshold)\n",
    "        return image\n",
    "    indices = random.sample(range(len(images)), k=99)\n",
    "    show_and_wait(np.hstack([np.vstack([fn(i, n) for i in indices]) for n in known_thresholds]))\n",
    "    return min(computed_thresholds), max(computed_thresholds)\n",
    "g = ((k, fn(v)) for k, v in data.items())\n",
    "print(*g, sep='\\n')\n",
    "cv2.destroyAllWindows()"
   ]
  },
  {
   "cell_type": "code",
   "execution_count": 7,
   "metadata": {},
   "outputs": [],
   "source": [
    "cv2.namedWindow('tesst', cv2.WINDOW_NORMAL | cv2.WINDOW_GUI_EXPANDED)\n",
    "def fn(images):\n",
    "    while True:\n",
    "        image = random.choice(images)\n",
    "        _, image = cv2.threshold(image, 0, 0, cv2.THRESH_TOZERO | cv2.THRESH_OTSU)\n",
    "        if show_and_wait(image) == 'g':\n",
    "            break\n",
    "    left_limit, right_limit = 0, image.shape[1]\n",
    "    while True:\n",
    "        ch = show_and_wait(np.hstack([np.ones([image.shape[0] - 7, left_limit], dtype=image.dtype) * 128,\n",
    "                                      image[4:-3, left_limit:right_limit],\n",
    "                                      np.ones([image.shape[0] - 7, image.shape[1] - right_limit], dtype=image.dtype) * 128]))\n",
    "        if ch == 's':\n",
    "            left_limit -= 1\n",
    "        elif ch == 'f':\n",
    "            left_limit += 1\n",
    "        elif ch == 'j':\n",
    "            right_limit -= 1\n",
    "        elif ch == 'l':\n",
    "            right_limit += 1\n",
    "        elif ch == ' ':\n",
    "            break\n",
    "        elif ch == 'q':\n",
    "            return\n",
    "        else:\n",
    "            print(ch, ord(ch))\n",
    "    return (left_limit, right_limit)\n",
    "limits = {k: fn(v) for k, v in data.items()}\n",
    "cv2.destroyAllWindows()"
   ]
  },
  {
   "cell_type": "code",
   "execution_count": 8,
   "metadata": {},
   "outputs": [],
   "source": [
    "# These are the limits created above.\n",
    "limits = {'ancient_apparition': (14, 117),\n",
    "          'anti-mage': (33, 98),\n",
    "          'broodmother': (22, 110),\n",
    "          'centaur_warrunner': (13, 118),\n",
    "          'clinkz': (44, 87),\n",
    "          'io': (58, 74),\n",
    "          'juggernaut': (27, 104),\n",
    "          'keeper_of_the_light': (14, 118),\n",
    "          \"nature's_prophet\": (12, 120),\n",
    "          'nyx_assassin': (25, 106),\n",
    "          'outworld_devourer': (14, 117),\n",
    "          'queen_of_pain': (21, 110)}"
   ]
  },
  {
   "cell_type": "code",
   "execution_count": 9,
   "metadata": {
    "scrolled": true
   },
   "outputs": [
    {
     "data": {
      "text/plain": [
       "{'ancient_apparition': ((16, 21, {(16, 21)}),\n",
       "  (21, 28, {(21, 28), (22, 28), (23, 28)}),\n",
       "  (29, 34, {(29, 33), (29, 34)}),\n",
       "  (35, 37, {(35, 37)}),\n",
       "  (38, 43, {(38, 42), (38, 43), (39, 42)}),\n",
       "  (44, 49, {(44, 49)}),\n",
       "  (50, 55, {(50, 55)}),\n",
       "  (58, 65, {(58, 65), (59, 65)}),\n",
       "  (65, 70, {(65, 70), (66, 70)}),\n",
       "  (71, 76, {(71, 76), (72, 76)}),\n",
       "  (76, 83, {(76, 82), (76, 83)}),\n",
       "  (83, 89, {(83, 88), (83, 89)}),\n",
       "  (89, 91, {(89, 91)}),\n",
       "  (91, 98, {(91, 97), (92, 97), (92, 98)}),\n",
       "  (97, 101, {(97, 101), (98, 101), (99, 101)}),\n",
       "  (102, 108, {(102, 108)}),\n",
       "  (109, 115, {(109, 114), (109, 115)})),\n",
       " 'anti-mage': ((33, 43, {(33, 42), (34, 42), (35, 41), (35, 42), (35, 43)}),\n",
       "  (42, 49, {(42, 49), (43, 49)}),\n",
       "  (49, 58, {(49, 56), (49, 57), (50, 56), (50, 57), (50, 58)}),\n",
       "  (56, 60, {(56, 60), (57, 60), (58, 60)}),\n",
       "  (61, 66, {(61, 66), (62, 65), (62, 66)}),\n",
       "  (66, 74, {(66, 74), (67, 74)}),\n",
       "  (74, 82, {(74, 82), (75, 82)}),\n",
       "  (82, 89, {(82, 89), (83, 89)}),\n",
       "  (90, 96, {(90, 95), (91, 95), (91, 96)})),\n",
       " 'broodmother': ((23, 29, {(23, 29), (24, 29)}),\n",
       "  (30, 36, {(30, 36), (31, 36)}),\n",
       "  (37, 44, {(37, 44)}),\n",
       "  (44, 54, {(44, 53), (45, 53), (45, 54), (46, 53)}),\n",
       "  (53, 61, {(53, 60), (54, 60), (54, 61)}),\n",
       "  (61, 70, {(61, 70), (62, 69), (62, 70)}),\n",
       "  (70, 79, {(70, 78), (71, 78), (71, 79)}),\n",
       "  (78, 86, {(78, 85), (79, 85), (79, 86)}),\n",
       "  (86, 93, {(86, 93), (87, 93)}),\n",
       "  (94, 99, {(94, 99), (95, 99)}),\n",
       "  (101, 107, {(101, 107)})),\n",
       " 'centaur_warrunner': ((14, 20, {(14, 20), (15, 19), (15, 20)}),\n",
       "  (21, 25, {(21, 25)}),\n",
       "  (26, 32, {(26, 30), (26, 32), (27, 32)}),\n",
       "  (30, 38, {(30, 38), (32, 38), (33, 38)}),\n",
       "  (38, 43, {(38, 43)}),\n",
       "  (44, 49, {(44, 49)}),\n",
       "  (50, 55, {(50, 55), (51, 55)}),\n",
       "  (59, 67, {(59, 67)}),\n",
       "  (67, 72, {(67, 72)}),\n",
       "  (73, 79, {(73, 78), (74, 78), (74, 79)}),\n",
       "  (79, 84, {(79, 84), (80, 84)}),\n",
       "  (85, 92, {(85, 90), (85, 91), (85, 92), (86, 90), (86, 91)}),\n",
       "  (92, 97, {(92, 97)}),\n",
       "  (97, 104, {(97, 104), (98, 104), (99, 104)}),\n",
       "  (105, 109, {(105, 109)}),\n",
       "  (110, 116, {(110, 115), (110, 116), (111, 115)})),\n",
       " 'clinkz': ((44, 52, {(44, 46), (45, 52), (46, 51), (46, 52)}),\n",
       "  (46, 59, {(46, 52), (53, 58), (53, 59)}),\n",
       "  (53, 62, {(53, 58), (59, 62)}),\n",
       "  (59, 70, {(59, 62), (62, 70), (63, 70), (64, 70)}),\n",
       "  (62, 78, {(62, 70), (71, 78), (72, 78)}),\n",
       "  (71, 85, {(71, 85), (79, 84), (79, 85)})),\n",
       " 'io': ((58, 63, {(58, 63), (59, 62), (59, 63), (60, 62)}),\n",
       "  (62, 72, {(62, 72), (63, 72), (64, 71), (64, 72)})),\n",
       " 'juggernaut': ((28, 33, {(28, 33), (29, 33)}),\n",
       "  (35, 43, {(35, 41), (35, 42), (35, 43)}),\n",
       "  (41, 49, {(41, 49), (42, 49), (43, 49)}),\n",
       "  (50, 57, {(50, 56), (50, 57), (51, 56)}),\n",
       "  (57, 63, {(57, 63), (58, 63)}),\n",
       "  (63, 70, {(63, 70), (64, 70), (65, 70)}),\n",
       "  (70, 79, {(70, 78), (72, 78), (72, 79)}),\n",
       "  (80, 87, {(80, 86), (80, 87)}),\n",
       "  (87, 94, {(87, 94), (88, 94)}),\n",
       "  (95, 103, {(95, 101), (95, 102), (95, 103)})),\n",
       " 'keeper_of_the_light': ((14,\n",
       "   21,\n",
       "   {(14, 21), (15, 20), (15, 21), (16, 20), (16, 21)}),\n",
       "  (22, 27, {(22, 26), (22, 27)}),\n",
       "  (27, 32, {(27, 31), (27, 32), (28, 31)}),\n",
       "  (33, 37, {(33, 37)}),\n",
       "  (38, 43, {(38, 42), (38, 43), (39, 42)}),\n",
       "  (44, 49, {(44, 49)}),\n",
       "  (53, 59, {(53, 59)}),\n",
       "  (60, 64, {(60, 64)}),\n",
       "  (65, 73, {(65, 73), (67, 73), (68, 72), (68, 73)}),\n",
       "  (73, 79, {(73, 79), (74, 79)}),\n",
       "  (80, 85, {(80, 84), (80, 85), (81, 84), (81, 85)}),\n",
       "  (89, 93, {(89, 93)}),\n",
       "  (94, 97, {(94, 96), (94, 97)}),\n",
       "  (96, 103, {(96, 102), (97, 102), (97, 103)}),\n",
       "  (104, 109, {(104, 109)}),\n",
       "  (110, 117, {(110, 115), (110, 117)})),\n",
       " \"nature's_prophet\": ((14, 20, {(14, 20)}),\n",
       "  (21, 28, {(21, 28), (22, 28)}),\n",
       "  (28, 34, {(28, 34)}),\n",
       "  (35, 43, {(35, 41), (35, 42), (35, 43), (36, 41), (36, 42)}),\n",
       "  (43, 49, {(43, 45), (43, 49)}),\n",
       "  (46, 56, {(46, 55), (49, 56), (50, 54), (50, 55)}),\n",
       "  (56, 59, {(56, 58), (56, 59)}),\n",
       "  (58, 64, {(58, 64), (59, 64), (60, 64)}),\n",
       "  (69, 76, {(69, 74), (69, 75), (69, 76)}),\n",
       "  (75, 89, {(75, 81), (75, 89), (76, 81)}),\n",
       "  (81, 91, {(81, 89), (82, 89), (82, 91), (89, 91)}),\n",
       "  (89, 97, {(89, 97), (90, 96), (91, 95), (91, 96)}),\n",
       "  (97, 105, {(97, 103), (97, 105)}),\n",
       "  (105, 110, {(105, 109), (105, 110)}),\n",
       "  (110, 118, {(110, 117), (111, 116), (111, 117), (111, 118)})),\n",
       " 'nyx_assassin': ((27, 41, {(27, 33), (27, 34), (35, 41)}),\n",
       "  (34, 48, {(34, 41), (35, 41), (35, 42), (41, 48)}),\n",
       "  (41, 52, {(41, 48), (42, 48), (42, 49), (48, 52)}),\n",
       "  (50, 60, {(50, 60), (51, 59), (53, 59), (53, 60)}),\n",
       "  (60, 65, {(60, 65), (61, 65)}),\n",
       "  (65, 72, {(65, 71), (66, 71), (66, 72), (67, 71)}),\n",
       "  (72, 79, {(72, 79)}),\n",
       "  (79, 85, {(79, 85), (80, 85)}),\n",
       "  (86, 91, {(86, 91)}),\n",
       "  (91, 96, {(91, 96), (92, 95)}),\n",
       "  (95, 103, {(95, 103), (96, 103), (97, 103)})),\n",
       " 'outworld_devourer': ((16, 22, {(16, 22)}),\n",
       "  (22, 29, {(22, 28), (23, 28), (23, 29)}),\n",
       "  (29, 34, {(29, 34)}),\n",
       "  (34, 42, {(34, 42), (35, 42)}),\n",
       "  (43, 50, {(43, 48), (43, 49), (43, 50)}),\n",
       "  (50, 55, {(50, 54), (50, 55)}),\n",
       "  (54, 65, {(54, 65), (55, 58), (55, 59), (56, 58)}),\n",
       "  (60, 74, {(60, 65), (60, 66), (61, 65), (69, 74)}),\n",
       "  (66, 79, {(66, 68), (67, 69), (69, 74), (69, 75), (70, 74), (75, 79)}),\n",
       "  (69, 85, {(69, 74), (75, 79), (80, 85)}),\n",
       "  (75, 92, {(75, 79), (80, 85), (80, 86), (86, 92)}),\n",
       "  (80, 98, {(80, 86), (80, 92), (86, 92), (93, 98)}),\n",
       "  (86, 104, {(86, 98), (93, 98), (93, 99), (99, 104)}),\n",
       "  (98, 109, {(98, 104), (99, 104), (105, 109)}),\n",
       "  (105, 114, {(105, 109), (110, 114)}),\n",
       "  (110, 116, {(110, 114), (110, 115), (110, 116), (114, 116)})),\n",
       " 'queen_of_pain': ((23, 38, {(23, 32), (24, 32), (32, 38)}),\n",
       "  (32, 40, {(32, 38), (38, 40)}),\n",
       "  (38, 45, {(38, 45), (39, 45), (40, 45)}),\n",
       "  (45, 53, {(45, 51), (45, 53), (46, 51), (47, 51)}),\n",
       "  (53, 72, {(53, 59), (53, 60), (53, 72)}),\n",
       "  (62, 78, {(62, 72), (64, 72), (65, 72), (73, 78)}),\n",
       "  (73, 82, {(73, 78), (78, 82)}),\n",
       "  (82, 88, {(82, 88), (83, 88)}),\n",
       "  (88, 96, {(88, 95), (88, 96)}),\n",
       "  (96, 99, {(96, 99)}),\n",
       "  (100, 107, {(100, 107), (101, 107)}))}"
      ]
     },
     "execution_count": 9,
     "metadata": {},
     "output_type": "execute_result"
    }
   ],
   "source": [
    "def fn(file_title):\n",
    "    # Determine possible horizontal extents for the letters in a random sample of the images.\n",
    "    horizontal_offset = limits[file_title][0]\n",
    "    def fn(image):\n",
    "        # Apply a threshold to and crop the image.\n",
    "        _, image = cv2.threshold(image, 0, 0, cv2.THRESH_TOZERO | cv2.THRESH_OTSU)\n",
    "        image = image[4:-3, horizontal_offset:limits[file_title][1]]\n",
    "\n",
    "        # Collect a list of letter extents.\n",
    "        l = []\n",
    "        for x in range(image.shape[1] - 1):\n",
    "            if not image[:, x].any() and image[:, x + 1].any():\n",
    "                l.append([x + horizontal_offset])\n",
    "            elif len(l) and image[:, x].any() and not image[:, x + 1].any():\n",
    "                l[-1].append(x + 1 + horizontal_offset)\n",
    "        return tuple(map(tuple, l))\n",
    "    images = random.sample(data[file_title], k=999)\n",
    "    g = map(fn, images)\n",
    "    expected_length = len([c for c in file_title if c != '_'])\n",
    "    s = {t for t in g if len(t) == expected_length and all(len(t) == 2 for t in t)}\n",
    "    g = map(set, zip(*s))\n",
    "    return tuple((min(a for a, _ in s), max(b for _, b in s), s) for s in g)\n",
    "horizontal_extents = {k: fn(k) for k in data}\n",
    "horizontal_extents"
   ]
  },
  {
   "cell_type": "code",
   "execution_count": 15,
   "metadata": {},
   "outputs": [
    {
     "name": "stdout",
     "output_type": "stream",
     "text": [
      "('ancient_apparition', [[16, 22], [22, 29], [29, 35], [35, 38], [39, 43], [44, 50], [50, 56], [59, 66], [66, 71], [71, 76], [76, 83], [83, 89], [89, 92], [92, 98], [99, 102], [102, 109], [109, 115]])\n",
      "('anti-mage', [[35, 43], [43, 50], [50, 57], [58, 61], [62, 66], [67, 75], [75, 83], [83, 90], [91, 96]])\n",
      "('broodmother', [[24, 30], [31, 37], [37, 45], [46, 54], [54, 61], [62, 70], [71, 79], [79, 86], [87, 94], [95, 100], [101, 108]])\n",
      "('centaur_warrunner', [[15, 21], [21, 26], [26, 33], [33, 39], [39, 44], [44, 50], [50, 56], [59, 68], [68, 73], [74, 79], [80, 85], [86, 92], [92, 98], [99, 105], [105, 110], [110, 116]])\n",
      "('clinkz', [[46, 53], [53, 59], [59, 63], [64, 71], [72, 79], [79, 85]])\n",
      "('io', [[60, 63], [64, 72]])\n",
      "('juggernaut', [[29, 34], [35, 42], [43, 50], [51, 58], [58, 64], [65, 71], [72, 79], [80, 88], [88, 95], [95, 102]])\n",
      "('keeper_of_the_light', [[16, 22], [22, 27], [27, 32], [33, 38], [38, 43], [44, 50], [53, 60], [60, 65], [68, 74], [74, 80], [80, 85], [89, 94], [94, 97], [97, 103], [104, 110], [110, 116]])\n",
      "(\"nature's_prophet\", [[14, 21], [22, 29], [29, 35], [36, 42], [43, 50], [50, 56], [56, 59], [59, 65], [69, 75], [76, 82], [82, 90], [91, 97], [97, 104], [105, 111], [111, 118]])\n",
      "('nyx_assassin', [[27, 34], [35, 42], [42, 49], [53, 60], [60, 66], [66, 72], [72, 80], [80, 86], [86, 92], [92, 96], [97, 104]])\n",
      "('outworld_devourer', [[16, 23], [23, 29], [29, 35], [35, 43], [43, 50], [50, 55], [55, 60], [60, 66], [69, 75], [75, 80], [80, 86], [86, 93], [93, 99], [99, 105], [105, 110], [110, 115]])\n",
      "('queen_of_pain', [[23, 33], [33, 39], [40, 46], [47, 52], [53, 60], [64, 73], [73, 79], [83, 89], [89, 96], [96, 100], [101, 108]])\n"
     ]
    }
   ],
   "source": [
    "cv2.namedWindow('tesst', cv2.WINDOW_NORMAL | cv2.WINDOW_GUI_EXPANDED)\n",
    "def fn(file_title):\n",
    "    images = data[file_title]\n",
    "    while True:\n",
    "        reference_image = random.choice(images)\n",
    "        _, reference_image = cv2.threshold(reference_image, 0, 0, cv2.THRESH_TOZERO | cv2.THRESH_OTSU)\n",
    "        ch = show_and_wait(reference_image)\n",
    "        if ch == 'g':\n",
    "            break\n",
    "        elif ch == 'q':\n",
    "            return\n",
    "    selected_extents = []\n",
    "    for horizontal_extent in horizontal_extents[file_title]:\n",
    "        left_offset = right_offset = 0\n",
    "        while True:\n",
    "            image = reference_image.copy()\n",
    "            for selected_extent in selected_extents:\n",
    "                image[-1, selected_extent[0]:selected_extent[1]] = 128\n",
    "            image[-2, horizontal_extent[0] + left_offset:horizontal_extent[1] + right_offset] = 255\n",
    "            ch = show_and_wait(image)\n",
    "            if ch == 's':\n",
    "                left_offset -= 1\n",
    "            elif ch == 'f':\n",
    "                left_offset += 1\n",
    "            elif ch == 'j':\n",
    "                right_offset -= 1\n",
    "            elif ch == 'l':\n",
    "                right_offset += 1\n",
    "            elif ch == ' ':\n",
    "                break\n",
    "            elif ch == 'q':\n",
    "                return\n",
    "            elif ord(ch) == 8:\n",
    "                return fn(file_title)\n",
    "            else:\n",
    "                print(ch, ord(ch))\n",
    "        selected_extents.append([horizontal_extent[0] + left_offset, horizontal_extent[1] + right_offset])\n",
    "    return selected_extents\n",
    "selected_extents = {k: fn(k) for k in data}\n",
    "cv2.destroyAllWindows()\n",
    "print(*selected_extents.items(), sep='\\n')"
   ]
  }
 ],
 "metadata": {
  "kernelspec": {
   "display_name": "Python 3",
   "language": "python",
   "name": "python3"
  },
  "language_info": {
   "codemirror_mode": {
    "name": "ipython",
    "version": 3
   },
   "file_extension": ".py",
   "mimetype": "text/x-python",
   "name": "python",
   "nbconvert_exporter": "python",
   "pygments_lexer": "ipython3",
   "version": "3.7.8"
  }
 },
 "nbformat": 4,
 "nbformat_minor": 2
}

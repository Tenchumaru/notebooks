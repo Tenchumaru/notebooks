{
 "cells": [
  {
   "cell_type": "code",
   "execution_count": 1,
   "metadata": {},
   "outputs": [],
   "source": [
    "import cv2\n",
    "import itertools as it\n",
    "import numpy as np\n",
    "import pickle\n",
    "from utilities import *"
   ]
  },
  {
   "cell_type": "code",
   "execution_count": 2,
   "metadata": {},
   "outputs": [
    {
     "name": "stdout",
     "output_type": "stream",
     "text": [
      "(13019, 15, 200) 47 277\n"
     ]
    }
   ],
   "source": [
    "with open(r\"D:\\Dota 2\\Heroes\\Pickles\\keeper_of_the_light.pickle\", 'rb') as fin:\n",
    "    images = []\n",
    "    try:\n",
    "        while True:\n",
    "            images.append(pickle.load(fin))\n",
    "    except:\n",
    "        pass\n",
    "\n",
    "def fn(image):\n",
    "    # Take the color channel with the lowest value.  This changes the shape of\n",
    "    # the image from (60, 160, 3) to (60, 160).\n",
    "    g = (image[:, :, i] for i in range(image.shape[2]))\n",
    "    image = min(g, key=lambda image: image.sum())\n",
    "    return image\n",
    "images = list(map(fn, images))\n",
    "\n",
    "# Combine the list of two-dimensional tensors into a single three-dimensional tensor.\n",
    "images = np.stack(images, axis=0)\n",
    "\n",
    "# There are 13019 valid images.  That number's prime factors are 47, 277.\n",
    "print(images.shape, *prime_factors(images.shape[0]))"
   ]
  },
  {
   "cell_type": "code",
   "execution_count": 3,
   "metadata": {},
   "outputs": [
    {
     "name": "stdout",
     "output_type": "stream",
     "text": [
      "(15, 200) 0.071155466 0.98201287\n",
      "(15, 200)\n",
      "125.0\n"
     ]
    }
   ],
   "source": [
    "# Determine the desired whiteness by computing the mean of all whiteness.\n",
    "desired_whiteness = np.mean(images, axis=0)\n",
    "print(desired_whiteness.shape, desired_whiteness.min(), desired_whiteness.max())\n",
    "show_and_wait(desired_whiteness)\n",
    "\n",
    "# Determine the desired factor by scaling the range of standard deviations\n",
    "# of all whiteness from [min, max] to [1, 0].\n",
    "std = np.std(images, axis=0)\n",
    "desired_factor = (std - np.max(std)) / (np.min(std) - np.max(std))\n",
    "print(desired_factor.shape)\n",
    "#print(*[[int(f * 10) for f in e] for e in desired_factor], sep='\\n')\n",
    "show_and_wait(desired_factor)\n",
    "\n",
    "# Apply a threshold to remove the background.\n",
    "image = (desired_factor * 255).astype(np.uint8)\n",
    "threshold, image = cv2.threshold(image, 0, 255, cv2.THRESH_OTSU | cv2.THRESH_TOZERO)\n",
    "print(threshold)\n",
    "desired_factor = image.astype(np.float32) / 255\n",
    "#print(*[[int(f * 10) for f in e] for e in desired_factor], sep='\\n')\n",
    "show_and_wait(desired_factor)\n",
    "\n",
    "# Display examples side-by-side.\n",
    "def fn(desired_whiteness, desired_factor, color):\n",
    "    background = np.ones(desired_factor.shape, dtype=np.float32) * color\n",
    "    image = background * (1.0 - desired_factor) + desired_whiteness * desired_factor\n",
    "    return image\n",
    "random_indices = sorted(np.random.uniform(0, len(images), [9]).astype(int))\n",
    "random_indices = [297, 2599, 3473, 4462, 4883, 5394, 5781, 6485, 11840] # These are good.\n",
    "g = ((fn(desired_whiteness, desired_factor, images[i].min()), images[i]) for i in random_indices)\n",
    "l = list(it.chain.from_iterable(g))\n",
    "show_and_wait(np.vstack(l))\n",
    "\n",
    "cv2.destroyAllWindows()"
   ]
  },
  {
   "cell_type": "code",
   "execution_count": 4,
   "metadata": {},
   "outputs": [],
   "source": [
    "# Determine a bounding box for the name based on the desired factor.\n",
    "image = desired_whiteness\n",
    "show_and_wait(image)\n",
    "top, bottom, left = 6, 14, 49\n",
    "K = image[top:bottom, left + 0:left + 6]\n",
    "E1 = image[top:bottom, left + 6:left + 12]\n",
    "E2 = image[top:bottom, left + 12:left + 17]\n",
    "P = image[top:bottom, left + 17:left + 23]\n",
    "E3 = image[top:bottom, left + 23:left + 28]\n",
    "R = image[top:bottom, left + 28:left + 34]\n",
    "O = image[top:bottom, left + 37:left + 44]\n",
    "F = image[top:bottom, left + 44:left + 49]\n",
    "T1 = image[top:bottom, left + 52:left + 58]\n",
    "H1 = image[top:bottom, left + 58:left + 64]\n",
    "E4 = image[top:bottom, left + 64:left + 70]\n",
    "L = image[top:bottom, left + 73:left + 78]\n",
    "I = image[top:bottom, left + 78:left + 81]\n",
    "G = image[top:bottom, left + 81:left + 88]\n",
    "H2 = image[top:bottom, left + 88:left + 95]\n",
    "T2 = image[top:bottom, left + 95:left + 100]\n",
    "show_and_wait(np.hstack([K, E1, E2, P, E3, R, O, F, T1, H1, E4, L, I, G, H2, T2]))\n",
    "cv2.destroyAllWindows()"
   ]
  }
 ],
 "metadata": {
  "kernelspec": {
   "display_name": "Python 3",
   "language": "python",
   "name": "python3"
  },
  "language_info": {
   "codemirror_mode": {
    "name": "ipython",
    "version": 3
   },
   "file_extension": ".py",
   "mimetype": "text/x-python",
   "name": "python",
   "nbconvert_exporter": "python",
   "pygments_lexer": "ipython3",
   "version": "3.7.5"
  }
 },
 "nbformat": 4,
 "nbformat_minor": 2
}

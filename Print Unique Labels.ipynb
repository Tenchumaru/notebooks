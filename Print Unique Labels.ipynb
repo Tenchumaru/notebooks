{
 "cells": [
  {
   "cell_type": "code",
   "execution_count": 4,
   "metadata": {},
   "outputs": [
    {
     "name": "stdout",
     "output_type": "stream",
     "text": [
      "a b g i p r\n"
     ]
    }
   ],
   "source": [
    "import functools as ft\n",
    "import itertools as it\n",
    "import os\n",
    "\n",
    "file_names = (\n",
    "    'anytimeshield.txt',\n",
    "    'nikolarn.txt',\n",
    "    'shivfps.txt',\n",
    "    'staycationyoutube.txt',\n",
    "    'tannerslays.txt',\n",
    "    'thefyzu.txt',\n",
    ")\n",
    "g = (open(os.path.join(r'C:\\Users\\cidzerda\\Documents\\GitHub\\streams', n)) for n in file_names)\n",
    "g = (eval(f.read()) for f in g)\n",
    "g = ({s for _, s in l if s != 'z'} for l in g)\n",
    "s = ft.reduce(lambda a, b: a.union(b), g)\n",
    "print(*sorted(s))"
   ]
  }
 ],
 "metadata": {
  "kernelspec": {
   "display_name": "Python 3",
   "language": "python",
   "name": "python3"
  },
  "language_info": {
   "codemirror_mode": {
    "name": "ipython",
    "version": 3
   },
   "file_extension": ".py",
   "mimetype": "text/x-python",
   "name": "python",
   "nbconvert_exporter": "python",
   "pygments_lexer": "ipython3",
   "version": "3.6.6"
  }
 },
 "nbformat": 4,
 "nbformat_minor": 2
}

{
 "cells": [
  {
   "cell_type": "code",
   "execution_count": 1,
   "metadata": {},
   "outputs": [],
   "source": [
    "import itertools as it"
   ]
  },
  {
   "cell_type": "code",
   "execution_count": 2,
   "metadata": {},
   "outputs": [
    {
     "name": "stdout",
     "output_type": "stream",
     "text": [
      "119 [' ', \"'\", '-', 'A', 'B', 'C', 'D', 'E', 'F', 'G', 'H', 'I', 'J', 'K', 'L', 'M', 'N', 'O', 'P', 'Q', 'R', 'S', 'T', 'U', 'V', 'W', 'X', 'Y', 'Z'] 29\n"
     ]
    }
   ],
   "source": [
    "# Load all hero's names.\n",
    "file_path = r\"C:\\Users\\cidzerda\\Documents\\GitHub\\strevr-dota-2\\heroes\\hero_names.txt\"\n",
    "with open(file_path) as fin:\n",
    "    hero_names = [s.strip() for s in fin]\n",
    "alphabet = set(it.chain.from_iterable(hero_names))\n",
    "print(len(hero_names), sorted(alphabet), len(alphabet))"
   ]
  },
  {
   "cell_type": "code",
   "execution_count": 3,
   "metadata": {},
   "outputs": [
    {
     "name": "stdout",
     "output_type": "stream",
     "text": [
      "['ANTI-MAGE', 'BROODMOTHER', 'CLINKZ', 'IO', 'JUGGERNAUT', 'KEEPER OF THE LIGHT', \"NATURE'S PROPHET\", 'NYX ASSASSIN', 'OUTWORLD DEVOURER', 'QUEEN OF PAIN']\n"
     ]
    }
   ],
   "source": [
    "# Determine the smallest set of hero names that encompasses the alphabet.\n",
    "def get_letters(hero_names):\n",
    "    g = it.chain.from_iterable(hero_names)\n",
    "    s = set(g)\n",
    "    return s\n",
    "def get_letter(letters, available_hero_names):\n",
    "    def count_names(c):\n",
    "        l = [s for s in available_hero_names if c in s]\n",
    "        return len(l)\n",
    "    d = {count_names(c): c for c in letters}\n",
    "    n = min(d)\n",
    "    return d[n]\n",
    "def get_names(letter, available_hero_names):\n",
    "    return [s for s in available_hero_names if letter in s]\n",
    "def get_name(l, letters):\n",
    "    def count_letters(s):\n",
    "        s = letters - set(s)\n",
    "        return len(s)\n",
    "    d = {count_letters(s): s for s in l}\n",
    "    n = min(d)\n",
    "    return d[n]\n",
    "def fn(hero_names):\n",
    "    # Create the alphabet used in the hero names.\n",
    "    all_letters = get_letters(hero_names)\n",
    "    # Create a list of selected hero names, starting with the shortest and longest names.\n",
    "    selected_hero_names = ['IO', 'KEEPER OF THE LIGHT']\n",
    "    # Include the heros already gathered.\n",
    "    selected_hero_names += ['BROODMOTHER', 'CLINKZ', 'JUGGERNAUT', 'NYX ASSASSIN', 'OUTWORLD DEVOURER', 'QUEEN OF PAIN']\n",
    "    # Create a set of available hero names.\n",
    "    available_hero_names = set(hero_names) - set(selected_hero_names)\n",
    "    # Create a set of accounted letters.\n",
    "    accounted_letters = set(it.chain.from_iterable(selected_hero_names))\n",
    "    nletters = len(all_letters)\n",
    "    while len(accounted_letters) < nletters:\n",
    "        # Create a list of letters that are not represented in the list of selected names.\n",
    "        letters = all_letters - accounted_letters\n",
    "        # From that list, select the letter that is in the fewest names of those in the available names.\n",
    "        letter = get_letter(letters, available_hero_names)\n",
    "        # Get the list of names that contain that letter and are in the available names.\n",
    "        names = get_names(letter, available_hero_names)\n",
    "        # From that list, select the name with the greatest number of letters that are\n",
    "        # not represented in the list of selected names.\n",
    "        name = get_name(names, letters)\n",
    "        # Add that name to the list of selected names.\n",
    "        selected_hero_names.append(name)\n",
    "        available_hero_names.remove(name)\n",
    "        # Add that name's letters to the set of accounted letters.\n",
    "        accounted_letters.update(name)\n",
    "    return selected_hero_names\n",
    "print(sorted(fn(hero_names)))"
   ]
  }
 ],
 "metadata": {
  "kernelspec": {
   "display_name": "Python 3",
   "language": "python",
   "name": "python3"
  },
  "language_info": {
   "codemirror_mode": {
    "name": "ipython",
    "version": 3
   },
   "file_extension": ".py",
   "mimetype": "text/x-python",
   "name": "python",
   "nbconvert_exporter": "python",
   "pygments_lexer": "ipython3",
   "version": "3.7.5"
  }
 },
 "nbformat": 4,
 "nbformat_minor": 2
}

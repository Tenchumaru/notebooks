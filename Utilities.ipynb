{
 "cells": [
  {
   "cell_type": "code",
   "execution_count": 1,
   "metadata": {},
   "outputs": [],
   "source": [
    "%matplotlib inline\n",
    "\n",
    "import utilities"
   ]
  },
  {
   "cell_type": "code",
   "execution_count": 2,
   "metadata": {},
   "outputs": [
    {
     "name": "stdout",
     "output_type": "stream",
     "text": [
      "called\n",
      "yielding 0\n",
      "0\n",
      "printed\n",
      "yielded 0\n",
      "yielding 1\n",
      "1\n",
      "printed\n",
      "yielded 1\n",
      "yielding 2\n",
      "2\n",
      "printed\n",
      "yielded 2\n",
      "no more\n",
      "(None)\n",
      "printed\n"
     ]
    }
   ],
   "source": [
    "class Tesst:\n",
    "    def __iter__(self):\n",
    "        for i in range(3):\n",
    "            print('yielding', i)\n",
    "            yield i\n",
    "            print('yielded', i)\n",
    "        print('no more')\n",
    "g = iter(Tesst())\n",
    "print('called')\n",
    "print(next(g))\n",
    "print('printed')\n",
    "print(next(g))\n",
    "print('printed')\n",
    "print(next(g))\n",
    "print('printed')\n",
    "print(next(g, '(None)'))\n",
    "print('printed')"
   ]
  },
  {
   "cell_type": "code",
   "execution_count": 3,
   "metadata": {},
   "outputs": [
    {
     "name": "stdout",
     "output_type": "stream",
     "text": [
      "init base 1\n",
      "init derived 1\n",
      "start base\n",
      "start derived\n"
     ]
    }
   ],
   "source": [
    "class Base:\n",
    "    def __init__(self, arg):\n",
    "        self.__arg = arg\n",
    "        print('init base', arg)\n",
    "    def start(self):\n",
    "        print('start base')\n",
    "class Derived(Base):\n",
    "    def __init__(self, arg):\n",
    "        super().__init__(arg)\n",
    "        print('init derived', arg)\n",
    "    def start(self):\n",
    "        super().start()\n",
    "        print('start derived')\n",
    "d = Derived(1)\n",
    "d.start()"
   ]
  },
  {
   "cell_type": "code",
   "execution_count": 4,
   "metadata": {},
   "outputs": [
    {
     "name": "stdout",
     "output_type": "stream",
     "text": [
      "init base 1\n",
      "init derived 1\n",
      "start base\n",
      "poly base\n",
      "poly derived\n",
      "start derived\n"
     ]
    },
    {
     "data": {
      "text/plain": [
       "(False, type, \"<class '__main__.fn.<locals>.Derived'>\")"
      ]
     },
     "execution_count": 4,
     "metadata": {},
     "output_type": "execute_result"
    }
   ],
   "source": [
    "class Base:\n",
    "    def __init__(self, arg):\n",
    "        self.__arg = arg\n",
    "        print('init base', arg)\n",
    "    def start(self):\n",
    "        print('start base')\n",
    "        self.poly()\n",
    "    def poly(self):\n",
    "        print('poly base')\n",
    "def fn():\n",
    "    class Derived(Base):\n",
    "        def __init__(self, arg):\n",
    "            super().__init__(arg)\n",
    "            print('init derived', arg)\n",
    "        def start(self):\n",
    "            super().start()\n",
    "            print('start derived')\n",
    "        def poly(self):\n",
    "            super().poly()\n",
    "            print('poly derived')\n",
    "    return Derived\n",
    "d = fn()(1)\n",
    "d.start()\n",
    "fn() == fn(), type(fn()), repr(fn())"
   ]
  },
  {
   "cell_type": "code",
   "execution_count": 5,
   "metadata": {},
   "outputs": [
    {
     "name": "stdout",
     "output_type": "stream",
     "text": [
      "A Friday\n",
      "a Fri\n",
      "B March\n",
      "b Mar\n",
      "C 20\n",
      "c Fri Mar 27 14:55:34 2020\n",
      "D 03/27/20\n",
      "d 27\n",
      "e 27\n",
      "F 2020-03-27\n",
      "f 102816\n",
      "G 2020\n",
      "g 20\n",
      "H 14\n",
      "h Mar\n",
      "I 02\n",
      "j 087\n",
      "M 55\n",
      "m 03\n",
      "n \n",
      "\n",
      "p PM\n",
      "R 14:55\n",
      "r 02:55:34 PM\n",
      "S 34\n",
      "T 14:55:34\n",
      "t \t\n",
      "U 12\n",
      "u 5\n",
      "V 13\n",
      "W 12\n",
      "w 5\n",
      "X 14:55:34\n",
      "x 03/27/20\n",
      "Y 2020\n",
      "y 20\n",
      "Z \n",
      "z \n"
     ]
    }
   ],
   "source": [
    "utilities.print_date_formatters()"
   ]
  },
  {
   "cell_type": "code",
   "execution_count": 6,
   "metadata": {},
   "outputs": [
    {
     "name": "stdout",
     "output_type": "stream",
     "text": [
      "[255   0   0]\n",
      "[  0 255   0]\n",
      "[  0   0 255]\n"
     ]
    }
   ],
   "source": [
    "utilities.demonstrate_opencv_bgr()"
   ]
  },
  {
   "cell_type": "code",
   "execution_count": 7,
   "metadata": {},
   "outputs": [
    {
     "name": "stdout",
     "output_type": "stream",
     "text": [
      "[[3, 4, 5, 6, 11, 14, 17, 20, 21], [0, 1, 2, 3, 4, 6, 11, 17, 19], [1, 3, 4, 5, 7, 10, 11, 14, 16], [0, 2, 3, 5, 6, 7, 9, 11, 16], [1, 2, 4, 5, 6, 7, 12, 14, 15], [1, 2, 4, 6, 9, 13, 15, 17, 21], [1, 2, 8, 9, 11, 12, 14, 15, 21], [1, 3, 4, 9, 10, 13, 15, 16, 19], [0, 2, 3, 4, 5, 7, 12, 15, 19]]\n"
     ]
    }
   ],
   "source": [
    "utilities.demonstrate_sample()"
   ]
  },
  {
   "cell_type": "code",
   "execution_count": 8,
   "metadata": {},
   "outputs": [
    {
     "name": "stdout",
     "output_type": "stream",
     "text": [
      "[([2, 3, 9, 11, 13, 14, 17, 20, 21], [0, 1, 4, 5, 6, 7, 8, 10, 12, 15, 16, 18, 19]), ([0, 1, 5, 8, 11, 12, 15, 17, 18], [2, 3, 4, 6, 7, 9, 10, 13, 14, 16, 19, 20, 21]), ([0, 2, 4, 5, 7, 8, 13, 16, 18], [1, 3, 6, 9, 10, 11, 12, 14, 15, 17, 19, 20, 21]), ([2, 5, 6, 8, 12, 14, 15, 17, 19], [0, 1, 3, 4, 7, 9, 10, 11, 13, 16, 18, 20, 21]), ([0, 2, 4, 8, 13, 15, 17, 18, 19], [1, 3, 5, 6, 7, 9, 10, 11, 12, 14, 16, 20, 21]), ([2, 3, 9, 11, 16, 17, 18, 19, 21], [0, 1, 4, 5, 6, 7, 8, 10, 12, 13, 14, 15, 20]), ([1, 3, 4, 10, 14, 15, 17, 18, 20], [0, 2, 5, 6, 7, 8, 9, 11, 12, 13, 16, 19, 21]), ([0, 1, 5, 7, 11, 13, 14, 17, 19], [2, 3, 4, 6, 8, 9, 10, 12, 15, 16, 18, 20, 21]), ([1, 2, 6, 7, 10, 15, 17, 18, 19], [0, 3, 4, 5, 8, 9, 11, 12, 13, 14, 16, 20, 21])]\n"
     ]
    }
   ],
   "source": [
    "utilities.demonstrate_partition()"
   ]
  }
 ],
 "metadata": {
  "kernelspec": {
   "display_name": "Python 3",
   "language": "python",
   "name": "python3"
  },
  "language_info": {
   "codemirror_mode": {
    "name": "ipython",
    "version": 3
   },
   "file_extension": ".py",
   "mimetype": "text/x-python",
   "name": "python",
   "nbconvert_exporter": "python",
   "pygments_lexer": "ipython3",
   "version": "3.6.6"
  }
 },
 "nbformat": 4,
 "nbformat_minor": 2
}
